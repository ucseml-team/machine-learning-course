{
 "cells": [
  {
   "cell_type": "markdown",
   "metadata": {
    "slideshow": {
     "slide_type": "slide"
    }
   },
   "source": [
    "Recommender systems\n",
    "================"
   ]
  },
  {
   "cell_type": "markdown",
   "metadata": {
    "slideshow": {
     "slide_type": "subslide"
    }
   },
   "source": [
    "Qué es?\n",
    "======="
   ]
  },
  {
   "cell_type": "markdown",
   "metadata": {
    "slideshow": {
     "slide_type": "subslide"
    }
   },
   "source": [
    "![](./images/mask.png)"
   ]
  },
  {
   "cell_type": "markdown",
   "metadata": {
    "slideshow": {
     "slide_type": "subslide"
    }
   },
   "source": [
    "- Sistema capaz de predecir el **rating** que un usuario dará a elementos de un conjunto\n",
    "- Usualmente basado en tener ratings anteriores de él y de otros usuarios\n",
    "- Una de las aplicaciones más importantes de machine learning\n",
    "- Muy populares en los últimos años"
   ]
  },
  {
   "cell_type": "markdown",
   "metadata": {
    "slideshow": {
     "slide_type": "subslide"
    }
   },
   "source": [
    "### Aplicaciones reales"
   ]
  },
  {
   "cell_type": "markdown",
   "metadata": {
    "slideshow": {
     "slide_type": "fragment"
    }
   },
   "source": [
    "- Amazon / Mercado libre ...\n",
    "- Netflix / Youtube / Spotify ...\n",
    "- Facebook / Twitter / ...\n",
    "- Google\n",
    "- Banca/seguros\n",
    "- ..."
   ]
  },
  {
   "cell_type": "markdown",
   "metadata": {
    "slideshow": {
     "slide_type": "subslide"
    }
   },
   "source": [
    "| Película         | Pedro | Emilia | Martín  | Paola  |\n",
    "|------------------|:-----:| ------:|--------:|-------:|\n",
    "| Plaga zombie     |     ? |      ? |      ?  |     ?  |\n",
    "| Freddy vs Jason  |     ? |      ? |      ?  |     ?  |\n",
    "| Saw 1            |     ? |      ? |      ?  |     ?  |\n",
    "| Sintonía de amor |     ? |      ? |      ?  |     ?  |\n",
    "| Titanic          |     ? |      ? |      ?  |     ?  |?\n"
   ]
  },
  {
   "cell_type": "markdown",
   "metadata": {
    "slideshow": {
     "slide_type": "fragment"
    }
   },
   "source": [
    "$n_u$ = cantidad de usuarios/personas\n",
    "\n",
    "$n_m$ = cantidad de películas\n",
    "\n",
    "$r(i,j)$ = 1 si el usuario **\"j\"** dejó su opinión sobre la película **\"i\"**, 0 si no\n",
    "\n",
    "$y(i,j)$ = rating del usuario **\"j\"** sobre la película **\"i\"**"
   ]
  },
  {
   "cell_type": "markdown",
   "metadata": {
    "slideshow": {
     "slide_type": "subslide"
    }
   },
   "source": [
    "### Feedback: explícito o implícito?"
   ]
  },
  {
   "cell_type": "markdown",
   "metadata": {
    "slideshow": {
     "slide_type": "fragment"
    }
   },
   "source": [
    "- Muchas veces tenemos el feedback directamente: stars, +1, \"me gusta\", ...\n",
    "- Pero ese datos muchas veces no está presente."
   ]
  },
  {
   "cell_type": "markdown",
   "metadata": {
    "slideshow": {
     "slide_type": "fragment"
    }
   },
   "source": [
    "Generalmente se dispone de algún tipo de feedback, explícito o implícito: si el usuario vio un video completo o no, cantidad de veces que puso pausa o que volvió hacia atrás, número de veces que vio o accedió a un video, etc."
   ]
  },
  {
   "cell_type": "markdown",
   "metadata": {
    "slideshow": {
     "slide_type": "subslide"
    }
   },
   "source": [
    "## Recomendaciones basadas en contenido"
   ]
  },
  {
   "cell_type": "markdown",
   "metadata": {
    "slideshow": {
     "slide_type": "fragment"
    }
   },
   "source": [
    "Se basa en la idea de que dos elementos parecidos entre sí deberían recibir opiniones similares por parte de un mismo usuario.\n",
    "\n",
    "**No** conocemos el detalle de las preferencias de los usuarios (no se si a Pedro le gustan las de terror o las románticas).\n",
    "\n",
    "**Sí** conocemos las características de cada película (si es de terror o romántica).\n",
    "\n",
    "**Sí** conocemos algunas puntuaciones de los usuarios a algunas películas.\n",
    "\n",
    "\"Pedro no me dijo qué género le gusta, pero estas dos películas son de terror y dijo que le gustaron, así que le deben gustar las películas de terror\"."
   ]
  },
  {
   "cell_type": "markdown",
   "metadata": {
    "slideshow": {
     "slide_type": "subslide"
    }
   },
   "source": [
    "| Película        | Pedro | Emilia | Martín  | Paola | X1 (terror) |  X2 (romántica) |\n",
    "| ----------------|:-----:| ------:|--------:|-------|-------------|-----------------|\n",
    "| Plaga zombie    |   5   |    5   |    0    |   0   |     0.9     |       0         |\n",
    "| Freddy vs Jason |   5   |    ?   |    ?    |   0   |     1.0     |       0.01      |            \n",
    "| Saw 1           |   ?   |    4   |    0    |   ?   |     0.99    |       0         |\n",
    "| Sintonía de amor|   0   |    0   |    5    |   4   |     0.1     |       1.0       |\n",
    "| Titanic         |   0   |    ?   |    5    |   ?   |     0       |       0.9       |"
   ]
  },
  {
   "cell_type": "markdown",
   "metadata": {
    "slideshow": {
     "slide_type": "fragment"
    }
   },
   "source": [
    "Por cada usuario voy a intentar aprender los parámetros de la recta que intentan replicar mejor los valores que tengo. Ejemplo:\n",
    "\n",
    "$f_{pedro}(X) = X_1 * 5 + X_2 * 0 + 1$\n",
    "\n",
    "5, 0 y 1 son los valores que tengo que encontrar, los **parámetros** para Pedro (θ = [5, 0, 1]).\n",
    "\n",
    "La función recibe una película (como features X), y devuelve el rating que Pedro le da a esa película. La película es un vector de valores que la describen (en este ejemplo, \"nivel de cada género\")."
   ]
  },
  {
   "cell_type": "markdown",
   "metadata": {
    "slideshow": {
     "slide_type": "subslide"
    }
   },
   "source": [
    "Vamos a expresar esa función de recta en forma vectorial, como siempre:\n",
    "\n",
    "$f_{pedro}(X) = X_1 * 5 + X_2 * 0 + 1$\n",
    "\n",
    "se convierte en:\n",
    "\n",
    "$f_{pedro}(X) = (\\theta^{(pedro)})^T X$"
   ]
  },
  {
   "cell_type": "markdown",
   "metadata": {
    "slideshow": {
     "slide_type": "subslide"
    }
   },
   "source": [
    "**¿Cómo encontramos Θ?** Empezamos a probar al azar ?"
   ]
  },
  {
   "cell_type": "markdown",
   "metadata": {
    "slideshow": {
     "slide_type": "fragment"
    }
   },
   "source": [
    "Podemos tratar de armar una función de error: \n",
    "\n",
    "$f_{pedro}(x^{(i)}) - y^{(i,pedro)} $\n",
    "\n",
    "O lo que es lo mismo:\n",
    "\n",
    "$(\\theta^{(pedro)})^T X - y^{(i,pedro)} $\n",
    "\n",
    "\n",
    "\"el raiting que predecimos de una película, cuánto difiere del rating que conocemos que Pedro le dio?\")"
   ]
  },
  {
   "cell_type": "markdown",
   "metadata": {
    "slideshow": {
     "slide_type": "fragment"
    }
   },
   "source": [
    "Generalizada para el set entero de películas:\n",
    "\n",
    "$E_{pedro} = \\sum_{i:r(i,pedro)=1} ((\\theta^{(pedro)})^T x^{(i)} - y^{(i,pedro)})^2$\n",
    "\n",
    "\"para todas las películas (i) donde tenemos el raiting de Pedro, cuánto difiere nuestro rating predicho del rating conocido?\" (error cuadrático)"
   ]
  },
  {
   "cell_type": "markdown",
   "metadata": {
    "slideshow": {
     "slide_type": "subslide"
    }
   },
   "source": [
    "![](files/images/error_function.svg)"
   ]
  },
  {
   "cell_type": "markdown",
   "metadata": {
    "slideshow": {
     "slide_type": "subslide"
    }
   },
   "source": [
    "Una vez definida la función de error, cómo la usaríamos para que el modelo \"aprenda\" por sí solo?"
   ]
  },
  {
   "cell_type": "markdown",
   "metadata": {
    "slideshow": {
     "slide_type": "fragment"
    }
   },
   "source": [
    "## Descenso por el gradiente\n",
    "\n",
    "![](files/images/gradient_descent.svg)"
   ]
  },
  {
   "cell_type": "markdown",
   "metadata": {
    "slideshow": {
     "slide_type": "subslide"
    }
   },
   "source": [
    "### Cuántas veces ? 1 o 4 ?"
   ]
  },
  {
   "cell_type": "markdown",
   "metadata": {
    "slideshow": {
     "slide_type": "fragment"
    }
   },
   "source": [
    "Tendría que armar una función por cada usuario? Tenemos que **entrenar un modelo por cada usuario**?? Por ahora parece que sí."
   ]
  },
  {
   "cell_type": "markdown",
   "metadata": {
    "slideshow": {
     "slide_type": "fragment"
    }
   },
   "source": [
    "Podemos en vez redefinir la función de error e integrar las salidas para todos los usuarios, para tener **una sola función global, que sirve para todos los usuarios**:"
   ]
  },
  {
   "cell_type": "markdown",
   "metadata": {
    "slideshow": {
     "slide_type": "fragment"
    }
   },
   "source": [
    "$E_{total} = \\sum_{j=1}^{n_u} \\sum_{i:r(i,j)=1} ((\\theta^{(j)})^T x^{(i)} - y^{(i,j)})^2$\n",
    "\n",
    "\"para todos los usuarios (j), para todas las películas (i), donde tengamos el raiting del usuario para esa película, cuánto difiere nuestro rating predicho del rating conocido?\" (error cuadrático)"
   ]
  },
  {
   "cell_type": "markdown",
   "metadata": {
    "slideshow": {
     "slide_type": "fragment"
    }
   },
   "source": [
    "Ahora θ es un array, con los valores para cada usuario:\n",
    "\n",
    "| Usuario |  θ(0)  |  θ(1)  |  θ(2) |\n",
    "| --------| ------:|-------:|-------|\n",
    "| Pedro   |    5   |    0   |   1   |\n",
    "| Emilia  |    4   |    1   |   0   |\n",
    "| Martín  |    0   |    4   |   0   |\n",
    "| Paola   |    1   |    5   |   1   |\n"
   ]
  },
  {
   "cell_type": "markdown",
   "metadata": {
    "slideshow": {
     "slide_type": "subslide"
    }
   },
   "source": [
    "## Recomendaciones basadas en filtros colaborativos"
   ]
  },
  {
   "cell_type": "markdown",
   "metadata": {
    "slideshow": {
     "slide_type": "fragment"
    }
   },
   "source": [
    "Se basa en la idea de que dos personas que tuvieron opiniones parecidas en el pasado también las tendrán en el futuro.\n",
    "\n",
    "**No** conocemos explicitamente el detalle de las preferencias de los usuarios.\n",
    "\n",
    "**No** conocemos las características de cada película (si es de terror o romántica, o de qué género).\n",
    "\n",
    "**Sí** conocemos algunas puntuaciones de los usuarios a algunas películas.\n",
    "\n",
    "\"Pedro no me dijo qué género le gusta y encima tampoco se de qué género es cada película, pero a él y a Emilia le suelen gustar las mismas películas. Entonces si esta película le gustó a Emilia, probablemente le guste también a Pedro\"."
   ]
  },
  {
   "cell_type": "markdown",
   "metadata": {
    "slideshow": {
     "slide_type": "fragment"
    }
   },
   "source": [
    "| Película        | Pedro | Emilia | Martín  | Paola | X1 (terror) |  X2 (romántica) |\n",
    "| ----------------|:-----:| ------:|--------:|-------|-------------|-----------------|\n",
    "| Plaga zombie    |   5   |    5   |    0    |   0   |     ?       |       ?         |\n",
    "| Freddy vs Jason |   5   |    ?   |    ?    |   0   |     ?       |       ?         |            \n",
    "| Saw 1           |   ?   |    4   |    0    |   ?   |     ?       |       ?         |\n",
    "| Sintonía de amor|   0   |    0   |    5    |   4   |     ?       |       ?         |\n",
    "| Titanic         |   0   |    0   |    5    |   ?   |     ?       |       ?         |"
   ]
  },
  {
   "cell_type": "markdown",
   "metadata": {
    "slideshow": {
     "slide_type": "subslide"
    }
   },
   "source": [
    "#### Qué pasaría si las personas nos dijeran sus preferencias?\n"
   ]
  },
  {
   "cell_type": "markdown",
   "metadata": {
    "slideshow": {
     "slide_type": "fragment"
    }
   },
   "source": [
    "Si tenemos todos los vectores de parámetros ...\n",
    "\n",
    "$\\theta_1$ = [0,5,0]\n",
    "\n",
    "$\\theta_2$ = [0,5,0]\n",
    "\n",
    "$\\theta_3$ = [0,0,5]\n",
    "\n",
    "$\\theta_4$ = [0,0,5]\n",
    "\n",
    "Pero no tenemos los vectores de las películas... cómo podría ser la función de error?"
   ]
  },
  {
   "cell_type": "markdown",
   "metadata": {
    "slideshow": {
     "slide_type": "fragment"
    }
   },
   "source": [
    "Podría ser igual!\n",
    "\n",
    "$E_{total} = \\sum_{j=1}^{n_u} \\sum_{i:r(i,j)=1} ((\\theta^{(j)})^T x^{(i)} - y^{(i,j)})^2$\n",
    "\n",
    "\"para todos los usuarios (j), para todas las películas (i), donde tengamos el raiting del usuario para esa película, cuánto difiere nuestro rating predicho del rating conocido?\" (error cuadrático)\n",
    "\n",
    "**Solo tenemos un cambio**: antes $\\theta$ eran los pesos que no conocíamos y teníamos que aprender. Ahora esos ya los sabemos, están fijos, y lo que no conocemos y tenemos que aprender es..."
   ]
  },
  {
   "cell_type": "markdown",
   "metadata": {
    "slideshow": {
     "slide_type": "fragment"
    }
   },
   "source": [
    "$X!$\n",
    "\n",
    "(los vectores que describen a cada película)"
   ]
  },
  {
   "cell_type": "markdown",
   "metadata": {
    "slideshow": {
     "slide_type": "subslide"
    }
   },
   "source": [
    "#### Qué pasaría si las personas NO nos dijeran sus preferencias?\n"
   ]
  },
  {
   "cell_type": "markdown",
   "metadata": {
    "slideshow": {
     "slide_type": "fragment"
    }
   },
   "source": [
    "* Podríamos utilizar los y(i, j) conocidos para aprender tanto las preferencias de los usuarios ($\\theta$) como los vectores de las películas ($X$) al mismo tiempo. Misma función de error, y ahora tanto $\\theta$ como $X$ son parámetros a aprender."
   ]
  },
  {
   "cell_type": "markdown",
   "metadata": {
    "slideshow": {
     "slide_type": "fragment"
    }
   },
   "source": [
    "* Una vez que eso está entrenado, tenemos tanto preferencias de los usuarios como características del contenido, podemos hacer predicciones con nuestra función de siempre: $(\\theta^{(pedro)})^T X - y^{(i,pedro)}$"
   ]
  },
  {
   "cell_type": "markdown",
   "metadata": {
    "slideshow": {
     "slide_type": "subslide"
    }
   },
   "source": [
    "## Problemas comúnes"
   ]
  },
  {
   "cell_type": "markdown",
   "metadata": {
    "slideshow": {
     "slide_type": "fragment"
    }
   },
   "source": [
    "- Cold start: nuevo usuario? nueva pelicula?\n",
    "- Escalabilidad: En muchos casos podemos tener cientos de miles o millones de cosas para recomendar, lo cual hace que obtener recomendaciones de forma automática y al instante sea todo un desafío.\n",
    "- Datos dispersos (sparse data): Generalmente tenemos data de una número mucho menor al total disponible de elementos."
   ]
  },
  {
   "cell_type": "markdown",
   "metadata": {
    "slideshow": {
     "slide_type": "subslide"
    }
   },
   "source": [
    "## Actualidad: enfoque híbridos"
   ]
  },
  {
   "cell_type": "markdown",
   "metadata": {
    "slideshow": {
     "slide_type": "fragment"
    }
   },
   "source": [
    "Existe evidencia empírica de que combinar ambos modelos puede ser una buena alternativa para obtener resultados mejores que si se utilizaran de forma aislada."
   ]
  },
  {
   "cell_type": "markdown",
   "metadata": {
    "slideshow": {
     "slide_type": "fragment"
    }
   },
   "source": [
    "Existen distintas principalmente dos formas de combinarlos:\n",
    "- Combinando las salidas de ambos.\n",
    "- Creando un único modelo que combine ambos enfoques."
   ]
  },
  {
   "cell_type": "markdown",
   "metadata": {
    "slideshow": {
     "slide_type": "fragment"
    }
   },
   "source": [
    "Un caso de ejemplo es Netflix, que realiza recomendaciones de películas a partir del historial de búsqueda y visitas de otros usuarios (filtros colaborativos) y de películas que tienen características similares (basados en contenido)."
   ]
  },
  {
   "cell_type": "markdown",
   "metadata": {
    "slideshow": {
     "slide_type": "subslide"
    }
   },
   "source": [
    "## Métricas\n",
    "\n",
    "Definir medidas de performance varía en relación a lo que se hace para un problema de clasificación común y corriente.\n",
    "\n",
    "¿Que hagamos una recomendación y que el usuario no la haya seleccionado, significa que estaba mal?\n",
    "\n",
    "Para medición offline se suelen usar metricas de ranking, entre ellas: \n",
    "* Precision at *n* (P@n) (\"de los primeros N contenidos que recomendamos, cuáles realmente están en el top N de lo que le gusta al usuario?\")\n",
    "* MAP (mean average precision) (\"en promedio, qué tanto se parecen nuestras N recomendaciones para cada usuario, a las top N cosas que sabemos que le gustan?\")"
   ]
  },
  {
   "cell_type": "markdown",
   "metadata": {
    "slideshow": {
     "slide_type": "fragment"
    }
   },
   "source": [
    "Surgen otras métricas:\n",
    "\n",
    "- Diversidad: mide cuánto se parecen las recomendaciones entre sí (la idea subyacente es que a mayor diversidad, más probabilidades de acertar).\n",
    "- Persistencia: mide el grado en el que ante situaciones semejantes, el criterio de selección se mantiene consistente.\n",
    "- Privacidad: generalmente existen restricciones legales sobre la privacidad de los datos de los usuarios, lo cual limitan o condicionan la utilidad de un determinado sistema.\n",
    "- Serendipity: Mide el grado en que una recomendación es predecible o \"esperable\".\n",
    "- Coverage: a cuantos usuarios les puedo hacer recomendación"
   ]
  }
 ],
 "metadata": {
  "celltoolbar": "Slideshow",
  "kernelspec": {
   "display_name": "Python 3",
   "language": "python",
   "name": "python3"
  },
  "language_info": {
   "codemirror_mode": {
    "name": "ipython",
    "version": 3
   },
   "file_extension": ".py",
   "mimetype": "text/x-python",
   "name": "python",
   "nbconvert_exporter": "python",
   "pygments_lexer": "ipython3",
   "version": "3.8.5"
  }
 },
 "nbformat": 4,
 "nbformat_minor": 1
}
