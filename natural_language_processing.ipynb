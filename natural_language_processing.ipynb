{
 "cells": [
  {
   "cell_type": "markdown",
   "metadata": {
    "slideshow": {
     "slide_type": "slide"
    }
   },
   "source": [
    "Procesamiento de Lenguaje Natural\n",
    "=================="
   ]
  },
  {
   "cell_type": "markdown",
   "metadata": {
    "slideshow": {
     "slide_type": "subslide"
    }
   },
   "source": [
    "Qué es?\n",
    "======="
   ]
  },
  {
   "cell_type": "markdown",
   "metadata": {
    "slideshow": {
     "slide_type": "fragment"
    }
   },
   "source": [
    "\"Lengua o idioma hablado o escrito por humanos para propósitos generales de comunicación\" [Wikipedia, 2018]"
   ]
  },
  {
   "cell_type": "markdown",
   "metadata": {
    "slideshow": {
     "slide_type": "fragment"
    }
   },
   "source": [
    "\"Natural-language processing (NLP) is an area of computer science and artificial intelligence concerned with the interactions between computers and human (natural) languages\" [Wikipedia, 2018]"
   ]
  },
  {
   "cell_type": "markdown",
   "metadata": {
    "slideshow": {
     "slide_type": "fragment"
    }
   },
   "source": [
    "computadora -> lenguaje natural\n",
    "\n",
    "lenguaje natural -> computadora"
   ]
  },
  {
   "cell_type": "markdown",
   "metadata": {
    "slideshow": {
     "slide_type": "subslide"
    }
   },
   "source": [
    "# Fuentes estructuradas vs. fuentes desestructuradas"
   ]
  },
  {
   "cell_type": "markdown",
   "metadata": {
    "slideshow": {
     "slide_type": "fragment"
    }
   },
   "source": [
    "- Estructuradas: los datos están almacenados con una estructura, que puede ser simple o compleja, pero nos permite entenderlo de alguna manera. Son los que generalmente utilizamos: archivos de texto delimitados, bases de datos, ... cualquiera cosa que pueda transformar rápidamente a filas y columnas.\n",
    "\n",
    "- Desestructuradas: no existe una estructura que nos permita entender los datos y por ende obtener información de ellos. Las principales son video, audio y texto."
   ]
  },
  {
   "cell_type": "markdown",
   "metadata": {
    "ExecuteTime": {
     "end_time": "2022-05-23T21:36:38.407671Z",
     "start_time": "2022-05-23T21:36:38.400930Z"
    },
    "slideshow": {
     "slide_type": "subslide"
    }
   },
   "source": [
    "<img src='images/nlp_example.png' width='70%' />\n",
    "\n",
    "<p>Podemos separar oraciones positivas y negativas?</p>"
   ]
  },
  {
   "cell_type": "markdown",
   "metadata": {
    "slideshow": {
     "slide_type": "subslide"
    }
   },
   "source": [
    "# Algo de historia"
   ]
  },
  {
   "cell_type": "markdown",
   "metadata": {
    "slideshow": {
     "slide_type": "fragment"
    }
   },
   "source": [
    "- 1950: Alan Turing publica \"Computing Machinery and Intelligence\". Test de Turing."
   ]
  },
  {
   "cell_type": "markdown",
   "metadata": {
    "slideshow": {
     "slide_type": "fragment"
    }
   },
   "source": [
    "- 1954: Experimento Georgetown - IBM."
   ]
  },
  {
   "cell_type": "markdown",
   "metadata": {
    "slideshow": {
     "slide_type": "fragment"
    }
   },
   "source": [
    "- 1966: Nace ELIZA"
   ]
  },
  {
   "cell_type": "markdown",
   "metadata": {
    "slideshow": {
     "slide_type": "fragment"
    }
   },
   "source": [
    "- 1970s: Surgen las primeras ontologías y \"chatterbots\"."
   ]
  },
  {
   "cell_type": "markdown",
   "metadata": {
    "slideshow": {
     "slide_type": "fragment"
    }
   },
   "source": [
    "- 1980s: Se empiezan aplicar técnicas estadísticas a la resolución de problemas de NLP."
   ]
  },
  {
   "cell_type": "markdown",
   "metadata": {
    "slideshow": {
     "slide_type": "subslide"
    }
   },
   "source": [
    "- 2011: Watson gana el concurso de televisión Jeopardy!\n",
    "\n",
    "\n",
    "\n",
    "- 2011: Desafío de los esquemas de Winograd. Ejemplo:\n",
    "\n",
    "\"The trophy would not fit in the brown suitcase because it was too big\".\n",
    "\n",
    "What was too big?\n",
    "\n",
    "<br />\n",
    "Repuesta 0: the trophy\n",
    "\n",
    "Respuesta 1: the suitcase"
   ]
  },
  {
   "cell_type": "markdown",
   "metadata": {
    "slideshow": {
     "slide_type": "fragment"
    }
   },
   "source": [
    "- Actualidad: ?"
   ]
  },
  {
   "cell_type": "markdown",
   "metadata": {
    "slideshow": {
     "slide_type": "subslide"
    }
   },
   "source": [
    "## Algunos problemas de los que se ocupa el PLN"
   ]
  },
  {
   "cell_type": "markdown",
   "metadata": {
    "slideshow": {
     "slide_type": "subslide"
    }
   },
   "source": [
    "- Topic classification\n",
    "\n",
    "\"El PLP tuvo una buena tarde y se perfila como gran candidato.\"\n",
    "\n",
    "Deportes ? Economía ? Política ?"
   ]
  },
  {
   "cell_type": "markdown",
   "metadata": {
    "slideshow": {
     "slide_type": "subslide"
    }
   },
   "source": [
    "- Recuperación de información\n",
    "\n",
    "\"La Argentina está organizada como un <strong>Estado federal descentralizado</strong>, integrado desde <strong>1994</strong> por un <strong>Estado nacional</strong> y <strong>24 estados autogobernados</strong>, que a su vez son <strong>24 distritos electorales legislativos nacionales</strong>.\""
   ]
  },
  {
   "cell_type": "markdown",
   "metadata": {
    "slideshow": {
     "slide_type": "subslide"
    }
   },
   "source": [
    "- Question answering (chatbots)\n",
    "\n",
    "\"Hola. Soy afiliado de la prepaga y necesito autorizar un pedido de tomografía 3D por intermedio del sistema de autogestión. No consigo encontrar la práctica, ¿me podríar decir si es necesario autorizarla realmente?\""
   ]
  },
  {
   "cell_type": "markdown",
   "metadata": {
    "slideshow": {
     "slide_type": "fragment"
    }
   },
   "source": [
    "<img src=\"files/images/Facebook_comment.png\" width=\"600px\" />"
   ]
  },
  {
   "cell_type": "markdown",
   "metadata": {
    "slideshow": {
     "slide_type": "subslide"
    }
   },
   "source": [
    "- Análisis de opiniones / sentimientos\n",
    "\n",
    "\"El mejor servicio que usé en mi vida, nada de demora y me resolvieron todas las dudas que tenía. GENIOS!!!\"\n",
    "\n",
    "[algo que un usuario dijo nunca en ningún lugar]"
   ]
  },
  {
   "cell_type": "markdown",
   "metadata": {
    "slideshow": {
     "slide_type": "subslide"
    }
   },
   "source": [
    "- Text summarization\n",
    "\n",
    "<img src=\"files/images/NLP_text_sum.png\" width=\"400px\" />"
   ]
  },
  {
   "cell_type": "markdown",
   "metadata": {
    "slideshow": {
     "slide_type": "subslide"
    }
   },
   "source": [
    "- Word-sense desambiguation\n",
    "\n",
    "Uno de los problemas abiertos dentro de NLP!\n",
    "\n",
    "\"Puso dos velas a San Pancracio.\"\n",
    "\n",
    "Cilindro de cera o pieza de lona?"
   ]
  },
  {
   "cell_type": "markdown",
   "metadata": {
    "slideshow": {
     "slide_type": "subslide"
    }
   },
   "source": [
    "- Reconocimiento de Entidades Nombradas (NER)\n",
    "\n",
    "\"<strong>PP</strong> en crisis en <strong>España</strong>: la oposición acorrala a <strong>Mariano Rajoy</strong> con un voto de censura. <strong>El presidente</strong> dará un comunicado esta tarde en una conferencia de prensa\"."
   ]
  },
  {
   "cell_type": "markdown",
   "metadata": {
    "slideshow": {
     "slide_type": "subslide"
    }
   },
   "source": [
    "- Machine translation\n",
    "\n",
    "\"The United Nations came into being in 1945, following the devastation of the Second World War, with one central mission: the maintenance of international peace and security.\"\n",
    "\n",
    "\"Tras la devastación de la Segunda Guerra Mundial, las Naciones Unidas empezaron su labor en 1945, con una prioridad: mantener la paz y la seguridad internacionales.\""
   ]
  },
  {
   "cell_type": "markdown",
   "metadata": {
    "slideshow": {
     "slide_type": "subslide"
    }
   },
   "source": [
    "- Natural Language Generation (NLG)\n",
    "\n",
    "<img src=\"files/images/CV_intro_11.PNG\" width=\"500px\" />\n",
    "\n",
    "\"La imagen muestra una persona desayunando en un lugar cerrado, posiblemente su casa, mientras lee un diario.\""
   ]
  },
  {
   "cell_type": "markdown",
   "metadata": {
    "slideshow": {
     "slide_type": "subslide"
    }
   },
   "source": [
    "- Speech recognition (o \"voz a texto\")\n",
    "\n",
    "\n",
    "\"OK Google\"\n",
    "\n",
    "\"Oye Siri\""
   ]
  },
  {
   "cell_type": "markdown",
   "metadata": {
    "slideshow": {
     "slide_type": "slide"
    }
   },
   "source": [
    "## Técnicas de preprocesado para datos no estructurados (lenguaje natural)"
   ]
  },
  {
   "cell_type": "markdown",
   "metadata": {
    "slideshow": {
     "slide_type": "fragment"
    }
   },
   "source": [
    "### Tokenización"
   ]
  },
  {
   "cell_type": "code",
   "execution_count": 2,
   "metadata": {
    "ExecuteTime": {
     "end_time": "2022-05-23T11:06:18.314587Z",
     "start_time": "2022-05-23T11:06:18.309696Z"
    },
    "slideshow": {
     "slide_type": "fragment"
    }
   },
   "outputs": [
    {
     "name": "stdout",
     "output_type": "stream",
     "text": [
      "['Hola', 'mundo', '!', '.', 'Hello', 'world', '!', '.']\n",
      "['Cross-validation', 'is', 'not', 'an', 'end-to-end', 'model', '.']\n"
     ]
    }
   ],
   "source": [
    "from nltk import word_tokenize\n",
    "\n",
    "print(word_tokenize(\"Hola mundo!. Hello world!.\"))\n",
    "\n",
    "print(word_tokenize(\"Cross-validation is not an end-to-end model.\"))"
   ]
  },
  {
   "cell_type": "markdown",
   "metadata": {
    "slideshow": {
     "slide_type": "subslide"
    }
   },
   "source": [
    "### Stemming\n",
    "\n",
    "Es una normalización para lenguaje natural!\n",
    "\n",
    "biblioteca = bibliotecario = bibliotecaria ?"
   ]
  },
  {
   "cell_type": "code",
   "execution_count": 5,
   "metadata": {
    "slideshow": {
     "slide_type": "fragment"
    }
   },
   "outputs": [
    {
     "name": "stdout",
     "output_type": "stream",
     "text": [
      "['argu', 'argu', 'argu', 'argu']\n",
      "['bibliotec', 'bibliotecari', 'bibliotecari']\n"
     ]
    }
   ],
   "source": [
    "from nltk.stem.porter import PorterStemmer\n",
    "from nltk.stem.snowball import SnowballStemmer\n",
    "\n",
    "stemmer = PorterStemmer()\n",
    "\n",
    "palabras = [\"argue\", \"argued\", \"argues\", \"arguing\"]\n",
    "\n",
    "print([stemmer.stem(p) for p in palabras])\n",
    "\n",
    "stemmer = SnowballStemmer(\"spanish\")\n",
    "\n",
    "palabras = [\"biblioteca\", \"bibliotecario\", \"bibliotecarias\"]\n",
    "\n",
    "print([stemmer.stem(p) for p in palabras])"
   ]
  },
  {
   "cell_type": "markdown",
   "metadata": {
    "slideshow": {
     "slide_type": "subslide"
    }
   },
   "source": [
    "### Lemmatization\n",
    "\n",
    "Es otra técnica de normalización, similar a stemming pero intentando hacer un análisis más completo.\n",
    "\n",
    "Permite introducir el resultado de un etiquetado POS para realizar la operación."
   ]
  },
  {
   "cell_type": "markdown",
   "metadata": {
    "slideshow": {
     "slide_type": "subslide"
    }
   },
   "source": [
    "### Part-of-Speech tagging (POS)\n",
    "\n",
    "<img src=\"files/images/NLP_POS_tagging.png\" width=\"500px\" />"
   ]
  },
  {
   "cell_type": "code",
   "execution_count": 6,
   "metadata": {
    "slideshow": {
     "slide_type": "subslide"
    }
   },
   "outputs": [
    {
     "name": "stdout",
     "output_type": "stream",
     "text": [
      "[('This', 'DT'), ('is', 'VBZ'), ('an', 'DT'), ('introductory', 'JJ'), ('class', 'NN'), ('to', 'TO'), ('NLP', 'NNP'), ('.', '.')]\n"
     ]
    }
   ],
   "source": [
    "from nltk import pos_tag\n",
    "\n",
    "text = word_tokenize(\"This is an introductory class to NLP.\")\n",
    "\n",
    "print(pos_tag(text))"
   ]
  },
  {
   "cell_type": "markdown",
   "metadata": {
    "slideshow": {
     "slide_type": "subslide"
    }
   },
   "source": [
    "### Eliminación de stop-words\n",
    "\n",
    "Son unidades que se pueden encontrar en la entrada pero no aportan información: artículos, pronombres, preposiciones, etc.\n",
    "\n",
    "Generalmente deben ser eliminadas."
   ]
  },
  {
   "cell_type": "code",
   "execution_count": 7,
   "metadata": {
    "slideshow": {
     "slide_type": "fragment"
    }
   },
   "outputs": [
    {
     "data": {
      "text/plain": [
       "['This', 'introductory', 'class', 'NLP', '.']"
      ]
     },
     "execution_count": 7,
     "metadata": {},
     "output_type": "execute_result"
    }
   ],
   "source": [
    "from nltk.corpus import stopwords\n",
    "\n",
    "o = \"This is an introductory class to NLP.\"\n",
    "\n",
    "tokens = word_tokenize(o)\n",
    "\n",
    "[word for word in tokens if word not in stopwords.words('english')]"
   ]
  },
  {
   "cell_type": "markdown",
   "metadata": {
    "slideshow": {
     "slide_type": "slide"
    }
   },
   "source": [
    "# Feature engineering en NLP"
   ]
  },
  {
   "cell_type": "markdown",
   "metadata": {
    "slideshow": {
     "slide_type": "subslide"
    }
   },
   "source": [
    "## Bag of words\n",
    "\n",
    "\"John likes to watch movies. Mary likes movies too.\"\n",
    "\n",
    "\"Ana hates horror movies.\"\n",
    "\n",
    "<table>\n",
    "    <tr>\n",
    "        <td>John</td>\n",
    "        <td>likes</td>\n",
    "        <td>watch</td>\n",
    "        <td>movies</td>\n",
    "        <td>Mary</td>\n",
    "        <td>Ana</td>\n",
    "        <td>hates</td>\n",
    "        <td>horror</td>\n",
    "    </tr>\n",
    "    <tr>\n",
    "        <td>1</td>\n",
    "        <td>2</td>\n",
    "        <td>1</td>\n",
    "        <td>2</td>\n",
    "        <td>1</td>\n",
    "        <td>0</td>\n",
    "        <td>0</td>\n",
    "        <td>0</td>\n",
    "    </tr>\n",
    "        <tr>\n",
    "        <td>0</td>\n",
    "        <td>0</td>\n",
    "        <td>0</td>\n",
    "        <td>1</td>\n",
    "        <td>0</td>\n",
    "        <td>1</td>\n",
    "        <td>1</td>\n",
    "        <td>1</td>\n",
    "    </tr>\n",
    "</table>"
   ]
  },
  {
   "cell_type": "code",
   "execution_count": 5,
   "metadata": {
    "ExecuteTime": {
     "end_time": "2022-05-23T11:11:12.065492Z",
     "start_time": "2022-05-23T11:11:12.055920Z"
    },
    "scrolled": true,
    "slideshow": {
     "slide_type": "fragment"
    }
   },
   "outputs": [
    {
     "data": {
      "text/html": [
       "<div>\n",
       "<style scoped>\n",
       "    .dataframe tbody tr th:only-of-type {\n",
       "        vertical-align: middle;\n",
       "    }\n",
       "\n",
       "    .dataframe tbody tr th {\n",
       "        vertical-align: top;\n",
       "    }\n",
       "\n",
       "    .dataframe thead th {\n",
       "        text-align: right;\n",
       "    }\n",
       "</style>\n",
       "<table border=\"1\" class=\"dataframe\">\n",
       "  <thead>\n",
       "    <tr style=\"text-align: right;\">\n",
       "      <th></th>\n",
       "      <th>ana</th>\n",
       "      <th>hates</th>\n",
       "      <th>horror</th>\n",
       "      <th>john</th>\n",
       "      <th>likes</th>\n",
       "      <th>mary</th>\n",
       "      <th>movies</th>\n",
       "      <th>watch</th>\n",
       "    </tr>\n",
       "  </thead>\n",
       "  <tbody>\n",
       "    <tr>\n",
       "      <th>0</th>\n",
       "      <td>0</td>\n",
       "      <td>0</td>\n",
       "      <td>0</td>\n",
       "      <td>1</td>\n",
       "      <td>2</td>\n",
       "      <td>1</td>\n",
       "      <td>2</td>\n",
       "      <td>1</td>\n",
       "    </tr>\n",
       "    <tr>\n",
       "      <th>1</th>\n",
       "      <td>1</td>\n",
       "      <td>1</td>\n",
       "      <td>1</td>\n",
       "      <td>0</td>\n",
       "      <td>0</td>\n",
       "      <td>0</td>\n",
       "      <td>1</td>\n",
       "      <td>0</td>\n",
       "    </tr>\n",
       "  </tbody>\n",
       "</table>\n",
       "</div>"
      ],
      "text/plain": [
       "   ana  hates  horror  john  likes  mary  movies  watch\n",
       "0    0      0       0     1      2     1       2      1\n",
       "1    1      1       1     0      0     0       1      0"
      ]
     },
     "execution_count": 5,
     "metadata": {},
     "output_type": "execute_result"
    }
   ],
   "source": [
    "from sklearn.feature_extraction.text import CountVectorizer\n",
    "import pandas as pd\n",
    "\n",
    "s = [\"John likes to watch movies. Mary likes movies too.\",\n",
    "     \"Ana hates horror movies.\"]\n",
    "\n",
    "tf_vectorizer = CountVectorizer(stop_words='english')\n",
    "X = tf_vectorizer.fit_transform(s)\n",
    "\n",
    "df = pd.DataFrame(X.toarray(), columns=tf_vectorizer.get_feature_names_out())\n",
    "df"
   ]
  },
  {
   "cell_type": "markdown",
   "metadata": {
    "slideshow": {
     "slide_type": "subslide"
    }
   },
   "source": [
    "## Term Frequency–Inverse Document Frequency (tf-idf)"
   ]
  },
  {
   "cell_type": "markdown",
   "metadata": {
    "slideshow": {
     "slide_type": "fragment"
    }
   },
   "source": [
    "- Intenta reflejar estadísticamente la importancia de cada término incluido dentro de una serie de documentos.\n",
    "\n",
    "- Instintivamente, si nos interesara clasificar noticias en categorías:\n",
    "\n",
    "I(\"el\") <<< I(\"pelota\") "
   ]
  },
  {
   "cell_type": "markdown",
   "metadata": {
    "slideshow": {
     "slide_type": "fragment"
    }
   },
   "source": [
    "I(\"pelota\") <<< I(\"Messi\")"
   ]
  },
  {
   "cell_type": "code",
   "execution_count": 36,
   "metadata": {
    "slideshow": {
     "slide_type": "subslide"
    }
   },
   "outputs": [
    {
     "data": {
      "text/plain": [
       "array([[0.20039744, 0.11835796, 0.        ],\n",
       "       [0.        , 0.09997393, 0.        ],\n",
       "       [0.        , 0.09975011, 0.16889161]])"
      ]
     },
     "execution_count": 36,
     "metadata": {},
     "output_type": "execute_result"
    }
   ],
   "source": [
    "s1 = \"\"\"La selección argentina ya prepara la despedida rumbo al Mundial Rusia 2018. \n",
    "Con Lionel Messi a la cabeza, en la Bombonera, el equipo de Jorge Sampaoli se enfrentará\n",
    "a Haití el próximo martes 29 de mayo.\"\"\"\n",
    "\n",
    "s2 = \"\"\"Nicolás Kicker, el tenista argentino declarado \"culpable\" de arreglo de dos partidos\n",
    "en Challengers en Italia y Colombia en 2015 por la unidad de Integridad del Tenis \n",
    "(TIU, según sus siglas en inglés), nació en Merlo hace 25 años y siempre representó al \n",
    "costado más austero del tenis profesional.\"\"\"\n",
    "\n",
    "s3 = \"\"\"Ganar en la gira de mitad de temporada, hecho. Ganarle a un equipo neozelandés, hecho.\n",
    "Ganar cuatro partidos seguidos, hecho. El próximo ítem por tachar en la lista de cosas pendientes \n",
    "de Jaguares es ganarle a Sharks, que ha configurado una suerte de paternidad sobre los argentinos\n",
    "al imponerse en los cuatro enfrentamientos entre sí.\"\"\"\n",
    "\n",
    "from sklearn.feature_extraction.text import TfidfVectorizer\n",
    "ffidf_vectorizer = TfidfVectorizer(use_idf=True, binary=True)\n",
    "X_train_tf = ffidf_vectorizer.fit_transform([s1, s2, s3])\n",
    "words = ['argentina', 'la', 'temporada']\n",
    "words_ixs = [i for i, w in enumerate(ffidf_vectorizer.get_feature_names()) if w in words]\n",
    "X_train_tf[:,words_ixs].toarray()"
   ]
  },
  {
   "cell_type": "markdown",
   "metadata": {
    "slideshow": {
     "slide_type": "subslide"
    }
   },
   "source": [
    "# Word embedding"
   ]
  },
  {
   "cell_type": "markdown",
   "metadata": {
    "slideshow": {
     "slide_type": "fragment"
    }
   },
   "source": [
    "Mapeos de palabras a vectores n-dimensionales:"
   ]
  },
  {
   "cell_type": "code",
   "execution_count": 3,
   "metadata": {
    "ExecuteTime": {
     "end_time": "2021-05-25T11:41:29.856891Z",
     "start_time": "2021-05-25T11:41:29.852147Z"
    },
    "slideshow": {
     "slide_type": "fragment"
    }
   },
   "outputs": [],
   "source": [
    "algoritmo = [0.3487, -0.0157, 0.5778, 0.2491, -0.0401, ...]\n",
    "    \n",
    "programa = [0.094, 0.1304, -0.1018, -0.0706, -0.9981, ...]\n",
    "    \n",
    "piano = [0.0477, -0.7108, 0.2198, 0.068, -0.0124, ...]"
   ]
  },
  {
   "cell_type": "markdown",
   "metadata": {
    "slideshow": {
     "slide_type": "subslide"
    }
   },
   "source": [
    "**Por qué embeddings?**"
   ]
  },
  {
   "cell_type": "markdown",
   "metadata": {
    "slideshow": {
     "slide_type": "fragment"
    }
   },
   "source": [
    "Problemas de representaciones como bag-of-words y similares:\n",
    "- Todas las palabras en el vocabulario tienen la misma distancia\n",
    "- Alta dimensionalidad (V)"
   ]
  },
  {
   "cell_type": "markdown",
   "metadata": {
    "slideshow": {
     "slide_type": "fragment"
    }
   },
   "source": [
    "Idealmente nos gustaría que:\n",
    "- La medida de distancia incorpore nociones de semántica\n",
    "- Trabajar en un espacio D-dimensional de forma que D << V"
   ]
  },
  {
   "cell_type": "markdown",
   "metadata": {
    "slideshow": {
     "slide_type": "fragment"
    }
   },
   "source": [
    "*'Words that occur in similar contexts tend to have similar meanings'*\n",
    "\n",
    "Harris, 1954"
   ]
  },
  {
   "cell_type": "markdown",
   "metadata": {
    "slideshow": {
     "slide_type": "subslide"
    }
   },
   "source": [
    "<img src=\"files/images/word_embeddings.svg\" width=\"500px\" />"
   ]
  },
  {
   "cell_type": "markdown",
   "metadata": {
    "slideshow": {
     "slide_type": "subslide"
    }
   },
   "source": [
    "**Semántica como álgebra lineal**"
   ]
  },
  {
   "cell_type": "code",
   "execution_count": null,
   "metadata": {
    "ExecuteTime": {
     "end_time": "2021-05-25T11:51:17.138260Z",
     "start_time": "2021-05-25T11:51:17.024172Z"
    },
    "slideshow": {
     "slide_type": "fragment"
    }
   },
   "outputs": [],
   "source": [
    "d['rey'] - d['hombre'] + d['mujer'] == d['reina']"
   ]
  },
  {
   "cell_type": "markdown",
   "metadata": {
    "slideshow": {
     "slide_type": "subslide"
    }
   },
   "source": [
    "## Cómo construir embeddings?"
   ]
  },
  {
   "cell_type": "markdown",
   "metadata": {
    "slideshow": {
     "slide_type": "fragment"
    }
   },
   "source": [
    "Hay muchos algoritmos:\n",
    "- word2vec\n",
    "- GloVe\n",
    "- fastText\n",
    "- StarSpace\n",
    "- RAND-WALK\n",
    "- ..."
   ]
  },
  {
   "cell_type": "markdown",
   "metadata": {
    "slideshow": {
     "slide_type": "subslide"
    }
   },
   "source": [
    "## word2vec"
   ]
  },
  {
   "cell_type": "markdown",
   "metadata": {
    "slideshow": {
     "slide_type": "fragment"
    }
   },
   "source": [
    "- Fue uno de los primeros trabajos propuestos en esta dirección (2013 - Mikolov *et. al.* @Google) \n",
    "- Se presentan dos algoritmos:\n",
    "    - CBOW: Predice una palabra en base al contexto\n",
    "    - SkipGram: Predice el contexto dada una palabra"
   ]
  },
  {
   "cell_type": "markdown",
   "metadata": {
    "slideshow": {
     "slide_type": "subslide"
    }
   },
   "source": [
    "<img src=\"files/images/w2v_context_window.PNG\" width=\"700px\" />"
   ]
  },
  {
   "cell_type": "markdown",
   "metadata": {
    "slideshow": {
     "slide_type": "subslide"
    }
   },
   "source": [
    "<img src=\"files/images/w2v_skipgram_nn.PNG\" width=\"700px\" />"
   ]
  },
  {
   "cell_type": "markdown",
   "metadata": {
    "slideshow": {
     "slide_type": "slide"
    }
   },
   "source": [
    "# Más allá de embeddings, modelos de lenguaje"
   ]
  },
  {
   "cell_type": "markdown",
   "metadata": {
    "ExecuteTime": {
     "end_time": "2021-05-25T13:54:21.344787Z",
     "start_time": "2021-05-25T13:54:21.332283Z"
    },
    "slideshow": {
     "slide_type": "fragment"
    }
   },
   "source": [
    "- GPT\n",
    "- PaLM\n",
    "- BERT"
   ]
  },
  {
   "cell_type": "markdown",
   "metadata": {
    "slideshow": {
     "slide_type": "fragment"
    }
   },
   "source": [
    "Algunas cosas curiosas:\n",
    "- https://chat.openai.com/\n",
    "- https://ai.google/discover/palm2/\n",
    "- https://books.google.com/talktobooks/\n",
    "- https://research.google.com/semantris/\n",
    "- https://play.aidungeon.io/"
   ]
  },
  {
   "cell_type": "markdown",
   "metadata": {
    "slideshow": {
     "slide_type": "slide"
    }
   },
   "source": [
    "# Bibliografía de referencia:"
   ]
  },
  {
   "cell_type": "markdown",
   "metadata": {
    "ExecuteTime": {
     "end_time": "2020-05-18T20:33:56.826926Z",
     "start_time": "2020-05-18T20:33:56.817857Z"
    },
    "slideshow": {
     "slide_type": "fragment"
    }
   },
   "source": [
    "**Handbook of Natural Language Processing** (2010). Nitin Indurkhya, Fred J. Damerau"
   ]
  }
 ],
 "metadata": {
  "celltoolbar": "Slideshow",
  "hide_input": false,
  "kernelspec": {
   "display_name": "Python 3 (ipykernel)",
   "language": "python",
   "name": "python3"
  },
  "language_info": {
   "codemirror_mode": {
    "name": "ipython",
    "version": 3
   },
   "file_extension": ".py",
   "mimetype": "text/x-python",
   "name": "python",
   "nbconvert_exporter": "python",
   "pygments_lexer": "ipython3",
   "version": "3.10.4"
  },
  "toc": {
   "base_numbering": 1,
   "nav_menu": {},
   "number_sections": true,
   "sideBar": true,
   "skip_h1_title": false,
   "title_cell": "Table of Contents",
   "title_sidebar": "Contents",
   "toc_cell": false,
   "toc_position": {},
   "toc_section_display": true,
   "toc_window_display": false
  }
 },
 "nbformat": 4,
 "nbformat_minor": 1
}
