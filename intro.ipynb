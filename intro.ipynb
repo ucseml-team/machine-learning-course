{
 "cells": [
  {
   "cell_type": "markdown",
   "metadata": {
    "slideshow": {
     "slide_type": "slide"
    }
   },
   "source": [
    "Machine Learning\n",
    "================"
   ]
  },
  {
   "cell_type": "markdown",
   "metadata": {
    "slideshow": {
     "slide_type": "subslide"
    }
   },
   "source": [
    "### Docentes\n",
    "\n",
    "* Ariel Rossanigo\n",
    "* Juan Pedro Fisanotti\n",
    "* Mariano Ferrero\n"
   ]
  },
  {
   "cell_type": "markdown",
   "metadata": {
    "slideshow": {
     "slide_type": "slide"
    }
   },
   "source": [
    "### Puntos generales\n",
    "\n",
    "* Lunes de 18 a 22\n",
    "* En casi todas las clases hay teoria, práctica y parcial\n",
    "* Hay 3 TPs grupales\n",
    "* Los parciales son por google forms, al comienzo de la clase, duran 5 minutos\n",
    "* Como nos afectó la pandemia:\n",
    "    * El contenido es el mismo\n",
    "    * En 2020 se quito la promoción. En 2021 se volvió a agregar\n",
    "    * << espacio para preguntas al respecto >>\n"
   ]
  },
  {
   "cell_type": "markdown",
   "metadata": {
    "slideshow": {
     "slide_type": "slide"
    }
   },
   "source": [
    "### Para regularizar\n",
    "\n",
    "* Aprobar los 3 TPs\n",
    "* Aprobar (>=60%) el 80% de los parciales/recuperatorios\n",
    "\n",
    "### Para promocionar\n",
    "\n",
    "* Aprobar los 3 TPs\n",
    "* Aprobar (>=60%) el 100% de los parciales\n",
    "* Promocionar (>=80%) el 80% de los parciales/recuperatorios\n",
    "\n",
    "### Calificacion TPs:\n",
    "\n",
    "* Reprobado = 1\n",
    "* Aprobado = 7\n",
    "* Destacado = 10"
   ]
  },
  {
   "cell_type": "markdown",
   "metadata": {
    "slideshow": {
     "slide_type": "subslide"
    }
   },
   "source": [
    "Qué es? \n",
    "======="
   ]
  },
  {
   "cell_type": "markdown",
   "metadata": {
    "slideshow": {
     "slide_type": "fragment"
    }
   },
   "source": [
    "- Rama de la inteligencia artificial\n",
    "- Muy en auge actualmente, muy útil\n",
    "- Programas que \"aprenden desde los datos\"\n",
    "- Cercana a la estadística y métodos matemáticos"
   ]
  },
  {
   "cell_type": "markdown",
   "metadata": {
    "slideshow": {
     "slide_type": "subslide"
    }
   },
   "source": [
    "Por qué? \n",
    "======="
   ]
  },
  {
   "cell_type": "markdown",
   "metadata": {
    "slideshow": {
     "slide_type": "fragment"
    }
   },
   "source": [
    "- Evolución y adopción por parte de negocios\n",
    "- Mucha demanda de profesionales"
   ]
  },
  {
   "cell_type": "markdown",
   "metadata": {
    "slideshow": {
     "slide_type": "subslide"
    }
   },
   "source": [
    "Tipos de trabajo.\n",
    "============="
   ]
  },
  {
   "cell_type": "markdown",
   "metadata": {
    "slideshow": {
     "slide_type": "fragment"
    }
   },
   "source": [
    "- Machine Learning Engineer (MLE)\n",
    "- Data Scientist\n",
    "- Data Engineer\n",
    "- Machine Learning Researcher\n",
    "- MLOps"
   ]
  }
 ],
 "metadata": {
  "celltoolbar": "Slideshow",
  "hide_input": false,
  "kernelspec": {
   "display_name": "Python 3",
   "language": "python",
   "name": "python3"
  },
  "language_info": {
   "codemirror_mode": {
    "name": "ipython",
    "version": 3
   },
   "file_extension": ".py",
   "mimetype": "text/x-python",
   "name": "python",
   "nbconvert_exporter": "python",
   "pygments_lexer": "ipython3",
   "version": "3.8.10"
  },
  "toc": {
   "base_numbering": 1,
   "nav_menu": {},
   "number_sections": false,
   "sideBar": true,
   "skip_h1_title": false,
   "title_cell": "Table of Contents",
   "title_sidebar": "Contents",
   "toc_cell": false,
   "toc_position": {},
   "toc_section_display": true,
   "toc_window_display": false
  }
 },
 "nbformat": 4,
 "nbformat_minor": 1
}
