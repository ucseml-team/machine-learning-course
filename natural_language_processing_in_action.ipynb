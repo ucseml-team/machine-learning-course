{
 "cells": [
  {
   "cell_type": "markdown",
   "metadata": {
    "slideshow": {
     "slide_type": "slide"
    }
   },
   "source": [
    "Procesamiento de Lenguaje Natural: Hands On\n",
    "=================="
   ]
  },
  {
   "cell_type": "code",
   "execution_count": 1,
   "metadata": {
    "ExecuteTime": {
     "end_time": "2021-05-31T23:19:48.855452Z",
     "start_time": "2021-05-31T23:19:45.794966Z"
    },
    "slideshow": {
     "slide_type": "fragment"
    }
   },
   "outputs": [],
   "source": [
    "import pandas as pd\n",
    "%matplotlib inline\n",
    "from sklearn.datasets import fetch_20newsgroups as news\n",
    "\n",
    "import numpy as np\n",
    "\n",
    "from sklearn.feature_extraction.text import CountVectorizer, TfidfVectorizer\n",
    "from sklearn.pipeline import Pipeline\n",
    "from sklearn.linear_model import LogisticRegression\n",
    "from sklearn.naive_bayes import MultinomialNB\n",
    "from sklearn.metrics import classification_report\n",
    "from sklearn.feature_extraction import text\n",
    "\n",
    "import xgboost as xgb\n",
    "\n",
    "from nltk import word_tokenize\n",
    "from nltk.corpus import stopwords\n",
    "\n",
    "from tqdm import tqdm\n",
    "\n",
    "seed = 24\n",
    "\n",
    "news_train = news(subset='train', shuffle=True, random_state=seed)\n",
    "news_test = news(subset='test', shuffle=True, random_state=seed)"
   ]
  },
  {
   "cell_type": "markdown",
   "metadata": {},
   "source": [
    "# Vamos a indagar un poco sobre los datos"
   ]
  },
  {
   "cell_type": "code",
   "execution_count": 2,
   "metadata": {
    "ExecuteTime": {
     "end_time": "2021-05-31T23:20:44.437175Z",
     "start_time": "2021-05-31T23:20:44.428930Z"
    }
   },
   "outputs": [
    {
     "data": {
      "text/plain": [
       "['alt.atheism',\n",
       " 'comp.graphics',\n",
       " 'comp.os.ms-windows.misc',\n",
       " 'comp.sys.ibm.pc.hardware',\n",
       " 'comp.sys.mac.hardware',\n",
       " 'comp.windows.x',\n",
       " 'misc.forsale',\n",
       " 'rec.autos',\n",
       " 'rec.motorcycles',\n",
       " 'rec.sport.baseball',\n",
       " 'rec.sport.hockey',\n",
       " 'sci.crypt',\n",
       " 'sci.electronics',\n",
       " 'sci.med',\n",
       " 'sci.space',\n",
       " 'soc.religion.christian',\n",
       " 'talk.politics.guns',\n",
       " 'talk.politics.mideast',\n",
       " 'talk.politics.misc',\n",
       " 'talk.religion.misc']"
      ]
     },
     "execution_count": 2,
     "metadata": {},
     "output_type": "execute_result"
    }
   ],
   "source": [
    "news_train.target_names"
   ]
  },
  {
   "cell_type": "code",
   "execution_count": 3,
   "metadata": {
    "ExecuteTime": {
     "end_time": "2021-05-31T23:21:32.857395Z",
     "start_time": "2021-05-31T23:21:32.852203Z"
    }
   },
   "outputs": [
    {
     "data": {
      "text/plain": [
       "11314"
      ]
     },
     "execution_count": 3,
     "metadata": {},
     "output_type": "execute_result"
    }
   ],
   "source": [
    "len(news_train.data)"
   ]
  },
  {
   "cell_type": "code",
   "execution_count": 4,
   "metadata": {
    "ExecuteTime": {
     "end_time": "2021-05-31T23:21:38.626205Z",
     "start_time": "2021-05-31T23:21:38.613211Z"
    }
   },
   "outputs": [
    {
     "name": "stdout",
     "output_type": "stream",
     "text": [
      "From: HOLFELTZ@LSTC2VM.stortek.com\n",
      "Subject: Re: Need a book\n",
      "Organization: StorageTek SW Engineering\n",
      "Lines: 37\n",
      "\n",
      "In article <Apr.14.03.08.18.1993.5458@athos.rutgers.edu>\n",
      "bassili@cs.arizona.edu (Amgad Z. Bassili) writes:\n",
      " \n",
      ">\n",
      ">I appreciate if anyone can point out some good books about the dead sea\n",
      ">scrolls of Qumran. Thanks in advance.\n",
      ">\n",
      ">Please reply by e-mail at <bassili@cs.arizona.edu>\n",
      " \n",
      "Ok boys & girls, hang on; here we go!\n",
      " \n",
      "   Christ's Eternal Gospel               Robinson & Robinson\n",
      "   The Dead Sea Scrolls & the NT         WS LaSor\n",
      "   James the Just in Habakkuk Pesher     RH Eisenman\n",
      "   Maccabees ... Quamran                 RH Eisenman\n",
      "   Dead Sea Scrolls Uncovered            Eisenman & Wise\n",
      "   Dead Sea Scrolls Deception            Baigent & Leigh\n",
      "   Jesus & Riddle of Dead Sea Scrolls    B Thiering\n",
      "   Jesus Scroll                          D Joyce\n",
      " \n",
      "Happy Reading & welcome aboard\n",
      " \n",
      " \n",
      "A poor Wayfaring Stranger [some say, a Strange One] in a strange land,\n",
      " \n",
      " +---------------------------------------------------------------------+\n",
      " | Disclaimer: Not my employer's opinion; probably                     |\n",
      " |             not your's either; and                                  |\n",
      " |             only mine, when authorized!                             |\n",
      " |                                                                     |\n",
      " |                                   Try: Roger_Holfeltz@stortek.com   |\n",
      " +---------------------------------------------------------------------+\n",
      " \n",
      "[Note that this list covers quite a variety of views.  As such it's\n",
      "probably a good one.  But if you want to read just one book, beware\n",
      "that a couple of the books on that list represent views that are,\n",
      "shall we say, unusual.  --clh]\n",
      "\n"
     ]
    }
   ],
   "source": [
    "print(\"\\n\".join(news_train.data[0].split(\"\\n\")))"
   ]
  },
  {
   "cell_type": "code",
   "execution_count": 5,
   "metadata": {
    "ExecuteTime": {
     "end_time": "2021-05-31T23:21:55.817858Z",
     "start_time": "2021-05-31T23:21:55.812741Z"
    },
    "scrolled": true
   },
   "outputs": [
    {
     "name": "stdout",
     "output_type": "stream",
     "text": [
      "soc.religion.christian\n"
     ]
    }
   ],
   "source": [
    "print(news_train.target_names[news_train.target[0]])"
   ]
  },
  {
   "cell_type": "code",
   "execution_count": 6,
   "metadata": {
    "ExecuteTime": {
     "end_time": "2021-05-31T23:22:06.687041Z",
     "start_time": "2021-05-31T23:22:06.635256Z"
    },
    "scrolled": true
   },
   "outputs": [],
   "source": [
    "df = pd.DataFrame({'content': news_train.data, 'target': news_train.target })\n",
    "df['dataset'] = 'train'\n",
    "df = pd.concat([df, pd.DataFrame({'content': news_test.data, 'target': news_test.target })])\n",
    "df.loc[df.dataset.isnull(), 'dataset'] = 'test'"
   ]
  },
  {
   "cell_type": "code",
   "execution_count": 7,
   "metadata": {
    "ExecuteTime": {
     "end_time": "2021-05-31T23:22:15.437245Z",
     "start_time": "2021-05-31T23:22:15.125453Z"
    }
   },
   "outputs": [
    {
     "data": {
      "text/plain": [
       "<AxesSubplot:ylabel='target'>"
      ]
     },
     "execution_count": 7,
     "metadata": {},
     "output_type": "execute_result"
    },
    {
     "data": {
      "image/png": "[encoded data removed]",
      "text/plain": [
       "<Figure size 432x288 with 1 Axes>"
      ]
     },
     "metadata": {},
     "output_type": "display_data"
    }
   ],
   "source": [
    "df[df.dataset == 'train'].target.value_counts().plot.pie()"
   ]
  },
  {
   "cell_type": "code",
   "execution_count": 8,
   "metadata": {
    "ExecuteTime": {
     "end_time": "2021-05-31T23:22:50.012837Z",
     "start_time": "2021-05-31T23:22:49.989881Z"
    }
   },
   "outputs": [],
   "source": [
    "x_train = df[df.dataset == 'train'].content\n",
    "x_test = df[df.dataset == 'test'].content\n",
    "\n",
    "y_train = df[df.dataset == 'train'].target\n",
    "y_test = df[df.dataset == 'test'].target"
   ]
  },
  {
   "cell_type": "markdown",
   "metadata": {},
   "source": [
    "# Bag of words"
   ]
  },
  {
   "cell_type": "code",
   "execution_count": 9,
   "metadata": {
    "ExecuteTime": {
     "end_time": "2021-05-31T23:24:55.080091Z",
     "start_time": "2021-05-31T23:24:12.500323Z"
    }
   },
   "outputs": [
    {
     "data": {
      "text/plain": [
       "(11314, 181210)"
      ]
     },
     "execution_count": 9,
     "metadata": {},
     "output_type": "execute_result"
    }
   ],
   "source": [
    "count_vect = CountVectorizer(tokenizer=word_tokenize, \n",
    "                             stop_words='english',\n",
    "                             strip_accents='ascii')\n",
    "\n",
    "x_train_bow = count_vect.fit_transform(df[df.dataset == 'train'].content)\n",
    "x_train_bow.shape"
   ]
  },
  {
   "cell_type": "code",
   "execution_count": 10,
   "metadata": {
    "ExecuteTime": {
     "end_time": "2021-05-31T23:25:13.825202Z",
     "start_time": "2021-05-31T23:25:13.549047Z"
    }
   },
   "outputs": [
    {
     "data": {
      "text/plain": [
       "135513               pod6f\n",
       "108278             lc4u-34\n",
       "143612        religiosidad\n",
       "30194                 4738\n",
       "64198     cc.curtin.edu.au\n",
       "dtype: object"
      ]
     },
     "execution_count": 10,
     "metadata": {},
     "output_type": "execute_result"
    }
   ],
   "source": [
    "pd.Series(count_vect.get_feature_names()).sample(5)"
   ]
  },
  {
   "cell_type": "markdown",
   "metadata": {},
   "source": [
    "La dimensionalidad es demasiado grande, vamos a intentar reducirla un poco ..."
   ]
  },
  {
   "cell_type": "code",
   "execution_count": 12,
   "metadata": {
    "ExecuteTime": {
     "end_time": "2021-05-31T23:25:58.915980Z",
     "start_time": "2021-05-31T23:25:58.910029Z"
    }
   },
   "outputs": [],
   "source": [
    "count_vect = CountVectorizer(tokenizer=word_tokenize, \n",
    "                             stop_words='english',\n",
    "                             strip_accents='ascii',\n",
    "                             token_pattern=r'\\[a-zA-Z0-9]{3,}',\n",
    "                             max_features=1000)"
   ]
  },
  {
   "cell_type": "markdown",
   "metadata": {},
   "source": [
    "# Construcción de un clasificador utilizando regresión logística"
   ]
  },
  {
   "cell_type": "code",
   "execution_count": 13,
   "metadata": {
    "ExecuteTime": {
     "end_time": "2021-05-31T23:26:50.882204Z",
     "start_time": "2021-05-31T23:26:50.875356Z"
    }
   },
   "outputs": [],
   "source": [
    "def evaluate_pipeline(model, vectorizer, x_train, x_test, y_train, y_test):\n",
    "    ''' Create and evaluate pipeline. '''\n",
    "    if vectorizer:\n",
    "        pipeline = Pipeline([\n",
    "            ('vectorizer', vectorizer),\n",
    "            ('classifier', model),\n",
    "        ])\n",
    "    else:\n",
    "        pipeline = Pipeline([\n",
    "            ('classifier', model),\n",
    "        ])\n",
    "\n",
    "    pipeline.fit(x_train, y_train)\n",
    "    \n",
    "    y_pred = pipeline.predict(x_test)\n",
    "\n",
    "    print(classification_report(y_test, y_pred))\n",
    "    \n",
    "    return pipeline"
   ]
  },
  {
   "cell_type": "code",
   "execution_count": 14,
   "metadata": {
    "ExecuteTime": {
     "end_time": "2021-05-31T23:26:59.075022Z",
     "start_time": "2021-05-31T23:26:59.070143Z"
    }
   },
   "outputs": [],
   "source": [
    "logistic = LogisticRegression(max_iter=1000, \n",
    "                              random_state=seed,\n",
    "                              tol=0.001,\n",
    "                              n_jobs=-1)"
   ]
  },
  {
   "cell_type": "code",
   "execution_count": 15,
   "metadata": {
    "ExecuteTime": {
     "end_time": "2021-05-31T23:28:52.710313Z",
     "start_time": "2021-05-31T23:27:16.140758Z"
    }
   },
   "outputs": [
    {
     "name": "stdout",
     "output_type": "stream",
     "text": [
      "              precision    recall  f1-score   support\n",
      "\n",
      "           0       0.53      0.55      0.54       319\n",
      "           1       0.48      0.52      0.50       389\n",
      "           2       0.60      0.54      0.57       394\n",
      "           3       0.50      0.51      0.51       392\n",
      "           4       0.59      0.61      0.60       385\n",
      "           5       0.65      0.57      0.61       395\n",
      "           6       0.72      0.74      0.73       390\n",
      "           7       0.62      0.60      0.61       396\n",
      "           8       0.70      0.78      0.73       398\n",
      "           9       0.63      0.63      0.63       397\n",
      "          10       0.76      0.74      0.75       399\n",
      "          11       0.81      0.73      0.77       396\n",
      "          12       0.41      0.47      0.44       393\n",
      "          13       0.59      0.55      0.57       396\n",
      "          14       0.71      0.72      0.72       394\n",
      "          15       0.73      0.74      0.74       398\n",
      "          16       0.60      0.65      0.63       364\n",
      "          17       0.78      0.60      0.68       376\n",
      "          18       0.48      0.46      0.47       310\n",
      "          19       0.35      0.41      0.38       251\n",
      "\n",
      "    accuracy                           0.61      7532\n",
      "   macro avg       0.61      0.61      0.61      7532\n",
      "weighted avg       0.62      0.61      0.61      7532\n",
      "\n"
     ]
    }
   ],
   "source": [
    "logreg_countv_pl = evaluate_pipeline(logistic, count_vect, \n",
    "                                     x_train, x_test, \n",
    "                                     y_train, y_test)"
   ]
  },
  {
   "cell_type": "code",
   "execution_count": 16,
   "metadata": {
    "ExecuteTime": {
     "end_time": "2021-05-31T23:29:19.423823Z",
     "start_time": "2021-05-31T23:29:19.415950Z"
    }
   },
   "outputs": [
    {
     "name": "stdout",
     "output_type": "stream",
     "text": [
      "'God is love' => soc.religion.christian\n",
      "'OpenGL on the GPU is fast' => comp.sys.mac.hardware\n"
     ]
    }
   ],
   "source": [
    "docs_new = ['God is love', 'OpenGL on the GPU is fast']\n",
    "\n",
    "pred = logreg_countv_pl.predict(docs_new)\n",
    "\n",
    "for doc, category in zip(docs_new, pred):\n",
    "    print('%r => %s' % (doc, news_train.target_names[category]))"
   ]
  },
  {
   "cell_type": "markdown",
   "metadata": {},
   "source": [
    "# Construcción de un clasificador utilizando xgboost"
   ]
  },
  {
   "cell_type": "code",
   "execution_count": 17,
   "metadata": {
    "ExecuteTime": {
     "end_time": "2021-05-31T23:31:20.678170Z",
     "start_time": "2021-05-31T23:29:43.318840Z"
    },
    "scrolled": false
   },
   "outputs": [
    {
     "name": "stdout",
     "output_type": "stream",
     "text": [
      "[20:30:27] WARNING: /Users/travis/build/dmlc/xgboost/src/learner.cc:1095: Starting in XGBoost 1.3.0, the default evaluation metric used with the objective 'multi:softprob' was changed from 'merror' to 'mlogloss'. Explicitly set eval_metric if you'd like to restore the old behavior.\n",
      "              precision    recall  f1-score   support\n",
      "\n",
      "           0       0.59      0.56      0.58       319\n",
      "           1       0.53      0.56      0.54       389\n",
      "           2       0.68      0.64      0.66       394\n",
      "           3       0.52      0.56      0.54       392\n",
      "           4       0.64      0.62      0.63       385\n",
      "           5       0.64      0.64      0.64       395\n",
      "           6       0.80      0.87      0.83       390\n",
      "           7       0.77      0.68      0.72       396\n",
      "           8       0.83      0.74      0.78       398\n",
      "           9       0.67      0.70      0.68       397\n",
      "          10       0.76      0.76      0.76       399\n",
      "          11       0.87      0.75      0.81       396\n",
      "          12       0.31      0.47      0.37       393\n",
      "          13       0.59      0.58      0.58       396\n",
      "          14       0.77      0.74      0.75       394\n",
      "          15       0.72      0.83      0.77       398\n",
      "          16       0.60      0.68      0.64       364\n",
      "          17       0.90      0.67      0.77       376\n",
      "          18       0.53      0.49      0.51       310\n",
      "          19       0.49      0.32      0.39       251\n",
      "\n",
      "    accuracy                           0.65      7532\n",
      "   macro avg       0.66      0.64      0.65      7532\n",
      "weighted avg       0.67      0.65      0.65      7532\n",
      "\n"
     ]
    }
   ],
   "source": [
    "xgbm = xgb.XGBClassifier(max_depth=7, n_estimators=50, colsample_bytree=0.8, \n",
    "                         subsample=0.8, nthread=6, learning_rate=0.1, use_label_encoder=False)\n",
    "\n",
    "logreg_countv_pl = evaluate_pipeline(xgbm, count_vect, x_train, x_test, y_train, y_test)"
   ]
  },
  {
   "cell_type": "markdown",
   "metadata": {},
   "source": [
    "# Construcción de un clasificador utilizando Naïve Bayes"
   ]
  },
  {
   "cell_type": "markdown",
   "metadata": {},
   "source": [
    "<img src=\"http://www.cs.cornell.edu/courses/cs4780/2015fa/web/projects/03NaiveBayes/nb.png\" width=\"300px\"/>\n",
    "<img src=\"http://uc-r.github.io/public/images/analytics/naive_bayes/naive_bayes_icon.png\" width=\"300px\" />"
   ]
  },
  {
   "cell_type": "code",
   "execution_count": 18,
   "metadata": {
    "ExecuteTime": {
     "end_time": "2021-05-31T23:33:43.056420Z",
     "start_time": "2021-05-31T23:32:35.445045Z"
    }
   },
   "outputs": [
    {
     "name": "stdout",
     "output_type": "stream",
     "text": [
      "              precision    recall  f1-score   support\n",
      "\n",
      "           0       0.38      0.58      0.46       319\n",
      "           1       0.39      0.52      0.44       389\n",
      "           2       0.13      0.01      0.01       394\n",
      "           3       0.42      0.49      0.46       392\n",
      "           4       0.44      0.56      0.49       385\n",
      "           5       0.43      0.33      0.38       395\n",
      "           6       0.58      0.81      0.68       390\n",
      "           7       0.41      0.68      0.51       396\n",
      "           8       0.55      0.63      0.59       398\n",
      "           9       0.56      0.66      0.61       397\n",
      "          10       0.86      0.42      0.56       399\n",
      "          11       0.78      0.71      0.75       396\n",
      "          12       0.39      0.46      0.42       393\n",
      "          13       0.60      0.40      0.48       396\n",
      "          14       0.65      0.64      0.65       394\n",
      "          15       0.77      0.63      0.69       398\n",
      "          16       0.42      0.35      0.38       364\n",
      "          17       0.77      0.57      0.66       376\n",
      "          18       0.44      0.37      0.41       310\n",
      "          19       0.32      0.39      0.35       251\n",
      "\n",
      "    accuracy                           0.51      7532\n",
      "   macro avg       0.52      0.51      0.50      7532\n",
      "weighted avg       0.52      0.51      0.50      7532\n",
      "\n"
     ]
    }
   ],
   "source": [
    "nb = MultinomialNB()\n",
    "\n",
    "nb_countv_pl = evaluate_pipeline(nb, count_vect, x_train, x_test, y_train, y_test)"
   ]
  },
  {
   "cell_type": "code",
   "execution_count": 19,
   "metadata": {
    "ExecuteTime": {
     "end_time": "2021-05-31T23:33:43.072209Z",
     "start_time": "2021-05-31T23:33:43.061493Z"
    }
   },
   "outputs": [
    {
     "name": "stdout",
     "output_type": "stream",
     "text": [
      "'God is love' => soc.religion.christian\n",
      "'OpenGL on the GPU is fast' => rec.autos\n"
     ]
    }
   ],
   "source": [
    "pred = nb_countv_pl.predict(docs_new)\n",
    "\n",
    "for doc, category in zip(docs_new, pred):\n",
    "    print('%r => %s' % (doc, news_train.target_names[category]))"
   ]
  },
  {
   "cell_type": "markdown",
   "metadata": {},
   "source": [
    "# TF-IDF"
   ]
  },
  {
   "cell_type": "code",
   "execution_count": 20,
   "metadata": {
    "ExecuteTime": {
     "end_time": "2021-05-31T23:34:11.216471Z",
     "start_time": "2021-05-31T23:34:11.209963Z"
    }
   },
   "outputs": [],
   "source": [
    "tfv = TfidfVectorizer(min_df=3,  max_features=1000, \n",
    "                      strip_accents='unicode', analyzer='word', token_pattern=r'\\w{1,}',\n",
    "                      ngram_range=(1, 3), use_idf=1, smooth_idf=1, sublinear_tf=1,\n",
    "                      stop_words = 'english')"
   ]
  },
  {
   "cell_type": "markdown",
   "metadata": {},
   "source": [
    "## Analizamos nuevamente para LR"
   ]
  },
  {
   "cell_type": "code",
   "execution_count": 21,
   "metadata": {
    "ExecuteTime": {
     "end_time": "2021-05-31T23:34:51.984041Z",
     "start_time": "2021-05-31T23:34:18.999367Z"
    }
   },
   "outputs": [
    {
     "name": "stdout",
     "output_type": "stream",
     "text": [
      "              precision    recall  f1-score   support\n",
      "\n",
      "           0       0.58      0.64      0.61       319\n",
      "           1       0.57      0.64      0.60       389\n",
      "           2       0.69      0.64      0.66       394\n",
      "           3       0.56      0.55      0.56       392\n",
      "           4       0.66      0.70      0.68       385\n",
      "           5       0.70      0.70      0.70       395\n",
      "           6       0.78      0.82      0.80       390\n",
      "           7       0.74      0.72      0.73       396\n",
      "           8       0.81      0.80      0.80       398\n",
      "           9       0.71      0.76      0.74       397\n",
      "          10       0.82      0.80      0.81       399\n",
      "          11       0.91      0.78      0.84       396\n",
      "          12       0.46      0.54      0.50       393\n",
      "          13       0.65      0.63      0.64       396\n",
      "          14       0.76      0.77      0.76       394\n",
      "          15       0.80      0.87      0.83       398\n",
      "          16       0.61      0.71      0.65       364\n",
      "          17       0.90      0.70      0.79       376\n",
      "          18       0.56      0.49      0.52       310\n",
      "          19       0.51      0.37      0.43       251\n",
      "\n",
      "    accuracy                           0.69      7532\n",
      "   macro avg       0.69      0.68      0.68      7532\n",
      "weighted avg       0.70      0.69      0.69      7532\n",
      "\n"
     ]
    }
   ],
   "source": [
    "logistic = LogisticRegression(max_iter=1000, \n",
    "                              random_state=seed,\n",
    "                              tol=0.001,\n",
    "                              n_jobs=-1)\n",
    "\n",
    "logreg_tfv_pl = evaluate_pipeline(logistic, tfv, x_train, x_test, y_train, y_test)"
   ]
  },
  {
   "cell_type": "code",
   "execution_count": 22,
   "metadata": {
    "ExecuteTime": {
     "end_time": "2021-05-31T23:36:38.903102Z",
     "start_time": "2021-05-31T23:34:51.987535Z"
    }
   },
   "outputs": [
    {
     "name": "stdout",
     "output_type": "stream",
     "text": [
      "[20:35:20] WARNING: /Users/travis/build/dmlc/xgboost/src/learner.cc:1095: Starting in XGBoost 1.3.0, the default evaluation metric used with the objective 'multi:softprob' was changed from 'merror' to 'mlogloss'. Explicitly set eval_metric if you'd like to restore the old behavior.\n",
      "              precision    recall  f1-score   support\n",
      "\n",
      "           0       0.60      0.54      0.57       319\n",
      "           1       0.55      0.57      0.56       389\n",
      "           2       0.67      0.65      0.66       394\n",
      "           3       0.52      0.58      0.55       392\n",
      "           4       0.60      0.65      0.62       385\n",
      "           5       0.65      0.69      0.67       395\n",
      "           6       0.76      0.78      0.77       390\n",
      "           7       0.72      0.67      0.70       396\n",
      "           8       0.83      0.77      0.80       398\n",
      "           9       0.64      0.72      0.67       397\n",
      "          10       0.78      0.75      0.76       399\n",
      "          11       0.86      0.75      0.80       396\n",
      "          12       0.36      0.46      0.40       393\n",
      "          13       0.59      0.56      0.57       396\n",
      "          14       0.72      0.74      0.73       394\n",
      "          15       0.81      0.84      0.83       398\n",
      "          16       0.58      0.65      0.61       364\n",
      "          17       0.89      0.67      0.76       376\n",
      "          18       0.48      0.46      0.47       310\n",
      "          19       0.49      0.36      0.42       251\n",
      "\n",
      "    accuracy                           0.65      7532\n",
      "   macro avg       0.65      0.64      0.65      7532\n",
      "weighted avg       0.66      0.65      0.65      7532\n",
      "\n"
     ]
    }
   ],
   "source": [
    "xgbm = xgb.XGBClassifier(max_depth=7, n_estimators=50, colsample_bytree=0.8, \n",
    "                         subsample=0.8, nthread=6, learning_rate=0.1, use_label_encoder=False)\n",
    "\n",
    "logreg_countv_pl = evaluate_pipeline(xgbm, tfv, x_train, x_test, y_train, y_test)"
   ]
  },
  {
   "cell_type": "code",
   "execution_count": 23,
   "metadata": {
    "ExecuteTime": {
     "end_time": "2021-05-31T23:37:11.679999Z",
     "start_time": "2021-05-31T23:36:38.909064Z"
    }
   },
   "outputs": [
    {
     "name": "stdout",
     "output_type": "stream",
     "text": [
      "              precision    recall  f1-score   support\n",
      "\n",
      "           0       0.58      0.55      0.57       319\n",
      "           1       0.47      0.60      0.53       389\n",
      "           2       0.66      0.63      0.65       394\n",
      "           3       0.53      0.50      0.52       392\n",
      "           4       0.61      0.63      0.62       385\n",
      "           5       0.65      0.67      0.66       395\n",
      "           6       0.68      0.87      0.76       390\n",
      "           7       0.67      0.72      0.69       396\n",
      "           8       0.67      0.78      0.72       398\n",
      "           9       0.70      0.74      0.72       397\n",
      "          10       0.76      0.80      0.78       399\n",
      "          11       0.83      0.76      0.79       396\n",
      "          12       0.52      0.40      0.45       393\n",
      "          13       0.64      0.51      0.57       396\n",
      "          14       0.69      0.75      0.72       394\n",
      "          15       0.66      0.88      0.75       398\n",
      "          16       0.59      0.70      0.64       364\n",
      "          17       0.88      0.73      0.80       376\n",
      "          18       0.63      0.39      0.48       310\n",
      "          19       0.56      0.22      0.31       251\n",
      "\n",
      "    accuracy                           0.65      7532\n",
      "   macro avg       0.65      0.64      0.64      7532\n",
      "weighted avg       0.65      0.65      0.65      7532\n",
      "\n"
     ]
    }
   ],
   "source": [
    "nb = MultinomialNB()\n",
    "\n",
    "nb_tfv_pl = evaluate_pipeline(nb, tfv, x_train, x_test, y_train, y_test)"
   ]
  },
  {
   "cell_type": "markdown",
   "metadata": {},
   "source": [
    "# Y si probamos con word embeddings ?"
   ]
  },
  {
   "cell_type": "code",
   "execution_count": 24,
   "metadata": {
    "ExecuteTime": {
     "end_time": "2021-05-31T23:39:14.077429Z",
     "start_time": "2021-05-31T23:39:06.388475Z"
    }
   },
   "outputs": [
    {
     "name": "stderr",
     "output_type": "stream",
     "text": [
      "400000it [00:07, 52122.53it/s]"
     ]
    },
    {
     "name": "stdout",
     "output_type": "stream",
     "text": [
      "Se encontraron 400000 vectores.\n"
     ]
    },
    {
     "name": "stderr",
     "output_type": "stream",
     "text": [
      "\n"
     ]
    }
   ],
   "source": [
    "embeddings_index = {}\n",
    "f = open('glove.6B/glove.6B.50d.txt')\n",
    "for line in tqdm(f):\n",
    "    values = line.split()\n",
    "    word = values[0]\n",
    "    coefs = np.asarray(values[1:], dtype='float32')\n",
    "    embeddings_index[word] = coefs\n",
    "f.close()\n",
    "\n",
    "print('Se encontraron %s vectores.' % len(embeddings_index))"
   ]
  },
  {
   "cell_type": "code",
   "execution_count": 31,
   "metadata": {
    "ExecuteTime": {
     "end_time": "2021-05-31T23:40:11.334534Z",
     "start_time": "2021-05-31T23:40:11.327411Z"
    },
    "scrolled": true
   },
   "outputs": [
    {
     "data": {
      "text/plain": [
       "array([ 0.079084, -0.81504 ,  1.7901  ,  0.91653 ,  0.10797 , -0.55628 ,\n",
       "       -0.84427 , -1.4951  ,  0.13418 ,  0.63627 ,  0.35146 ,  0.25813 ,\n",
       "       -0.55029 ,  0.51056 ,  0.37409 ,  0.12092 , -1.6166  ,  0.83653 ,\n",
       "        0.14202 , -0.52348 ,  0.73453 ,  0.12207 , -0.49079 ,  0.32533 ,\n",
       "        0.45306 , -1.585   , -0.63848 , -1.0053  ,  0.10454 , -0.42984 ,\n",
       "        3.181   , -0.62187 ,  0.16819 , -1.0139  ,  0.064058,  0.57844 ,\n",
       "       -0.4556  ,  0.73783 ,  0.37203 , -0.57722 ,  0.66441 ,  0.055129,\n",
       "        0.037891,  1.3275  ,  0.30991 ,  0.50697 ,  1.2357  ,  0.1274  ,\n",
       "       -0.11434 ,  0.20709 ], dtype=float32)"
      ]
     },
     "execution_count": 31,
     "metadata": {},
     "output_type": "execute_result"
    }
   ],
   "source": [
    "embeddings_index['computer']"
   ]
  },
  {
   "cell_type": "code",
   "execution_count": 32,
   "metadata": {
    "ExecuteTime": {
     "end_time": "2021-05-31T23:41:58.219252Z",
     "start_time": "2021-05-31T23:41:58.211599Z"
    }
   },
   "outputs": [],
   "source": [
    "def text2vec(text, stop_words, embeddings):\n",
    "    ''' Transform text (rows) to vect using words embeddings. '''\n",
    "    words = str(text).lower()\n",
    "    words = word_tokenize(words)\n",
    "    words = [w for w in words if not w in stop_words]\n",
    "    words = [w for w in words if w.isalpha()]\n",
    "    M = []\n",
    "    for w in words:\n",
    "        try:\n",
    "            M.append(embeddings_index[w])\n",
    "        except:\n",
    "            continue\n",
    "\n",
    "    M = np.array(M)\n",
    "    v = M.sum(axis=0)\n",
    "    \n",
    "    if type(v) != np.ndarray:\n",
    "        return np.zeros(50)\n",
    "    \n",
    "    # Normalization.\n",
    "    return v / np.sqrt((v ** 2).sum())"
   ]
  },
  {
   "cell_type": "code",
   "execution_count": 33,
   "metadata": {
    "ExecuteTime": {
     "end_time": "2021-05-31T23:42:51.282740Z",
     "start_time": "2021-05-31T23:42:07.507887Z"
    }
   },
   "outputs": [
    {
     "name": "stderr",
     "output_type": "stream",
     "text": [
      "100%|██████████| 11314/11314 [00:43<00:00, 258.51it/s]\n"
     ]
    }
   ],
   "source": [
    "x_train_emb = []\n",
    "\n",
    "for row in tqdm(x_train):\n",
    "    x_train_emb.append(text2vec(row, text.ENGLISH_STOP_WORDS, embeddings_index))"
   ]
  },
  {
   "cell_type": "code",
   "execution_count": 34,
   "metadata": {
    "ExecuteTime": {
     "end_time": "2021-05-31T23:43:18.723333Z",
     "start_time": "2021-05-31T23:42:51.288480Z"
    }
   },
   "outputs": [
    {
     "name": "stderr",
     "output_type": "stream",
     "text": [
      "100%|██████████| 7532/7532 [00:27<00:00, 274.61it/s]\n"
     ]
    }
   ],
   "source": [
    "x_test_emb = []\n",
    "\n",
    "for row in tqdm(x_test):\n",
    "    x_test_emb.append(text2vec(row, text.ENGLISH_STOP_WORDS, embeddings_index))"
   ]
  },
  {
   "cell_type": "markdown",
   "metadata": {},
   "source": [
    "# Probamos ejecutar nuevamente los modelos"
   ]
  },
  {
   "cell_type": "code",
   "execution_count": 35,
   "metadata": {
    "ExecuteTime": {
     "end_time": "2021-05-31T23:43:44.807858Z",
     "start_time": "2021-05-31T23:43:40.860763Z"
    }
   },
   "outputs": [
    {
     "name": "stdout",
     "output_type": "stream",
     "text": [
      "              precision    recall  f1-score   support\n",
      "\n",
      "           0       0.43      0.41      0.42       319\n",
      "           1       0.48      0.51      0.49       389\n",
      "           2       0.46      0.43      0.44       394\n",
      "           3       0.46      0.41      0.43       392\n",
      "           4       0.42      0.33      0.37       385\n",
      "           5       0.46      0.43      0.45       395\n",
      "           6       0.55      0.62      0.58       390\n",
      "           7       0.72      0.68      0.70       396\n",
      "           8       0.66      0.68      0.67       398\n",
      "           9       0.80      0.82      0.81       397\n",
      "          10       0.86      0.87      0.87       399\n",
      "          11       0.61      0.64      0.62       396\n",
      "          12       0.48      0.47      0.47       393\n",
      "          13       0.78      0.81      0.79       396\n",
      "          14       0.70      0.79      0.74       394\n",
      "          15       0.58      0.81      0.68       398\n",
      "          16       0.53      0.69      0.60       364\n",
      "          17       0.82      0.80      0.81       376\n",
      "          18       0.50      0.43      0.46       310\n",
      "          19       0.38      0.08      0.13       251\n",
      "\n",
      "    accuracy                           0.60      7532\n",
      "   macro avg       0.58      0.59      0.58      7532\n",
      "weighted avg       0.59      0.60      0.59      7532\n",
      "\n"
     ]
    }
   ],
   "source": [
    "logistic = LogisticRegression(max_iter=1000, \n",
    "                              random_state=seed,\n",
    "                              tol=0.001,\n",
    "                              n_jobs=-1)\n",
    "\n",
    "logreg_tfv_pl = evaluate_pipeline(logistic, None, x_train_emb, x_test_emb, y_train, y_test)"
   ]
  },
  {
   "cell_type": "code",
   "execution_count": 36,
   "metadata": {
    "ExecuteTime": {
     "end_time": "2021-05-31T23:43:44.889730Z",
     "start_time": "2021-05-31T23:43:44.813263Z"
    }
   },
   "outputs": [
    {
     "name": "stdout",
     "output_type": "stream",
     "text": [
      "              precision    recall  f1-score   support\n",
      "\n",
      "           0       0.00      0.00      0.00       319\n",
      "           1       0.42      0.31      0.36       389\n",
      "           2       0.32      0.37      0.34       394\n",
      "           3       0.33      0.37      0.35       392\n",
      "           4       0.42      0.07      0.12       385\n",
      "           5       0.37      0.33      0.35       395\n",
      "           6       0.38      0.37      0.38       390\n",
      "           7       0.55      0.57      0.56       396\n",
      "           8       0.35      0.65      0.46       398\n",
      "           9       0.59      0.69      0.63       397\n",
      "          10       0.81      0.73      0.77       399\n",
      "          11       0.33      0.63      0.44       396\n",
      "          12       0.38      0.38      0.38       393\n",
      "          13       0.62      0.72      0.67       396\n",
      "          14       0.56      0.65      0.60       394\n",
      "          15       0.38      0.89      0.53       398\n",
      "          16       0.53      0.39      0.45       364\n",
      "          17       0.76      0.68      0.72       376\n",
      "          18       0.00      0.00      0.00       310\n",
      "          19       0.00      0.00      0.00       251\n",
      "\n",
      "    accuracy                           0.46      7532\n",
      "   macro avg       0.41      0.44      0.40      7532\n",
      "weighted avg       0.42      0.46      0.42      7532\n",
      "\n"
     ]
    },
    {
     "name": "stderr",
     "output_type": "stream",
     "text": [
      "/Users/mariano/Documents/UCSE/Docencia/ML/ucse-ml/lib/python3.7/site-packages/sklearn/metrics/_classification.py:1248: UndefinedMetricWarning: Precision and F-score are ill-defined and being set to 0.0 in labels with no predicted samples. Use `zero_division` parameter to control this behavior.\n",
      "  _warn_prf(average, modifier, msg_start, len(result))\n",
      "/Users/mariano/Documents/UCSE/Docencia/ML/ucse-ml/lib/python3.7/site-packages/sklearn/metrics/_classification.py:1248: UndefinedMetricWarning: Precision and F-score are ill-defined and being set to 0.0 in labels with no predicted samples. Use `zero_division` parameter to control this behavior.\n",
      "  _warn_prf(average, modifier, msg_start, len(result))\n",
      "/Users/mariano/Documents/UCSE/Docencia/ML/ucse-ml/lib/python3.7/site-packages/sklearn/metrics/_classification.py:1248: UndefinedMetricWarning: Precision and F-score are ill-defined and being set to 0.0 in labels with no predicted samples. Use `zero_division` parameter to control this behavior.\n",
      "  _warn_prf(average, modifier, msg_start, len(result))\n"
     ]
    }
   ],
   "source": [
    "nb = MultinomialNB()\n",
    "\n",
    "nb_tfv_pl = evaluate_pipeline(nb, None, np.abs(x_train_emb), np.abs(x_test_emb), y_train, y_test)"
   ]
  },
  {
   "cell_type": "code",
   "execution_count": 37,
   "metadata": {
    "ExecuteTime": {
     "end_time": "2021-05-31T23:46:09.785380Z",
     "start_time": "2021-05-31T23:43:44.895572Z"
    }
   },
   "outputs": [
    {
     "name": "stdout",
     "output_type": "stream",
     "text": [
      "[20:43:45] WARNING: /Users/travis/build/dmlc/xgboost/src/learner.cc:1095: Starting in XGBoost 1.3.0, the default evaluation metric used with the objective 'multi:softprob' was changed from 'merror' to 'mlogloss'. Explicitly set eval_metric if you'd like to restore the old behavior.\n",
      "              precision    recall  f1-score   support\n",
      "\n",
      "           0       0.45      0.47      0.46       319\n",
      "           1       0.51      0.55      0.53       389\n",
      "           2       0.49      0.46      0.47       394\n",
      "           3       0.46      0.46      0.46       392\n",
      "           4       0.44      0.38      0.40       385\n",
      "           5       0.48      0.45      0.47       395\n",
      "           6       0.59      0.68      0.63       390\n",
      "           7       0.71      0.67      0.69       396\n",
      "           8       0.67      0.69      0.68       398\n",
      "           9       0.83      0.84      0.84       397\n",
      "          10       0.88      0.86      0.87       399\n",
      "          11       0.65      0.63      0.64       396\n",
      "          12       0.48      0.47      0.47       393\n",
      "          13       0.78      0.80      0.79       396\n",
      "          14       0.74      0.80      0.77       394\n",
      "          15       0.60      0.74      0.66       398\n",
      "          16       0.55      0.63      0.58       364\n",
      "          17       0.83      0.78      0.81       376\n",
      "          18       0.50      0.44      0.47       310\n",
      "          19       0.40      0.24      0.30       251\n",
      "\n",
      "    accuracy                           0.61      7532\n",
      "   macro avg       0.60      0.60      0.60      7532\n",
      "weighted avg       0.61      0.61      0.61      7532\n",
      "\n"
     ]
    }
   ],
   "source": [
    "xgbc = xgb.XGBClassifier(max_depth=7, n_estimators=200, colsample_bytree=0.8, \n",
    "                        subsample=0.8, nthread=6, learning_rate=0.1, use_label_encoder=False)\n",
    "\n",
    "nb_tfv_pl = evaluate_pipeline(xgbc, None, np.array(x_train_emb), np.array(x_test_emb), y_train, y_test)"
   ]
  }
 ],
 "metadata": {
  "celltoolbar": "Slideshow",
  "kernelspec": {
   "display_name": "Python 3",
   "language": "python",
   "name": "python3"
  },
  "language_info": {
   "codemirror_mode": {
    "name": "ipython",
    "version": 3
   },
   "file_extension": ".py",
   "mimetype": "text/x-python",
   "name": "python",
   "nbconvert_exporter": "python",
   "pygments_lexer": "ipython3",
   "version": "3.7.3"
  },
  "toc": {
   "base_numbering": 1,
   "nav_menu": {},
   "number_sections": true,
   "sideBar": true,
   "skip_h1_title": false,
   "title_cell": "Table of Contents",
   "title_sidebar": "Contents",
   "toc_cell": false,
   "toc_position": {},
   "toc_section_display": true,
   "toc_window_display": false
  }
 },
 "nbformat": 4,
 "nbformat_minor": 1
}
