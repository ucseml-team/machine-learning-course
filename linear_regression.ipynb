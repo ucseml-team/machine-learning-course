{
 "cells": [
  {
   "cell_type": "markdown",
   "metadata": {
    "slideshow": {
     "slide_type": "subslide"
    }
   },
   "source": [
    "# Regresión lineal"
   ]
  },
  {
   "cell_type": "markdown",
   "metadata": {
    "slideshow": {
     "slide_type": "fragment"
    }
   },
   "source": [
    "Uno de los modelos más simples de aprendizaje supervizado.\n",
    "\n",
    "Es un algoritmo de **regresión** (ORLY)."
   ]
  },
  {
   "cell_type": "markdown",
   "metadata": {
    "slideshow": {
     "slide_type": "subslide"
    }
   },
   "source": [
    "# Por qué? Cuándo?"
   ]
  },
  {
   "cell_type": "markdown",
   "metadata": {
    "slideshow": {
     "slide_type": "fragment"
    }
   },
   "source": [
    "* Sirve para hacer regresión.\n",
    "* Cuando sospechamos que las salidas dependen de las entradas de manera **lineal**.\n",
    "* Si no, va a funcionar muy mal.\n",
    "* Es muy rápida! Y simple!\n",
    "* Permite explicar resultados"
   ]
  },
  {
   "cell_type": "markdown",
   "metadata": {
    "slideshow": {
     "slide_type": "subslide"
    }
   },
   "source": [
    "![](files/images/linear_regression_1.svg)"
   ]
  },
  {
   "cell_type": "markdown",
   "metadata": {
    "slideshow": {
     "slide_type": "subslide"
    }
   },
   "source": [
    "![](files/images/linear_regression_2.svg)"
   ]
  },
  {
   "cell_type": "markdown",
   "metadata": {
    "slideshow": {
     "slide_type": "subslide"
    }
   },
   "source": [
    "# Cómo funciona?"
   ]
  },
  {
   "cell_type": "markdown",
   "metadata": {
    "slideshow": {
     "slide_type": "subslide"
    }
   },
   "source": [
    "Sospechamos que existe esta función, y que es una recta:"
   ]
  },
  {
   "cell_type": "markdown",
   "metadata": {
    "slideshow": {
     "slide_type": "fragment"
    }
   },
   "source": [
    "![](files/images/supervised_learning_1.svg)"
   ]
  },
  {
   "cell_type": "markdown",
   "metadata": {
    "slideshow": {
     "slide_type": "subslide"
    }
   },
   "source": [
    "**Entrenamos**. Es decir, probamos muchas rectas, para ver cuál se ajusta bien:"
   ]
  },
  {
   "cell_type": "markdown",
   "metadata": {
    "slideshow": {
     "slide_type": "fragment"
    }
   },
   "source": [
    "![](files/images/train.svg)"
   ]
  },
  {
   "cell_type": "markdown",
   "metadata": {
    "slideshow": {
     "slide_type": "subslide"
    }
   },
   "source": [
    "Y listo! Ya tenemos nuestra recta predictora, la usamos para nuevos casos:"
   ]
  },
  {
   "cell_type": "markdown",
   "metadata": {
    "slideshow": {
     "slide_type": "fragment"
    }
   },
   "source": [
    "![](files/images/predict.svg)"
   ]
  },
  {
   "cell_type": "markdown",
   "metadata": {
    "slideshow": {
     "slide_type": "subslide"
    }
   },
   "source": [
    "**Solo** con esa función, **sin** los datos que usamos, podemos ir a predecir salidas en nuevos casos.\n",
    "\n",
    "La salida de nuestro modelo es **la función que permite predecir**."
   ]
  },
  {
   "cell_type": "markdown",
   "metadata": {
    "slideshow": {
     "slide_type": "fragment"
    }
   },
   "source": [
    "![](files/images/line_function.svg)"
   ]
  },
  {
   "cell_type": "markdown",
   "metadata": {
    "slideshow": {
     "slide_type": "fragment"
    }
   },
   "source": [
    "Y el **conocimiento de cómo predecir** quedó almacenado en los **parámetros**.\n",
    "\n",
    "El **2** y **3** de la función encontrada."
   ]
  },
  {
   "cell_type": "markdown",
   "metadata": {
    "slideshow": {
     "slide_type": "subslide"
    }
   },
   "source": [
    "# Pero cómo funciona???? Entrenamiento "
   ]
  },
  {
   "cell_type": "markdown",
   "metadata": {
    "slideshow": {
     "slide_type": "fragment"
    }
   },
   "source": [
    "Dijimos que probamos rectas con distintos parámetros, hasta que alguna ande bien.\n",
    "\n",
    "Probamos al azar?? Es una locura.\n",
    "\n",
    "Claramente tiene que haber una forma **inteligente** de probar valores para los **parámetros**."
   ]
  },
  {
   "cell_type": "markdown",
   "metadata": {
    "slideshow": {
     "slide_type": "subslide"
    }
   },
   "source": [
    "# Función de error"
   ]
  },
  {
   "cell_type": "markdown",
   "metadata": {
    "slideshow": {
     "slide_type": "fragment"
    }
   },
   "source": [
    "Asumamos que queremos probar funciones con esta estructura:"
   ]
  },
  {
   "cell_type": "markdown",
   "metadata": {
    "slideshow": {
     "slide_type": "fragment"
    }
   },
   "source": [
    "![](files/images/simple_function.svg)"
   ]
  },
  {
   "cell_type": "markdown",
   "metadata": {
    "slideshow": {
     "slide_type": "fragment"
    }
   },
   "source": [
    "**P1** es un **parámetro**. Es lo que queremos encontrar, para que nuestra función funcione :)"
   ]
  },
  {
   "cell_type": "markdown",
   "metadata": {
    "slideshow": {
     "slide_type": "subslide"
    }
   },
   "source": [
    "La función **anda bien** si decidimos que **p1=0**?\n",
    "\n",
    "(con nuestros datos y la métrica que elegimos!)"
   ]
  },
  {
   "cell_type": "code",
   "execution_count": 1,
   "metadata": {
    "slideshow": {
     "slide_type": "subslide"
    }
   },
   "outputs": [],
   "source": [
    "def calcular_error(p1):\n",
    "    # nuestros datos conocidos, una columna de entrada y otra de salida\n",
    "    dataset = (\n",
    "        (1.00, 0.52),\n",
    "        (5.00, 2.43),\n",
    "        (6.00, 3.01),\n",
    "        (3.00, 1.70),\n",
    "        (2.00, 1.05),\n",
    "        (8.00, 3.99),\n",
    "    )\n",
    "\n",
    "    # la función que vamos a probar\n",
    "    def f(x):\n",
    "        return p1 * x\n",
    "\n",
    "    # medimos qué tan bien anda la función\n",
    "    error = 0\n",
    "    for entrada, salida in dataset:\n",
    "        error_ejemplo = abs(f(entrada) - salida)\n",
    "        error += error_ejemplo\n",
    "    \n",
    "    # devolvemos esa medida\n",
    "    return error"
   ]
  },
  {
   "cell_type": "code",
   "execution_count": 2,
   "metadata": {
    "scrolled": true,
    "slideshow": {
     "slide_type": "subslide"
    }
   },
   "outputs": [
    {
     "name": "stdout",
     "output_type": "stream",
     "text": [
      "error con p1=0:    12.700000000000001\n",
      "error con p1=100:  2487.3\n",
      "error con p1=2:    37.3\n",
      "error con p1=0.5:  0.35999999999999943\n"
     ]
    }
   ],
   "source": [
    "print(\"error con p1=0:   \", calcular_error(0))\n",
    "print(\"error con p1=100: \", calcular_error(100))\n",
    "print(\"error con p1=2:   \", calcular_error(2))\n",
    "print(\"error con p1=0.5: \", calcular_error(0.5))"
   ]
  },
  {
   "cell_type": "markdown",
   "metadata": {
    "slideshow": {
     "slide_type": "subslide"
    }
   },
   "source": [
    "![](files/images/error_function.svg)"
   ]
  },
  {
   "cell_type": "markdown",
   "metadata": {
    "slideshow": {
     "slide_type": "subslide"
    }
   },
   "source": [
    "# Descenso por el gradiente"
   ]
  },
  {
   "cell_type": "markdown",
   "metadata": {
    "slideshow": {
     "slide_type": "fragment"
    }
   },
   "source": [
    "La función **calcular_error** es una función matemática. Se le pueden calcular derivadas!\n",
    "\n",
    "No será simple, pero poderse, se puede!\n",
    "\n",
    "Y eso nos permite \"descender\" usando la derivada como indicador de en qué dirección ir hacia abajo (o sea, hacia menos error)."
   ]
  },
  {
   "cell_type": "code",
   "execution_count": 3,
   "metadata": {
    "slideshow": {
     "slide_type": "subslide"
    }
   },
   "outputs": [],
   "source": [
    "def descenso_gradiente():\n",
    "    # iniciamos con un valor de p1 al azar\n",
    "    p1 = random.random()\n",
    "    \n",
    "    # y vamos probando valores inteligentemente\n",
    "    while seguir_probando:\n",
    "        # cuánto le erramos con el valor actual?\n",
    "        error = calcular_error(p1)\n",
    "        \n",
    "        if error < nivel_muy_bueno or demasiadas_iteraciones:\n",
    "            # si ya tenemos un valor de p1 muy bueno, cortamos\n",
    "            # si se nos acabó el tiempo, cortamos\n",
    "            return p1\n",
    "        else:\n",
    "            # si no, derivamos y nos fijamos la inclinación en p1\n",
    "            cambio = derivada_de_calcular_error_evaluada_en(p1)\n",
    "            # variamos p1 de acuerdo a lo que diga esa inclinación!\n",
    "            p1 += cambio"
   ]
  },
  {
   "cell_type": "markdown",
   "metadata": {
    "slideshow": {
     "slide_type": "subslide"
    }
   },
   "source": [
    "![](files/images/gradient_descent.svg)"
   ]
  },
  {
   "cell_type": "markdown",
   "metadata": {
    "slideshow": {
     "slide_type": "subslide"
    }
   },
   "source": [
    "Al terminar, esto nos encuentra un valor para **p1** que es lo **suficientemente bueno**.\n",
    "\n",
    "Qué tan bueno? Nosotros decidimos, podemos regular qué **tantas iteraciones** hacer, y qué **tanto error** podemos soportar."
   ]
  },
  {
   "cell_type": "markdown",
   "metadata": {
    "slideshow": {
     "slide_type": "subslide"
    }
   },
   "source": [
    "# MAGIA!"
   ]
  },
  {
   "cell_type": "markdown",
   "metadata": {
    "slideshow": {
     "slide_type": "fragment"
    }
   },
   "source": [
    "Esta misma técnica se puede, en teoría, usar para aproximar **cualquier función** que queramos. \n",
    "\n",
    "Solo tenemos que:\n",
    "\n",
    "* Armar el \"molde\" de la función\n",
    "* Elegir los parámetros\n",
    "* Hacer descenso por el gradiente de esos parámetros"
   ]
  },
  {
   "cell_type": "markdown",
   "metadata": {
    "slideshow": {
     "slide_type": "subslide"
    }
   },
   "source": [
    "Preguntas frecuentes:\n",
    "\n",
    "* Si no se qué estructura tiene mi función?  ->  hasta que no lo sepas, no podés aplicar esto. Podés probar, etc.\n",
    "* Y si tengo **muchos parmámetros**?  ->  derivadas parciales, yay!\n",
    "* Y no es muy lento?  ->  sí, yay! (se puede vectorizar, gpu, etc)\n",
    "* Hasta cuándo sigo?  ->  depende del problema\n",
    "* Qué tanto error permito?  ->  depende del problema\n",
    "* Y si mi función no se puede derivar??  ->  Hay soluciones complejas que no vamos a ver"
   ]
  },
  {
   "cell_type": "markdown",
   "metadata": {
    "slideshow": {
     "slide_type": "subslide"
    }
   },
   "source": [
    "Es bueno saber que descenso por el gradiente tiene **variantes**:\n",
    "\n",
    "* Batch\n",
    "* Nesterov momentum\n",
    "* Adam\n",
    "\n",
    "..."
   ]
  },
  {
   "cell_type": "markdown",
   "metadata": {
    "slideshow": {
     "slide_type": "subslide"
    }
   },
   "source": [
    "# Learning rate"
   ]
  },
  {
   "cell_type": "markdown",
   "metadata": {
    "slideshow": {
     "slide_type": "fragment"
    }
   },
   "source": [
    "En esta parte dijimos \"según lo que diga la derivada, movemos p1 para la derecha o la izquierda\":\n",
    "\n",
    "```python\n",
    "# ...\n",
    "# derivamos y nos fijamos la inclinación en p1\n",
    "cambio = derivada_de_calcular_error_evaluada_en(p1)\n",
    "# variamos p1 de acuerdo a lo que diga esa inclinación!\n",
    "p1 += cambio\n",
    "```"
   ]
  },
  {
   "cell_type": "markdown",
   "metadata": {
    "slideshow": {
     "slide_type": "fragment"
    }
   },
   "source": [
    "**Qué tanto** movemos p1??? 0.1? 0.001? 100?"
   ]
  },
  {
   "cell_type": "markdown",
   "metadata": {
    "slideshow": {
     "slide_type": "subslide"
    }
   },
   "source": [
    "En el descenso por el gradiente, se hace algo extra que antes no contamos:\n",
    "\n",
    "```python\n",
    "# ...\n",
    "# derivamos y nos fijamos la inclinación en p1\n",
    "valor_derivada = derivada_de_calcular_error_evaluada_en(p1)\n",
    "# decidimos cuánto mover p1\n",
    "cambio = valor_derivada * learning_rate\n",
    "# variamos p1 de acuerdo a lo que diga ese cambio!\n",
    "p1 += cambio\n",
    "```"
   ]
  },
  {
   "cell_type": "markdown",
   "metadata": {
    "slideshow": {
     "slide_type": "fragment"
    }
   },
   "source": [
    "Entonces, el **learning rate** decide qué tan grandes son los saltos que vamos haciendo de p1."
   ]
  },
  {
   "cell_type": "markdown",
   "metadata": {
    "slideshow": {
     "slide_type": "subslide"
    }
   },
   "source": [
    "Y entonces... cuánto le ponemos de valor al learning rate??? 0.1? 0.001? 100?"
   ]
  },
  {
   "cell_type": "markdown",
   "metadata": {
    "slideshow": {
     "slide_type": "fragment"
    }
   },
   "source": [
    "Depende del problema! Se **prueba y evalúa**.\n",
    "\n",
    "Las libs suelen tener defaults razonables, pero no es raro tener que cambiarlo.\n",
    "\n",
    "Es importante saber **cómo darse cuenta** si es muy chico o muy grande."
   ]
  },
  {
   "cell_type": "markdown",
   "metadata": {
    "slideshow": {
     "slide_type": "subslide"
    }
   },
   "source": [
    "Learning rate muy **chico**:"
   ]
  },
  {
   "cell_type": "markdown",
   "metadata": {
    "slideshow": {
     "slide_type": "fragment"
    }
   },
   "source": [
    "![](files/images/learning_rate_too_small.svg)"
   ]
  },
  {
   "cell_type": "markdown",
   "metadata": {
    "slideshow": {
     "slide_type": "fragment"
    }
   },
   "source": [
    "Demorar muchísimo tiempo, en cada iteración **va mejorando pero muy poco**."
   ]
  },
  {
   "cell_type": "markdown",
   "metadata": {
    "slideshow": {
     "slide_type": "subslide"
    }
   },
   "source": [
    "Learning rate muy **grande**:"
   ]
  },
  {
   "cell_type": "markdown",
   "metadata": {
    "slideshow": {
     "slide_type": "fragment"
    }
   },
   "source": [
    "![](files/images/learning_rate_too_big.svg)"
   ]
  },
  {
   "cell_type": "markdown",
   "metadata": {
    "slideshow": {
     "slide_type": "fragment"
    }
   },
   "source": [
    "No converge, **va empeorando** con el tiempo."
   ]
  },
  {
   "cell_type": "markdown",
   "metadata": {
    "slideshow": {
     "slide_type": "subslide"
    }
   },
   "source": [
    "# Qué es regresión lineal entonces?"
   ]
  },
  {
   "cell_type": "markdown",
   "metadata": {
    "slideshow": {
     "slide_type": "fragment"
    }
   },
   "source": [
    "Es hacer una **regresión**, de una **función con forma de recta**.\n",
    "\n",
    "Para ello necesitamos **encontrar valores** para los **parámetros** de nuestra recta.\n",
    "\n",
    "**Descenso por el gradiente** nos encuentra los valores para esos parámetros (no es la única forma! hay otras que no vemos)."
   ]
  }
 ],
 "metadata": {
  "celltoolbar": "Slideshow",
  "kernelspec": {
   "display_name": "Python 3 (ipykernel)",
   "language": "python",
   "name": "python3"
  },
  "language_info": {
   "codemirror_mode": {
    "name": "ipython",
    "version": 3
   },
   "file_extension": ".py",
   "mimetype": "text/x-python",
   "name": "python",
   "nbconvert_exporter": "python",
   "pygments_lexer": "ipython3",
   "version": "3.8.10"
  }
 },
 "nbformat": 4,
 "nbformat_minor": 1
}
