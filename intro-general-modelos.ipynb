{
 "cells": [
  {
   "cell_type": "markdown",
   "metadata": {
    "slideshow": {
     "slide_type": "slide"
    }
   },
   "source": [
    "Machine Learning\n",
    "================"
   ]
  },
  {
   "cell_type": "markdown",
   "metadata": {
    "slideshow": {
     "slide_type": "subslide"
    }
   },
   "source": [
    "Qué es?\n",
    "======="
   ]
  },
  {
   "cell_type": "markdown",
   "metadata": {
    "slideshow": {
     "slide_type": "fragment"
    }
   },
   "source": [
    "- Rama de la inteligencia artificial\n",
    "- Muy en auge actualmente, muy útil\n",
    "- Programas que \"aprenden desde los datos\"\n",
    "- Cercana a la estadística y métodos matemáticos"
   ]
  },
  {
   "cell_type": "markdown",
   "metadata": {
    "slideshow": {
     "slide_type": "subslide"
    }
   },
   "source": [
    "Entrenando modelos\n",
    "================="
   ]
  },
  {
   "cell_type": "markdown",
   "metadata": {
    "slideshow": {
     "slide_type": "fragment"
    }
   },
   "source": [
    "Hay muchas diferencias y salvedades que ya vamos a aprender, pero en general:\n",
    "\n",
    "En ML, queremos **entrenar** un **modelo** para que luego (ya habiendo aprendido) sepa hacer bien una **tarea**."
   ]
  },
  {
   "cell_type": "markdown",
   "metadata": {
    "slideshow": {
     "slide_type": "slide"
    }
   },
   "source": [
    "Qué es un \"modelo\"?\n",
    "================="
   ]
  },
  {
   "cell_type": "markdown",
   "metadata": {
    "slideshow": {
     "slide_type": "fragment"
    }
   },
   "source": [
    "Podemos pensarlo como un **programa con datos** guardados dentro."
   ]
  },
  {
   "cell_type": "markdown",
   "metadata": {
    "slideshow": {
     "slide_type": "fragment"
    }
   },
   "source": [
    "Cómo funciona ese programa, y qué datos necesita tener dentro para hacer la tarea, varían mucho de acuerdo al tipo de modelo que usemos (redes neuronales, árboles de decisión, k-neighbors, etc)."
   ]
  },
  {
   "cell_type": "markdown",
   "metadata": {
    "slideshow": {
     "slide_type": "slide"
    }
   },
   "source": [
    "Cómo aprenden los modelos? \n",
    "======================================"
   ]
  },
  {
   "cell_type": "markdown",
   "metadata": {
    "slideshow": {
     "slide_type": "fragment"
    }
   },
   "source": [
    "También depende mucho de cada tipo de modelo!"
   ]
  },
  {
   "cell_type": "markdown",
   "metadata": {
    "slideshow": {
     "slide_type": "fragment"
    }
   },
   "source": [
    "Pero en general: la mayoría tiene un paso de **\"entrenamiento\"**, donde le damos datos reales al modelo para que aprenda.\n",
    "\n",
    "Y luego de entrenar, el modelo sabe hacer la tarea que queríamos, para **nuevos casos**."
   ]
  },
  {
   "cell_type": "markdown",
   "metadata": {
    "slideshow": {
     "slide_type": "subslide"
    }
   },
   "source": [
    "Aprendizaje no supervisado\n",
    "=========================="
   ]
  },
  {
   "cell_type": "markdown",
   "metadata": {
    "slideshow": {
     "slide_type": "fragment"
    }
   },
   "source": [
    "Idea principal: reconocer patrones o **agrupaciones** en los datos.\n",
    "\n",
    "No interpreta los grupos, eso nos toca a nosotros."
   ]
  },
  {
   "cell_type": "markdown",
   "metadata": {
    "slideshow": {
     "slide_type": "subslide"
    }
   },
   "source": [
    "Ejemplos:\n",
    "\n",
    "- Qué tipos de clientes tengo en base a sus compras?\n",
    "- Qué transacciones de mi marketplace son anómalas o raras?"
   ]
  },
  {
   "cell_type": "markdown",
   "metadata": {
    "slideshow": {
     "slide_type": "subslide"
    }
   },
   "source": [
    "![](files/images/unsupervised_learning_1.svg)"
   ]
  },
  {
   "cell_type": "markdown",
   "metadata": {
    "slideshow": {
     "slide_type": "subslide"
    }
   },
   "source": [
    "![](files/images/unsupervised_learning_2.svg)"
   ]
  },
  {
   "cell_type": "markdown",
   "metadata": {
    "slideshow": {
     "slide_type": "subslide"
    }
   },
   "source": [
    "Aprendizaje supervisado\n",
    "======================="
   ]
  },
  {
   "cell_type": "markdown",
   "metadata": {
    "slideshow": {
     "slide_type": "fragment"
    }
   },
   "source": [
    "Idea principal: encontrar una **función** que explique los datos de salida a partir de los datos de entrada.\n",
    "\n",
    "Nosotros tenemos **ambos** grupos de datos."
   ]
  },
  {
   "cell_type": "markdown",
   "metadata": {
    "slideshow": {
     "slide_type": "subslide"
    }
   },
   "source": [
    "Ejemplos:\n",
    "\n",
    "- Cuál es el precio de una casa en base a sus características?\n",
    "- Cuánto va a subir esta acción de una empresa durante el próximo mes?\n",
    "- Qué objetos se ven en esta imagen?\n",
    "- Qué tipo de tumor es este en base a sus características?\n",
    "- Este e-mail, es spam?"
   ]
  },
  {
   "cell_type": "markdown",
   "metadata": {
    "slideshow": {
     "slide_type": "subslide"
    }
   },
   "source": [
    "![](files/images/supervised_learning_1.svg)"
   ]
  },
  {
   "cell_type": "markdown",
   "metadata": {
    "slideshow": {
     "slide_type": "subslide"
    }
   },
   "source": [
    "Aprendizaje supervisado - Regresión\n",
    "==================================="
   ]
  },
  {
   "cell_type": "markdown",
   "metadata": {
    "slideshow": {
     "slide_type": "fragment"
    }
   },
   "source": [
    "Una función corriente y moliente. La salida es un número."
   ]
  },
  {
   "cell_type": "markdown",
   "metadata": {
    "slideshow": {
     "slide_type": "subslide"
    }
   },
   "source": [
    "Ejemplos:\n",
    "\n",
    "- Cuál es el precio de una casa en base a sus características?\n",
    "- Cuánto va a subir esta acción de una empresa durante el próximo mes?"
   ]
  },
  {
   "cell_type": "markdown",
   "metadata": {
    "slideshow": {
     "slide_type": "subslide"
    }
   },
   "source": [
    "![](files/images/regression_1.svg)"
   ]
  },
  {
   "cell_type": "markdown",
   "metadata": {
    "slideshow": {
     "slide_type": "subslide"
    }
   },
   "source": [
    "![](files/images/regression_2.svg)"
   ]
  },
  {
   "cell_type": "markdown",
   "metadata": {
    "slideshow": {
     "slide_type": "subslide"
    }
   },
   "source": [
    "Aprendizaje supervisado - Clasificación\n",
    "======================================="
   ]
  },
  {
   "cell_type": "markdown",
   "metadata": {
    "slideshow": {
     "slide_type": "fragment"
    }
   },
   "source": [
    "Una función que devuelva **etiquetas**. No números arbitrarios."
   ]
  },
  {
   "cell_type": "markdown",
   "metadata": {
    "slideshow": {
     "slide_type": "subslide"
    }
   },
   "source": [
    "Ejemplos:\n",
    "\n",
    "- Qué objetos se ven en esta imagen?\n",
    "- Qué tipo de tumor es este en base a sus características?\n",
    "- Este e-mail, es spam?"
   ]
  },
  {
   "cell_type": "markdown",
   "metadata": {
    "slideshow": {
     "slide_type": "subslide"
    }
   },
   "source": [
    "![](files/images/clasification_1.svg)"
   ]
  },
  {
   "cell_type": "markdown",
   "metadata": {
    "slideshow": {
     "slide_type": "subslide"
    }
   },
   "source": [
    "![](files/images/clasification_2.svg)"
   ]
  },
  {
   "cell_type": "markdown",
   "metadata": {
    "slideshow": {
     "slide_type": "subslide"
    }
   },
   "source": [
    "Aprendizaje por refuerzo\n",
    "======================="
   ]
  },
  {
   "cell_type": "markdown",
   "metadata": {
    "slideshow": {
     "slide_type": "fragment"
    }
   },
   "source": [
    "Idea principal: encontrar una **función** que me permita accionar en el mundo para maximizar una meta.\n",
    "\n",
    "Nosotros tenemos un **ambiente donde experimentar** y una forma de medir los resultados."
   ]
  },
  {
   "cell_type": "markdown",
   "metadata": {
    "slideshow": {
     "slide_type": "subslide"
    }
   },
   "source": [
    "Ejemplos:\n",
    "\n",
    "- Entrenemos este robot para que sepa subir escaleras, probando en un ambiente simulado hasta que le salga.\n",
    "- Entrenemos este bot para jugar al super mario, dejándolo jugar millones de partidas."
   ]
  },
  {
   "cell_type": "markdown",
   "metadata": {
    "slideshow": {
     "slide_type": "subslide"
    }
   },
   "source": [
    "![](files/images/reinforcement_learning_1.svg)"
   ]
  },
  {
   "cell_type": "markdown",
   "metadata": {
    "slideshow": {
     "slide_type": "slide"
    }
   },
   "source": [
    "Dos grandes problemas\n",
    "===================="
   ]
  },
  {
   "cell_type": "markdown",
   "metadata": {
    "slideshow": {
     "slide_type": "subslide"
    }
   },
   "source": [
    "Problema 1: overfitting\n",
    "======================================"
   ]
  },
  {
   "cell_type": "markdown",
   "metadata": {
    "slideshow": {
     "slide_type": "fragment"
    }
   },
   "source": [
    "Qué pasa si nuestro modelo se sabe \"de memoria\" los casos que usamos para aprender, y simplemente usa esa info para devolver lo que corresponda en cada caso cuando lo probamos?\n",
    "\n",
    "Ej: se guarda una tabla por dentro, con \"inputs\" --> \"output esperado\", y cuando le pedimos una predicción, simplemente busca en esa tabla."
   ]
  },
  {
   "cell_type": "markdown",
   "metadata": {
    "slideshow": {
     "slide_type": "fragment"
    }
   },
   "source": [
    "Cómo le va a ir en otros casos que **no haya visto al entrenar**?"
   ]
  },
  {
   "cell_type": "markdown",
   "metadata": {
    "slideshow": {
     "slide_type": "subslide"
    }
   },
   "source": [
    "Decimos que ese modelo **no generaliza**. \n",
    "\n",
    "Está **sobre entrenado**. Sufre de **overfitting**."
   ]
  },
  {
   "cell_type": "markdown",
   "metadata": {
    "slideshow": {
     "slide_type": "subslide"
    }
   },
   "source": [
    "Hay muchas técnicas orientadas a evitar que los modelos hagan esto.\n",
    "\n",
    "En general, a muchas las podemos llamar **\"regularization\"**."
   ]
  },
  {
   "cell_type": "markdown",
   "metadata": {
    "slideshow": {
     "slide_type": "subslide"
    }
   },
   "source": [
    "Problema 2: underfitting\n",
    "======================================"
   ]
  },
  {
   "cell_type": "markdown",
   "metadata": {
    "slideshow": {
     "slide_type": "fragment"
    }
   },
   "source": [
    "Qué pasa si en los datos que usamos para entrenar el modelo, en 95% de los casos la respuesta correcta era \"42\"? \n",
    "\n",
    "Si un modelo simplemente funciona así: \"sin importar las entradas, devolvé 42\", está funcionando bien?"
   ]
  },
  {
   "cell_type": "markdown",
   "metadata": {
    "slideshow": {
     "slide_type": "subslide"
    }
   },
   "source": [
    "Decimos que ese modelo **generaliza demasiado**. No refleja realmente la relación entre entradas y salidas.\n",
    "\n",
    "Sufre de **underfitting**."
   ]
  },
  {
   "cell_type": "markdown",
   "metadata": {
    "slideshow": {
     "slide_type": "subslide"
    }
   },
   "source": [
    "También hay técnicas para intentar atacar este problema, aunque no hay un nombre genérico que las abarque."
   ]
  },
  {
   "cell_type": "markdown",
   "metadata": {
    "slideshow": {
     "slide_type": "slide"
    }
   },
   "source": [
    "Modelos paramétricos y no paramétricos\n",
    "======================================"
   ]
  },
  {
   "cell_type": "markdown",
   "metadata": {
    "slideshow": {
     "slide_type": "fragment"
    }
   },
   "source": [
    "Hablando mal y pronto:\n",
    "\n",
    "* **Modelo paramétrico**: arma una f() con algunos parámetros, y eso **solo** basta para hacer predicciones.\n",
    "\n",
    "* **Modelo no paramétrico**: tiene una f() que consulta los datos. Para predecir hace falta la f() **más** los datos."
   ]
  },
  {
   "cell_type": "markdown",
   "metadata": {
    "slideshow": {
     "slide_type": "subslide"
    }
   },
   "source": [
    "![](files/images/parametricos_vs_no_parametricos.svg)"
   ]
  },
  {
   "cell_type": "markdown",
   "metadata": {
    "slideshow": {
     "slide_type": "slide"
    }
   },
   "source": [
    "El proceso de Machine Learning\n",
    "======================================================="
   ]
  },
  {
   "cell_type": "markdown",
   "metadata": {
    "slideshow": {
     "slide_type": "subslide"
    }
   },
   "source": [
    "![](files/images/ml_process.svg)"
   ]
  }
 ],
 "metadata": {
  "celltoolbar": "Slideshow",
  "hide_input": false,
  "kernelspec": {
   "display_name": "Python 3 (ipykernel)",
   "language": "python",
   "name": "python3"
  },
  "language_info": {
   "codemirror_mode": {
    "name": "ipython",
    "version": 3
   },
   "file_extension": ".py",
   "mimetype": "text/x-python",
   "name": "python",
   "nbconvert_exporter": "python",
   "pygments_lexer": "ipython3",
   "version": "3.8.10"
  },
  "toc": {
   "base_numbering": 1,
   "nav_menu": {},
   "number_sections": false,
   "sideBar": true,
   "skip_h1_title": false,
   "title_cell": "Table of Contents",
   "title_sidebar": "Contents",
   "toc_cell": false,
   "toc_position": {},
   "toc_section_display": true,
   "toc_window_display": false
  }
 },
 "nbformat": 4,
 "nbformat_minor": 1
}
