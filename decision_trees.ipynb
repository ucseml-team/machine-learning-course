{
 "cells": [
  {
   "cell_type": "markdown",
   "metadata": {
    "slideshow": {
     "slide_type": "slide"
    }
   },
   "source": [
    "Árboles de decisión\n",
    "================"
   ]
  },
  {
   "cell_type": "markdown",
   "metadata": {
    "slideshow": {
     "slide_type": "fragment"
    }
   },
   "source": [
    "- Uno de los métodos más utilizados.\n",
    "\n",
    "- Fáciles y rápidos de construir.\n",
    "\n",
    "- Modelo no-paramétrico: vamos a definir un montón de hiper-parámetros pero el modelo en sí no va a tener pesos ni nada de eso.\n",
    "\n",
    "- **White-box model**: permiten inferir conocimiento de qué es lo que está pasando.\n",
    "\n",
    "- El proceso de construcción del árbol realiza un filtrado de variables (estilo embebbed).\n",
    "\n",
    "- El árbol puede ser expresado como un conjunto de reglas \"if-then\".\n",
    "\n",
    "- Podemos utilizarlos para clasificación y regresión."
   ]
  },
  {
   "cell_type": "markdown",
   "metadata": {
    "slideshow": {
     "slide_type": "fragment"
    }
   },
   "source": [
    "(Inicialmente nos vamos a concentrar en problemas de clasificación)"
   ]
  },
  {
   "cell_type": "markdown",
   "metadata": {
    "slideshow": {
     "slide_type": "subslide"
    }
   },
   "source": [
    "# Representación del árbol"
   ]
  },
  {
   "cell_type": "markdown",
   "metadata": {
    "slideshow": {
     "slide_type": "fragment"
    }
   },
   "source": [
    "- Se compone de nodos y aristas entre los mismos\n",
    "- Un nodo puede ser de tipo hoja o de decisión\n",
    "- Si se trata de un nodo de decisión, entonces especificará una condición/prueba contra algún atributo (variable de entrada)\n",
    "- Un nodo de decisión tendrá tantas aristas salientes como posibles valores tenga el atributo utilizado en la condición que codifica\n",
    "- Cada nodo hoja va a tener una etiqueta o clase determinada"
   ]
  },
  {
   "cell_type": "markdown",
   "metadata": {
    "ExecuteTime": {
     "end_time": "2020-04-27T18:57:00.414248Z",
     "start_time": "2020-04-27T18:57:00.291065Z"
    },
    "hide_input": true,
    "slideshow": {
     "slide_type": "subslide"
    }
   },
   "source": [
    "![](files/images/iris.PNG)"
   ]
  },
  {
   "cell_type": "markdown",
   "metadata": {
    "slideshow": {
     "slide_type": "subslide"
    }
   },
   "source": [
    "# Ejemplo: ayudando a fisa a encontrar una estrella"
   ]
  },
  {
   "cell_type": "code",
   "execution_count": 1,
   "metadata": {
    "ExecuteTime": {
     "end_time": "2021-04-03T13:22:47.887876Z",
     "start_time": "2021-04-03T13:22:46.253716Z"
    },
    "slideshow": {
     "slide_type": "fragment"
    }
   },
   "outputs": [
    {
     "data": {
      "text/html": [
       "<div>\n",
       "<style scoped>\n",
       "    .dataframe tbody tr th:only-of-type {\n",
       "        vertical-align: middle;\n",
       "    }\n",
       "\n",
       "    .dataframe tbody tr th {\n",
       "        vertical-align: top;\n",
       "    }\n",
       "\n",
       "    .dataframe thead th {\n",
       "        text-align: right;\n",
       "    }\n",
       "</style>\n",
       "<table border=\"1\" class=\"dataframe\">\n",
       "  <thead>\n",
       "    <tr style=\"text-align: right;\">\n",
       "      <th></th>\n",
       "      <th>dia</th>\n",
       "      <th>nubosidad</th>\n",
       "      <th>temperatura</th>\n",
       "      <th>humedad</th>\n",
       "      <th>viento</th>\n",
       "      <th>estrellas_visibles</th>\n",
       "    </tr>\n",
       "  </thead>\n",
       "  <tbody>\n",
       "    <tr>\n",
       "      <th>0</th>\n",
       "      <td>1</td>\n",
       "      <td>soleado</td>\n",
       "      <td>caluroso</td>\n",
       "      <td>alta</td>\n",
       "      <td>leve</td>\n",
       "      <td>no</td>\n",
       "    </tr>\n",
       "    <tr>\n",
       "      <th>1</th>\n",
       "      <td>2</td>\n",
       "      <td>soleado</td>\n",
       "      <td>caluroso</td>\n",
       "      <td>alta</td>\n",
       "      <td>fuerte</td>\n",
       "      <td>no</td>\n",
       "    </tr>\n",
       "    <tr>\n",
       "      <th>2</th>\n",
       "      <td>3</td>\n",
       "      <td>nublado</td>\n",
       "      <td>caluroso</td>\n",
       "      <td>alta</td>\n",
       "      <td>leve</td>\n",
       "      <td>si</td>\n",
       "    </tr>\n",
       "    <tr>\n",
       "      <th>3</th>\n",
       "      <td>4</td>\n",
       "      <td>lluvia</td>\n",
       "      <td>templado</td>\n",
       "      <td>alta</td>\n",
       "      <td>leve</td>\n",
       "      <td>si</td>\n",
       "    </tr>\n",
       "    <tr>\n",
       "      <th>4</th>\n",
       "      <td>5</td>\n",
       "      <td>lluvia</td>\n",
       "      <td>frio</td>\n",
       "      <td>normal</td>\n",
       "      <td>leve</td>\n",
       "      <td>si</td>\n",
       "    </tr>\n",
       "    <tr>\n",
       "      <th>5</th>\n",
       "      <td>6</td>\n",
       "      <td>lluvia</td>\n",
       "      <td>frio</td>\n",
       "      <td>normal</td>\n",
       "      <td>fuerte</td>\n",
       "      <td>no</td>\n",
       "    </tr>\n",
       "    <tr>\n",
       "      <th>6</th>\n",
       "      <td>7</td>\n",
       "      <td>nublado</td>\n",
       "      <td>frio</td>\n",
       "      <td>normal</td>\n",
       "      <td>fuerte</td>\n",
       "      <td>si</td>\n",
       "    </tr>\n",
       "    <tr>\n",
       "      <th>7</th>\n",
       "      <td>8</td>\n",
       "      <td>soleado</td>\n",
       "      <td>templado</td>\n",
       "      <td>alta</td>\n",
       "      <td>leve</td>\n",
       "      <td>no</td>\n",
       "    </tr>\n",
       "    <tr>\n",
       "      <th>8</th>\n",
       "      <td>9</td>\n",
       "      <td>soleado</td>\n",
       "      <td>frio</td>\n",
       "      <td>normal</td>\n",
       "      <td>leve</td>\n",
       "      <td>si</td>\n",
       "    </tr>\n",
       "    <tr>\n",
       "      <th>9</th>\n",
       "      <td>10</td>\n",
       "      <td>lluvia</td>\n",
       "      <td>templado</td>\n",
       "      <td>normal</td>\n",
       "      <td>leve</td>\n",
       "      <td>si</td>\n",
       "    </tr>\n",
       "    <tr>\n",
       "      <th>10</th>\n",
       "      <td>11</td>\n",
       "      <td>soleado</td>\n",
       "      <td>templado</td>\n",
       "      <td>normal</td>\n",
       "      <td>fuerte</td>\n",
       "      <td>si</td>\n",
       "    </tr>\n",
       "    <tr>\n",
       "      <th>11</th>\n",
       "      <td>12</td>\n",
       "      <td>nublado</td>\n",
       "      <td>templado</td>\n",
       "      <td>alta</td>\n",
       "      <td>fuerte</td>\n",
       "      <td>si</td>\n",
       "    </tr>\n",
       "    <tr>\n",
       "      <th>12</th>\n",
       "      <td>13</td>\n",
       "      <td>nublado</td>\n",
       "      <td>caluroso</td>\n",
       "      <td>normal</td>\n",
       "      <td>leve</td>\n",
       "      <td>si</td>\n",
       "    </tr>\n",
       "    <tr>\n",
       "      <th>13</th>\n",
       "      <td>14</td>\n",
       "      <td>lluvia</td>\n",
       "      <td>templado</td>\n",
       "      <td>alta</td>\n",
       "      <td>fuerte</td>\n",
       "      <td>no</td>\n",
       "    </tr>\n",
       "  </tbody>\n",
       "</table>\n",
       "</div>"
      ],
      "text/plain": [
       "    dia nubosidad temperatura humedad  viento estrellas_visibles\n",
       "0     1   soleado    caluroso    alta    leve                 no\n",
       "1     2   soleado    caluroso    alta  fuerte                 no\n",
       "2     3   nublado    caluroso    alta    leve                 si\n",
       "3     4    lluvia    templado    alta    leve                 si\n",
       "4     5    lluvia        frio  normal    leve                 si\n",
       "5     6    lluvia        frio  normal  fuerte                 no\n",
       "6     7   nublado        frio  normal  fuerte                 si\n",
       "7     8   soleado    templado    alta    leve                 no\n",
       "8     9   soleado        frio  normal    leve                 si\n",
       "9    10    lluvia    templado  normal    leve                 si\n",
       "10   11   soleado    templado  normal  fuerte                 si\n",
       "11   12   nublado    templado    alta  fuerte                 si\n",
       "12   13   nublado    caluroso  normal    leve                 si\n",
       "13   14    lluvia    templado    alta  fuerte                 no"
      ]
     },
     "execution_count": 1,
     "metadata": {},
     "output_type": "execute_result"
    }
   ],
   "source": [
    "import pandas as pd\n",
    "df = pd.read_csv('data/astronomia.csv', sep=';')\n",
    "df"
   ]
  },
  {
   "cell_type": "markdown",
   "metadata": {
    "slideshow": {
     "slide_type": "subslide"
    }
   },
   "source": [
    "![](files/images/decision_tree_1.PNG)"
   ]
  },
  {
   "cell_type": "markdown",
   "metadata": {
    "slideshow": {
     "slide_type": "fragment"
    }
   },
   "source": [
    "### ¿Cómo clasificamos la siguiente instancia?:\n",
    "\n",
    "nubosidad = soleado, temperatura = alta, humedad = alta, viento = fuerte"
   ]
  },
  {
   "cell_type": "markdown",
   "metadata": {
    "slideshow": {
     "slide_type": "subslide"
    }
   },
   "source": [
    "# Pero, ¿árbol o conjunto de reglas?"
   ]
  },
  {
   "cell_type": "markdown",
   "metadata": {
    "slideshow": {
     "slide_type": "fragment"
    }
   },
   "source": [
    "** En realidad un árbol es una disyunción de conjunciones! **"
   ]
  },
  {
   "cell_type": "markdown",
   "metadata": {
    "slideshow": {
     "slide_type": "fragment"
    }
   },
   "source": [
    "- Un camino del árbol es una ** conjunción** de pruebas sobre distintos atributos\n",
    "\n",
    "- El árbol es una ** disyunción ** de esas conjunciones"
   ]
  },
  {
   "cell_type": "markdown",
   "metadata": {
    "slideshow": {
     "slide_type": "fragment"
    }
   },
   "source": [
    "## Ergo, un árbol es un conjunto de reglas:"
   ]
  },
  {
   "cell_type": "markdown",
   "metadata": {
    "slideshow": {
     "slide_type": "fragment"
    }
   },
   "source": [
    "(nubosidad=soleado AND humedad=normal) OR (nubosidad=nublado) OR (nubosidad=lluvia AND viento=leve)"
   ]
  },
  {
   "cell_type": "markdown",
   "metadata": {
    "slideshow": {
     "slide_type": "subslide"
    }
   },
   "source": [
    "# Conjunto completo de reglas"
   ]
  },
  {
   "cell_type": "markdown",
   "metadata": {
    "slideshow": {
     "slide_type": "fragment"
    }
   },
   "source": [
    "- R1: Si (nubosidad=soleado) Y (humedad=alta) entonces estrellas_visibles=No\n",
    "- R2: Si (nubosidad=soleado) Y (humedad=normal) entonces estrellas_visibles=Yes\n",
    "- R3: Si (nubosidad=nublado) entonces estrellas_visibles=Yes\n",
    "- R4: Si (nubosidad=lluvia) Y (viento=fuerte) entonces estrellas_visibles=No\n",
    "- R5: Si (nubosidad=lluvia) Y (viento=leve) entonces estrellas_visibles=Yes"
   ]
  },
  {
   "cell_type": "markdown",
   "metadata": {
    "slideshow": {
     "slide_type": "subslide"
    }
   },
   "source": [
    "# Aprendiendo un árbol ..."
   ]
  },
  {
   "cell_type": "markdown",
   "metadata": {
    "slideshow": {
     "slide_type": "fragment"
    }
   },
   "source": [
    "Existen muchos algoritmos distintos (CLS, ID3, C4.5, ID4, ID5, C4.8, C5.0)"
   ]
  },
  {
   "cell_type": "markdown",
   "metadata": {
    "slideshow": {
     "slide_type": "subslide"
    }
   },
   "source": [
    "# Algoritmo básico: ID3 (Iterative Dicotomiser)"
   ]
  },
  {
   "cell_type": "markdown",
   "metadata": {
    "slideshow": {
     "slide_type": "fragment"
    }
   },
   "source": [
    "- Búsqueda voraz por el espacio de todos los árboles de clasificación posibles\n",
    "- Enfoque top-down (el árbol se constuye desde la raíz hacia las hojas)\n",
    "- Para cada nodo se pregunta: qué atributo debería ser utilizado en este momento?\n",
    "- Crea una rama por cada valor posible de ese atributo\n",
    "- Se repite el proceso sacando del conjunto de atributos los que ya se utilizaron anteriormente en esa rama\n",
    "- Termina cuando todas las instancias pertenecen a la misma clase o todos los atributos fueron utilizados\n",
    "- Se etiqueta los nodos hoja usando la mayoría de las instancias que caen dentro de ese camino"
   ]
  },
  {
   "cell_type": "code",
   "execution_count": 2,
   "metadata": {
    "ExecuteTime": {
     "end_time": "2021-04-03T13:22:47.905007Z",
     "start_time": "2021-04-03T13:22:47.890864Z"
    },
    "slideshow": {
     "slide_type": "subslide"
    }
   },
   "outputs": [
    {
     "data": {
      "text/html": [
       "<div>\n",
       "<style scoped>\n",
       "    .dataframe tbody tr th:only-of-type {\n",
       "        vertical-align: middle;\n",
       "    }\n",
       "\n",
       "    .dataframe tbody tr th {\n",
       "        vertical-align: top;\n",
       "    }\n",
       "\n",
       "    .dataframe thead th {\n",
       "        text-align: right;\n",
       "    }\n",
       "</style>\n",
       "<table border=\"1\" class=\"dataframe\">\n",
       "  <thead>\n",
       "    <tr style=\"text-align: right;\">\n",
       "      <th></th>\n",
       "      <th>dia</th>\n",
       "      <th>nubosidad</th>\n",
       "      <th>temperatura</th>\n",
       "      <th>humedad</th>\n",
       "      <th>viento</th>\n",
       "      <th>estrellas_visibles</th>\n",
       "    </tr>\n",
       "  </thead>\n",
       "  <tbody>\n",
       "    <tr>\n",
       "      <th>0</th>\n",
       "      <td>1</td>\n",
       "      <td>soleado</td>\n",
       "      <td>caluroso</td>\n",
       "      <td>alta</td>\n",
       "      <td>leve</td>\n",
       "      <td>no</td>\n",
       "    </tr>\n",
       "    <tr>\n",
       "      <th>1</th>\n",
       "      <td>2</td>\n",
       "      <td>soleado</td>\n",
       "      <td>caluroso</td>\n",
       "      <td>alta</td>\n",
       "      <td>fuerte</td>\n",
       "      <td>no</td>\n",
       "    </tr>\n",
       "    <tr>\n",
       "      <th>2</th>\n",
       "      <td>3</td>\n",
       "      <td>nublado</td>\n",
       "      <td>caluroso</td>\n",
       "      <td>alta</td>\n",
       "      <td>leve</td>\n",
       "      <td>si</td>\n",
       "    </tr>\n",
       "    <tr>\n",
       "      <th>3</th>\n",
       "      <td>4</td>\n",
       "      <td>lluvia</td>\n",
       "      <td>templado</td>\n",
       "      <td>alta</td>\n",
       "      <td>leve</td>\n",
       "      <td>si</td>\n",
       "    </tr>\n",
       "    <tr>\n",
       "      <th>4</th>\n",
       "      <td>5</td>\n",
       "      <td>lluvia</td>\n",
       "      <td>frio</td>\n",
       "      <td>normal</td>\n",
       "      <td>leve</td>\n",
       "      <td>si</td>\n",
       "    </tr>\n",
       "    <tr>\n",
       "      <th>5</th>\n",
       "      <td>6</td>\n",
       "      <td>lluvia</td>\n",
       "      <td>frio</td>\n",
       "      <td>normal</td>\n",
       "      <td>fuerte</td>\n",
       "      <td>no</td>\n",
       "    </tr>\n",
       "    <tr>\n",
       "      <th>6</th>\n",
       "      <td>7</td>\n",
       "      <td>nublado</td>\n",
       "      <td>frio</td>\n",
       "      <td>normal</td>\n",
       "      <td>fuerte</td>\n",
       "      <td>si</td>\n",
       "    </tr>\n",
       "    <tr>\n",
       "      <th>7</th>\n",
       "      <td>8</td>\n",
       "      <td>soleado</td>\n",
       "      <td>templado</td>\n",
       "      <td>alta</td>\n",
       "      <td>leve</td>\n",
       "      <td>no</td>\n",
       "    </tr>\n",
       "    <tr>\n",
       "      <th>8</th>\n",
       "      <td>9</td>\n",
       "      <td>soleado</td>\n",
       "      <td>frio</td>\n",
       "      <td>normal</td>\n",
       "      <td>leve</td>\n",
       "      <td>si</td>\n",
       "    </tr>\n",
       "    <tr>\n",
       "      <th>9</th>\n",
       "      <td>10</td>\n",
       "      <td>lluvia</td>\n",
       "      <td>templado</td>\n",
       "      <td>normal</td>\n",
       "      <td>leve</td>\n",
       "      <td>si</td>\n",
       "    </tr>\n",
       "    <tr>\n",
       "      <th>10</th>\n",
       "      <td>11</td>\n",
       "      <td>soleado</td>\n",
       "      <td>templado</td>\n",
       "      <td>normal</td>\n",
       "      <td>fuerte</td>\n",
       "      <td>si</td>\n",
       "    </tr>\n",
       "    <tr>\n",
       "      <th>11</th>\n",
       "      <td>12</td>\n",
       "      <td>nublado</td>\n",
       "      <td>templado</td>\n",
       "      <td>alta</td>\n",
       "      <td>fuerte</td>\n",
       "      <td>si</td>\n",
       "    </tr>\n",
       "    <tr>\n",
       "      <th>12</th>\n",
       "      <td>13</td>\n",
       "      <td>nublado</td>\n",
       "      <td>caluroso</td>\n",
       "      <td>normal</td>\n",
       "      <td>leve</td>\n",
       "      <td>si</td>\n",
       "    </tr>\n",
       "    <tr>\n",
       "      <th>13</th>\n",
       "      <td>14</td>\n",
       "      <td>lluvia</td>\n",
       "      <td>templado</td>\n",
       "      <td>alta</td>\n",
       "      <td>fuerte</td>\n",
       "      <td>no</td>\n",
       "    </tr>\n",
       "  </tbody>\n",
       "</table>\n",
       "</div>"
      ],
      "text/plain": [
       "    dia nubosidad temperatura humedad  viento estrellas_visibles\n",
       "0     1   soleado    caluroso    alta    leve                 no\n",
       "1     2   soleado    caluroso    alta  fuerte                 no\n",
       "2     3   nublado    caluroso    alta    leve                 si\n",
       "3     4    lluvia    templado    alta    leve                 si\n",
       "4     5    lluvia        frio  normal    leve                 si\n",
       "5     6    lluvia        frio  normal  fuerte                 no\n",
       "6     7   nublado        frio  normal  fuerte                 si\n",
       "7     8   soleado    templado    alta    leve                 no\n",
       "8     9   soleado        frio  normal    leve                 si\n",
       "9    10    lluvia    templado  normal    leve                 si\n",
       "10   11   soleado    templado  normal  fuerte                 si\n",
       "11   12   nublado    templado    alta  fuerte                 si\n",
       "12   13   nublado    caluroso  normal    leve                 si\n",
       "13   14    lluvia    templado    alta  fuerte                 no"
      ]
     },
     "execution_count": 2,
     "metadata": {},
     "output_type": "execute_result"
    }
   ],
   "source": [
    "df"
   ]
  },
  {
   "cell_type": "code",
   "execution_count": null,
   "metadata": {
    "ExecuteTime": {
     "end_time": "2021-04-03T13:22:48.085234Z",
     "start_time": "2021-04-03T13:22:47.907727Z"
    },
    "slideshow": {
     "slide_type": "subslide"
    }
   },
   "outputs": [],
   "source": [
    "# generamos el nodo raíz\n",
    "initial = Node(node_type=None,  # es hoja o es de decisión? no sabemos todavia\n",
    "               remaining_attributes=dataset.columns_names,\n",
    "               data=dataset)\n",
    "\n",
    "# y lo agregamos a la lista de pendientes\n",
    "to_process.append(initial)\n",
    "\n",
    "while to_process:\n",
    "    # sacamos algún nodo pendiente de procesar\n",
    "    current_node = to_process.pop()\n",
    "    \n",
    "    # verificamos si tenemos que convertirlo en un nodo hoja, o en un nodo de decisión\n",
    "    if current_node.data.has_only_one_class() or len(current_node.remaining_attributes) == 0:\n",
    "        # es un nodo hoja (o todos ejemplos con la misma clase, o no hay más atributos para decidir)\n",
    "        current_node.node_type = \"Leaf, return: \" + current_node.get_most_common_class()\n",
    "    else:\n",
    "        # es un nodo de decisión!\n",
    "        \n",
    "        # determinamos el mejor atributo dentro de los que no fueron evaluados en ese camino.\n",
    "        best_attribute = get_best_attribute_to_test(current_node.remaining_attributes,\n",
    "                                                    current_node.data)\n",
    "        # ahora sabemos que este nodo elige por ese campo\n",
    "        current_node.node_type = \"Condition, based on: \" + best_attribute\n",
    "        \n",
    "        # y la decisión nos lleva a nodos hijos, uno por cada valor posible del atributo elegido\n",
    "        for possible_value in current_node.data[best_attribute].unique_values():\n",
    "            child = Node(node_type=None, # no sabemos todavia si el hijo es hoja u otra decisión\n",
    "                         remaining_attributes=current_node.remaining_attributes - best_attribute,\n",
    "                         data=current_node.data.filter(best_attribute, possible_value))\n",
    "            # lo agregamos como hijo del nodo actual\n",
    "            current_node.children.append(child)\n",
    "            # y también lo agregamos a la lista de pendientes, para que lo mire en alguna \n",
    "            # iteración próxima\n",
    "            to_process.append(child)"
   ]
  },
  {
   "cell_type": "markdown",
   "metadata": {
    "slideshow": {
     "slide_type": "slide"
    }
   },
   "source": [
    "![](files/images/decision_tree_1.PNG)"
   ]
  },
  {
   "cell_type": "markdown",
   "metadata": {
    "slideshow": {
     "slide_type": "subslide"
    }
   },
   "source": [
    "## ¿Cómo elegir cuál es el mejor atributo en cada caso?"
   ]
  },
  {
   "cell_type": "markdown",
   "metadata": {
    "slideshow": {
     "slide_type": "fragment"
    }
   },
   "source": [
    "Queremos elegir el atributo que haga que los datos se separen lo mejor posible !"
   ]
  },
  {
   "cell_type": "markdown",
   "metadata": {
    "slideshow": {
     "slide_type": "fragment"
    }
   },
   "source": [
    "Para eso usamos el concepto de Información Mutua:"
   ]
  },
  {
   "cell_type": "markdown",
   "metadata": {
    "slideshow": {
     "slide_type": "fragment"
    }
   },
   "source": [
    "$$ I(C, X_i) = H(C) - H(C | X_i) $$\n",
    "\n",
    "donde\n",
    "\n",
    "$$ H(C) = - \\sum_{c} p(c) \\log_2 p(c) $$\n",
    "$$ H(C|X)= - \\sum_{c} \\sum_{x} p(x,c) \\log_2 p(c|x) $$"
   ]
  },
  {
   "cell_type": "markdown",
   "metadata": {
    "slideshow": {
     "slide_type": "subslide"
    }
   },
   "source": [
    "![](files/images/meme_dog.gif)"
   ]
  },
  {
   "cell_type": "markdown",
   "metadata": {
    "slideshow": {
     "slide_type": "slide"
    }
   },
   "source": [
    "# Ejemplo: lluvia en Londres?"
   ]
  },
  {
   "cell_type": "markdown",
   "metadata": {
    "slideshow": {
     "slide_type": "fragment"
    }
   },
   "source": [
    "Estamos dentro de un cine en Londres, y nos preguntamos sobre la probabilidad de que esté lloviendo afuera (C=llueve). Asumamos que la probabilidad de lluvia en dicha ciudad es de 0.5 para un día determinado, entonces H(C)=1. Podemos pensar que dicha variable se encuentra en un grado de incertidumbre máximo dado que cualquier valor tiene la misma probabilidad."
   ]
  },
  {
   "cell_type": "markdown",
   "metadata": {
    "slideshow": {
     "slide_type": "fragment"
    }
   },
   "source": [
    "Supongamos que terminó la película y pudimos salir del cine, y somos capaces de ver por nosotros mismos si está lloviendo o no (X=comprobamos visualmente si llueve). En este caso, teniendo la evidencia visual, la variable C está totalmente relacionada con el valor de X; en este caso, podemos decir entonces que H(C|X)=0."
   ]
  },
  {
   "cell_type": "markdown",
   "metadata": {
    "slideshow": {
     "slide_type": "fragment"
    }
   },
   "source": [
    "Dicho de otra manera, sabiendo el valor de X (está lloviendo o no) la incertidumbre de C es nula."
   ]
  },
  {
   "cell_type": "markdown",
   "metadata": {
    "slideshow": {
     "slide_type": "slide"
    }
   },
   "source": [
    "## Cómo se relaciona esto con nuestro problema de encontrar qué variable utilizar?"
   ]
  },
  {
   "cell_type": "markdown",
   "metadata": {
    "slideshow": {
     "slide_type": "fragment"
    }
   },
   "source": [
    "Supongamos ahora que C es nuestra variable a predecir, y que X es alguna de nuestras variables de entrada. "
   ]
  },
  {
   "cell_type": "markdown",
   "metadata": {
    "slideshow": {
     "slide_type": "fragment"
    }
   },
   "source": [
    "Si calculo la entropía de C por sí misma, y luego condicionada a una variable de entrada, podría tener algún indicador de qué tanta incertidumbre estoy evitando."
   ]
  },
  {
   "cell_type": "markdown",
   "metadata": {
    "slideshow": {
     "slide_type": "fragment"
    }
   },
   "source": [
    "En base a esto, si H(C) = 0.75 y\n",
    "- H(C|X1) = 0.5\n",
    "- H(C|X2) = 0.4\n",
    "\n",
    "Podemos pensar que X2 reduce la incertidumbre de C en mayor medida. Esa disminución es lo que mide la Información Mutua."
   ]
  },
  {
   "cell_type": "code",
   "execution_count": 4,
   "metadata": {
    "ExecuteTime": {
     "end_time": "2021-04-03T13:23:12.066310Z",
     "start_time": "2021-04-03T13:23:12.055113Z"
    },
    "slideshow": {
     "slide_type": "subslide"
    }
   },
   "outputs": [
    {
     "data": {
      "text/html": [
       "<div>\n",
       "<style scoped>\n",
       "    .dataframe tbody tr th:only-of-type {\n",
       "        vertical-align: middle;\n",
       "    }\n",
       "\n",
       "    .dataframe tbody tr th {\n",
       "        vertical-align: top;\n",
       "    }\n",
       "\n",
       "    .dataframe thead th {\n",
       "        text-align: right;\n",
       "    }\n",
       "</style>\n",
       "<table border=\"1\" class=\"dataframe\">\n",
       "  <thead>\n",
       "    <tr style=\"text-align: right;\">\n",
       "      <th></th>\n",
       "      <th>dia</th>\n",
       "      <th>nubosidad</th>\n",
       "      <th>temperatura</th>\n",
       "      <th>humedad</th>\n",
       "      <th>viento</th>\n",
       "      <th>estrellas_visibles</th>\n",
       "    </tr>\n",
       "  </thead>\n",
       "  <tbody>\n",
       "    <tr>\n",
       "      <th>0</th>\n",
       "      <td>1</td>\n",
       "      <td>soleado</td>\n",
       "      <td>caluroso</td>\n",
       "      <td>alta</td>\n",
       "      <td>leve</td>\n",
       "      <td>no</td>\n",
       "    </tr>\n",
       "    <tr>\n",
       "      <th>1</th>\n",
       "      <td>2</td>\n",
       "      <td>soleado</td>\n",
       "      <td>caluroso</td>\n",
       "      <td>alta</td>\n",
       "      <td>fuerte</td>\n",
       "      <td>no</td>\n",
       "    </tr>\n",
       "    <tr>\n",
       "      <th>2</th>\n",
       "      <td>3</td>\n",
       "      <td>nublado</td>\n",
       "      <td>caluroso</td>\n",
       "      <td>alta</td>\n",
       "      <td>leve</td>\n",
       "      <td>si</td>\n",
       "    </tr>\n",
       "    <tr>\n",
       "      <th>3</th>\n",
       "      <td>4</td>\n",
       "      <td>lluvia</td>\n",
       "      <td>templado</td>\n",
       "      <td>alta</td>\n",
       "      <td>leve</td>\n",
       "      <td>si</td>\n",
       "    </tr>\n",
       "    <tr>\n",
       "      <th>4</th>\n",
       "      <td>5</td>\n",
       "      <td>lluvia</td>\n",
       "      <td>frio</td>\n",
       "      <td>normal</td>\n",
       "      <td>leve</td>\n",
       "      <td>si</td>\n",
       "    </tr>\n",
       "    <tr>\n",
       "      <th>5</th>\n",
       "      <td>6</td>\n",
       "      <td>lluvia</td>\n",
       "      <td>frio</td>\n",
       "      <td>normal</td>\n",
       "      <td>fuerte</td>\n",
       "      <td>no</td>\n",
       "    </tr>\n",
       "    <tr>\n",
       "      <th>6</th>\n",
       "      <td>7</td>\n",
       "      <td>nublado</td>\n",
       "      <td>frio</td>\n",
       "      <td>normal</td>\n",
       "      <td>fuerte</td>\n",
       "      <td>si</td>\n",
       "    </tr>\n",
       "    <tr>\n",
       "      <th>7</th>\n",
       "      <td>8</td>\n",
       "      <td>soleado</td>\n",
       "      <td>templado</td>\n",
       "      <td>alta</td>\n",
       "      <td>leve</td>\n",
       "      <td>no</td>\n",
       "    </tr>\n",
       "    <tr>\n",
       "      <th>8</th>\n",
       "      <td>9</td>\n",
       "      <td>soleado</td>\n",
       "      <td>frio</td>\n",
       "      <td>normal</td>\n",
       "      <td>leve</td>\n",
       "      <td>si</td>\n",
       "    </tr>\n",
       "    <tr>\n",
       "      <th>9</th>\n",
       "      <td>10</td>\n",
       "      <td>lluvia</td>\n",
       "      <td>templado</td>\n",
       "      <td>normal</td>\n",
       "      <td>leve</td>\n",
       "      <td>si</td>\n",
       "    </tr>\n",
       "    <tr>\n",
       "      <th>10</th>\n",
       "      <td>11</td>\n",
       "      <td>soleado</td>\n",
       "      <td>templado</td>\n",
       "      <td>normal</td>\n",
       "      <td>fuerte</td>\n",
       "      <td>si</td>\n",
       "    </tr>\n",
       "    <tr>\n",
       "      <th>11</th>\n",
       "      <td>12</td>\n",
       "      <td>nublado</td>\n",
       "      <td>templado</td>\n",
       "      <td>alta</td>\n",
       "      <td>fuerte</td>\n",
       "      <td>si</td>\n",
       "    </tr>\n",
       "    <tr>\n",
       "      <th>12</th>\n",
       "      <td>13</td>\n",
       "      <td>nublado</td>\n",
       "      <td>caluroso</td>\n",
       "      <td>normal</td>\n",
       "      <td>leve</td>\n",
       "      <td>si</td>\n",
       "    </tr>\n",
       "    <tr>\n",
       "      <th>13</th>\n",
       "      <td>14</td>\n",
       "      <td>lluvia</td>\n",
       "      <td>templado</td>\n",
       "      <td>alta</td>\n",
       "      <td>fuerte</td>\n",
       "      <td>no</td>\n",
       "    </tr>\n",
       "  </tbody>\n",
       "</table>\n",
       "</div>"
      ],
      "text/plain": [
       "    dia nubosidad temperatura humedad  viento estrellas_visibles\n",
       "0     1   soleado    caluroso    alta    leve                 no\n",
       "1     2   soleado    caluroso    alta  fuerte                 no\n",
       "2     3   nublado    caluroso    alta    leve                 si\n",
       "3     4    lluvia    templado    alta    leve                 si\n",
       "4     5    lluvia        frio  normal    leve                 si\n",
       "5     6    lluvia        frio  normal  fuerte                 no\n",
       "6     7   nublado        frio  normal  fuerte                 si\n",
       "7     8   soleado    templado    alta    leve                 no\n",
       "8     9   soleado        frio  normal    leve                 si\n",
       "9    10    lluvia    templado  normal    leve                 si\n",
       "10   11   soleado    templado  normal  fuerte                 si\n",
       "11   12   nublado    templado    alta  fuerte                 si\n",
       "12   13   nublado    caluroso  normal    leve                 si\n",
       "13   14    lluvia    templado    alta  fuerte                 no"
      ]
     },
     "execution_count": 4,
     "metadata": {},
     "output_type": "execute_result"
    }
   ],
   "source": [
    "df"
   ]
  },
  {
   "cell_type": "markdown",
   "metadata": {
    "slideshow": {
     "slide_type": "subslide"
    }
   },
   "source": [
    "# Con qué atributo (variable) empezamos ?"
   ]
  },
  {
   "cell_type": "markdown",
   "metadata": {
    "slideshow": {
     "slide_type": "fragment"
    }
   },
   "source": [
    "## Viento ?\n",
    "\n",
    "$$ H(C) = -p(si) \\log_2 p(si) - p(no) \\log_2 p(no) =  -\\frac{9}{14} \\log_2 \\frac{9}{14} - \\frac{5}{14} \\log_2 \\frac{5}{14} = 0.94 $$\n",
    "\n",
    "\n",
    "$$ H(C|Viento) = -p(fuerte, si) \\log_2 p(si|fuerte) - p(fuerte, no) \\log_2 p(no|fuerte) - p(leve, si) \\log_2 p(si|leve) - p(debil, no) log_2 p(no|debil) = $$\n",
    "$$ - \\frac{3}{14} \\log_2 \\frac{3}{6} - \\frac{3}{14} \\log_2 \\frac{3}{6} - \\frac{6}{14} \\log_2 \\frac{6}{8} - \\frac{2}{14} \\log_2 \\frac{2}{8} = 0.892 $$\n",
    "\n",
    "\n",
    "I(C, Viento) = 0.94 - 0.892 = 0.048"
   ]
  },
  {
   "cell_type": "markdown",
   "metadata": {
    "slideshow": {
     "slide_type": "fragment"
    }
   },
   "source": [
    "## De la misma forma,\n",
    "\n",
    "I(C, Humedad) = 0.151\n",
    "\n",
    "**I(C, Nubosidad) = 0.246**\n",
    "\n",
    "I(C, Temperatura) = 0.029"
   ]
  },
  {
   "cell_type": "markdown",
   "metadata": {
    "slideshow": {
     "slide_type": "subslide"
    }
   },
   "source": [
    "![](files/images/ID3_1.PNG)"
   ]
  },
  {
   "cell_type": "markdown",
   "metadata": {
    "slideshow": {
     "slide_type": "subslide"
    }
   },
   "source": [
    "![](files/images/ID3_2.PNG)"
   ]
  },
  {
   "cell_type": "markdown",
   "metadata": {
    "slideshow": {
     "slide_type": "fragment"
    }
   },
   "source": [
    "Si el valor de **nubosidad** es \"nublado\", todas las instancias son positivas!. \n",
    "\n",
    "Lo transformamos entonces en un nodo hoja, al que le asignamos esa misma etiqueta para clasificar."
   ]
  },
  {
   "cell_type": "markdown",
   "metadata": {
    "collapsed": true,
    "slideshow": {
     "slide_type": "subslide"
    }
   },
   "source": [
    "## Algunas observaciones ..."
   ]
  },
  {
   "cell_type": "markdown",
   "metadata": {
    "collapsed": true,
    "slideshow": {
     "slide_type": "fragment"
    }
   },
   "source": [
    "- El algoritmo no asegura encontrar el óptimo global\n",
    "- La complejidad se incrementa de forma lineal con el número de instancias de entrenamiento y de forma exponencial en relación al número de atributos\n",
    "- Variables con mayor cantidad de valores son favorecidas en la selección (ligado al cálculo de entropía)"
   ]
  },
  {
   "cell_type": "markdown",
   "metadata": {
    "slideshow": {
     "slide_type": "subslide"
    }
   },
   "source": [
    "# Cuándo?"
   ]
  },
  {
   "cell_type": "markdown",
   "metadata": {
    "slideshow": {
     "slide_type": "fragment"
    }
   },
   "source": [
    "- Me interesa dar explicaciones de las salidas que da el modelo\n",
    "- Prototipo rápido: no necesito demasiado pre-procesado\n",
    "- Dominios complejos donde no existe una clara separación lineal en los datos\n",
    "- Si tengo que predecir rápido (≈ log(n_train))\n",
    "- Tengo variables categóricas y numéricas\n",
    "- Cuando tengo más de dos clases, o múltiples etiquetas!"
   ]
  },
  {
   "cell_type": "markdown",
   "metadata": {
    "slideshow": {
     "slide_type": "subslide"
    }
   },
   "source": [
    "# Mejoras posibles ..."
   ]
  },
  {
   "cell_type": "markdown",
   "metadata": {
    "slideshow": {
     "slide_type": "fragment"
    }
   },
   "source": [
    "- ** Establecer una profundidad máxima para el árbol **\n",
    "- Manejo de variables continuas\n",
    "- Permitir valores nulos en los datos de entrada\n",
    "- Definir pesos a las clases o etiquetas (problemas cost-sensitive)\n",
    "- Post-prunning"
   ]
  },
  {
   "cell_type": "markdown",
   "metadata": {
    "slideshow": {
     "slide_type": "subslide"
    }
   },
   "source": [
    "# Algunas desventajas ..."
   ]
  },
  {
   "cell_type": "markdown",
   "metadata": {
    "slideshow": {
     "slide_type": "fragment"
    }
   },
   "source": [
    "- Cuidado: overfitting !\n",
    "- Inestables: pequeños cambios en los datos pueden hacer que el árbol resultante cambie notablemente\n",
    "- Encontrar el árbol óptimo es un problema NP-completo\n",
    "- Hay que tener cuidado si el dataset no está balanceado"
   ]
  },
  {
   "cell_type": "markdown",
   "metadata": {
    "slideshow": {
     "slide_type": "subslide"
    }
   },
   "source": [
    "# Tips y consejos prácticos ..."
   ]
  },
  {
   "cell_type": "markdown",
   "metadata": {
    "slideshow": {
     "slide_type": "fragment"
    }
   },
   "source": [
    "- A mayor cantidad de variables aumentan las probabilidades de sobre-entrenamiento: usar max_depth y analizar las componentes de nuestro conjunto de datos (técnicas de reducción de dimensionalidad).\n",
    "- Analizar los árboles resultantes: dan mucha información de qué es lo que está pasando (FSS) !.\n",
    "- Balancear los datos.\n",
    "- Puedo usarlos para hacer análisis post-mortem en otros problemas.\n",
    "- Uno de los algoritmos más utilizados: Classification And Regression Trees, o CART (permite trabajar con problemas de regresión obteniendo el promedio de las instancias que quedan en cada hoja)"
   ]
  },
  {
   "cell_type": "markdown",
   "metadata": {
    "slideshow": {
     "slide_type": "subslide"
    }
   },
   "source": [
    "![](files/images/Classifiers_comparison.png)"
   ]
  }
 ],
 "metadata": {
  "celltoolbar": "Slideshow",
  "kernelspec": {
   "display_name": "Python 3",
   "language": "python",
   "name": "python3"
  },
  "language_info": {
   "codemirror_mode": {
    "name": "ipython",
    "version": 3
   },
   "file_extension": ".py",
   "mimetype": "text/x-python",
   "name": "python",
   "nbconvert_exporter": "python",
   "pygments_lexer": "ipython3",
   "version": "3.7.3"
  },
  "toc": {
   "base_numbering": 1,
   "nav_menu": {},
   "number_sections": true,
   "sideBar": true,
   "skip_h1_title": false,
   "title_cell": "Table of Contents",
   "title_sidebar": "Contents",
   "toc_cell": false,
   "toc_position": {},
   "toc_section_display": true,
   "toc_window_display": false
  }
 },
 "nbformat": 4,
 "nbformat_minor": 1
}
