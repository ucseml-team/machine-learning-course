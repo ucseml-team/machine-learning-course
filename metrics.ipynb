{
 "cells": [
  {
   "cell_type": "markdown",
   "metadata": {
    "slideshow": {
     "slide_type": "subslide"
    }
   },
   "source": [
    "# Evaluación de Pérformance: Metricas"
   ]
  },
  {
   "cell_type": "markdown",
   "metadata": {
    "slideshow": {
     "slide_type": "subslide"
    }
   },
   "source": [
    "# Por qué? Cuándo?"
   ]
  },
  {
   "cell_type": "markdown",
   "metadata": {
    "slideshow": {
     "slide_type": "fragment"
    }
   },
   "source": [
    "Porque necesitamos saber cuándo algo **anda**, y cuándo una cosa (experimento, modelo, set de datos, etc) **anda mejor o peor que otra**.\n",
    "\n",
    "Definir al **inicio**, con el cliente.\n",
    "\n",
    "Usar todo el tiempo."
   ]
  },
  {
   "cell_type": "markdown",
   "metadata": {
    "slideshow": {
     "slide_type": "subslide"
    }
   },
   "source": [
    "![](files/images/ml_process.svg)"
   ]
  },
  {
   "cell_type": "markdown",
   "metadata": {
    "slideshow": {
     "slide_type": "subslide"
    }
   },
   "source": [
    "# Métricas, métricas y métricas...\n",
    "\n",
    "![](files/images/spyderman_meme.png)"
   ]
  },
  {
   "cell_type": "markdown",
   "metadata": {
    "slideshow": {
     "slide_type": "subslide"
    }
   },
   "source": [
    "# Métricas, métricas y métricas...\n",
    "\n",
    "* **Offline** vs Online\n",
    "* **Desarrollo** vs Produccion vs KPIs: \n",
    "\n",
    "    * distintas audiencias, distintos niveles\n",
    "    * KPIs son métricas muy específicas del proceso de negocio: dinero ganado, productos vendidos, horas requeridas, tiempo ahorrado, etc\n",
    "\n",
    "\n",
    " "
   ]
  },
  {
   "cell_type": "markdown",
   "metadata": {
    "slideshow": {
     "slide_type": "subslide"
    }
   },
   "source": [
    "# ¿Qué datos usamos para medir?"
   ]
  },
  {
   "cell_type": "markdown",
   "metadata": {
    "slideshow": {
     "slide_type": "fragment"
    }
   },
   "source": [
    "Medir solo sobre los mismos datos que usamos para armar el modelo nos da info falsa. Nos **miente**."
   ]
  },
  {
   "cell_type": "markdown",
   "metadata": {
    "slideshow": {
     "slide_type": "subslide"
    }
   },
   "source": [
    "# Algunas técnicas utilizadas para medir\n",
    "\n",
    "* Resubstitution: nombre para el error común de medir sobre los datos de entrenamiento. **Esto nos miente**\n",
    "* Hold out\n",
    "* K Fold Cross validation\n",
    "* Leave one out cross validation"
   ]
  },
  {
   "cell_type": "markdown",
   "metadata": {
    "slideshow": {
     "slide_type": "subslide"
    }
   },
   "source": [
    "## Resubstitution\n",
    "<img src=\"files/images/resubstitution.jpg\" alt=\"Drawing\" style=\"height: 500px;\"/>"
   ]
  },
  {
   "cell_type": "markdown",
   "metadata": {
    "slideshow": {
     "slide_type": "subslide"
    }
   },
   "source": [
    "## Hold out\n",
    "\n",
    "<!-- ![](files/images/train_validation_test.png) -->\n",
    "<img src=\"files/images/train_validation_test.png\" alt=\"Drawing\" style=\"height: 500px;\"/>"
   ]
  },
  {
   "cell_type": "markdown",
   "metadata": {
    "slideshow": {
     "slide_type": "subslide"
    }
   },
   "source": [
    "## K-Fold Cross Validation\n",
    "\n",
    "![](files/images/cross_validation.png)"
   ]
  },
  {
   "cell_type": "markdown",
   "metadata": {
    "slideshow": {
     "slide_type": "subslide"
    }
   },
   "source": [
    "## Leave One Out Cross Validation\n",
    "\n",
    "![](files/images/loocv.png)"
   ]
  },
  {
   "cell_type": "markdown",
   "metadata": {
    "slideshow": {
     "slide_type": "subslide"
    }
   },
   "source": [
    "# Desbalance de clases y estratificación\n",
    "\n",
    "* Desbalance == La cantidad de ejemplos de cada clase clase son muy distintos\n",
    "\n",
    "* Estratificación o \"stratified sampling\": asegura que una muestra aleatoria represente la distribución original de los datos. \n"
   ]
  },
  {
   "cell_type": "markdown",
   "metadata": {
    "slideshow": {
     "slide_type": "subslide"
    }
   },
   "source": [
    "# Overfitting\n",
    "\n",
    "El modelo se **memoriza** los datos de entrenamiento.\n",
    "\n",
    "![](files/images/overfitting.jpeg)"
   ]
  },
  {
   "cell_type": "markdown",
   "metadata": {
    "slideshow": {
     "slide_type": "subslide"
    }
   },
   "source": [
    "# Baseline"
   ]
  },
  {
   "cell_type": "markdown",
   "metadata": {
    "slideshow": {
     "slide_type": "fragment"
    }
   },
   "source": [
    "Necesitamos superar lo que \"ya se puede hacer fácil\".\n",
    "\n",
    "Un **piso contra el que comparar** si realmente nuestro modelo está haciendo algo útil.\n",
    "\n",
    "Puede ser una solución que conlleve muy poco tiempo hacerla, o un proceso existente que compita contra el modelo a desarrollar.\n",
    "\n",
    "Ejemplo: predecir las ventas del mes próximo.\n",
    "\n",
    "```\n",
    "def next_month_sales_prediction_baseline(df):\n",
    "    return df.groupby('month').sales.mean()\n",
    "```"
   ]
  },
  {
   "cell_type": "markdown",
   "metadata": {
    "slideshow": {
     "slide_type": "subslide"
    }
   },
   "source": [
    "![](files/images/baseline.svg)"
   ]
  },
  {
   "cell_type": "markdown",
   "metadata": {
    "slideshow": {
     "slide_type": "subslide"
    }
   },
   "source": [
    "![](files/images/baseline_vs_experiments.svg)"
   ]
  },
  {
   "cell_type": "markdown",
   "metadata": {
    "slideshow": {
     "slide_type": "subslide"
    }
   },
   "source": [
    "# Regresión: Mean Squared Error y similares"
   ]
  },
  {
   "cell_type": "markdown",
   "metadata": {
    "slideshow": {
     "slide_type": "fragment"
    }
   },
   "source": [
    "**Por cuánto le erramos en promedio?**\n",
    "\n",
    "Pero cada error al cuadrado, para evitar que errores negativos cancelen errores positivos.\n",
    "\n",
    "MSE = $\\frac{1}{n} \\Sigma_{i=1}^n({y}-\\hat{y})^2$\n",
    "\n",
    "donde $y$ es el valor real, $\\hat{y}$ es la predicción del modelo.\n",
    "\n",
    "Hay muchas variantes, dependiendo el problema puede ser conveniente usar una u otra."
   ]
  },
  {
   "cell_type": "markdown",
   "metadata": {
    "slideshow": {
     "slide_type": "subslide"
    }
   },
   "source": [
    "![](files/images/mse_regression.svg)"
   ]
  },
  {
   "cell_type": "markdown",
   "metadata": {
    "slideshow": {
     "slide_type": "subslide"
    }
   },
   "source": [
    "# Clasificación"
   ]
  },
  {
   "cell_type": "markdown",
   "metadata": {
    "slideshow": {
     "slide_type": "subslide"
    }
   },
   "source": [
    "## Matriz de confusión"
   ]
  },
  {
   "cell_type": "markdown",
   "metadata": {
    "slideshow": {
     "slide_type": "fragment"
    }
   },
   "source": [
    "Es una tabla que permite ver el rendimiento de un determinado modelo. Es útil para problemas con dos o más etiquetas posibles."
   ]
  },
  {
   "cell_type": "markdown",
   "metadata": {
    "slideshow": {
     "slide_type": "subslide"
    }
   },
   "source": [
    "![](files/images/confusion_matrix.png)"
   ]
  },
  {
   "cell_type": "markdown",
   "metadata": {
    "slideshow": {
     "slide_type": "fragment"
    }
   },
   "source": [
    "## Accuracy"
   ]
  },
  {
   "cell_type": "markdown",
   "metadata": {
    "slideshow": {
     "slide_type": "fragment"
    }
   },
   "source": [
    "**En qué porcentaje de casos acertamos la predicción?**\n",
    "\n",
    "Accuracy = (TP + TN) / (TP + FN + FP + TN)"
   ]
  },
  {
   "cell_type": "markdown",
   "metadata": {
    "slideshow": {
     "slide_type": "subslide"
    }
   },
   "source": [
    "El color de cada punto representa la etiqueta, mientras que la línea punteada son los casos que el modelo dijo \"rojo\".\n",
    "\n",
    "![](files/images/accuracy.svg)"
   ]
  },
  {
   "cell_type": "markdown",
   "metadata": {
    "slideshow": {
     "slide_type": "subslide"
    }
   },
   "source": [
    "**cantidad bien / cantidad total = accuracy**\n",
    "\n",
    "22 / 25 = 0.88"
   ]
  },
  {
   "cell_type": "markdown",
   "metadata": {
    "slideshow": {
     "slide_type": "subslide"
    }
   },
   "source": [
    "### Problemas de Accuracy"
   ]
  },
  {
   "cell_type": "markdown",
   "metadata": {
    "slideshow": {
     "slide_type": "fragment"
    }
   },
   "source": [
    "* **Desbalanceo** en los datos, es decir, distinta cantidad de etiquetas de cada clase.\n",
    "* Si errar por sí o por no tiene **diferente impacto**.\n"
   ]
  },
  {
   "cell_type": "markdown",
   "metadata": {
    "slideshow": {
     "slide_type": "fragment"
    }
   },
   "source": [
    "Entonces? Usamos otras métricas."
   ]
  },
  {
   "cell_type": "markdown",
   "metadata": {
    "slideshow": {
     "slide_type": "subslide"
    }
   },
   "source": [
    "## Precision"
   ]
  },
  {
   "cell_type": "markdown",
   "metadata": {
    "slideshow": {
     "slide_type": "fragment"
    }
   },
   "source": [
    "**De lo que clasificamos como rojo, qué porcentaje era realmente rojo?**\n",
    "\n",
    "Útil si quiero asegurarme de **solo encontrar ejemplos de rojo, no equivocarme al decir \"esto es rojo\"**.\n",
    "\n",
    "Precision = (TP) / (TP + FP)"
   ]
  },
  {
   "cell_type": "markdown",
   "metadata": {
    "slideshow": {
     "slide_type": "subslide"
    }
   },
   "source": [
    "![](files/images/accuracy.svg)"
   ]
  },
  {
   "cell_type": "markdown",
   "metadata": {
    "slideshow": {
     "slide_type": "subslide"
    }
   },
   "source": [
    "**cantidad clasificada como rojo que era realmente rojo / cantidad clasificada como rojo = precision**\n",
    "\n",
    "**Rojo**: 7 / 8 = 0.875\n",
    "\n",
    "**Verde**: 15 / 17 = 0.882"
   ]
  },
  {
   "cell_type": "markdown",
   "metadata": {
    "slideshow": {
     "slide_type": "subslide"
    }
   },
   "source": [
    "## Recall"
   ]
  },
  {
   "cell_type": "markdown",
   "metadata": {
    "slideshow": {
     "slide_type": "fragment"
    }
   },
   "source": [
    "**De todos los rojos que había, cuántos encontramos?**\n",
    "\n",
    "Útil si quiero asegurarme de **que no se me escape ninguno**.\n",
    "\n",
    "Recall = TP / (TP + FN)"
   ]
  },
  {
   "cell_type": "markdown",
   "metadata": {
    "slideshow": {
     "slide_type": "subslide"
    }
   },
   "source": [
    "![](files/images/accuracy.svg)"
   ]
  },
  {
   "cell_type": "markdown",
   "metadata": {
    "slideshow": {
     "slide_type": "subslide"
    }
   },
   "source": [
    "**cantidad clasificada como rojo que era realmente rojo / cantidad real de rojos que había = recall**\n",
    "\n",
    "**Rojo**: 7 / 9 = 0.777\n",
    "\n",
    "**Verde**: 15 / 16 = 0.937"
   ]
  },
  {
   "cell_type": "markdown",
   "metadata": {
    "slideshow": {
     "slide_type": "subslide"
    }
   },
   "source": [
    "## F-Score"
   ]
  },
  {
   "cell_type": "markdown",
   "metadata": {
    "slideshow": {
     "slide_type": "fragment"
    }
   },
   "source": [
    "**Combina precision y recall.**\n",
    "\n",
    "Solo un promedio nos escondería si uno anda muy mal. F-Score cae mucho si alguno de los dos cae mucho."
   ]
  },
  {
   "cell_type": "markdown",
   "metadata": {
    "slideshow": {
     "slide_type": "subslide"
    }
   },
   "source": [
    "## AuROC"
   ]
  },
  {
   "cell_type": "markdown",
   "metadata": {
    "slideshow": {
     "slide_type": "fragment"
    }
   },
   "source": [
    "**Qué tan bien diferenciamos entre verdaderos y falsos. Útil cuando queremos evaluar el comportamiento de un clasificador para distintos umbrales. ** \n",
    "Cada punto en la curva se construye utilizando un valor de corte, y calculando un par de métricas de los resultados obtenidos para dicho valor.\n",
    "\n",
    "![](files/images/roc_curve.png)"
   ]
  },
  {
   "cell_type": "markdown",
   "metadata": {
    "slideshow": {
     "slide_type": "subslide"
    }
   },
   "source": [
    "# Curva de aprendizaje"
   ]
  },
  {
   "cell_type": "markdown",
   "metadata": {
    "slideshow": {
     "slide_type": "fragment"
    }
   },
   "source": [
    "Nos ayuda a observar el **progreso del aprendizaje**.\n",
    "\n",
    "Es observar alguna métrica definida, a lo largo del loop de entrenamiento o a medida que aumentamos el porcentaje de datos que utilizamos para entrenar.\n",
    "\n",
    "Útil para ir comparando entre distintos modelos.\n",
    "\n",
    "Útil por ejemplo para saber cuándo dejamos de aprender, para evaluar si necesitamos buscar más datos, cuándo está overfiteando, etc."
   ]
  },
  {
   "cell_type": "markdown",
   "metadata": {
    "slideshow": {
     "slide_type": "subslide"
    }
   },
   "source": [
    "![](files/images/learning_curve.svg)"
   ]
  },
  {
   "cell_type": "markdown",
   "metadata": {
    "slideshow": {
     "slide_type": "subslide"
    }
   },
   "source": [
    "![](files/images/learning_curves_models.svg)"
   ]
  },
  {
   "cell_type": "markdown",
   "metadata": {
    "slideshow": {
     "slide_type": "subslide"
    }
   },
   "source": [
    "![](files/images/learning_curves_sets.svg)"
   ]
  }
 ],
 "metadata": {
  "celltoolbar": "Slideshow",
  "hide_input": false,
  "kernelspec": {
   "display_name": "Python 3",
   "language": "python",
   "name": "python3"
  },
  "language_info": {
   "codemirror_mode": {
    "name": "ipython",
    "version": 3
   },
   "file_extension": ".py",
   "mimetype": "text/x-python",
   "name": "python",
   "nbconvert_exporter": "python",
   "pygments_lexer": "ipython3",
   "version": "3.7.3"
  },
  "toc": {
   "base_numbering": 1,
   "nav_menu": {},
   "number_sections": false,
   "sideBar": true,
   "skip_h1_title": false,
   "title_cell": "Table of Contents",
   "title_sidebar": "Contents",
   "toc_cell": false,
   "toc_position": {
    "height": "calc(100% - 180px)",
    "left": "10px",
    "top": "150px",
    "width": "301px"
   },
   "toc_section_display": true,
   "toc_window_display": false
  }
 },
 "nbformat": 4,
 "nbformat_minor": 1
}
