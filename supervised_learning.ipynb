{
 "cells": [
  {
   "cell_type": "markdown",
   "metadata": {
    "slideshow": {
     "slide_type": "subslide"
    }
   },
   "source": [
    "# Aprendizaje supervisado"
   ]
  },
  {
   "cell_type": "markdown",
   "metadata": {
    "slideshow": {
     "slide_type": "subslide"
    }
   },
   "source": [
    "# Por qué? Cuándo?"
   ]
  },
  {
   "cell_type": "markdown",
   "metadata": {
    "slideshow": {
     "slide_type": "fragment"
    }
   },
   "source": [
    "Cuando necesitamos que un modelo **prediga o clasifique** cosas, y **ya tenemos ejemplos de predicciones/clasificaciones** anteriores."
   ]
  },
  {
   "cell_type": "markdown",
   "metadata": {
    "slideshow": {
     "slide_type": "fragment"
    }
   },
   "source": [
    "* Puede que los **humanos no sepan hacerlo** por si mismos (ej: predecir ataques de convulciones).\n",
    "* Puede que los **humanos lo sepan hacer, pero no tan bien** (ej: predecir partidos de fútbol).\n",
    "* Puede que los humanos lo hagan re bien, pero **necesitamos hacerlo en masa y automatizarlo** (ej: detectar objetos en imágenes)."
   ]
  },
  {
   "cell_type": "markdown",
   "metadata": {
    "slideshow": {
     "slide_type": "subslide"
    }
   },
   "source": [
    "![](files/images/ml_process.svg)"
   ]
  },
  {
   "cell_type": "markdown",
   "metadata": {
    "slideshow": {
     "slide_type": "subslide"
    }
   },
   "source": [
    "# Refrescamos la memoria: datos necesarios"
   ]
  },
  {
   "cell_type": "markdown",
   "metadata": {
    "slideshow": {
     "slide_type": "fragment"
    }
   },
   "source": [
    "Necesitamos un set de datos que tenga las **dos cosas**:\n",
    "\n",
    "* ejemplos de **entradas**\n",
    "* ejemplos de **salidas para esas entradas** (no salidas sueltas al azar)"
   ]
  },
  {
   "cell_type": "markdown",
   "metadata": {
    "slideshow": {
     "slide_type": "subslide"
    }
   },
   "source": [
    "![](files/images/supervised_learning_1.svg)"
   ]
  },
  {
   "cell_type": "markdown",
   "metadata": {
    "slideshow": {
     "slide_type": "subslide"
    }
   },
   "source": [
    "# Es magia, pero no es mágico"
   ]
  },
  {
   "cell_type": "markdown",
   "metadata": {
    "slideshow": {
     "slide_type": "fragment"
    }
   },
   "source": [
    "Las salidas tienen que de alguna forma, **depender** de las entradas.\n",
    "\n",
    "No podemos predecir lo que va a salir en la lotería en base al color de la ropa de Mariano (si es realmente al azar)."
   ]
  },
  {
   "cell_type": "markdown",
   "metadata": {
    "slideshow": {
     "slide_type": "subslide"
    }
   },
   "source": [
    "# Refrescamos la memoria: regresión vs clasificación"
   ]
  },
  {
   "cell_type": "markdown",
   "metadata": {
    "slideshow": {
     "slide_type": "fragment"
    }
   },
   "source": [
    "Depende de cómo son nuestras salidas:\n",
    "\n",
    "* Numéros arbitrarios?: **regresión**\n",
    "* Valores de un conjunto finito de etiquetas?: **clasificación**\n",
    "\n",
    "Queremos una función que **pase** por los puntos o una función que **divida** los puntos."
   ]
  },
  {
   "cell_type": "markdown",
   "metadata": {
    "slideshow": {
     "slide_type": "subslide"
    }
   },
   "source": [
    "![](files/images/regression_2.svg)"
   ]
  },
  {
   "cell_type": "markdown",
   "metadata": {
    "slideshow": {
     "slide_type": "subslide"
    }
   },
   "source": [
    "![](files/images/clasification_2.svg)"
   ]
  },
  {
   "cell_type": "markdown",
   "metadata": {
    "slideshow": {
     "slide_type": "subslide"
    }
   },
   "source": [
    "# Función resultante"
   ]
  },
  {
   "cell_type": "markdown",
   "metadata": {
    "slideshow": {
     "slide_type": "fragment"
    }
   },
   "source": [
    "En ambos casos, nuestro modelo termina siendo **una función**, que recibe datos de entrada, y nos da una salida."
   ]
  },
  {
   "cell_type": "markdown",
   "metadata": {
    "slideshow": {
     "slide_type": "subslide"
    }
   },
   "source": [
    "En **regresión**, esa función nos da las salidas directamente. El número que queremos."
   ]
  },
  {
   "cell_type": "markdown",
   "metadata": {
    "collapsed": true,
    "slideshow": {
     "slide_type": "fragment"
    }
   },
   "source": [
    "```python\n",
    "precio_casa = modelo.predecir(datos_casa)\n",
    "```"
   ]
  },
  {
   "cell_type": "markdown",
   "metadata": {
    "slideshow": {
     "slide_type": "subslide"
    }
   },
   "source": [
    "En **clasificación** depende. \n",
    "\n",
    "* Hay algoritmos (modelos) que dan directamente la etiqueta como salida.\n",
    "* Otros nos dan un número que nosotros usamos para elegir la etiqueta.\n",
    "\n",
    "Nos dan una función que es una **frontera de decisión**, porque dibuja una linea que separa los ejemplos de una clase y otra."
   ]
  },
  {
   "cell_type": "markdown",
   "metadata": {
    "collapsed": true,
    "slideshow": {
     "slide_type": "subslide"
    }
   },
   "source": [
    "Algunos modelos:\n",
    "\n",
    "```python\n",
    "raza_perro = modelo.predecir(datos_perro)\n",
    "# galgo, gran danés, chihuahua, etc...\n",
    "```\n",
    "\n",
    "Otros modelos:\n",
    "\n",
    "```python\n",
    "valor = modelo.predecir(datos_pasajero_titanic)\n",
    "if valor > 0.5:\n",
    "    salida = \"muere\"\n",
    "else:\n",
    "    salida = \"no muere\"\n",
    "```"
   ]
  },
  {
   "cell_type": "markdown",
   "metadata": {
    "collapsed": true,
    "slideshow": {
     "slide_type": "fragment"
    }
   },
   "source": [
    "Es casi como decir que hacemos clasificación, usando regresión por dentro.\n",
    "\n",
    "(se van a acordar de esto en un rato)"
   ]
  },
  {
   "cell_type": "markdown",
   "metadata": {
    "collapsed": true,
    "slideshow": {
     "slide_type": "subslide"
    }
   },
   "source": [
    "La mayoría de las libs nos ahorran tener que hacer esos ifs a mano, lo hacen internamente.\n",
    "\n",
    "Pero es importante saberlo, porque **les podemos pedir el número también**, y eso nos dice **qué tan seguro está el modelo respecto a la salida** que nos dio."
   ]
  },
  {
   "cell_type": "markdown",
   "metadata": {
    "collapsed": true,
    "slideshow": {
     "slide_type": "subslide"
    }
   },
   "source": [
    "Y redes neuronales son un mundo aparte..."
   ]
  },
  {
   "cell_type": "markdown",
   "metadata": {
    "slideshow": {
     "slide_type": "subslide"
    }
   },
   "source": [
    "# Clasificación multiclase"
   ]
  },
  {
   "cell_type": "markdown",
   "metadata": {
    "slideshow": {
     "slide_type": "fragment"
    }
   },
   "source": [
    "Muchas veces vamos a tener que clasificar entre más de 2 clases. Eso requiere de un modelo \"**multiclase**\".\n",
    "\n",
    "Algunos modelos de clasificación son multiclase de forma \"**nativa**\", y otros no.\n",
    "\n",
    "Los que no, inicialmente solo funcionan para distinguir entre 2 clases, \"es o no es X\", \"sí o no\", etc."
   ]
  },
  {
   "cell_type": "markdown",
   "metadata": {
    "slideshow": {
     "slide_type": "subslide"
    }
   },
   "source": [
    "Cómo resolvemos este caso con un modelo que no es multiclase nativo?"
   ]
  },
  {
   "cell_type": "markdown",
   "metadata": {
    "slideshow": {
     "slide_type": "fragment"
    }
   },
   "source": [
    "![](files/images/multiclass_classification_1.svg)"
   ]
  },
  {
   "cell_type": "markdown",
   "metadata": {
    "slideshow": {
     "slide_type": "subslide"
    }
   },
   "source": [
    "Se puede!"
   ]
  },
  {
   "cell_type": "markdown",
   "metadata": {
    "slideshow": {
     "slide_type": "fragment"
    }
   },
   "source": [
    "![](files/images/multiclass_classification_2.svg)"
   ]
  },
  {
   "cell_type": "markdown",
   "metadata": {
    "collapsed": true,
    "slideshow": {
     "slide_type": "subslide"
    }
   },
   "source": [
    "```python\n",
    "es_coca = modelo_coca.predecir(datos_bebida)\n",
    "es_pepsi = modelo_pepsi.predecir(datos_bebida)\n",
    "es_7up = modelo_7up.predecir(datos_bebida)\n",
    "\n",
    "if es_coca > es_pepsi y es_7up:\n",
    "    salida = \"coca cola\"\n",
    "if es_pepsi > es_coca y es_7up:\n",
    "    salida = \"pepsi\"\n",
    "if es_7up > es_pepsi y es_coca:\n",
    "    salida = \"7up\"\n",
    "```"
   ]
  },
  {
   "cell_type": "markdown",
   "metadata": {
    "slideshow": {
     "slide_type": "fragment"
    }
   },
   "source": [
    "Problema: muchas clases -> muchos modelos a entrenar -> mucho cálculo, ram, etc"
   ]
  }
 ],
 "metadata": {
  "celltoolbar": "Slideshow",
  "kernelspec": {
   "display_name": "Python 3 (ipykernel)",
   "language": "python",
   "name": "python3"
  },
  "language_info": {
   "codemirror_mode": {
    "name": "ipython",
    "version": 3
   },
   "file_extension": ".py",
   "mimetype": "text/x-python",
   "name": "python",
   "nbconvert_exporter": "python",
   "pygments_lexer": "ipython3",
   "version": "3.8.10"
  }
 },
 "nbformat": 4,
 "nbformat_minor": 1
}
