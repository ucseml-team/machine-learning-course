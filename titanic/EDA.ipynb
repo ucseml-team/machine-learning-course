{
 "cells": [
  {
   "cell_type": "markdown",
   "metadata": {},
   "source": [
    "# Análisis Exploratorio de Datos (EDA)\n",
    "\n",
    "*“EDA is detective work… The analyst of data needs both tools and understanding”*. **Tukey (1977)**\n",
    "\n",
    "Es una proceso que conlleva un análisis sobre los datos, muchas veces constituye un primer acercamiento a los mismos, haciendo uso de técnicas de estadística descriptiva para intentar cumplir uno o más de los siguientes objetivos:\n",
    "- Entender mejor que datos están a disposición\n",
    "- Encontrar posibles inconsistencias en los datos\n",
    "- Contrastar determinadas hipótesis del dominio del problema (validar o refutar) o sugerir nuevas\n",
    "- Evaluar supuestos en los que se basarán los algoritmos\n",
    "- Dar soporte a la selección de técnicas apropiadas\n",
    "- Proveer el sustento para justificar la recolección de más información\n"
   ]
  },
  {
   "cell_type": "markdown",
   "metadata": {
    "slideshow": {
     "slide_type": "subslide"
    }
   },
   "source": [
    "# Titanic como ejemplo\n",
    "\n",
    "El **RMS Titanic** fue un transatlántico británico, el mayor barco del mundo al finalizar su construcción, que se hundió en la noche del 14 a la madrugada del 15 de abril de 1912 durante su viaje inaugural desde Southampton a Nueva York. En el hundimiento del Titanic murieron 1514 personas de las 2223 que iban a bordo, lo que convierte a esta tragedia en uno de los mayores naufragios de la historia ocurridos en tiempo de paz. "
   ]
  },
  {
   "cell_type": "markdown",
   "metadata": {
    "slideshow": {
     "slide_type": "fragment"
    }
   },
   "source": [
    "### Teniendo un conjunto de datos bastante detallado de todos los pasajeros, qué podemos conocer de la historia del Titanic?. Podemos ser capaces de obtener cierto conocimiento a partir de esto?"
   ]
  },
  {
   "cell_type": "markdown",
   "metadata": {
    "slideshow": {
     "slide_type": "fragment"
    }
   },
   "source": [
    "<img src=\"https://www.ecestaticos.com/imagestatic/clipping/faf/a98/fafa98403680b8daf849ebf6810f9df4/como-fueron-los-ultimos-momentos-en-el-titanic-segun-la-carta-de-un-superviviente.jpg?mtime=1475840844\" />"
   ]
  },
  {
   "cell_type": "markdown",
   "metadata": {
    "slideshow": {
     "slide_type": "subslide"
    }
   },
   "source": [
    "## Diccionario de datos\n",
    "\n",
    "<table>\n",
    "    <tr>\n",
    "        <td><strong>Variable</strong></td>\n",
    "        <td><strong>Definition</strong></td>\n",
    "        <td><strong>Key</strong></td>\n",
    "    </tr>\n",
    "    <tr>\n",
    "        <td>survival</td>\n",
    "        <td>Survival</td>\n",
    "        <td>0 = No, 1 = Yes</td>\n",
    "    </tr>\n",
    "    <tr>\n",
    "        <td>pclass</td>\n",
    "        <td>Ticket class</td>\n",
    "        <td>1 = 1st, 2 = 2nd, 3 = 3rd</td>\n",
    "    </tr>\n",
    "    <tr>\n",
    "        <td>sex</td>\n",
    "        <td>Sex</td>\n",
    "        <td></td>\n",
    "    </tr>\n",
    "    <tr>\n",
    "        <td>Age</td>\n",
    "        <td>Age in years</td>\n",
    "        <td></td>\n",
    "    </tr>\n",
    "    <tr>\n",
    "        <td>sibsp</td>\n",
    "        <td># of siblings / spouses aboard the Titanic</td>\n",
    "        <td></td>\n",
    "    </tr>\n",
    "    <tr>\n",
    "        <td>parch</td>\n",
    "        <td># of parents / childers aboard the Tatinic</td>\n",
    "        <td></td>\n",
    "    </tr>\n",
    "    <tr>\n",
    "        <td>ticket</td>\n",
    "        <td>Ticket number</td>\n",
    "        <td></td>\n",
    "    </tr>\n",
    "    <tr>\n",
    "        <td>fare</td>\n",
    "        <td>Passenger fare</td>\n",
    "        <td></td>\n",
    "    </tr>\n",
    "    <tr>\n",
    "        <td>cabin</td>\n",
    "        <td>Cabin number</td>\n",
    "        <td></td>\n",
    "    </tr>\n",
    "    <tr>\n",
    "        <td>embarked</td>\n",
    "        <td>Port of Embarkation</td>\n",
    "        <td>C = Cherbourg, Q = Queenstown, S = Southampton</td>\n",
    "    </tr>\n",
    "</table>\n",
    "\n",
    "\n",
    "## Notas sobre las variables\n",
    "**pclass:** A proxy for socio-economic status (SES)\n",
    "\n",
    "**1st** = Upper\n",
    "\n",
    "**2nd** = Middle\n",
    "\n",
    "**3rd** = Lower\n",
    "\n",
    "\n",
    "**age**: Age is fractional if less than 1. If the age is estimated, is it in the form of xx.5\n",
    "\n",
    "**sibsp**: The dataset defines family relations in this way...\n",
    "**Sibling** = brother, sister, stepbrother, stepsister\n",
    "**Spouse** = husband, wife (mistresses and fiancés were ignored)\n",
    "\n",
    "**parch** = The dataset defines family relations in this way...\n",
    "**Parent** = mother, father\n",
    "**Child** = daughter, son, stepdaughter, stepson\n",
    "Some children travelled only with a nanny, therefore parch=0 for them."
   ]
  },
  {
   "cell_type": "code",
   "execution_count": 1,
   "metadata": {
    "ExecuteTime": {
     "end_time": "2023-03-13T13:06:16.546140Z",
     "start_time": "2023-03-13T13:06:14.186691Z"
    },
    "slideshow": {
     "slide_type": "subslide"
    }
   },
   "outputs": [],
   "source": [
    "import pandas as pd\n",
    "import numpy as np\n",
    "%matplotlib inline\n",
    "import matplotlib.pyplot as plt\n",
    "from scipy import stats\n",
    "import seaborn as sns"
   ]
  },
  {
   "cell_type": "code",
   "execution_count": 2,
   "metadata": {
    "ExecuteTime": {
     "end_time": "2023-03-13T13:06:16.572004Z",
     "start_time": "2023-03-13T13:06:16.549761Z"
    },
    "slideshow": {
     "slide_type": "fragment"
    }
   },
   "outputs": [],
   "source": [
    "train = pd.read_csv('data/train.csv')\n",
    "test = pd.read_csv('data/test.csv')\n",
    "full = pd.concat([train, test], sort=False)\n",
    "\n",
    "renamed_columns = {'Age': 'age', 'Cabin': 'cabin', 'Embarked': 'embarked', \n",
    "                   'Fare': 'fare', 'Name': 'name', 'Parch': 'parch', 'PassengerId': 'passenger_id', \n",
    "                   'Pclass': 'p_class', 'Sex': 'sex', 'SibSp': 'sib_sp', 'Survived': 'survived', 'Ticket': 'ticket'\n",
    "                  }\n",
    "train.rename(columns=renamed_columns, inplace=True)\n",
    "test.rename(columns=renamed_columns, inplace=True)\n",
    "full.rename(columns=renamed_columns, inplace=True)"
   ]
  },
  {
   "cell_type": "markdown",
   "metadata": {
    "slideshow": {
     "slide_type": "subslide"
    }
   },
   "source": [
    "# Descripción general de los datos"
   ]
  },
  {
   "cell_type": "code",
   "execution_count": 3,
   "metadata": {
    "ExecuteTime": {
     "end_time": "2023-03-13T13:06:16.587899Z",
     "start_time": "2023-03-13T13:06:16.580414Z"
    },
    "slideshow": {
     "slide_type": "fragment"
    }
   },
   "outputs": [
    {
     "data": {
      "text/plain": [
       "((891, 12), (418, 11), (1309, 12))"
      ]
     },
     "execution_count": 3,
     "metadata": {},
     "output_type": "execute_result"
    }
   ],
   "source": [
    "train.shape, test.shape, full.shape"
   ]
  },
  {
   "cell_type": "code",
   "execution_count": 4,
   "metadata": {
    "ExecuteTime": {
     "end_time": "2023-03-13T13:06:16.600026Z",
     "start_time": "2023-03-13T13:06:16.590466Z"
    }
   },
   "outputs": [
    {
     "data": {
      "text/plain": [
       "(1309, 12)"
      ]
     },
     "execution_count": 4,
     "metadata": {},
     "output_type": "execute_result"
    }
   ],
   "source": [
    "full.drop_duplicates().shape"
   ]
  },
  {
   "cell_type": "code",
   "execution_count": 5,
   "metadata": {
    "ExecuteTime": {
     "end_time": "2023-03-13T13:06:16.616942Z",
     "start_time": "2023-03-13T13:06:16.602104Z"
    },
    "slideshow": {
     "slide_type": "fragment"
    }
   },
   "outputs": [
    {
     "data": {
      "text/html": [
       "<div>\n",
       "<style scoped>\n",
       "    .dataframe tbody tr th:only-of-type {\n",
       "        vertical-align: middle;\n",
       "    }\n",
       "\n",
       "    .dataframe tbody tr th {\n",
       "        vertical-align: top;\n",
       "    }\n",
       "\n",
       "    .dataframe thead th {\n",
       "        text-align: right;\n",
       "    }\n",
       "</style>\n",
       "<table border=\"1\" class=\"dataframe\">\n",
       "  <thead>\n",
       "    <tr style=\"text-align: right;\">\n",
       "      <th></th>\n",
       "      <th>passenger_id</th>\n",
       "      <th>survived</th>\n",
       "      <th>p_class</th>\n",
       "      <th>name</th>\n",
       "      <th>sex</th>\n",
       "      <th>age</th>\n",
       "      <th>sib_sp</th>\n",
       "      <th>parch</th>\n",
       "      <th>ticket</th>\n",
       "      <th>fare</th>\n",
       "      <th>cabin</th>\n",
       "      <th>embarked</th>\n",
       "    </tr>\n",
       "  </thead>\n",
       "  <tbody>\n",
       "    <tr>\n",
       "      <th>0</th>\n",
       "      <td>1</td>\n",
       "      <td>0.0</td>\n",
       "      <td>3</td>\n",
       "      <td>Braund, Mr. Owen Harris</td>\n",
       "      <td>male</td>\n",
       "      <td>22.0</td>\n",
       "      <td>1</td>\n",
       "      <td>0</td>\n",
       "      <td>A/5 21171</td>\n",
       "      <td>7.2500</td>\n",
       "      <td>NaN</td>\n",
       "      <td>S</td>\n",
       "    </tr>\n",
       "    <tr>\n",
       "      <th>1</th>\n",
       "      <td>2</td>\n",
       "      <td>1.0</td>\n",
       "      <td>1</td>\n",
       "      <td>Cumings, Mrs. John Bradley (Florence Briggs Th...</td>\n",
       "      <td>female</td>\n",
       "      <td>38.0</td>\n",
       "      <td>1</td>\n",
       "      <td>0</td>\n",
       "      <td>PC 17599</td>\n",
       "      <td>71.2833</td>\n",
       "      <td>C85</td>\n",
       "      <td>C</td>\n",
       "    </tr>\n",
       "    <tr>\n",
       "      <th>2</th>\n",
       "      <td>3</td>\n",
       "      <td>1.0</td>\n",
       "      <td>3</td>\n",
       "      <td>Heikkinen, Miss. Laina</td>\n",
       "      <td>female</td>\n",
       "      <td>26.0</td>\n",
       "      <td>0</td>\n",
       "      <td>0</td>\n",
       "      <td>STON/O2. 3101282</td>\n",
       "      <td>7.9250</td>\n",
       "      <td>NaN</td>\n",
       "      <td>S</td>\n",
       "    </tr>\n",
       "    <tr>\n",
       "      <th>3</th>\n",
       "      <td>4</td>\n",
       "      <td>1.0</td>\n",
       "      <td>1</td>\n",
       "      <td>Futrelle, Mrs. Jacques Heath (Lily May Peel)</td>\n",
       "      <td>female</td>\n",
       "      <td>35.0</td>\n",
       "      <td>1</td>\n",
       "      <td>0</td>\n",
       "      <td>113803</td>\n",
       "      <td>53.1000</td>\n",
       "      <td>C123</td>\n",
       "      <td>S</td>\n",
       "    </tr>\n",
       "    <tr>\n",
       "      <th>4</th>\n",
       "      <td>5</td>\n",
       "      <td>0.0</td>\n",
       "      <td>3</td>\n",
       "      <td>Allen, Mr. William Henry</td>\n",
       "      <td>male</td>\n",
       "      <td>35.0</td>\n",
       "      <td>0</td>\n",
       "      <td>0</td>\n",
       "      <td>373450</td>\n",
       "      <td>8.0500</td>\n",
       "      <td>NaN</td>\n",
       "      <td>S</td>\n",
       "    </tr>\n",
       "  </tbody>\n",
       "</table>\n",
       "</div>"
      ],
      "text/plain": [
       "   passenger_id  survived  p_class  \\\n",
       "0             1       0.0        3   \n",
       "1             2       1.0        1   \n",
       "2             3       1.0        3   \n",
       "3             4       1.0        1   \n",
       "4             5       0.0        3   \n",
       "\n",
       "                                                name     sex   age  sib_sp  \\\n",
       "0                            Braund, Mr. Owen Harris    male  22.0       1   \n",
       "1  Cumings, Mrs. John Bradley (Florence Briggs Th...  female  38.0       1   \n",
       "2                             Heikkinen, Miss. Laina  female  26.0       0   \n",
       "3       Futrelle, Mrs. Jacques Heath (Lily May Peel)  female  35.0       1   \n",
       "4                           Allen, Mr. William Henry    male  35.0       0   \n",
       "\n",
       "   parch            ticket     fare cabin embarked  \n",
       "0      0         A/5 21171   7.2500   NaN        S  \n",
       "1      0          PC 17599  71.2833   C85        C  \n",
       "2      0  STON/O2. 3101282   7.9250   NaN        S  \n",
       "3      0            113803  53.1000  C123        S  \n",
       "4      0            373450   8.0500   NaN        S  "
      ]
     },
     "execution_count": 5,
     "metadata": {},
     "output_type": "execute_result"
    }
   ],
   "source": [
    "full.head()"
   ]
  },
  {
   "cell_type": "code",
   "execution_count": 6,
   "metadata": {
    "ExecuteTime": {
     "end_time": "2023-03-13T13:06:16.646408Z",
     "start_time": "2023-03-13T13:06:16.619805Z"
    },
    "slideshow": {
     "slide_type": "subslide"
    }
   },
   "outputs": [
    {
     "data": {
      "text/html": [
       "<div>\n",
       "<style scoped>\n",
       "    .dataframe tbody tr th:only-of-type {\n",
       "        vertical-align: middle;\n",
       "    }\n",
       "\n",
       "    .dataframe tbody tr th {\n",
       "        vertical-align: top;\n",
       "    }\n",
       "\n",
       "    .dataframe thead th {\n",
       "        text-align: right;\n",
       "    }\n",
       "</style>\n",
       "<table border=\"1\" class=\"dataframe\">\n",
       "  <thead>\n",
       "    <tr style=\"text-align: right;\">\n",
       "      <th></th>\n",
       "      <th>passenger_id</th>\n",
       "      <th>survived</th>\n",
       "      <th>p_class</th>\n",
       "      <th>age</th>\n",
       "      <th>sib_sp</th>\n",
       "      <th>parch</th>\n",
       "      <th>fare</th>\n",
       "    </tr>\n",
       "  </thead>\n",
       "  <tbody>\n",
       "    <tr>\n",
       "      <th>count</th>\n",
       "      <td>1309.000000</td>\n",
       "      <td>891.000000</td>\n",
       "      <td>1309.000000</td>\n",
       "      <td>1046.000000</td>\n",
       "      <td>1309.000000</td>\n",
       "      <td>1309.000000</td>\n",
       "      <td>1308.000000</td>\n",
       "    </tr>\n",
       "    <tr>\n",
       "      <th>mean</th>\n",
       "      <td>655.000000</td>\n",
       "      <td>0.383838</td>\n",
       "      <td>2.294882</td>\n",
       "      <td>29.881138</td>\n",
       "      <td>0.498854</td>\n",
       "      <td>0.385027</td>\n",
       "      <td>33.295479</td>\n",
       "    </tr>\n",
       "    <tr>\n",
       "      <th>std</th>\n",
       "      <td>378.020061</td>\n",
       "      <td>0.486592</td>\n",
       "      <td>0.837836</td>\n",
       "      <td>14.413493</td>\n",
       "      <td>1.041658</td>\n",
       "      <td>0.865560</td>\n",
       "      <td>51.758668</td>\n",
       "    </tr>\n",
       "    <tr>\n",
       "      <th>min</th>\n",
       "      <td>1.000000</td>\n",
       "      <td>0.000000</td>\n",
       "      <td>1.000000</td>\n",
       "      <td>0.170000</td>\n",
       "      <td>0.000000</td>\n",
       "      <td>0.000000</td>\n",
       "      <td>0.000000</td>\n",
       "    </tr>\n",
       "    <tr>\n",
       "      <th>25%</th>\n",
       "      <td>328.000000</td>\n",
       "      <td>0.000000</td>\n",
       "      <td>2.000000</td>\n",
       "      <td>21.000000</td>\n",
       "      <td>0.000000</td>\n",
       "      <td>0.000000</td>\n",
       "      <td>7.895800</td>\n",
       "    </tr>\n",
       "    <tr>\n",
       "      <th>50%</th>\n",
       "      <td>655.000000</td>\n",
       "      <td>0.000000</td>\n",
       "      <td>3.000000</td>\n",
       "      <td>28.000000</td>\n",
       "      <td>0.000000</td>\n",
       "      <td>0.000000</td>\n",
       "      <td>14.454200</td>\n",
       "    </tr>\n",
       "    <tr>\n",
       "      <th>75%</th>\n",
       "      <td>982.000000</td>\n",
       "      <td>1.000000</td>\n",
       "      <td>3.000000</td>\n",
       "      <td>39.000000</td>\n",
       "      <td>1.000000</td>\n",
       "      <td>0.000000</td>\n",
       "      <td>31.275000</td>\n",
       "    </tr>\n",
       "    <tr>\n",
       "      <th>max</th>\n",
       "      <td>1309.000000</td>\n",
       "      <td>1.000000</td>\n",
       "      <td>3.000000</td>\n",
       "      <td>80.000000</td>\n",
       "      <td>8.000000</td>\n",
       "      <td>9.000000</td>\n",
       "      <td>512.329200</td>\n",
       "    </tr>\n",
       "  </tbody>\n",
       "</table>\n",
       "</div>"
      ],
      "text/plain": [
       "       passenger_id    survived      p_class          age       sib_sp  \\\n",
       "count   1309.000000  891.000000  1309.000000  1046.000000  1309.000000   \n",
       "mean     655.000000    0.383838     2.294882    29.881138     0.498854   \n",
       "std      378.020061    0.486592     0.837836    14.413493     1.041658   \n",
       "min        1.000000    0.000000     1.000000     0.170000     0.000000   \n",
       "25%      328.000000    0.000000     2.000000    21.000000     0.000000   \n",
       "50%      655.000000    0.000000     3.000000    28.000000     0.000000   \n",
       "75%      982.000000    1.000000     3.000000    39.000000     1.000000   \n",
       "max     1309.000000    1.000000     3.000000    80.000000     8.000000   \n",
       "\n",
       "             parch         fare  \n",
       "count  1309.000000  1308.000000  \n",
       "mean      0.385027    33.295479  \n",
       "std       0.865560    51.758668  \n",
       "min       0.000000     0.000000  \n",
       "25%       0.000000     7.895800  \n",
       "50%       0.000000    14.454200  \n",
       "75%       0.000000    31.275000  \n",
       "max       9.000000   512.329200  "
      ]
     },
     "execution_count": 6,
     "metadata": {},
     "output_type": "execute_result"
    }
   ],
   "source": [
    "full.describe()"
   ]
  },
  {
   "cell_type": "code",
   "execution_count": 7,
   "metadata": {
    "ExecuteTime": {
     "end_time": "2023-03-13T13:06:16.656299Z",
     "start_time": "2023-03-13T13:06:16.649024Z"
    },
    "slideshow": {
     "slide_type": "subslide"
    }
   },
   "outputs": [
    {
     "data": {
      "text/plain": [
       "passenger_id       0\n",
       "survived         418\n",
       "p_class            0\n",
       "name               0\n",
       "sex                0\n",
       "age              263\n",
       "sib_sp             0\n",
       "parch              0\n",
       "ticket             0\n",
       "fare               1\n",
       "cabin           1014\n",
       "embarked           2\n",
       "dtype: int64"
      ]
     },
     "execution_count": 7,
     "metadata": {},
     "output_type": "execute_result"
    }
   ],
   "source": [
    "full.isnull().sum()"
   ]
  },
  {
   "cell_type": "code",
   "execution_count": 8,
   "metadata": {
    "ExecuteTime": {
     "end_time": "2023-03-13T13:06:16.830502Z",
     "start_time": "2023-03-13T13:06:16.658299Z"
    }
   },
   "outputs": [
    {
     "data": {
      "text/plain": [
       "<AxesSubplot:>"
      ]
     },
     "execution_count": 8,
     "metadata": {},
     "output_type": "execute_result"
    },
    {
     "data": {
      "image/png": "[encoded data removed]",
      "text/plain": [
       "<Figure size 432x288 with 1 Axes>"
      ]
     },
     "metadata": {
      "needs_background": "light"
     },
     "output_type": "display_data"
    }
   ],
   "source": [
    "full.age.hist()"
   ]
  },
  {
   "cell_type": "code",
   "execution_count": 9,
   "metadata": {
    "ExecuteTime": {
     "end_time": "2023-03-13T13:06:16.982846Z",
     "start_time": "2023-03-13T13:06:16.838891Z"
    }
   },
   "outputs": [
    {
     "data": {
      "text/plain": [
       "<AxesSubplot:ylabel='Density'>"
      ]
     },
     "execution_count": 9,
     "metadata": {},
     "output_type": "execute_result"
    },
    {
     "data": {
      "image/png": "[encoded data removed]",
      "text/plain": [
       "<Figure size 432x288 with 1 Axes>"
      ]
     },
     "metadata": {
      "needs_background": "light"
     },
     "output_type": "display_data"
    }
   ],
   "source": [
    "full.age.plot(kind='kde')"
   ]
  },
  {
   "cell_type": "code",
   "execution_count": 10,
   "metadata": {
    "ExecuteTime": {
     "end_time": "2023-03-13T13:06:16.989508Z",
     "start_time": "2023-03-13T13:06:16.985063Z"
    }
   },
   "outputs": [
    {
     "data": {
      "text/plain": [
       "5.74782790807582e-11"
      ]
     },
     "execution_count": 10,
     "metadata": {},
     "output_type": "execute_result"
    }
   ],
   "source": [
    "stats.shapiro(full.age.dropna())[1]"
   ]
  },
  {
   "cell_type": "code",
   "execution_count": 11,
   "metadata": {
    "ExecuteTime": {
     "end_time": "2023-03-13T13:06:17.139798Z",
     "start_time": "2023-03-13T13:06:16.991812Z"
    }
   },
   "outputs": [
    {
     "data": {
      "text/plain": [
       "sex\n",
       "female    AxesSubplot(0.125,0.125;0.775x0.755)\n",
       "male      AxesSubplot(0.125,0.125;0.775x0.755)\n",
       "Name: age, dtype: object"
      ]
     },
     "execution_count": 11,
     "metadata": {},
     "output_type": "execute_result"
    },
    {
     "data": {
      "image/png": "[encoded data removed]",
      "text/plain": [
       "<Figure size 432x288 with 1 Axes>"
      ]
     },
     "metadata": {
      "needs_background": "light"
     },
     "output_type": "display_data"
    }
   ],
   "source": [
    "full.groupby('sex')['age'].plot(kind='kde')"
   ]
  },
  {
   "cell_type": "markdown",
   "metadata": {},
   "source": [
    "# Qué tipos de datos tienen las variables?"
   ]
  },
  {
   "cell_type": "code",
   "execution_count": 12,
   "metadata": {
    "ExecuteTime": {
     "end_time": "2023-03-13T13:06:17.147832Z",
     "start_time": "2023-03-13T13:06:17.142417Z"
    }
   },
   "outputs": [
    {
     "data": {
      "text/plain": [
       "passenger_id      int64\n",
       "survived        float64\n",
       "p_class           int64\n",
       "name             object\n",
       "sex              object\n",
       "age             float64\n",
       "sib_sp            int64\n",
       "parch             int64\n",
       "ticket           object\n",
       "fare            float64\n",
       "cabin            object\n",
       "embarked         object\n",
       "dtype: object"
      ]
     },
     "execution_count": 12,
     "metadata": {},
     "output_type": "execute_result"
    }
   ],
   "source": [
    "full.dtypes"
   ]
  },
  {
   "cell_type": "code",
   "execution_count": 13,
   "metadata": {
    "ExecuteTime": {
     "end_time": "2023-03-13T13:06:17.162106Z",
     "start_time": "2023-03-13T13:06:17.150171Z"
    }
   },
   "outputs": [
    {
     "data": {
      "text/html": [
       "<div>\n",
       "<style scoped>\n",
       "    .dataframe tbody tr th:only-of-type {\n",
       "        vertical-align: middle;\n",
       "    }\n",
       "\n",
       "    .dataframe tbody tr th {\n",
       "        vertical-align: top;\n",
       "    }\n",
       "\n",
       "    .dataframe thead th {\n",
       "        text-align: right;\n",
       "    }\n",
       "</style>\n",
       "<table border=\"1\" class=\"dataframe\">\n",
       "  <thead>\n",
       "    <tr style=\"text-align: right;\">\n",
       "      <th></th>\n",
       "      <th>passenger_id</th>\n",
       "      <th>survived</th>\n",
       "      <th>p_class</th>\n",
       "      <th>name</th>\n",
       "      <th>sex</th>\n",
       "      <th>age</th>\n",
       "      <th>sib_sp</th>\n",
       "      <th>parch</th>\n",
       "      <th>ticket</th>\n",
       "      <th>fare</th>\n",
       "      <th>cabin</th>\n",
       "      <th>embarked</th>\n",
       "    </tr>\n",
       "  </thead>\n",
       "  <tbody>\n",
       "    <tr>\n",
       "      <th>726</th>\n",
       "      <td>727</td>\n",
       "      <td>1.0</td>\n",
       "      <td>2</td>\n",
       "      <td>Renouf, Mrs. Peter Henry (Lillian Jefferys)</td>\n",
       "      <td>female</td>\n",
       "      <td>30.0</td>\n",
       "      <td>3</td>\n",
       "      <td>0</td>\n",
       "      <td>31027</td>\n",
       "      <td>21.0000</td>\n",
       "      <td>NaN</td>\n",
       "      <td>S</td>\n",
       "    </tr>\n",
       "    <tr>\n",
       "      <th>176</th>\n",
       "      <td>177</td>\n",
       "      <td>0.0</td>\n",
       "      <td>3</td>\n",
       "      <td>Lefebre, Master. Henry Forbes</td>\n",
       "      <td>male</td>\n",
       "      <td>NaN</td>\n",
       "      <td>3</td>\n",
       "      <td>1</td>\n",
       "      <td>4133</td>\n",
       "      <td>25.4667</td>\n",
       "      <td>NaN</td>\n",
       "      <td>S</td>\n",
       "    </tr>\n",
       "    <tr>\n",
       "      <th>424</th>\n",
       "      <td>425</td>\n",
       "      <td>0.0</td>\n",
       "      <td>3</td>\n",
       "      <td>Rosblom, Mr. Viktor Richard</td>\n",
       "      <td>male</td>\n",
       "      <td>18.0</td>\n",
       "      <td>1</td>\n",
       "      <td>1</td>\n",
       "      <td>370129</td>\n",
       "      <td>20.2125</td>\n",
       "      <td>NaN</td>\n",
       "      <td>S</td>\n",
       "    </tr>\n",
       "    <tr>\n",
       "      <th>187</th>\n",
       "      <td>188</td>\n",
       "      <td>1.0</td>\n",
       "      <td>1</td>\n",
       "      <td>Romaine, Mr. Charles Hallace (\"Mr C Rolmane\")</td>\n",
       "      <td>male</td>\n",
       "      <td>45.0</td>\n",
       "      <td>0</td>\n",
       "      <td>0</td>\n",
       "      <td>111428</td>\n",
       "      <td>26.5500</td>\n",
       "      <td>NaN</td>\n",
       "      <td>S</td>\n",
       "    </tr>\n",
       "  </tbody>\n",
       "</table>\n",
       "</div>"
      ],
      "text/plain": [
       "     passenger_id  survived  p_class  \\\n",
       "726           727       1.0        2   \n",
       "176           177       0.0        3   \n",
       "424           425       0.0        3   \n",
       "187           188       1.0        1   \n",
       "\n",
       "                                              name     sex   age  sib_sp  \\\n",
       "726    Renouf, Mrs. Peter Henry (Lillian Jefferys)  female  30.0       3   \n",
       "176                  Lefebre, Master. Henry Forbes    male   NaN       3   \n",
       "424                    Rosblom, Mr. Viktor Richard    male  18.0       1   \n",
       "187  Romaine, Mr. Charles Hallace (\"Mr C Rolmane\")    male  45.0       0   \n",
       "\n",
       "     parch  ticket     fare cabin embarked  \n",
       "726      0   31027  21.0000   NaN        S  \n",
       "176      1    4133  25.4667   NaN        S  \n",
       "424      1  370129  20.2125   NaN        S  \n",
       "187      0  111428  26.5500   NaN        S  "
      ]
     },
     "execution_count": 13,
     "metadata": {},
     "output_type": "execute_result"
    }
   ],
   "source": [
    "full.sample(4)"
   ]
  },
  {
   "cell_type": "markdown",
   "metadata": {
    "slideshow": {
     "slide_type": "subslide"
    }
   },
   "source": [
    "# ¿Cuál fue la proporción de sobrevivientes sobre el total?"
   ]
  },
  {
   "cell_type": "code",
   "execution_count": 14,
   "metadata": {
    "ExecuteTime": {
     "end_time": "2023-03-13T13:06:17.308629Z",
     "start_time": "2023-03-13T13:06:17.165201Z"
    },
    "slideshow": {
     "slide_type": "fragment"
    }
   },
   "outputs": [
    {
     "data": {
      "image/png": "[encoded data removed]",
      "text/plain": [
       "<Figure size 432x288 with 1 Axes>"
      ]
     },
     "metadata": {
      "needs_background": "light"
     },
     "output_type": "display_data"
    }
   ],
   "source": [
    "full.survived.value_counts().plot.bar(title='# de sobrevivientes');"
   ]
  },
  {
   "cell_type": "code",
   "execution_count": 15,
   "metadata": {
    "ExecuteTime": {
     "end_time": "2023-03-13T13:06:17.402420Z",
     "start_time": "2023-03-13T13:06:17.311064Z"
    }
   },
   "outputs": [
    {
     "data": {
      "image/png": "[encoded data removed]",
      "text/plain": [
       "<Figure size 432x288 with 1 Axes>"
      ]
     },
     "metadata": {
      "needs_background": "light"
     },
     "output_type": "display_data"
    }
   ],
   "source": [
    "full.survived.value_counts(normalize=True).plot.bar(title='% de sobrevivientes');"
   ]
  },
  {
   "cell_type": "markdown",
   "metadata": {
    "slideshow": {
     "slide_type": "subslide"
    }
   },
   "source": [
    "# ¿Y si disociamos por clase?"
   ]
  },
  {
   "cell_type": "code",
   "execution_count": 16,
   "metadata": {
    "ExecuteTime": {
     "end_time": "2023-03-13T13:06:17.689154Z",
     "start_time": "2023-03-13T13:06:17.404514Z"
    },
    "slideshow": {
     "slide_type": "fragment"
    }
   },
   "outputs": [
    {
     "data": {
      "image/png": "[encoded data removed]",
      "text/plain": [
       "<Figure size 432x288 with 1 Axes>"
      ]
     },
     "metadata": {
      "needs_background": "light"
     },
     "output_type": "display_data"
    },
    {
     "data": {
      "image/png": "[encoded data removed]",
      "text/plain": [
       "<Figure size 432x288 with 1 Axes>"
      ]
     },
     "metadata": {
      "needs_background": "light"
     },
     "output_type": "display_data"
    },
    {
     "data": {
      "image/png": "[encoded data removed]",
      "text/plain": [
       "<Figure size 432x288 with 1 Axes>"
      ]
     },
     "metadata": {
      "needs_background": "light"
     },
     "output_type": "display_data"
    }
   ],
   "source": [
    "classes = full.p_class.unique()\n",
    "classes.sort()\n",
    "\n",
    "for c in classes:\n",
    "    full[full.p_class == c].survived.value_counts().sort_index().plot.bar(title=f'% de sobrevivientes (clase {c})')\n",
    "    plt.show()"
   ]
  },
  {
   "cell_type": "markdown",
   "metadata": {
    "slideshow": {
     "slide_type": "subslide"
    }
   },
   "source": [
    "# Mujeres y niños primero! ... mujeres y niños primero ?"
   ]
  },
  {
   "cell_type": "markdown",
   "metadata": {},
   "source": [
    "## Mujeres"
   ]
  },
  {
   "cell_type": "code",
   "execution_count": 17,
   "metadata": {
    "ExecuteTime": {
     "end_time": "2023-03-13T13:06:17.787104Z",
     "start_time": "2023-03-13T13:06:17.691516Z"
    },
    "slideshow": {
     "slide_type": "fragment"
    }
   },
   "outputs": [
    {
     "data": {
      "image/png": "[encoded data removed]",
      "text/plain": [
       "<Figure size 432x288 with 1 Axes>"
      ]
     },
     "metadata": {
      "needs_background": "light"
     },
     "output_type": "display_data"
    }
   ],
   "source": [
    "full[(full.sex == 'female')].survived.value_counts(normalize=True).sort_index().plot.bar(title='% de mujeres que sobrevivieron');"
   ]
  },
  {
   "cell_type": "code",
   "execution_count": 18,
   "metadata": {
    "ExecuteTime": {
     "end_time": "2023-03-13T13:06:17.895214Z",
     "start_time": "2023-03-13T13:06:17.789421Z"
    }
   },
   "outputs": [
    {
     "data": {
      "image/png": "[encoded data removed]",
      "text/plain": [
       "<Figure size 432x288 with 1 Axes>"
      ]
     },
     "metadata": {
      "needs_background": "light"
     },
     "output_type": "display_data"
    }
   ],
   "source": [
    "full[(full.sex == 'male')].survived.value_counts(normalize=True).sort_index().plot.bar(title='% de hombres que sobrevivieron');"
   ]
  },
  {
   "cell_type": "markdown",
   "metadata": {},
   "source": [
    "## Niños"
   ]
  },
  {
   "cell_type": "code",
   "execution_count": 19,
   "metadata": {
    "ExecuteTime": {
     "end_time": "2023-03-13T13:06:17.901224Z",
     "start_time": "2023-03-13T13:06:17.897696Z"
    },
    "slideshow": {
     "slide_type": "subslide"
    }
   },
   "outputs": [],
   "source": [
    "full['children'] = full.age <= 8"
   ]
  },
  {
   "cell_type": "code",
   "execution_count": 20,
   "metadata": {
    "ExecuteTime": {
     "end_time": "2023-03-13T13:06:18.006254Z",
     "start_time": "2023-03-13T13:06:17.903600Z"
    }
   },
   "outputs": [
    {
     "data": {
      "text/plain": [
       "<AxesSubplot:title={'center':'% de niños que sobrevivieron'}>"
      ]
     },
     "execution_count": 20,
     "metadata": {},
     "output_type": "execute_result"
    },
    {
     "data": {
      "image/png": "[encoded data removed]",
      "text/plain": [
       "<Figure size 432x288 with 1 Axes>"
      ]
     },
     "metadata": {
      "needs_background": "light"
     },
     "output_type": "display_data"
    }
   ],
   "source": [
    "full[(full.children == True)].survived.value_counts(normalize=True).sort_index().plot.bar(title='% de niños que sobrevivieron')"
   ]
  },
  {
   "cell_type": "code",
   "execution_count": 21,
   "metadata": {
    "ExecuteTime": {
     "end_time": "2023-03-13T13:06:18.113243Z",
     "start_time": "2023-03-13T13:06:18.008888Z"
    }
   },
   "outputs": [
    {
     "data": {
      "text/plain": [
       "<AxesSubplot:title={'center':'% de adultos que sobrevivieron'}>"
      ]
     },
     "execution_count": 21,
     "metadata": {},
     "output_type": "execute_result"
    },
    {
     "data": {
      "image/png": "[encoded data removed]",
      "text/plain": [
       "<Figure size 432x288 with 1 Axes>"
      ]
     },
     "metadata": {
      "needs_background": "light"
     },
     "output_type": "display_data"
    }
   ],
   "source": [
    "full[(full.children == False)].survived.value_counts(normalize=True).sort_index().plot.bar(title='% de adultos que sobrevivieron')"
   ]
  },
  {
   "cell_type": "markdown",
   "metadata": {
    "slideshow": {
     "slide_type": "subslide"
    }
   },
   "source": [
    "# ¿Existe alguna relación entre la clase del pasajero y sus probabilidades de sobrevivir?"
   ]
  },
  {
   "cell_type": "code",
   "execution_count": 22,
   "metadata": {
    "ExecuteTime": {
     "end_time": "2023-03-13T13:06:18.224553Z",
     "start_time": "2023-03-13T13:06:18.115388Z"
    }
   },
   "outputs": [
    {
     "data": {
      "text/plain": [
       "<AxesSubplot:title={'center':'% de sobrevivientes por clase'}>"
      ]
     },
     "execution_count": 22,
     "metadata": {},
     "output_type": "execute_result"
    },
    {
     "data": {
      "image/png": "[encoded data removed]",
      "text/plain": [
       "<Figure size 432x288 with 1 Axes>"
      ]
     },
     "metadata": {
      "needs_background": "light"
     },
     "output_type": "display_data"
    }
   ],
   "source": [
    "(full[full.survived == True].p_class.value_counts() / full.p_class.value_counts()).plot.bar(title='% de sobrevivientes por clase')"
   ]
  },
  {
   "cell_type": "markdown",
   "metadata": {
    "slideshow": {
     "slide_type": "subslide"
    }
   },
   "source": [
    "# ¿La cabina podría aportar algo de información?"
   ]
  },
  {
   "cell_type": "markdown",
   "metadata": {
    "slideshow": {
     "slide_type": "fragment"
    }
   },
   "source": [
    "<img src=\"https://upload.wikimedia.org/wikipedia/commons/thumb/8/84/Titanic_cutaway_diagram.png/687px-Titanic_cutaway_diagram.png\" />"
   ]
  },
  {
   "cell_type": "code",
   "execution_count": 23,
   "metadata": {
    "ExecuteTime": {
     "end_time": "2023-03-13T13:06:18.232920Z",
     "start_time": "2023-03-13T13:06:18.226821Z"
    }
   },
   "outputs": [
    {
     "data": {
      "text/plain": [
       "177           C116\n",
       "484            B49\n",
       "53     C23 C25 C27\n",
       "Name: cabin, dtype: object"
      ]
     },
     "execution_count": 23,
     "metadata": {},
     "output_type": "execute_result"
    }
   ],
   "source": [
    "full[full.cabin.notnull()].cabin.sample(3)"
   ]
  },
  {
   "cell_type": "code",
   "execution_count": 24,
   "metadata": {
    "ExecuteTime": {
     "end_time": "2023-03-13T13:06:18.239993Z",
     "start_time": "2023-03-13T13:06:18.235182Z"
    },
    "scrolled": true,
    "slideshow": {
     "slide_type": "subslide"
    }
   },
   "outputs": [],
   "source": [
    "full['cabin_letter'] = full.cabin.str.strip().str[:1]"
   ]
  },
  {
   "cell_type": "code",
   "execution_count": 25,
   "metadata": {
    "ExecuteTime": {
     "end_time": "2023-03-13T13:06:18.247750Z",
     "start_time": "2023-03-13T13:06:18.243074Z"
    },
    "slideshow": {
     "slide_type": "fragment"
    }
   },
   "outputs": [
    {
     "name": "stdout",
     "output_type": "stream",
     "text": [
      "Porcentaje de valores nulos: 77.46 %\n"
     ]
    }
   ],
   "source": [
    "print('Porcentaje de valores nulos: {} %'.format(round(sum(full.cabin_letter.isnull()) / full.shape[0] * 100, 2)))"
   ]
  },
  {
   "cell_type": "code",
   "execution_count": 26,
   "metadata": {
    "ExecuteTime": {
     "end_time": "2023-03-13T13:06:18.571520Z",
     "start_time": "2023-03-13T13:06:18.250379Z"
    },
    "slideshow": {
     "slide_type": "fragment"
    }
   },
   "outputs": [
    {
     "data": {
      "image/png": "[encoded data removed]",
      "text/plain": [
       "<Figure size 1152x432 with 3 Axes>"
      ]
     },
     "metadata": {
      "needs_background": "light"
     },
     "output_type": "display_data"
    }
   ],
   "source": [
    "f, ax = plt.subplots(1, 3, figsize=(16, 6))\n",
    "ax[0].set_title('# de pasajeros por cabina (letra)')\n",
    "full.cabin_letter.value_counts().sort_index().plot.bar(ax=ax[0])\n",
    "\n",
    "ax[1].set_title('# de sobrevivientes por cabina (letra)')\n",
    "full[full.survived == 1].cabin_letter.value_counts().sort_index().plot.bar(ax=ax[1])\n",
    "\n",
    "ax[2].set_title('% de sobrevivientes por cabina (letra)')\n",
    "(full[full.survived == 1].cabin_letter.value_counts().sort_index() / \n",
    " full.cabin_letter.value_counts().sort_index()).plot.bar(ax=ax[2]);"
   ]
  },
  {
   "cell_type": "markdown",
   "metadata": {
    "slideshow": {
     "slide_type": "subslide"
    }
   },
   "source": [
    "# ¿Podría existir una correlación entre el puerto de embarque y la probabilidad de sobrevivir?\n",
    "\n",
    "C = Cherbourg, Q = Queenstown, S = Southampton"
   ]
  },
  {
   "cell_type": "code",
   "execution_count": 27,
   "metadata": {
    "ExecuteTime": {
     "end_time": "2023-03-13T13:06:18.873904Z",
     "start_time": "2023-03-13T13:06:18.579911Z"
    },
    "slideshow": {
     "slide_type": "fragment"
    }
   },
   "outputs": [
    {
     "data": {
      "image/png": "[encoded data removed]",
      "text/plain": [
       "<Figure size 1152x432 with 3 Axes>"
      ]
     },
     "metadata": {
      "needs_background": "light"
     },
     "output_type": "display_data"
    }
   ],
   "source": [
    "f, ax = plt.subplots(1, 3, figsize=(16, 6))\n",
    "plt.xticks(range(3), full[full.embarked.notnull()].embarked.unique())\n",
    "ax[0].set_title('# de pasajeros por puerto')\n",
    "full.embarked.value_counts().sort_index().plot.bar(ax=ax[0])\n",
    "ax[1].set_title('# de sobrevivientes por puerto')\n",
    "full[full.survived == True].embarked.value_counts().sort_index().plot.bar(ax=ax[1])\n",
    "ax[2].set_title('% de sobrevivientes por puerto')\n",
    "(full[full.survived == True].embarked.value_counts().sort_index() / full.embarked.value_counts().sort_index()).plot.bar(ax=ax[2]);"
   ]
  },
  {
   "cell_type": "code",
   "execution_count": 28,
   "metadata": {
    "ExecuteTime": {
     "end_time": "2023-03-13T13:06:19.109516Z",
     "start_time": "2023-03-13T13:06:18.876529Z"
    },
    "slideshow": {
     "slide_type": "subslide"
    }
   },
   "outputs": [
    {
     "data": {
      "image/png": "[encoded data removed]",
      "text/plain": [
       "<Figure size 1152x432 with 3 Axes>"
      ]
     },
     "metadata": {},
     "output_type": "display_data"
    }
   ],
   "source": [
    "f, ax = plt.subplots(1, 3, figsize=(16, 6))\n",
    "\n",
    "ax[0].set_title('# de pasajeros por clase (Southampton)')\n",
    "full[full.embarked == 'S'].p_class.value_counts().sort_index().plot.pie(ax=ax[0], autopct='%1.0f%%')\n",
    "ax[1].set_title('# de pasajeros por puerto (Cherbourg)')\n",
    "full[full.embarked == 'C'].p_class.value_counts().sort_index().plot.pie(ax=ax[1], autopct='%1.0f%%')\n",
    "ax[2].set_title('# de pasajeros por puerto (Queenstown)')\n",
    "full[full.embarked == 'Q'].p_class.value_counts().sort_index().plot.pie(ax=ax[2], autopct='%1.0f%%');"
   ]
  },
  {
   "cell_type": "markdown",
   "metadata": {
    "slideshow": {
     "slide_type": "subslide"
    }
   },
   "source": [
    "# ¿Cuál es la distribución de precios por billete de acuerdo a la clase?"
   ]
  },
  {
   "cell_type": "code",
   "execution_count": 29,
   "metadata": {
    "ExecuteTime": {
     "end_time": "2023-03-13T13:06:19.233774Z",
     "start_time": "2023-03-13T13:06:19.111974Z"
    },
    "scrolled": false,
    "slideshow": {
     "slide_type": "fragment"
    }
   },
   "outputs": [
    {
     "data": {
      "image/png": "[encoded data removed]",
      "text/plain": [
       "<Figure size 576x432 with 1 Axes>"
      ]
     },
     "metadata": {
      "needs_background": "light"
     },
     "output_type": "display_data"
    }
   ],
   "source": [
    "full[full.fare.notnull()][[\"p_class\", \"fare\"]].boxplot(by='p_class', figsize=(8, 6));"
   ]
  },
  {
   "cell_type": "markdown",
   "metadata": {},
   "source": [
    "# Existe alguna correlación entre el precio pagado y quienes sobrevivieron?"
   ]
  },
  {
   "cell_type": "code",
   "execution_count": 30,
   "metadata": {
    "ExecuteTime": {
     "end_time": "2023-03-13T13:06:19.351429Z",
     "start_time": "2023-03-13T13:06:19.236165Z"
    }
   },
   "outputs": [
    {
     "data": {
      "image/png": "[encoded data removed]",
      "text/plain": [
       "<Figure size 576x432 with 1 Axes>"
      ]
     },
     "metadata": {
      "needs_background": "light"
     },
     "output_type": "display_data"
    }
   ],
   "source": [
    "full[full.fare.notnull()][[\"survived\", \"fare\"]].boxplot(by='survived', figsize=(8, 6));"
   ]
  },
  {
   "cell_type": "markdown",
   "metadata": {
    "slideshow": {
     "slide_type": "subslide"
    }
   },
   "source": [
    "# Correlaciones entre variables"
   ]
  },
  {
   "cell_type": "markdown",
   "metadata": {},
   "source": [
    "<img src=\"https://upload.wikimedia.org/wikipedia/commons/thumb/d/d4/Correlation_examples2.svg/400px-Correlation_examples2.svg.png\" />"
   ]
  },
  {
   "cell_type": "code",
   "execution_count": 31,
   "metadata": {
    "ExecuteTime": {
     "end_time": "2023-03-13T13:06:19.814896Z",
     "start_time": "2023-03-13T13:06:19.354195Z"
    },
    "slideshow": {
     "slide_type": "fragment"
    }
   },
   "outputs": [
    {
     "data": {
      "image/png": "[encoded data removed]",
      "text/plain": [
       "<Figure size 720x576 with 2 Axes>"
      ]
     },
     "metadata": {
      "needs_background": "light"
     },
     "output_type": "display_data"
    }
   ],
   "source": [
    "full[\"sex_num\"] = full.sex.replace(['male', 'female'], [0, 1])\n",
    "sns.heatmap(full.corr(), annot=True, cmap='RdYlGn', linewidths=0.2)\n",
    "fig = plt.gcf()\n",
    "fig.set_size_inches(10, 8)\n",
    "plt.show()"
   ]
  }
 ],
 "metadata": {
  "celltoolbar": "Slideshow",
  "hide_input": false,
  "kernelspec": {
   "display_name": "Python 3 (ipykernel)",
   "language": "python",
   "name": "python3"
  },
  "language_info": {
   "codemirror_mode": {
    "name": "ipython",
    "version": 3
   },
   "file_extension": ".py",
   "mimetype": "text/x-python",
   "name": "python",
   "nbconvert_exporter": "python",
   "pygments_lexer": "ipython3",
   "version": "3.10.4"
  },
  "toc": {
   "base_numbering": 1,
   "nav_menu": {},
   "number_sections": true,
   "sideBar": true,
   "skip_h1_title": false,
   "title_cell": "Table of Contents",
   "title_sidebar": "Contents",
   "toc_cell": false,
   "toc_position": {},
   "toc_section_display": true,
   "toc_window_display": false
  }
 },
 "nbformat": 4,
 "nbformat_minor": 2
}
