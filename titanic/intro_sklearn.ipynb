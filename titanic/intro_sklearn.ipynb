{
 "cells": [
  {
   "cell_type": "code",
   "execution_count": 1,
   "metadata": {
    "ExecuteTime": {
     "end_time": "2020-05-04T20:44:23.061821Z",
     "start_time": "2020-05-04T20:44:22.758721Z"
    }
   },
   "outputs": [],
   "source": [
    "%matplotlib inline"
   ]
  },
  {
   "cell_type": "code",
   "execution_count": 2,
   "metadata": {
    "ExecuteTime": {
     "end_time": "2020-05-04T20:44:23.627084Z",
     "start_time": "2020-05-04T20:44:23.063790Z"
    }
   },
   "outputs": [],
   "source": [
    "import numpy as np\n",
    "import pandas as pd\n",
    "from collections import defaultdict\n",
    "from matplotlib import pyplot as plt\n",
    "import seaborn as sns\n",
    "\n",
    "from IPython.display import HTML, display\n",
    "from sklearn.metrics import accuracy_score, precision_score, recall_score, confusion_matrix\n",
    "from sklearn.model_selection import train_test_split\n",
    "\n",
    "from sklearn_pandas import DataFrameMapper"
   ]
  },
  {
   "cell_type": "code",
   "execution_count": 3,
   "metadata": {
    "ExecuteTime": {
     "end_time": "2020-05-04T20:44:23.637056Z",
     "start_time": "2020-05-04T20:44:23.629772Z"
    }
   },
   "outputs": [],
   "source": [
    "pd.options.display.max_columns = 0\n",
    "plt.rcParams.update({\n",
    "    \"font.family\": [\"serif\"],\n",
    "    \"font.sans-serif\": [\"Roboto\"],\n",
    "    \"font.size\": 9,\n",
    "    \"axes.labelsize\": 11,\n",
    "    \"axes.titlesize\": 13,\n",
    "    \"xtick.labelsize\": 11,\n",
    "    \"ytick.labelsize\": 11,\n",
    "    \"legend.fontsize\": 11,\n",
    "    'figure.figsize': (15.0, 4.0),\n",
    "    'axes.grid': False,\n",
    "    'axes.spines.left': True,\n",
    "    'axes.spines.right': True,\n",
    "    'axes.spines.top': True,\n",
    "    'axes.spines.bottom': True,\n",
    "})"
   ]
  },
  {
   "cell_type": "markdown",
   "metadata": {},
   "source": [
    "# Leyendo los datos"
   ]
  },
  {
   "cell_type": "code",
   "execution_count": 4,
   "metadata": {
    "ExecuteTime": {
     "end_time": "2020-05-04T20:44:23.759094Z",
     "start_time": "2020-05-04T20:44:23.639436Z"
    }
   },
   "outputs": [
    {
     "name": "stdout",
     "output_type": "stream",
     "text": [
      "PassengerId,Survived,Pclass,Name,Sex,Age,SibSp,Parch,Ticket,Fare,Cabin,Embarked\r",
      "\r\n",
      "1,0,3,\"Braund, Mr. Owen Harris\",male,22,1,0,A/5 21171,7.25,,S\r",
      "\r\n",
      "2,1,1,\"Cumings, Mrs. John Bradley (Florence Briggs Thayer)\",female,38,1,0,PC 17599,71.2833,C85,C\r",
      "\r\n",
      "3,1,3,\"Heikkinen, Miss. Laina\",female,26,0,0,STON/O2. 3101282,7.925,,S\r",
      "\r\n",
      "4,1,1,\"Futrelle, Mrs. Jacques Heath (Lily May Peel)\",female,35,1,0,113803,53.1,C123,S\r",
      "\r\n",
      "5,0,3,\"Allen, Mr. William Henry\",male,35,0,0,373450,8.05,,S\r",
      "\r\n",
      "6,0,3,\"Moran, Mr. James\",male,,0,0,330877,8.4583,,Q\r",
      "\r\n",
      "7,0,1,\"McCarthy, Mr. Timothy J\",male,54,0,0,17463,51.8625,E46,S\r",
      "\r\n",
      "8,0,3,\"Palsson, Master. Gosta Leonard\",male,2,3,1,349909,21.075,,S\r",
      "\r\n",
      "9,1,3,\"Johnson, Mrs. Oscar W (Elisabeth Vilhelmina Berg)\",female,27,0,2,347742,11.1333,,S\r",
      "\r\n"
     ]
    }
   ],
   "source": [
    "!head ./train.csv"
   ]
  },
  {
   "cell_type": "code",
   "execution_count": 5,
   "metadata": {
    "ExecuteTime": {
     "end_time": "2020-05-04T20:44:23.774351Z",
     "start_time": "2020-05-04T20:44:23.760819Z"
    }
   },
   "outputs": [
    {
     "data": {
      "text/plain": [
       "(891, 11)"
      ]
     },
     "execution_count": 5,
     "metadata": {},
     "output_type": "execute_result"
    }
   ],
   "source": [
    "all_data = pd.read_csv('./train.csv')\n",
    "\n",
    "BETTER_COLUMN_NAMES = {\n",
    "    'PassengerId': 'passenger_id',\n",
    "    'Survived': 'survived',\n",
    "    'Pclass': 'ticket_class',\n",
    "    'Name': 'name',\n",
    "    'Sex': 'sex',\n",
    "    'Age': 'age',\n",
    "    'SibSp': 'siblings_spouses',\n",
    "    'Parch': 'parents_children',\n",
    "    'Ticket': 'ticket',\n",
    "    'Fare': 'fare',\n",
    "    'Cabin': 'cabin',\n",
    "    'Embarked': 'embarked_at',\n",
    "    'Survived': 'survived',\n",
    "}\n",
    "all_data.rename(columns=BETTER_COLUMN_NAMES, inplace=True)\n",
    "\n",
    "all_data.set_index('passenger_id', inplace=True)\n",
    "\n",
    "all_data.shape"
   ]
  },
  {
   "cell_type": "markdown",
   "metadata": {},
   "source": [
    "#### Distribución de valores nulos"
   ]
  },
  {
   "cell_type": "code",
   "execution_count": 6,
   "metadata": {
    "ExecuteTime": {
     "end_time": "2020-05-04T20:44:23.781664Z",
     "start_time": "2020-05-04T20:44:23.776201Z"
    }
   },
   "outputs": [
    {
     "data": {
      "text/plain": [
       "survived              0\n",
       "ticket_class          0\n",
       "name                  0\n",
       "sex                   0\n",
       "age                 177\n",
       "siblings_spouses      0\n",
       "parents_children      0\n",
       "ticket                0\n",
       "fare                  0\n",
       "cabin               687\n",
       "embarked_at           2\n",
       "dtype: int64"
      ]
     },
     "execution_count": 6,
     "metadata": {},
     "output_type": "execute_result"
    }
   ],
   "source": [
    "all_data.isnull().sum()"
   ]
  },
  {
   "cell_type": "markdown",
   "metadata": {},
   "source": [
    "### La columna a predecir es:\n",
    "\n",
    "- survived\n",
    "\n",
    "### Vamos a usar como entradas:\n",
    "\n",
    "- sex: male/female\n",
    "- age: numbers, many NaNs\n",
    "- siblings_spouses: numbers, no NaNs\n",
    "- parents_children: numbers, no NaNs\n",
    "- ticket_class: 1/2/3\n",
    "- fare: numbers, no NaNs\n",
    "- embarked_at: C/Q/S and very few NaNs\n",
    "\n",
    "### No vamos a utilizar:\n",
    "\n",
    "- passenger_id: this could only lead to overfitting\n",
    "- name: this has a high change of leading to overfitting\n",
    "- cabin: very little data, and maybe able to overfit? are these single family/person rooms?"
   ]
  },
  {
   "cell_type": "markdown",
   "metadata": {},
   "source": [
    "#### Como *embarket_at* tiene muy pocos nulos, directamente vamos a descartar los casos."
   ]
  },
  {
   "cell_type": "code",
   "execution_count": 7,
   "metadata": {
    "ExecuteTime": {
     "end_time": "2020-05-04T20:44:23.787218Z",
     "start_time": "2020-05-04T20:44:23.783182Z"
    }
   },
   "outputs": [],
   "source": [
    "to_delete = all_data[all_data.embarked_at.isnull()].index\n",
    "all_data = all_data.drop(to_delete, axis='index')"
   ]
  },
  {
   "cell_type": "code",
   "execution_count": 8,
   "metadata": {
    "ExecuteTime": {
     "end_time": "2020-05-04T20:44:23.794165Z",
     "start_time": "2020-05-04T20:44:23.791358Z"
    }
   },
   "outputs": [
    {
     "data": {
      "text/plain": [
       "(889, 11)"
      ]
     },
     "execution_count": 8,
     "metadata": {},
     "output_type": "execute_result"
    }
   ],
   "source": [
    "all_data.shape"
   ]
  },
  {
   "cell_type": "markdown",
   "metadata": {},
   "source": [
    "## Conjuntos de datos"
   ]
  },
  {
   "cell_type": "code",
   "execution_count": 9,
   "metadata": {
    "ExecuteTime": {
     "end_time": "2020-05-04T20:44:23.802119Z",
     "start_time": "2020-05-04T20:44:23.796532Z"
    }
   },
   "outputs": [],
   "source": [
    "# 60% train, 20% test, 20% validation\n",
    "train, not_train = train_test_split(all_data, test_size=0.4, random_state=42)\n",
    "validation, test = train_test_split(not_train, test_size=0.5, random_state=42)"
   ]
  },
  {
   "cell_type": "markdown",
   "metadata": {},
   "source": [
    "# Pipeline, transformers & estimators\n",
    "\n",
    "* **estimator**: un **modelo** de Machine Learning. Los métodos más importantes son:\n",
    "    * fit(X, y): **X** es una matriz de la forma *(n_samples, n_features)*; **y** un array *(n_samples,)*. Devuelve una referencia al estimador\n",
    "    * predict(X): **X** es una matriz de la forma *(n_samples, n_features)*. Devuelve un array *(n_samples,)* con las predicciones\n",
    "    \n",
    "* **Transformers** y **pre-processors**: Son objetos para aplicar transformaciones y preprocesamientos (standarización, imputación de nulos, etc..) antes de entrenar un modelo. Los métodos más importantes son:\n",
    "    * fit(X, y): idem al fit de un estimador\n",
    "    * transform(X): Devuelve una matriz de la forma *(n_samples, n_features_new)*, donde n_features_new es la cantidad de features determinadas en el entrenamiento\n",
    "    \n",
    "    https://scikit-learn.org/stable/modules/classes.html#module-sklearn.preprocessing\n",
    "    \n",
    "    \n",
    "* **Pipeline**: Es un objeto que permite encadenar uno o más transformers con un estimador final. Sigue la misma interfaz que el estimador final.\n",
    "\n",
    "* **Feature Union**: En un objeto que permite *concatenar* las salidas de uno o mas transformers.\n",
    "   \n",
    "\n",
    "   \n",
    "![](../images/pipeline.svg)\n",
    "    "
   ]
  },
  {
   "cell_type": "markdown",
   "metadata": {},
   "source": [
    "# DataFrame Mapper\n",
    "\n",
    "Nos facilita la integración de Pandas con sklearn.\n",
    "\n",
    "![](../images/dataframe_mapper.svg)\n",
    "\n"
   ]
  },
  {
   "cell_type": "markdown",
   "metadata": {},
   "source": [
    "## Preparando el mapper"
   ]
  },
  {
   "cell_type": "code",
   "execution_count": 10,
   "metadata": {
    "ExecuteTime": {
     "end_time": "2020-05-04T20:44:23.806076Z",
     "start_time": "2020-05-04T20:44:23.803825Z"
    }
   },
   "outputs": [],
   "source": [
    "from sklearn_pandas import DataFrameMapper\n",
    "from sklearn.preprocessing import StandardScaler, OneHotEncoder"
   ]
  },
  {
   "cell_type": "code",
   "execution_count": 11,
   "metadata": {
    "ExecuteTime": {
     "end_time": "2020-05-04T20:44:23.840002Z",
     "start_time": "2020-05-04T20:44:23.807551Z"
    }
   },
   "outputs": [
    {
     "data": {
      "text/plain": [
       "'Sample original'"
      ]
     },
     "metadata": {},
     "output_type": "display_data"
    },
    {
     "data": {
      "text/html": [
       "<div>\n",
       "<style scoped>\n",
       "    .dataframe tbody tr th:only-of-type {\n",
       "        vertical-align: middle;\n",
       "    }\n",
       "\n",
       "    .dataframe tbody tr th {\n",
       "        vertical-align: top;\n",
       "    }\n",
       "\n",
       "    .dataframe thead th {\n",
       "        text-align: right;\n",
       "    }\n",
       "</style>\n",
       "<table border=\"1\" class=\"dataframe\">\n",
       "  <thead>\n",
       "    <tr style=\"text-align: right;\">\n",
       "      <th></th>\n",
       "      <th>survived</th>\n",
       "      <th>ticket_class</th>\n",
       "      <th>name</th>\n",
       "      <th>sex</th>\n",
       "      <th>age</th>\n",
       "      <th>siblings_spouses</th>\n",
       "      <th>parents_children</th>\n",
       "      <th>ticket</th>\n",
       "      <th>fare</th>\n",
       "      <th>cabin</th>\n",
       "      <th>embarked_at</th>\n",
       "    </tr>\n",
       "    <tr>\n",
       "      <th>passenger_id</th>\n",
       "      <th></th>\n",
       "      <th></th>\n",
       "      <th></th>\n",
       "      <th></th>\n",
       "      <th></th>\n",
       "      <th></th>\n",
       "      <th></th>\n",
       "      <th></th>\n",
       "      <th></th>\n",
       "      <th></th>\n",
       "      <th></th>\n",
       "    </tr>\n",
       "  </thead>\n",
       "  <tbody>\n",
       "    <tr>\n",
       "      <th>106</th>\n",
       "      <td>0</td>\n",
       "      <td>3</td>\n",
       "      <td>Mionoff, Mr. Stoytcho</td>\n",
       "      <td>male</td>\n",
       "      <td>28.0</td>\n",
       "      <td>0</td>\n",
       "      <td>0</td>\n",
       "      <td>349207</td>\n",
       "      <td>7.8958</td>\n",
       "      <td>NaN</td>\n",
       "      <td>S</td>\n",
       "    </tr>\n",
       "    <tr>\n",
       "      <th>784</th>\n",
       "      <td>0</td>\n",
       "      <td>3</td>\n",
       "      <td>Johnston, Mr. Andrew G</td>\n",
       "      <td>male</td>\n",
       "      <td>NaN</td>\n",
       "      <td>1</td>\n",
       "      <td>2</td>\n",
       "      <td>W./C. 6607</td>\n",
       "      <td>23.4500</td>\n",
       "      <td>NaN</td>\n",
       "      <td>S</td>\n",
       "    </tr>\n",
       "    <tr>\n",
       "      <th>280</th>\n",
       "      <td>1</td>\n",
       "      <td>3</td>\n",
       "      <td>Abbott, Mrs. Stanton (Rosa Hunt)</td>\n",
       "      <td>female</td>\n",
       "      <td>35.0</td>\n",
       "      <td>1</td>\n",
       "      <td>1</td>\n",
       "      <td>C.A. 2673</td>\n",
       "      <td>20.2500</td>\n",
       "      <td>NaN</td>\n",
       "      <td>S</td>\n",
       "    </tr>\n",
       "    <tr>\n",
       "      <th>688</th>\n",
       "      <td>0</td>\n",
       "      <td>3</td>\n",
       "      <td>Dakic, Mr. Branko</td>\n",
       "      <td>male</td>\n",
       "      <td>19.0</td>\n",
       "      <td>0</td>\n",
       "      <td>0</td>\n",
       "      <td>349228</td>\n",
       "      <td>10.1708</td>\n",
       "      <td>NaN</td>\n",
       "      <td>S</td>\n",
       "    </tr>\n",
       "    <tr>\n",
       "      <th>704</th>\n",
       "      <td>0</td>\n",
       "      <td>3</td>\n",
       "      <td>Gallagher, Mr. Martin</td>\n",
       "      <td>male</td>\n",
       "      <td>25.0</td>\n",
       "      <td>0</td>\n",
       "      <td>0</td>\n",
       "      <td>36864</td>\n",
       "      <td>7.7417</td>\n",
       "      <td>NaN</td>\n",
       "      <td>Q</td>\n",
       "    </tr>\n",
       "  </tbody>\n",
       "</table>\n",
       "</div>"
      ],
      "text/plain": [
       "              survived  ticket_class                              name     sex   age  siblings_spouses  parents_children      ticket     fare cabin embarked_at\n",
       "passenger_id                                                                                                                                                   \n",
       "106                  0             3             Mionoff, Mr. Stoytcho    male  28.0                 0                 0      349207   7.8958   NaN           S\n",
       "784                  0             3            Johnston, Mr. Andrew G    male   NaN                 1                 2  W./C. 6607  23.4500   NaN           S\n",
       "280                  1             3  Abbott, Mrs. Stanton (Rosa Hunt)  female  35.0                 1                 1   C.A. 2673  20.2500   NaN           S\n",
       "688                  0             3                 Dakic, Mr. Branko    male  19.0                 0                 0      349228  10.1708   NaN           S\n",
       "704                  0             3             Gallagher, Mr. Martin    male  25.0                 0                 0       36864   7.7417   NaN           Q"
      ]
     },
     "metadata": {},
     "output_type": "display_data"
    },
    {
     "data": {
      "text/plain": [
       "'Sample transformado'"
      ]
     },
     "metadata": {},
     "output_type": "display_data"
    },
    {
     "data": {
      "text/plain": [
       "array([[-0.11193044,  0.        ,  1.        ],\n",
       "       [        nan,  0.        ,  1.        ],\n",
       "       [ 0.36886349,  1.        ,  0.        ],\n",
       "       [-0.73009407,  0.        ,  1.        ],\n",
       "       [-0.31798499,  0.        ,  1.        ]])"
      ]
     },
     "metadata": {},
     "output_type": "display_data"
    },
    {
     "data": {
      "text/plain": [
       "'Nombres de los faetures'"
      ]
     },
     "metadata": {},
     "output_type": "display_data"
    },
    {
     "data": {
      "text/plain": [
       "['age', 'sex_x0_female', 'sex_x0_male']"
      ]
     },
     "execution_count": 11,
     "metadata": {},
     "output_type": "execute_result"
    }
   ],
   "source": [
    "# Una primer version...\n",
    "# Definimos el mapper. Recibe una lista de (columna/s, transformers)\n",
    "mapper = DataFrameMapper([\n",
    "    (['age'], [StandardScaler()]),\n",
    "    (['sex'], [OneHotEncoder()])\n",
    "])\n",
    "\n",
    "# Lo entrenamos con train\n",
    "mapper.fit(train)\n",
    "\n",
    "# vemos como transforma un sample:\n",
    "sample = train.sample(5, random_state=42)\n",
    "\n",
    "display('Sample original')\n",
    "display(sample)\n",
    "\n",
    "display('Sample transformado')\n",
    "display(mapper.transform(sample))\n",
    "\n",
    "display('Nombres de los faetures')\n",
    "mapper.transformed_names_"
   ]
  },
  {
   "cell_type": "markdown",
   "metadata": {},
   "source": [
    "### Y los nulos???\n",
    "\n",
    "https://scikit-learn.org/stable/modules/classes.html#module-sklearn.impute"
   ]
  },
  {
   "cell_type": "code",
   "execution_count": 12,
   "metadata": {
    "ExecuteTime": {
     "end_time": "2020-05-04T20:44:23.875877Z",
     "start_time": "2020-05-04T20:44:23.841815Z"
    }
   },
   "outputs": [],
   "source": [
    "from sklearn.experimental import enable_iterative_imputer  # noqa\n",
    "from sklearn.impute import SimpleImputer, IterativeImputer\n",
    "\n",
    "from sklearn.pipeline import Pipeline"
   ]
  },
  {
   "cell_type": "code",
   "execution_count": 13,
   "metadata": {
    "ExecuteTime": {
     "end_time": "2020-05-04T20:44:23.908482Z",
     "start_time": "2020-05-04T20:44:23.877302Z"
    }
   },
   "outputs": [
    {
     "data": {
      "text/plain": [
       "'Sample transformado con mean'"
      ]
     },
     "metadata": {},
     "output_type": "display_data"
    },
    {
     "data": {
      "text/plain": [
       "array([[-1.11930444e-01,  0.00000000e+00,  1.00000000e+00],\n",
       "       [-1.39300336e-16,  0.00000000e+00,  1.00000000e+00],\n",
       "       [ 3.68863489e-01,  1.00000000e+00,  0.00000000e+00],\n",
       "       [-7.30094072e-01,  0.00000000e+00,  1.00000000e+00],\n",
       "       [-3.17984987e-01,  0.00000000e+00,  1.00000000e+00]])"
      ]
     },
     "metadata": {},
     "output_type": "display_data"
    },
    {
     "data": {
      "text/plain": [
       "'Sample transformado con Iterative'"
      ]
     },
     "metadata": {},
     "output_type": "display_data"
    },
    {
     "data": {
      "text/plain": [
       "array([[-0.11193044,  0.        ,  1.        ],\n",
       "       [ 0.00654025,  0.        ,  1.        ],\n",
       "       [ 0.36886349,  1.        ,  0.        ],\n",
       "       [-0.73009407,  0.        ,  1.        ],\n",
       "       [-0.31798499,  0.        ,  1.        ]])"
      ]
     },
     "metadata": {},
     "output_type": "display_data"
    }
   ],
   "source": [
    "mapper = DataFrameMapper([\n",
    "    (['age'], [StandardScaler()]),\n",
    "    (['sex'], [OneHotEncoder()])\n",
    "])\n",
    "\n",
    "\n",
    "pipe1 = Pipeline([\n",
    "    ('mapper', mapper),\n",
    "    ('imputer', SimpleImputer(strategy='mean')),\n",
    "])\n",
    "# Lo entrenamos con train\n",
    "pipe1.fit(train)\n",
    "\n",
    "pipe2 = Pipeline([\n",
    "    ('mapper', mapper),\n",
    "    ('imputer', IterativeImputer(random_state=42)),\n",
    "])\n",
    "# Lo entrenamos con train\n",
    "pipe2.fit(train)\n",
    "\n",
    "\n",
    "display('Sample transformado con mean')\n",
    "display(pipe1.transform(sample))\n",
    "\n",
    "display('Sample transformado con Iterative')\n",
    "display(pipe2.transform(sample))"
   ]
  },
  {
   "cell_type": "markdown",
   "metadata": {},
   "source": [
    "### El mapper completo"
   ]
  },
  {
   "cell_type": "code",
   "execution_count": 14,
   "metadata": {
    "ExecuteTime": {
     "end_time": "2020-05-04T20:44:23.930339Z",
     "start_time": "2020-05-04T20:44:23.910481Z"
    }
   },
   "outputs": [
    {
     "data": {
      "text/plain": [
       "'Sample transformado con mean'"
      ]
     },
     "metadata": {},
     "output_type": "display_data"
    },
    {
     "data": {
      "text/plain": [
       "array([[-0.11193044, -0.49121516, -0.49013792,  0.79054795, -0.47297166,\n",
       "         0.        ,  1.        ,  0.        ,  0.        ,  1.        ],\n",
       "       [        nan,  0.42104157,  1.84239343,  0.79054795, -0.18341222,\n",
       "         0.        ,  1.        ,  0.        ,  0.        ,  1.        ],\n",
       "       [ 0.36886349,  0.42104157,  0.67612775,  0.79054795, -0.24298392,\n",
       "         1.        ,  0.        ,  0.        ,  0.        ,  1.        ],\n",
       "       [-0.73009407, -0.49121516, -0.49013792,  0.79054795, -0.4306199 ,\n",
       "         0.        ,  1.        ,  0.        ,  0.        ,  1.        ],\n",
       "       [-0.31798499, -0.49121516, -0.49013792,  0.79054795, -0.4758404 ,\n",
       "         0.        ,  1.        ,  0.        ,  1.        ,  0.        ]])"
      ]
     },
     "metadata": {},
     "output_type": "display_data"
    }
   ],
   "source": [
    "complete_mapper = DataFrameMapper([\n",
    "    (['age'], [StandardScaler()]),\n",
    "    (['siblings_spouses'], [StandardScaler()]),\n",
    "    (['parents_children'], [StandardScaler()]),\n",
    "    (['ticket_class'], [StandardScaler()]),\n",
    "    (['fare'], [StandardScaler()]),\n",
    "    (['sex'], [OneHotEncoder()]),\n",
    "    (['embarked_at'], [OneHotEncoder()]),\n",
    "\n",
    "])\n",
    "\n",
    "complete_mapper.fit(train)\n",
    "\n",
    "display('Sample transformado con mean')\n",
    "display(complete_mapper.transform(sample))"
   ]
  },
  {
   "cell_type": "markdown",
   "metadata": {},
   "source": [
    "# Primer modelo: Regresión logística"
   ]
  },
  {
   "cell_type": "code",
   "execution_count": 15,
   "metadata": {
    "ExecuteTime": {
     "end_time": "2020-05-04T20:44:23.934588Z",
     "start_time": "2020-05-04T20:44:23.932168Z"
    }
   },
   "outputs": [],
   "source": [
    "from sklearn.linear_model import LogisticRegression"
   ]
  },
  {
   "cell_type": "code",
   "execution_count": 16,
   "metadata": {
    "ExecuteTime": {
     "end_time": "2020-05-04T20:44:23.963067Z",
     "start_time": "2020-05-04T20:44:23.936049Z"
    }
   },
   "outputs": [
    {
     "data": {
      "text/plain": [
       "array([0, 1, 0, 1, 0, 1, 0, 0, 1, 0, 0, 0, 1, 1, 1, 1, 0, 0, 0, 1, 1, 1,\n",
       "       0, 0, 0, 0, 0, 1, 0, 0, 0, 0, 0, 0, 1, 0, 0, 0, 1, 1, 0, 1, 1, 1,\n",
       "       0, 1, 0, 1, 1, 1, 0, 0, 1, 0, 1, 0, 1, 0, 1, 1, 0, 1, 1, 1, 1, 1,\n",
       "       1, 0, 0, 0, 0, 1, 1, 1, 0, 0, 0, 1, 0, 0, 0, 0, 0, 0, 0, 0, 1, 0,\n",
       "       0, 1, 0, 0, 1, 0, 0, 1, 0, 0, 0, 1, 0, 1, 1, 0, 0, 0, 0, 0, 0, 1,\n",
       "       0, 0, 1, 1, 0, 0, 1, 0, 0, 1, 1, 1, 0, 0, 0, 1, 0, 0, 0, 0, 0, 0,\n",
       "       0, 0, 0, 0, 0, 1, 0, 0, 1, 0, 0, 0, 0, 0, 0, 0, 0, 0, 1, 0, 0, 1,\n",
       "       0, 0, 1, 0, 0, 0, 0, 0, 0, 1, 0, 1, 0, 1, 0, 1, 1, 0, 1, 1, 0, 0,\n",
       "       1, 0, 0, 1, 0, 1, 1, 1, 1, 1, 0, 0, 0, 0, 0, 0, 0, 0, 1, 0, 1, 1,\n",
       "       0, 0, 0, 0, 1, 0, 0, 0, 0, 1, 1, 0, 0, 0, 0, 0, 0, 0, 0, 0, 0, 1,\n",
       "       0, 0, 1, 0, 0, 0, 0, 1, 1, 0, 1, 0, 0, 1, 0, 0, 0, 0, 0, 0, 0, 0,\n",
       "       0, 1, 0, 0, 0, 0, 0, 1, 0, 1, 1, 1, 0, 1, 1, 0, 0, 0, 0, 0, 0, 0,\n",
       "       1, 1, 0, 0, 0, 1, 1, 0, 0, 0, 0, 0, 1, 0, 0, 0, 0, 0, 0, 0, 0, 0,\n",
       "       1, 0, 0, 1, 0, 0, 0, 0, 1, 1, 0, 0, 1, 1, 0, 0, 0, 0, 0, 0, 1, 0,\n",
       "       1, 0, 0, 0, 0, 0, 1, 1, 0, 0, 1, 0, 0, 0, 1, 0, 0, 1, 0, 1, 0, 1,\n",
       "       0, 0, 1, 1, 1, 0, 1, 1, 1, 0, 0, 0, 1, 0, 0, 0, 0, 1, 0, 1, 0, 0,\n",
       "       1, 1, 0, 0, 0, 0, 1, 0, 1, 0, 0, 0, 0, 0, 0, 0, 0, 0, 0, 1, 0, 0,\n",
       "       1, 1, 0, 1, 0, 1, 1, 0, 1, 0, 0, 1, 0, 0, 1, 0, 0, 0, 1, 0, 0, 0,\n",
       "       0, 0, 1, 1, 1, 0, 0, 0, 1, 0, 0, 0, 1, 1, 0, 0, 1, 0, 1, 0, 1, 0,\n",
       "       0, 0, 0, 0, 1, 0, 0, 0, 1, 0, 0, 0, 1, 0, 0, 1, 0, 0, 1, 0, 1, 0,\n",
       "       0, 1, 0, 0, 0, 1, 1, 1, 0, 0, 1, 1, 0, 0, 1, 0, 0, 0, 0, 1, 0, 0,\n",
       "       0, 0, 1, 0, 0, 0, 1, 1, 0, 0, 1, 0, 0, 1, 0, 0, 0, 0, 0, 1, 1, 0,\n",
       "       0, 1, 0, 0, 1, 0, 1, 0, 0, 0, 1, 0, 0, 1, 0, 0, 0, 0, 1, 0, 1, 0,\n",
       "       0, 0, 0, 0, 0, 1, 0, 0, 0, 0, 1, 1, 1, 0, 0, 1, 0, 0, 1, 0, 0, 0,\n",
       "       0, 0, 1, 0, 0])"
      ]
     },
     "execution_count": 16,
     "metadata": {},
     "output_type": "execute_result"
    }
   ],
   "source": [
    "lr_model_si = Pipeline([\n",
    "    ('mapper', complete_mapper),\n",
    "    ('imputer', SimpleImputer(strategy='mean')),\n",
    "    ('classifier', LogisticRegression(random_state=42)),\n",
    "])\n",
    "\n",
    "lr_model_si.fit(train, train.survived)\n",
    "\n",
    "y_pred = lr_model_si.predict(train)\n",
    "\n",
    "y_pred"
   ]
  },
  {
   "cell_type": "markdown",
   "metadata": {},
   "source": [
    "#### sklearn.metrics\n",
    "\n",
    "Muchas funciones listas para evaluar modelos:\n",
    "\n",
    "https://scikit-learn.org/stable/modules/classes.html#sklearn-metrics-metrics"
   ]
  },
  {
   "cell_type": "code",
   "execution_count": 17,
   "metadata": {
    "ExecuteTime": {
     "end_time": "2020-05-04T20:44:23.971192Z",
     "start_time": "2020-05-04T20:44:23.965134Z"
    }
   },
   "outputs": [
    {
     "name": "stdout",
     "output_type": "stream",
     "text": [
      "              precision    recall  f1-score   support\n",
      "\n",
      "           0       0.83      0.88      0.85       335\n",
      "           1       0.77      0.69      0.73       198\n",
      "\n",
      "    accuracy                           0.81       533\n",
      "   macro avg       0.80      0.78      0.79       533\n",
      "weighted avg       0.80      0.81      0.80       533\n",
      "\n"
     ]
    }
   ],
   "source": [
    "from sklearn import metrics\n",
    "\n",
    "print(metrics.classification_report(train.survived, y_pred))"
   ]
  },
  {
   "cell_type": "markdown",
   "metadata": {},
   "source": [
    "#### Programemos una función para evaluar un modelo..."
   ]
  },
  {
   "cell_type": "code",
   "execution_count": 18,
   "metadata": {
    "ExecuteTime": {
     "end_time": "2020-05-04T20:44:23.981597Z",
     "start_time": "2020-05-04T20:44:23.972678Z"
    }
   },
   "outputs": [],
   "source": [
    "def evaluate_model(model, set_names=('train', 'test'), title='', show_cm=True):\n",
    "    if title:\n",
    "        display(title)\n",
    "    final_metrics = defaultdict(list)\n",
    "    if show_cm:\n",
    "        fig, axis = plt.subplots(1, len(set_names), sharey=True, figsize=(15, 3))\n",
    "    \n",
    "    for i, set_name in enumerate(set_names):\n",
    "        assert set_name in ['train', 'test', 'validation']\n",
    "        set_data = globals()[set_name] # <- hack feo...\n",
    "\n",
    "        y = set_data.survived\n",
    "        y_pred = model.predict(set_data)\n",
    "        final_metrics['Accuracy'].append(metrics.accuracy_score(y, y_pred))\n",
    "        final_metrics['Precision'].append(metrics.precision_score(y, y_pred))\n",
    "        final_metrics['Recall'].append(metrics.recall_score(y, y_pred))\n",
    "        final_metrics['F1'].append(metrics.f1_score(y, y_pred))\n",
    "        \n",
    "        if show_cm:\n",
    "            ax = axis[i]\n",
    "            sns.heatmap(metrics.confusion_matrix(y, y_pred), ax=ax, cmap='Blues', annot=True, fmt='.0f', cbar=False)\n",
    "\n",
    "            ax.set_title(set_name)\n",
    "            ax.xaxis.set_ticklabels(['died', 'survived'])\n",
    "            ax.yaxis.set_ticklabels(['died', 'survived'])\n",
    "            ax.set_xlabel('Predicted class')\n",
    "            ax.set_ylabel('True class')\n",
    "\n",
    "        \n",
    "    display(pd.DataFrame(final_metrics, index=set_names))\n",
    "    if show_cm:\n",
    "        plt.tight_layout()\n",
    "        plt.show()"
   ]
  },
  {
   "cell_type": "code",
   "execution_count": 19,
   "metadata": {
    "ExecuteTime": {
     "end_time": "2020-05-04T20:44:24.208772Z",
     "start_time": "2020-05-04T20:44:23.983778Z"
    }
   },
   "outputs": [
    {
     "data": {
      "text/html": [
       "<div>\n",
       "<style scoped>\n",
       "    .dataframe tbody tr th:only-of-type {\n",
       "        vertical-align: middle;\n",
       "    }\n",
       "\n",
       "    .dataframe tbody tr th {\n",
       "        vertical-align: top;\n",
       "    }\n",
       "\n",
       "    .dataframe thead th {\n",
       "        text-align: right;\n",
       "    }\n",
       "</style>\n",
       "<table border=\"1\" class=\"dataframe\">\n",
       "  <thead>\n",
       "    <tr style=\"text-align: right;\">\n",
       "      <th></th>\n",
       "      <th>Accuracy</th>\n",
       "      <th>Precision</th>\n",
       "      <th>Recall</th>\n",
       "      <th>F1</th>\n",
       "    </tr>\n",
       "  </thead>\n",
       "  <tbody>\n",
       "    <tr>\n",
       "      <th>train</th>\n",
       "      <td>0.806754</td>\n",
       "      <td>0.768362</td>\n",
       "      <td>0.686869</td>\n",
       "      <td>0.725333</td>\n",
       "    </tr>\n",
       "    <tr>\n",
       "      <th>test</th>\n",
       "      <td>0.792135</td>\n",
       "      <td>0.772727</td>\n",
       "      <td>0.698630</td>\n",
       "      <td>0.733813</td>\n",
       "    </tr>\n",
       "  </tbody>\n",
       "</table>\n",
       "</div>"
      ],
      "text/plain": [
       "       Accuracy  Precision    Recall        F1\n",
       "train  0.806754   0.768362  0.686869  0.725333\n",
       "test   0.792135   0.772727  0.698630  0.733813"
      ]
     },
     "metadata": {},
     "output_type": "display_data"
    },
    {
     "data": {
      "image/png": "[encoded data removed]",
      "text/plain": [
       "<Figure size 1080x216 with 2 Axes>"
      ]
     },
     "metadata": {
      "needs_background": "light"
     },
     "output_type": "display_data"
    }
   ],
   "source": [
    "evaluate_model(lr_model_si)"
   ]
  },
  {
   "cell_type": "code",
   "execution_count": 20,
   "metadata": {
    "ExecuteTime": {
     "end_time": "2020-05-04T20:44:24.220153Z",
     "start_time": "2020-05-04T20:44:24.210805Z"
    }
   },
   "outputs": [
    {
     "data": {
      "text/plain": [
       "[('mapper',\n",
       "  DataFrameMapper(default=False, df_out=False,\n",
       "                  features=[(['age'],\n",
       "                             [StandardScaler(copy=True, with_mean=True,\n",
       "                                             with_std=True)]),\n",
       "                            (['siblings_spouses'],\n",
       "                             [StandardScaler(copy=True, with_mean=True,\n",
       "                                             with_std=True)]),\n",
       "                            (['parents_children'],\n",
       "                             [StandardScaler(copy=True, with_mean=True,\n",
       "                                             with_std=True)]),\n",
       "                            (['ticket_class'],\n",
       "                             [StandardScaler(copy=True, with_mean=True,\n",
       "                                             with_std=True)]),\n",
       "                            (['fare'],\n",
       "                             [StandardScaler(copy=True, with_mean=True,\n",
       "                                             with_std=True)]),\n",
       "                            (['sex'],\n",
       "                             [OneHotEncoder(categories='auto', drop=None,\n",
       "                                            dtype=<class 'numpy.float64'>,\n",
       "                                            handle_unknown='error',\n",
       "                                            sparse=True)]),\n",
       "                            (['embarked_at'],\n",
       "                             [OneHotEncoder(categories='auto', drop=None,\n",
       "                                            dtype=<class 'numpy.float64'>,\n",
       "                                            handle_unknown='error',\n",
       "                                            sparse=True)])],\n",
       "                  input_df=False, sparse=False)),\n",
       " ('imputer',\n",
       "  SimpleImputer(add_indicator=False, copy=True, fill_value=None,\n",
       "                missing_values=nan, strategy='mean', verbose=0)),\n",
       " ('classifier',\n",
       "  LogisticRegression(C=1.0, class_weight=None, dual=False, fit_intercept=True,\n",
       "                     intercept_scaling=1, l1_ratio=None, max_iter=100,\n",
       "                     multi_class='auto', n_jobs=None, penalty='l2',\n",
       "                     random_state=42, solver='lbfgs', tol=0.0001, verbose=0,\n",
       "                     warm_start=False))]"
      ]
     },
     "execution_count": 20,
     "metadata": {},
     "output_type": "execute_result"
    }
   ],
   "source": [
    "lr_model_si.steps"
   ]
  },
  {
   "cell_type": "code",
   "execution_count": 21,
   "metadata": {
    "ExecuteTime": {
     "end_time": "2020-05-04T20:44:24.385386Z",
     "start_time": "2020-05-04T20:44:24.221820Z"
    }
   },
   "outputs": [
    {
     "data": {
      "text/plain": [
       "array([[-0.64958493, -0.42053457, -0.03837994, -0.91692711,  0.04865513,\n",
       "         1.34650708, -1.3465123 ,  0.43543752, -0.17852602, -0.25691671]])"
      ]
     },
     "metadata": {},
     "output_type": "display_data"
    },
    {
     "data": {
      "image/png": "[encoded data removed]",
      "text/plain": [
       "<Figure size 1080x288 with 1 Axes>"
      ]
     },
     "metadata": {
      "needs_background": "light"
     },
     "output_type": "display_data"
    }
   ],
   "source": [
    "clf = lr_model_si.named_steps['classifier']\n",
    "display(clf.coef_)\n",
    "\n",
    "names = complete_mapper.transformed_names_\n",
    "df_importance = pd.DataFrame({'feature': names, 'coeficiente': clf.coef_[0]}).sort_values(by='coeficiente')\n",
    "ax = sns.barplot(x='coeficiente', y='feature', data=df_importance)"
   ]
  },
  {
   "cell_type": "code",
   "execution_count": 22,
   "metadata": {
    "ExecuteTime": {
     "end_time": "2020-05-04T20:44:24.800133Z",
     "start_time": "2020-05-04T20:44:24.387235Z"
    }
   },
   "outputs": [
    {
     "data": {
      "text/plain": [
       "'LR Simple Imputer'"
      ]
     },
     "metadata": {},
     "output_type": "display_data"
    },
    {
     "data": {
      "text/html": [
       "<div>\n",
       "<style scoped>\n",
       "    .dataframe tbody tr th:only-of-type {\n",
       "        vertical-align: middle;\n",
       "    }\n",
       "\n",
       "    .dataframe tbody tr th {\n",
       "        vertical-align: top;\n",
       "    }\n",
       "\n",
       "    .dataframe thead th {\n",
       "        text-align: right;\n",
       "    }\n",
       "</style>\n",
       "<table border=\"1\" class=\"dataframe\">\n",
       "  <thead>\n",
       "    <tr style=\"text-align: right;\">\n",
       "      <th></th>\n",
       "      <th>Accuracy</th>\n",
       "      <th>Precision</th>\n",
       "      <th>Recall</th>\n",
       "      <th>F1</th>\n",
       "    </tr>\n",
       "  </thead>\n",
       "  <tbody>\n",
       "    <tr>\n",
       "      <th>train</th>\n",
       "      <td>0.806754</td>\n",
       "      <td>0.768362</td>\n",
       "      <td>0.686869</td>\n",
       "      <td>0.725333</td>\n",
       "    </tr>\n",
       "    <tr>\n",
       "      <th>test</th>\n",
       "      <td>0.792135</td>\n",
       "      <td>0.772727</td>\n",
       "      <td>0.698630</td>\n",
       "      <td>0.733813</td>\n",
       "    </tr>\n",
       "  </tbody>\n",
       "</table>\n",
       "</div>"
      ],
      "text/plain": [
       "       Accuracy  Precision    Recall        F1\n",
       "train  0.806754   0.768362  0.686869  0.725333\n",
       "test   0.792135   0.772727  0.698630  0.733813"
      ]
     },
     "metadata": {},
     "output_type": "display_data"
    },
    {
     "data": {
      "image/png": "[encoded data removed]",
      "text/plain": [
       "<Figure size 1080x216 with 2 Axes>"
      ]
     },
     "metadata": {
      "needs_background": "light"
     },
     "output_type": "display_data"
    },
    {
     "data": {
      "text/plain": [
       "'LR Iterative Imputer'"
      ]
     },
     "metadata": {},
     "output_type": "display_data"
    },
    {
     "data": {
      "text/html": [
       "<div>\n",
       "<style scoped>\n",
       "    .dataframe tbody tr th:only-of-type {\n",
       "        vertical-align: middle;\n",
       "    }\n",
       "\n",
       "    .dataframe tbody tr th {\n",
       "        vertical-align: top;\n",
       "    }\n",
       "\n",
       "    .dataframe thead th {\n",
       "        text-align: right;\n",
       "    }\n",
       "</style>\n",
       "<table border=\"1\" class=\"dataframe\">\n",
       "  <thead>\n",
       "    <tr style=\"text-align: right;\">\n",
       "      <th></th>\n",
       "      <th>Accuracy</th>\n",
       "      <th>Precision</th>\n",
       "      <th>Recall</th>\n",
       "      <th>F1</th>\n",
       "    </tr>\n",
       "  </thead>\n",
       "  <tbody>\n",
       "    <tr>\n",
       "      <th>train</th>\n",
       "      <td>0.808630</td>\n",
       "      <td>0.769663</td>\n",
       "      <td>0.691919</td>\n",
       "      <td>0.728723</td>\n",
       "    </tr>\n",
       "    <tr>\n",
       "      <th>test</th>\n",
       "      <td>0.797753</td>\n",
       "      <td>0.784615</td>\n",
       "      <td>0.698630</td>\n",
       "      <td>0.739130</td>\n",
       "    </tr>\n",
       "  </tbody>\n",
       "</table>\n",
       "</div>"
      ],
      "text/plain": [
       "       Accuracy  Precision    Recall        F1\n",
       "train  0.808630   0.769663  0.691919  0.728723\n",
       "test   0.797753   0.784615  0.698630  0.739130"
      ]
     },
     "metadata": {},
     "output_type": "display_data"
    },
    {
     "data": {
      "image/png": "[encoded data removed]",
      "text/plain": [
       "<Figure size 1080x216 with 2 Axes>"
      ]
     },
     "metadata": {
      "needs_background": "light"
     },
     "output_type": "display_data"
    }
   ],
   "source": [
    "lr_model_ii = Pipeline([\n",
    "    ('mapper', complete_mapper),\n",
    "    ('imputer', IterativeImputer(random_state=42)),\n",
    "    ('classifier', LogisticRegression(random_state=42)),\n",
    "])\n",
    "\n",
    "lr_model_ii.fit(train, train.survived)\n",
    "\n",
    "evaluate_model(lr_model_si, title='LR Simple Imputer')\n",
    "evaluate_model(lr_model_ii, title='LR Iterative Imputer')"
   ]
  },
  {
   "cell_type": "markdown",
   "metadata": {},
   "source": [
    "# Segundo modelo: K nearest neighbors"
   ]
  },
  {
   "cell_type": "code",
   "execution_count": 23,
   "metadata": {
    "ExecuteTime": {
     "end_time": "2020-05-04T20:44:24.807938Z",
     "start_time": "2020-05-04T20:44:24.805762Z"
    }
   },
   "outputs": [],
   "source": [
    "from sklearn.neighbors import KNeighborsClassifier"
   ]
  },
  {
   "cell_type": "code",
   "execution_count": 24,
   "metadata": {
    "ExecuteTime": {
     "end_time": "2020-05-04T20:44:25.053756Z",
     "start_time": "2020-05-04T20:44:24.810777Z"
    }
   },
   "outputs": [
    {
     "data": {
      "text/plain": [
       "'Knn'"
      ]
     },
     "metadata": {},
     "output_type": "display_data"
    },
    {
     "data": {
      "text/html": [
       "<div>\n",
       "<style scoped>\n",
       "    .dataframe tbody tr th:only-of-type {\n",
       "        vertical-align: middle;\n",
       "    }\n",
       "\n",
       "    .dataframe tbody tr th {\n",
       "        vertical-align: top;\n",
       "    }\n",
       "\n",
       "    .dataframe thead th {\n",
       "        text-align: right;\n",
       "    }\n",
       "</style>\n",
       "<table border=\"1\" class=\"dataframe\">\n",
       "  <thead>\n",
       "    <tr style=\"text-align: right;\">\n",
       "      <th></th>\n",
       "      <th>Accuracy</th>\n",
       "      <th>Precision</th>\n",
       "      <th>Recall</th>\n",
       "      <th>F1</th>\n",
       "    </tr>\n",
       "  </thead>\n",
       "  <tbody>\n",
       "    <tr>\n",
       "      <th>train</th>\n",
       "      <td>0.838649</td>\n",
       "      <td>0.858974</td>\n",
       "      <td>0.676768</td>\n",
       "      <td>0.757062</td>\n",
       "    </tr>\n",
       "    <tr>\n",
       "      <th>test</th>\n",
       "      <td>0.786517</td>\n",
       "      <td>0.830189</td>\n",
       "      <td>0.602740</td>\n",
       "      <td>0.698413</td>\n",
       "    </tr>\n",
       "  </tbody>\n",
       "</table>\n",
       "</div>"
      ],
      "text/plain": [
       "       Accuracy  Precision    Recall        F1\n",
       "train  0.838649   0.858974  0.676768  0.757062\n",
       "test   0.786517   0.830189  0.602740  0.698413"
      ]
     },
     "metadata": {},
     "output_type": "display_data"
    },
    {
     "data": {
      "image/png": "[encoded data removed]",
      "text/plain": [
       "<Figure size 1080x216 with 2 Axes>"
      ]
     },
     "metadata": {
      "needs_background": "light"
     },
     "output_type": "display_data"
    }
   ],
   "source": [
    "K = 10\n",
    "\n",
    "knn_model = Pipeline([\n",
    "    ('mapper', complete_mapper),\n",
    "    ('imputer', IterativeImputer(random_state=42)),\n",
    "    ('classifier', KNeighborsClassifier(n_neighbors=K)),\n",
    "])\n",
    "\n",
    "knn_model.fit(train, train.survived)\n",
    "\n",
    "evaluate_model(knn_model, title='Knn')"
   ]
  },
  {
   "cell_type": "markdown",
   "metadata": {},
   "source": [
    "# Tercer modelo: Arboles de decisión"
   ]
  },
  {
   "cell_type": "code",
   "execution_count": 25,
   "metadata": {
    "ExecuteTime": {
     "end_time": "2020-05-04T20:44:25.104457Z",
     "start_time": "2020-05-04T20:44:25.055410Z"
    }
   },
   "outputs": [],
   "source": [
    "from sklearn.tree import DecisionTreeClassifier\n",
    "from sklearn.preprocessing import LabelBinarizer"
   ]
  },
  {
   "cell_type": "code",
   "execution_count": 26,
   "metadata": {
    "ExecuteTime": {
     "end_time": "2020-05-04T20:44:25.109685Z",
     "start_time": "2020-05-04T20:44:25.106366Z"
    }
   },
   "outputs": [],
   "source": [
    "label_binarizer_mapper = DataFrameMapper([\n",
    "    (['age'], [StandardScaler()]),\n",
    "    (['siblings_spouses'], [StandardScaler()]),\n",
    "    (['parents_children'], [StandardScaler()]),\n",
    "    (['ticket_class'], [StandardScaler()]),\n",
    "    (['fare'], [StandardScaler()]),\n",
    "    (['sex'], [LabelBinarizer()]),\n",
    "    (['embarked_at'], [LabelBinarizer()]),\n",
    "\n",
    "])"
   ]
  },
  {
   "cell_type": "code",
   "execution_count": 27,
   "metadata": {
    "ExecuteTime": {
     "end_time": "2020-05-04T20:44:25.328542Z",
     "start_time": "2020-05-04T20:44:25.111292Z"
    }
   },
   "outputs": [
    {
     "data": {
      "text/plain": [
       "'Decision Tree'"
      ]
     },
     "metadata": {},
     "output_type": "display_data"
    },
    {
     "data": {
      "text/html": [
       "<div>\n",
       "<style scoped>\n",
       "    .dataframe tbody tr th:only-of-type {\n",
       "        vertical-align: middle;\n",
       "    }\n",
       "\n",
       "    .dataframe tbody tr th {\n",
       "        vertical-align: top;\n",
       "    }\n",
       "\n",
       "    .dataframe thead th {\n",
       "        text-align: right;\n",
       "    }\n",
       "</style>\n",
       "<table border=\"1\" class=\"dataframe\">\n",
       "  <thead>\n",
       "    <tr style=\"text-align: right;\">\n",
       "      <th></th>\n",
       "      <th>Accuracy</th>\n",
       "      <th>Precision</th>\n",
       "      <th>Recall</th>\n",
       "      <th>F1</th>\n",
       "    </tr>\n",
       "  </thead>\n",
       "  <tbody>\n",
       "    <tr>\n",
       "      <th>train</th>\n",
       "      <td>0.988743</td>\n",
       "      <td>0.994845</td>\n",
       "      <td>0.974747</td>\n",
       "      <td>0.984694</td>\n",
       "    </tr>\n",
       "    <tr>\n",
       "      <th>test</th>\n",
       "      <td>0.758427</td>\n",
       "      <td>0.720588</td>\n",
       "      <td>0.671233</td>\n",
       "      <td>0.695035</td>\n",
       "    </tr>\n",
       "  </tbody>\n",
       "</table>\n",
       "</div>"
      ],
      "text/plain": [
       "       Accuracy  Precision    Recall        F1\n",
       "train  0.988743   0.994845  0.974747  0.984694\n",
       "test   0.758427   0.720588  0.671233  0.695035"
      ]
     },
     "metadata": {},
     "output_type": "display_data"
    },
    {
     "data": {
      "image/png": "[encoded data removed]",
      "text/plain": [
       "<Figure size 1080x216 with 2 Axes>"
      ]
     },
     "metadata": {
      "needs_background": "light"
     },
     "output_type": "display_data"
    }
   ],
   "source": [
    "tree_model = DecisionTreeClassifier(random_state=42)\n",
    "# tree_model = DecisionTreeClassifier(max_depth=3)\n",
    "\n",
    "dt_model = Pipeline([\n",
    "    ('mapper', label_binarizer_mapper),\n",
    "    ('imputer', IterativeImputer(random_state=42)),\n",
    "    ('classifier', tree_model),\n",
    "])\n",
    "\n",
    "dt_model.fit(train, train.survived)\n",
    "\n",
    "evaluate_model(dt_model, title='Decision Tree')"
   ]
  },
  {
   "cell_type": "code",
   "execution_count": 28,
   "metadata": {
    "ExecuteTime": {
     "end_time": "2020-05-04T20:44:25.544366Z",
     "start_time": "2020-05-04T20:44:25.330281Z"
    }
   },
   "outputs": [
    {
     "data": {
      "text/plain": [
       "'Decision Tree'"
      ]
     },
     "metadata": {},
     "output_type": "display_data"
    },
    {
     "data": {
      "text/html": [
       "<div>\n",
       "<style scoped>\n",
       "    .dataframe tbody tr th:only-of-type {\n",
       "        vertical-align: middle;\n",
       "    }\n",
       "\n",
       "    .dataframe tbody tr th {\n",
       "        vertical-align: top;\n",
       "    }\n",
       "\n",
       "    .dataframe thead th {\n",
       "        text-align: right;\n",
       "    }\n",
       "</style>\n",
       "<table border=\"1\" class=\"dataframe\">\n",
       "  <thead>\n",
       "    <tr style=\"text-align: right;\">\n",
       "      <th></th>\n",
       "      <th>Accuracy</th>\n",
       "      <th>Precision</th>\n",
       "      <th>Recall</th>\n",
       "      <th>F1</th>\n",
       "    </tr>\n",
       "  </thead>\n",
       "  <tbody>\n",
       "    <tr>\n",
       "      <th>train</th>\n",
       "      <td>0.833021</td>\n",
       "      <td>0.826347</td>\n",
       "      <td>0.696970</td>\n",
       "      <td>0.756164</td>\n",
       "    </tr>\n",
       "    <tr>\n",
       "      <th>test</th>\n",
       "      <td>0.792135</td>\n",
       "      <td>0.821429</td>\n",
       "      <td>0.630137</td>\n",
       "      <td>0.713178</td>\n",
       "    </tr>\n",
       "  </tbody>\n",
       "</table>\n",
       "</div>"
      ],
      "text/plain": [
       "       Accuracy  Precision    Recall        F1\n",
       "train  0.833021   0.826347  0.696970  0.756164\n",
       "test   0.792135   0.821429  0.630137  0.713178"
      ]
     },
     "metadata": {},
     "output_type": "display_data"
    },
    {
     "data": {
      "image/png": "[encoded data removed]",
      "text/plain": [
       "<Figure size 1080x216 with 2 Axes>"
      ]
     },
     "metadata": {
      "needs_background": "light"
     },
     "output_type": "display_data"
    }
   ],
   "source": [
    "tree_model = DecisionTreeClassifier(max_depth=3, random_state=42)\n",
    "\n",
    "dt_model = Pipeline([\n",
    "    ('mapper', label_binarizer_mapper),\n",
    "    ('imputer', IterativeImputer(random_state=42)),\n",
    "    ('classifier', tree_model),\n",
    "])\n",
    "\n",
    "dt_model.fit(train, train.survived)\n",
    "\n",
    "evaluate_model(dt_model, title='Decision Tree')"
   ]
  },
  {
   "cell_type": "code",
   "execution_count": 29,
   "metadata": {
    "ExecuteTime": {
     "end_time": "2020-05-04T20:44:25.554479Z",
     "start_time": "2020-05-04T20:44:25.546002Z"
    },
    "scrolled": true
   },
   "outputs": [],
   "source": [
    "import graphviz  # pip install graphviz\n",
    "from sklearn.tree import export_graphviz\n",
    "\n",
    "def graph_tree(tree, col_names):\n",
    "    graph_data = export_graphviz(\n",
    "        tree, \n",
    "        out_file=None, \n",
    "        feature_names=col_names,  \n",
    "        class_names=['died', 'survived'],  \n",
    "        filled=True, \n",
    "        rounded=True,  \n",
    "        special_characters=True,\n",
    "    )\n",
    "    graph = graphviz.Source(graph_data)  \n",
    "    return graph"
   ]
  },
  {
   "cell_type": "code",
   "execution_count": 30,
   "metadata": {
    "ExecuteTime": {
     "end_time": "2020-05-04T20:44:25.599548Z",
     "start_time": "2020-05-04T20:44:25.556402Z"
    },
    "scrolled": false
   },
   "outputs": [
    {
     "data": {
      "image/svg+xml": [
       "<?xml version=\"1.0\" encoding=\"UTF-8\" standalone=\"no\"?>\n",
       "<!DOCTYPE svg PUBLIC \"-//W3C//DTD SVG 1.1//EN\"\n",
       " \"http://www.w3.org/Graphics/SVG/1.1/DTD/svg11.dtd\">\n",
       "<!-- Generated by graphviz version 2.43.0 (0)\n",
       " -->\n",
       "<!-- Title: Tree Pages: 1 -->\n",
       "<svg width=\"1010pt\" height=\"414pt\"\n",
       " viewBox=\"0.00 0.00 1010.34 414.00\" xmlns=\"http://www.w3.org/2000/svg\" xmlns:xlink=\"http://www.w3.org/1999/xlink\">\n",
       "<g id=\"graph0\" class=\"graph\" transform=\"scale(1 1) rotate(0) translate(4 410)\">\n",
       "<title>Tree</title>\n",
       "<polygon fill=\"white\" stroke=\"transparent\" points=\"-4,4 -4,-410 1006.34,-410 1006.34,4 -4,4\"/>\n",
       "<!-- 0 -->\n",
       "<g id=\"node1\" class=\"node\">\n",
       "<title>0</title>\n",
       "<path fill=\"#f4cbae\" stroke=\"black\" d=\"M532.98,-406C532.98,-406 429.58,-406 429.58,-406 423.58,-406 417.58,-400 417.58,-394 417.58,-394 417.58,-340 417.58,-340 417.58,-334 423.58,-328 429.58,-328 429.58,-328 532.98,-328 532.98,-328 538.98,-328 544.98,-334 544.98,-340 544.98,-340 544.98,-394 544.98,-394 544.98,-400 538.98,-406 532.98,-406\"/>\n",
       "<text text-anchor=\"start\" x=\"452.92\" y=\"-390.8\" font-family=\"Helvetica,sans-Serif\" font-size=\"14.00\">sex ≤ 0.5</text>\n",
       "<text text-anchor=\"start\" x=\"444.89\" y=\"-376.8\" font-family=\"Helvetica,sans-Serif\" font-size=\"14.00\">gini = 0.467</text>\n",
       "<text text-anchor=\"start\" x=\"435.56\" y=\"-362.8\" font-family=\"Helvetica,sans-Serif\" font-size=\"14.00\">samples = 533</text>\n",
       "<text text-anchor=\"start\" x=\"425.43\" y=\"-348.8\" font-family=\"Helvetica,sans-Serif\" font-size=\"14.00\">value = [335, 198]</text>\n",
       "<text text-anchor=\"start\" x=\"444.12\" y=\"-334.8\" font-family=\"Helvetica,sans-Serif\" font-size=\"14.00\">class = died</text>\n",
       "</g>\n",
       "<!-- 1 -->\n",
       "<g id=\"node2\" class=\"node\">\n",
       "<title>1</title>\n",
       "<path fill=\"#7fbfee\" stroke=\"black\" d=\"M410.63,-292C410.63,-292 295.92,-292 295.92,-292 289.92,-292 283.92,-286 283.92,-280 283.92,-280 283.92,-226 283.92,-226 283.92,-220 289.92,-214 295.92,-214 295.92,-214 410.63,-214 410.63,-214 416.63,-214 422.63,-220 422.63,-226 422.63,-226 422.63,-280 422.63,-280 422.63,-286 416.63,-292 410.63,-292\"/>\n",
       "<text text-anchor=\"start\" x=\"291.85\" y=\"-276.8\" font-family=\"Helvetica,sans-Serif\" font-size=\"14.00\">ticket_class ≤ 0.182</text>\n",
       "<text text-anchor=\"start\" x=\"316.89\" y=\"-262.8\" font-family=\"Helvetica,sans-Serif\" font-size=\"14.00\">gini = 0.385</text>\n",
       "<text text-anchor=\"start\" x=\"307.56\" y=\"-248.8\" font-family=\"Helvetica,sans-Serif\" font-size=\"14.00\">samples = 177</text>\n",
       "<text text-anchor=\"start\" x=\"301.32\" y=\"-234.8\" font-family=\"Helvetica,sans-Serif\" font-size=\"14.00\">value = [46, 131]</text>\n",
       "<text text-anchor=\"start\" x=\"303.29\" y=\"-220.8\" font-family=\"Helvetica,sans-Serif\" font-size=\"14.00\">class = survived</text>\n",
       "</g>\n",
       "<!-- 0&#45;&gt;1 -->\n",
       "<g id=\"edge1\" class=\"edge\">\n",
       "<title>0&#45;&gt;1</title>\n",
       "<path fill=\"none\" stroke=\"black\" d=\"M437.59,-327.77C426.88,-318.4 415.32,-308.29 404.3,-298.64\"/>\n",
       "<polygon fill=\"black\" stroke=\"black\" points=\"406.6,-296.01 396.77,-292.06 401.99,-301.28 406.6,-296.01\"/>\n",
       "<text text-anchor=\"middle\" x=\"398.44\" y=\"-312.8\" font-family=\"Helvetica,sans-Serif\" font-size=\"14.00\">True</text>\n",
       "</g>\n",
       "<!-- 8 -->\n",
       "<g id=\"node9\" class=\"node\">\n",
       "<title>8</title>\n",
       "<path fill=\"#eb9e67\" stroke=\"black\" d=\"M652.19,-292C652.19,-292 556.36,-292 556.36,-292 550.36,-292 544.36,-286 544.36,-280 544.36,-280 544.36,-226 544.36,-226 544.36,-220 550.36,-214 556.36,-214 556.36,-214 652.19,-214 652.19,-214 658.19,-214 664.19,-220 664.19,-226 664.19,-226 664.19,-280 664.19,-280 664.19,-286 658.19,-292 652.19,-292\"/>\n",
       "<text text-anchor=\"start\" x=\"565.02\" y=\"-276.8\" font-family=\"Helvetica,sans-Serif\" font-size=\"14.00\">age ≤ &#45;1.795</text>\n",
       "<text text-anchor=\"start\" x=\"567.89\" y=\"-262.8\" font-family=\"Helvetica,sans-Serif\" font-size=\"14.00\">gini = 0.306</text>\n",
       "<text text-anchor=\"start\" x=\"558.56\" y=\"-248.8\" font-family=\"Helvetica,sans-Serif\" font-size=\"14.00\">samples = 356</text>\n",
       "<text text-anchor=\"start\" x=\"552.32\" y=\"-234.8\" font-family=\"Helvetica,sans-Serif\" font-size=\"14.00\">value = [289, 67]</text>\n",
       "<text text-anchor=\"start\" x=\"567.12\" y=\"-220.8\" font-family=\"Helvetica,sans-Serif\" font-size=\"14.00\">class = died</text>\n",
       "</g>\n",
       "<!-- 0&#45;&gt;8 -->\n",
       "<g id=\"edge8\" class=\"edge\">\n",
       "<title>0&#45;&gt;8</title>\n",
       "<path fill=\"none\" stroke=\"black\" d=\"M523.26,-327.77C533.46,-318.49 544.45,-308.48 554.94,-298.92\"/>\n",
       "<polygon fill=\"black\" stroke=\"black\" points=\"557.44,-301.38 562.48,-292.06 552.73,-296.2 557.44,-301.38\"/>\n",
       "<text text-anchor=\"middle\" x=\"561.31\" y=\"-312.83\" font-family=\"Helvetica,sans-Serif\" font-size=\"14.00\">False</text>\n",
       "</g>\n",
       "<!-- 2 -->\n",
       "<g id=\"node3\" class=\"node\">\n",
       "<title>2</title>\n",
       "<path fill=\"#3fa0e6\" stroke=\"black\" d=\"M218.26,-178C218.26,-178 126.29,-178 126.29,-178 120.29,-178 114.29,-172 114.29,-166 114.29,-166 114.29,-112 114.29,-112 114.29,-106 120.29,-100 126.29,-100 126.29,-100 218.26,-100 218.26,-100 224.26,-100 230.26,-106 230.26,-112 230.26,-112 230.26,-166 230.26,-166 230.26,-172 224.26,-178 218.26,-178\"/>\n",
       "<text text-anchor=\"start\" x=\"132.64\" y=\"-162.8\" font-family=\"Helvetica,sans-Serif\" font-size=\"14.00\">fare ≤ &#45;0.401</text>\n",
       "<text text-anchor=\"start\" x=\"135.89\" y=\"-148.8\" font-family=\"Helvetica,sans-Serif\" font-size=\"14.00\">gini = 0.061</text>\n",
       "<text text-anchor=\"start\" x=\"130.45\" y=\"-134.8\" font-family=\"Helvetica,sans-Serif\" font-size=\"14.00\">samples = 95</text>\n",
       "<text text-anchor=\"start\" x=\"128.11\" y=\"-120.8\" font-family=\"Helvetica,sans-Serif\" font-size=\"14.00\">value = [3, 92]</text>\n",
       "<text text-anchor=\"start\" x=\"122.29\" y=\"-106.8\" font-family=\"Helvetica,sans-Serif\" font-size=\"14.00\">class = survived</text>\n",
       "</g>\n",
       "<!-- 1&#45;&gt;2 -->\n",
       "<g id=\"edge2\" class=\"edge\">\n",
       "<title>1&#45;&gt;2</title>\n",
       "<path fill=\"none\" stroke=\"black\" d=\"M291.75,-213.93C274.82,-203.45 256.37,-192.04 239.16,-181.38\"/>\n",
       "<polygon fill=\"black\" stroke=\"black\" points=\"240.62,-178.18 230.28,-175.89 236.94,-184.13 240.62,-178.18\"/>\n",
       "</g>\n",
       "<!-- 5 -->\n",
       "<g id=\"node6\" class=\"node\">\n",
       "<title>5</title>\n",
       "<path fill=\"#fdf3ed\" stroke=\"black\" d=\"M397.4,-178C397.4,-178 309.15,-178 309.15,-178 303.15,-178 297.15,-172 297.15,-166 297.15,-166 297.15,-112 297.15,-112 297.15,-106 303.15,-100 309.15,-100 309.15,-100 397.4,-100 397.4,-100 403.4,-100 409.4,-106 409.4,-112 409.4,-112 409.4,-166 409.4,-166 409.4,-172 403.4,-178 397.4,-178\"/>\n",
       "<text text-anchor=\"start\" x=\"313.64\" y=\"-162.8\" font-family=\"Helvetica,sans-Serif\" font-size=\"14.00\">fare ≤ &#45;0.185</text>\n",
       "<text text-anchor=\"start\" x=\"316.89\" y=\"-148.8\" font-family=\"Helvetica,sans-Serif\" font-size=\"14.00\">gini = 0.499</text>\n",
       "<text text-anchor=\"start\" x=\"311.45\" y=\"-134.8\" font-family=\"Helvetica,sans-Serif\" font-size=\"14.00\">samples = 82</text>\n",
       "<text text-anchor=\"start\" x=\"305.21\" y=\"-120.8\" font-family=\"Helvetica,sans-Serif\" font-size=\"14.00\">value = [43, 39]</text>\n",
       "<text text-anchor=\"start\" x=\"316.12\" y=\"-106.8\" font-family=\"Helvetica,sans-Serif\" font-size=\"14.00\">class = died</text>\n",
       "</g>\n",
       "<!-- 1&#45;&gt;5 -->\n",
       "<g id=\"edge5\" class=\"edge\">\n",
       "<title>1&#45;&gt;5</title>\n",
       "<path fill=\"none\" stroke=\"black\" d=\"M353.28,-213.77C353.28,-205.57 353.28,-196.8 353.28,-188.28\"/>\n",
       "<polygon fill=\"black\" stroke=\"black\" points=\"356.78,-188.06 353.28,-178.06 349.78,-188.06 356.78,-188.06\"/>\n",
       "</g>\n",
       "<!-- 3 -->\n",
       "<g id=\"node4\" class=\"node\">\n",
       "<title>3</title>\n",
       "<path fill=\"#ffffff\" stroke=\"black\" d=\"M84.33,-64C84.33,-64 12.22,-64 12.22,-64 6.22,-64 0.22,-58 0.22,-52 0.22,-52 0.22,-12 0.22,-12 0.22,-6 6.22,0 12.22,0 12.22,0 84.33,0 84.33,0 90.33,0 96.33,-6 96.33,-12 96.33,-12 96.33,-52 96.33,-52 96.33,-58 90.33,-64 84.33,-64\"/>\n",
       "<text text-anchor=\"start\" x=\"19.67\" y=\"-48.8\" font-family=\"Helvetica,sans-Serif\" font-size=\"14.00\">gini = 0.5</text>\n",
       "<text text-anchor=\"start\" x=\"10.34\" y=\"-34.8\" font-family=\"Helvetica,sans-Serif\" font-size=\"14.00\">samples = 2</text>\n",
       "<text text-anchor=\"start\" x=\"8\" y=\"-20.8\" font-family=\"Helvetica,sans-Serif\" font-size=\"14.00\">value = [1, 1]</text>\n",
       "<text text-anchor=\"start\" x=\"11.12\" y=\"-6.8\" font-family=\"Helvetica,sans-Serif\" font-size=\"14.00\">class = died</text>\n",
       "</g>\n",
       "<!-- 2&#45;&gt;3 -->\n",
       "<g id=\"edge3\" class=\"edge\">\n",
       "<title>2&#45;&gt;3</title>\n",
       "<path fill=\"none\" stroke=\"black\" d=\"M127.16,-99.8C116.02,-90.36 104.08,-80.25 92.96,-70.84\"/>\n",
       "<polygon fill=\"black\" stroke=\"black\" points=\"94.92,-67.91 85.03,-64.12 90.4,-73.25 94.92,-67.91\"/>\n",
       "</g>\n",
       "<!-- 4 -->\n",
       "<g id=\"node5\" class=\"node\">\n",
       "<title>4</title>\n",
       "<path fill=\"#3d9fe6\" stroke=\"black\" d=\"M218.26,-64C218.26,-64 126.29,-64 126.29,-64 120.29,-64 114.29,-58 114.29,-52 114.29,-52 114.29,-12 114.29,-12 114.29,-6 120.29,0 126.29,0 126.29,0 218.26,0 218.26,0 224.26,0 230.26,-6 230.26,-12 230.26,-12 230.26,-52 230.26,-52 230.26,-58 224.26,-64 218.26,-64\"/>\n",
       "<text text-anchor=\"start\" x=\"135.89\" y=\"-48.8\" font-family=\"Helvetica,sans-Serif\" font-size=\"14.00\">gini = 0.042</text>\n",
       "<text text-anchor=\"start\" x=\"130.45\" y=\"-34.8\" font-family=\"Helvetica,sans-Serif\" font-size=\"14.00\">samples = 93</text>\n",
       "<text text-anchor=\"start\" x=\"128.11\" y=\"-20.8\" font-family=\"Helvetica,sans-Serif\" font-size=\"14.00\">value = [2, 91]</text>\n",
       "<text text-anchor=\"start\" x=\"122.29\" y=\"-6.8\" font-family=\"Helvetica,sans-Serif\" font-size=\"14.00\">class = survived</text>\n",
       "</g>\n",
       "<!-- 2&#45;&gt;4 -->\n",
       "<g id=\"edge4\" class=\"edge\">\n",
       "<title>2&#45;&gt;4</title>\n",
       "<path fill=\"none\" stroke=\"black\" d=\"M172.28,-99.8C172.28,-91.46 172.28,-82.6 172.28,-74.15\"/>\n",
       "<polygon fill=\"black\" stroke=\"black\" points=\"175.78,-74.12 172.28,-64.12 168.78,-74.12 175.78,-74.12\"/>\n",
       "</g>\n",
       "<!-- 6 -->\n",
       "<g id=\"node7\" class=\"node\">\n",
       "<title>6</title>\n",
       "<path fill=\"#c6e3f7\" stroke=\"black\" d=\"M352.26,-64C352.26,-64 260.29,-64 260.29,-64 254.29,-64 248.29,-58 248.29,-52 248.29,-52 248.29,-12 248.29,-12 248.29,-6 254.29,0 260.29,0 260.29,0 352.26,0 352.26,0 358.26,0 364.26,-6 364.26,-12 364.26,-12 364.26,-52 364.26,-52 364.26,-58 358.26,-64 352.26,-64\"/>\n",
       "<text text-anchor=\"start\" x=\"269.89\" y=\"-48.8\" font-family=\"Helvetica,sans-Serif\" font-size=\"14.00\">gini = 0.486</text>\n",
       "<text text-anchor=\"start\" x=\"264.45\" y=\"-34.8\" font-family=\"Helvetica,sans-Serif\" font-size=\"14.00\">samples = 65</text>\n",
       "<text text-anchor=\"start\" x=\"258.21\" y=\"-20.8\" font-family=\"Helvetica,sans-Serif\" font-size=\"14.00\">value = [27, 38]</text>\n",
       "<text text-anchor=\"start\" x=\"256.29\" y=\"-6.8\" font-family=\"Helvetica,sans-Serif\" font-size=\"14.00\">class = survived</text>\n",
       "</g>\n",
       "<!-- 5&#45;&gt;6 -->\n",
       "<g id=\"edge6\" class=\"edge\">\n",
       "<title>5&#45;&gt;6</title>\n",
       "<path fill=\"none\" stroke=\"black\" d=\"M336.18,-99.8C332.32,-91.18 328.22,-82.02 324.33,-73.32\"/>\n",
       "<polygon fill=\"black\" stroke=\"black\" points=\"327.49,-71.81 320.21,-64.12 321.1,-74.67 327.49,-71.81\"/>\n",
       "</g>\n",
       "<!-- 7 -->\n",
       "<g id=\"node8\" class=\"node\">\n",
       "<title>7</title>\n",
       "<path fill=\"#e78945\" stroke=\"black\" d=\"M474.62,-64C474.62,-64 393.94,-64 393.94,-64 387.94,-64 381.94,-58 381.94,-52 381.94,-52 381.94,-12 381.94,-12 381.94,-6 387.94,0 393.94,0 393.94,0 474.62,0 474.62,0 480.62,0 486.62,-6 486.62,-12 486.62,-12 486.62,-52 486.62,-52 486.62,-58 480.62,-64 474.62,-64\"/>\n",
       "<text text-anchor=\"start\" x=\"398.92\" y=\"-48.8\" font-family=\"Helvetica,sans-Serif\" font-size=\"14.00\">gini = 0.111</text>\n",
       "<text text-anchor=\"start\" x=\"392.45\" y=\"-34.8\" font-family=\"Helvetica,sans-Serif\" font-size=\"14.00\">samples = 17</text>\n",
       "<text text-anchor=\"start\" x=\"390.11\" y=\"-20.8\" font-family=\"Helvetica,sans-Serif\" font-size=\"14.00\">value = [16, 1]</text>\n",
       "<text text-anchor=\"start\" x=\"397.12\" y=\"-6.8\" font-family=\"Helvetica,sans-Serif\" font-size=\"14.00\">class = died</text>\n",
       "</g>\n",
       "<!-- 5&#45;&gt;7 -->\n",
       "<g id=\"edge7\" class=\"edge\">\n",
       "<title>5&#45;&gt;7</title>\n",
       "<path fill=\"none\" stroke=\"black\" d=\"M382.75,-99.8C389.68,-90.82 397.07,-81.23 404.03,-72.21\"/>\n",
       "<polygon fill=\"black\" stroke=\"black\" points=\"406.94,-74.17 410.27,-64.12 401.39,-69.9 406.94,-74.17\"/>\n",
       "</g>\n",
       "<!-- 9 -->\n",
       "<g id=\"node10\" class=\"node\">\n",
       "<title>9</title>\n",
       "<path fill=\"#a7d3f3\" stroke=\"black\" d=\"M678.89,-178C678.89,-178 529.66,-178 529.66,-178 523.66,-178 517.66,-172 517.66,-166 517.66,-166 517.66,-112 517.66,-112 517.66,-106 523.66,-100 529.66,-100 529.66,-100 678.89,-100 678.89,-100 684.89,-100 690.89,-106 690.89,-112 690.89,-112 690.89,-166 690.89,-166 690.89,-172 684.89,-178 678.89,-178\"/>\n",
       "<text text-anchor=\"start\" x=\"525.72\" y=\"-162.8\" font-family=\"Helvetica,sans-Serif\" font-size=\"14.00\">siblings_spouses ≤ 1.789</text>\n",
       "<text text-anchor=\"start\" x=\"567.89\" y=\"-148.8\" font-family=\"Helvetica,sans-Serif\" font-size=\"14.00\">gini = 0.459</text>\n",
       "<text text-anchor=\"start\" x=\"562.45\" y=\"-134.8\" font-family=\"Helvetica,sans-Serif\" font-size=\"14.00\">samples = 14</text>\n",
       "<text text-anchor=\"start\" x=\"564\" y=\"-120.8\" font-family=\"Helvetica,sans-Serif\" font-size=\"14.00\">value = [5, 9]</text>\n",
       "<text text-anchor=\"start\" x=\"554.29\" y=\"-106.8\" font-family=\"Helvetica,sans-Serif\" font-size=\"14.00\">class = survived</text>\n",
       "</g>\n",
       "<!-- 8&#45;&gt;9 -->\n",
       "<g id=\"edge9\" class=\"edge\">\n",
       "<title>8&#45;&gt;9</title>\n",
       "<path fill=\"none\" stroke=\"black\" d=\"M604.28,-213.77C604.28,-205.57 604.28,-196.8 604.28,-188.28\"/>\n",
       "<polygon fill=\"black\" stroke=\"black\" points=\"607.78,-188.06 604.28,-178.06 600.78,-188.06 607.78,-188.06\"/>\n",
       "</g>\n",
       "<!-- 12 -->\n",
       "<g id=\"node13\" class=\"node\">\n",
       "<title>12</title>\n",
       "<path fill=\"#ea9b61\" stroke=\"black\" d=\"M860.19,-178C860.19,-178 764.36,-178 764.36,-178 758.36,-178 752.36,-172 752.36,-166 752.36,-166 752.36,-112 752.36,-112 752.36,-106 758.36,-100 764.36,-100 764.36,-100 860.19,-100 860.19,-100 866.19,-100 872.19,-106 872.19,-112 872.19,-112 872.19,-166 872.19,-166 872.19,-172 866.19,-178 860.19,-178\"/>\n",
       "<text text-anchor=\"start\" x=\"772.64\" y=\"-162.8\" font-family=\"Helvetica,sans-Serif\" font-size=\"14.00\">fare ≤ &#45;0.131</text>\n",
       "<text text-anchor=\"start\" x=\"775.89\" y=\"-148.8\" font-family=\"Helvetica,sans-Serif\" font-size=\"14.00\">gini = 0.282</text>\n",
       "<text text-anchor=\"start\" x=\"766.56\" y=\"-134.8\" font-family=\"Helvetica,sans-Serif\" font-size=\"14.00\">samples = 342</text>\n",
       "<text text-anchor=\"start\" x=\"760.32\" y=\"-120.8\" font-family=\"Helvetica,sans-Serif\" font-size=\"14.00\">value = [284, 58]</text>\n",
       "<text text-anchor=\"start\" x=\"775.12\" y=\"-106.8\" font-family=\"Helvetica,sans-Serif\" font-size=\"14.00\">class = died</text>\n",
       "</g>\n",
       "<!-- 8&#45;&gt;12 -->\n",
       "<g id=\"edge12\" class=\"edge\">\n",
       "<title>8&#45;&gt;12</title>\n",
       "<path fill=\"none\" stroke=\"black\" d=\"M664.44,-219.6C689.12,-206.31 717.84,-190.85 743.37,-177.11\"/>\n",
       "<polygon fill=\"black\" stroke=\"black\" points=\"745.1,-180.14 752.25,-172.32 741.79,-173.98 745.1,-180.14\"/>\n",
       "</g>\n",
       "<!-- 10 -->\n",
       "<g id=\"node11\" class=\"node\">\n",
       "<title>10</title>\n",
       "<path fill=\"#399de5\" stroke=\"black\" d=\"M608.26,-64C608.26,-64 516.29,-64 516.29,-64 510.29,-64 504.29,-58 504.29,-52 504.29,-52 504.29,-12 504.29,-12 504.29,-6 510.29,0 516.29,0 516.29,0 608.26,0 608.26,0 614.26,0 620.26,-6 620.26,-12 620.26,-12 620.26,-52 620.26,-52 620.26,-58 614.26,-64 608.26,-64\"/>\n",
       "<text text-anchor=\"start\" x=\"533.67\" y=\"-48.8\" font-family=\"Helvetica,sans-Serif\" font-size=\"14.00\">gini = 0.0</text>\n",
       "<text text-anchor=\"start\" x=\"524.34\" y=\"-34.8\" font-family=\"Helvetica,sans-Serif\" font-size=\"14.00\">samples = 9</text>\n",
       "<text text-anchor=\"start\" x=\"522\" y=\"-20.8\" font-family=\"Helvetica,sans-Serif\" font-size=\"14.00\">value = [0, 9]</text>\n",
       "<text text-anchor=\"start\" x=\"512.29\" y=\"-6.8\" font-family=\"Helvetica,sans-Serif\" font-size=\"14.00\">class = survived</text>\n",
       "</g>\n",
       "<!-- 9&#45;&gt;10 -->\n",
       "<g id=\"edge10\" class=\"edge\">\n",
       "<title>9&#45;&gt;10</title>\n",
       "<path fill=\"none\" stroke=\"black\" d=\"M589,-99.8C585.59,-91.27 581.96,-82.21 578.52,-73.6\"/>\n",
       "<polygon fill=\"black\" stroke=\"black\" points=\"581.69,-72.1 574.72,-64.12 575.19,-74.7 581.69,-72.1\"/>\n",
       "</g>\n",
       "<!-- 11 -->\n",
       "<g id=\"node12\" class=\"node\">\n",
       "<title>11</title>\n",
       "<path fill=\"#e58139\" stroke=\"black\" d=\"M722.33,-64C722.33,-64 650.22,-64 650.22,-64 644.22,-64 638.22,-58 638.22,-52 638.22,-52 638.22,-12 638.22,-12 638.22,-6 644.22,0 650.22,0 650.22,0 722.33,0 722.33,0 728.33,0 734.33,-6 734.33,-12 734.33,-12 734.33,-52 734.33,-52 734.33,-58 728.33,-64 722.33,-64\"/>\n",
       "<text text-anchor=\"start\" x=\"657.67\" y=\"-48.8\" font-family=\"Helvetica,sans-Serif\" font-size=\"14.00\">gini = 0.0</text>\n",
       "<text text-anchor=\"start\" x=\"648.34\" y=\"-34.8\" font-family=\"Helvetica,sans-Serif\" font-size=\"14.00\">samples = 5</text>\n",
       "<text text-anchor=\"start\" x=\"646\" y=\"-20.8\" font-family=\"Helvetica,sans-Serif\" font-size=\"14.00\">value = [5, 0]</text>\n",
       "<text text-anchor=\"start\" x=\"649.12\" y=\"-6.8\" font-family=\"Helvetica,sans-Serif\" font-size=\"14.00\">class = died</text>\n",
       "</g>\n",
       "<!-- 9&#45;&gt;11 -->\n",
       "<g id=\"edge11\" class=\"edge\">\n",
       "<title>9&#45;&gt;11</title>\n",
       "<path fill=\"none\" stroke=\"black\" d=\"M634.11,-99.8C641.13,-90.82 648.61,-81.23 655.65,-72.21\"/>\n",
       "<polygon fill=\"black\" stroke=\"black\" points=\"658.58,-74.15 661.98,-64.12 653.06,-69.84 658.58,-74.15\"/>\n",
       "</g>\n",
       "<!-- 13 -->\n",
       "<g id=\"node14\" class=\"node\">\n",
       "<title>13</title>\n",
       "<path fill=\"#e89253\" stroke=\"black\" d=\"M860.19,-64C860.19,-64 764.36,-64 764.36,-64 758.36,-64 752.36,-58 752.36,-52 752.36,-52 752.36,-12 752.36,-12 752.36,-6 758.36,0 764.36,0 764.36,0 860.19,0 860.19,0 866.19,0 872.19,-6 872.19,-12 872.19,-12 872.19,-52 872.19,-52 872.19,-58 866.19,-64 860.19,-64\"/>\n",
       "<text text-anchor=\"start\" x=\"775.89\" y=\"-48.8\" font-family=\"Helvetica,sans-Serif\" font-size=\"14.00\">gini = 0.207</text>\n",
       "<text text-anchor=\"start\" x=\"766.56\" y=\"-34.8\" font-family=\"Helvetica,sans-Serif\" font-size=\"14.00\">samples = 256</text>\n",
       "<text text-anchor=\"start\" x=\"760.32\" y=\"-20.8\" font-family=\"Helvetica,sans-Serif\" font-size=\"14.00\">value = [226, 30]</text>\n",
       "<text text-anchor=\"start\" x=\"775.12\" y=\"-6.8\" font-family=\"Helvetica,sans-Serif\" font-size=\"14.00\">class = died</text>\n",
       "</g>\n",
       "<!-- 12&#45;&gt;13 -->\n",
       "<g id=\"edge13\" class=\"edge\">\n",
       "<title>12&#45;&gt;13</title>\n",
       "<path fill=\"none\" stroke=\"black\" d=\"M812.28,-99.8C812.28,-91.46 812.28,-82.6 812.28,-74.15\"/>\n",
       "<polygon fill=\"black\" stroke=\"black\" points=\"815.78,-74.12 812.28,-64.12 808.78,-74.12 815.78,-74.12\"/>\n",
       "</g>\n",
       "<!-- 14 -->\n",
       "<g id=\"node15\" class=\"node\">\n",
       "<title>14</title>\n",
       "<path fill=\"#f2be99\" stroke=\"black\" d=\"M990.4,-64C990.4,-64 902.15,-64 902.15,-64 896.15,-64 890.15,-58 890.15,-52 890.15,-52 890.15,-12 890.15,-12 890.15,-6 896.15,0 902.15,0 902.15,0 990.4,0 990.4,0 996.4,0 1002.4,-6 1002.4,-12 1002.4,-12 1002.4,-52 1002.4,-52 1002.4,-58 996.4,-64 990.4,-64\"/>\n",
       "<text text-anchor=\"start\" x=\"909.89\" y=\"-48.8\" font-family=\"Helvetica,sans-Serif\" font-size=\"14.00\">gini = 0.439</text>\n",
       "<text text-anchor=\"start\" x=\"904.45\" y=\"-34.8\" font-family=\"Helvetica,sans-Serif\" font-size=\"14.00\">samples = 86</text>\n",
       "<text text-anchor=\"start\" x=\"898.21\" y=\"-20.8\" font-family=\"Helvetica,sans-Serif\" font-size=\"14.00\">value = [58, 28]</text>\n",
       "<text text-anchor=\"start\" x=\"909.12\" y=\"-6.8\" font-family=\"Helvetica,sans-Serif\" font-size=\"14.00\">class = died</text>\n",
       "</g>\n",
       "<!-- 12&#45;&gt;14 -->\n",
       "<g id=\"edge14\" class=\"edge\">\n",
       "<title>12&#45;&gt;14</title>\n",
       "<path fill=\"none\" stroke=\"black\" d=\"M861.03,-99.8C873.31,-90.18 886.47,-79.86 898.69,-70.29\"/>\n",
       "<polygon fill=\"black\" stroke=\"black\" points=\"900.85,-73.04 906.57,-64.12 896.54,-67.53 900.85,-73.04\"/>\n",
       "</g>\n",
       "</g>\n",
       "</svg>\n"
      ],
      "text/plain": [
       "<graphviz.files.Source at 0x123940fd0>"
      ]
     },
     "execution_count": 30,
     "metadata": {},
     "output_type": "execute_result"
    }
   ],
   "source": [
    "graph_tree(tree_model, label_binarizer_mapper.transformed_names_)"
   ]
  },
  {
   "cell_type": "markdown",
   "metadata": {},
   "source": [
    "# Cuarto modelo: Random Forests"
   ]
  },
  {
   "cell_type": "code",
   "execution_count": 31,
   "metadata": {
    "ExecuteTime": {
     "end_time": "2020-05-04T20:44:25.612373Z",
     "start_time": "2020-05-04T20:44:25.601199Z"
    }
   },
   "outputs": [],
   "source": [
    "from sklearn.ensemble import RandomForestClassifier"
   ]
  },
  {
   "cell_type": "code",
   "execution_count": 32,
   "metadata": {
    "ExecuteTime": {
     "end_time": "2020-05-04T20:44:25.989421Z",
     "start_time": "2020-05-04T20:44:25.614430Z"
    }
   },
   "outputs": [
    {
     "data": {
      "text/plain": [
       "'Random Forest'"
      ]
     },
     "metadata": {},
     "output_type": "display_data"
    },
    {
     "data": {
      "text/html": [
       "<div>\n",
       "<style scoped>\n",
       "    .dataframe tbody tr th:only-of-type {\n",
       "        vertical-align: middle;\n",
       "    }\n",
       "\n",
       "    .dataframe tbody tr th {\n",
       "        vertical-align: top;\n",
       "    }\n",
       "\n",
       "    .dataframe thead th {\n",
       "        text-align: right;\n",
       "    }\n",
       "</style>\n",
       "<table border=\"1\" class=\"dataframe\">\n",
       "  <thead>\n",
       "    <tr style=\"text-align: right;\">\n",
       "      <th></th>\n",
       "      <th>Accuracy</th>\n",
       "      <th>Precision</th>\n",
       "      <th>Recall</th>\n",
       "      <th>F1</th>\n",
       "    </tr>\n",
       "  </thead>\n",
       "  <tbody>\n",
       "    <tr>\n",
       "      <th>train</th>\n",
       "      <td>0.988743</td>\n",
       "      <td>0.989796</td>\n",
       "      <td>0.979798</td>\n",
       "      <td>0.984772</td>\n",
       "    </tr>\n",
       "    <tr>\n",
       "      <th>test</th>\n",
       "      <td>0.752809</td>\n",
       "      <td>0.710145</td>\n",
       "      <td>0.671233</td>\n",
       "      <td>0.690141</td>\n",
       "    </tr>\n",
       "  </tbody>\n",
       "</table>\n",
       "</div>"
      ],
      "text/plain": [
       "       Accuracy  Precision    Recall        F1\n",
       "train  0.988743   0.989796  0.979798  0.984772\n",
       "test   0.752809   0.710145  0.671233  0.690141"
      ]
     },
     "metadata": {},
     "output_type": "display_data"
    },
    {
     "data": {
      "image/png": "[encoded data removed]",
      "text/plain": [
       "<Figure size 1080x216 with 2 Axes>"
      ]
     },
     "metadata": {
      "needs_background": "light"
     },
     "output_type": "display_data"
    }
   ],
   "source": [
    "forest_model = RandomForestClassifier(random_state=42)\n",
    "# n_estimators? max_depth=3?, max_features=2?\n",
    "\n",
    "rf_model = Pipeline([\n",
    "    ('mapper', label_binarizer_mapper),\n",
    "    ('imputer', IterativeImputer(random_state=42)),\n",
    "    ('classifier', forest_model),\n",
    "])\n",
    "\n",
    "rf_model.fit(train, train.survived)\n",
    "\n",
    "evaluate_model(rf_model, title='Random Forest')"
   ]
  },
  {
   "cell_type": "code",
   "execution_count": 33,
   "metadata": {
    "ExecuteTime": {
     "end_time": "2020-05-04T20:44:26.370904Z",
     "start_time": "2020-05-04T20:44:25.991029Z"
    }
   },
   "outputs": [
    {
     "data": {
      "text/plain": [
       "'Random Forest'"
      ]
     },
     "metadata": {},
     "output_type": "display_data"
    },
    {
     "data": {
      "text/html": [
       "<div>\n",
       "<style scoped>\n",
       "    .dataframe tbody tr th:only-of-type {\n",
       "        vertical-align: middle;\n",
       "    }\n",
       "\n",
       "    .dataframe tbody tr th {\n",
       "        vertical-align: top;\n",
       "    }\n",
       "\n",
       "    .dataframe thead th {\n",
       "        text-align: right;\n",
       "    }\n",
       "</style>\n",
       "<table border=\"1\" class=\"dataframe\">\n",
       "  <thead>\n",
       "    <tr style=\"text-align: right;\">\n",
       "      <th></th>\n",
       "      <th>Accuracy</th>\n",
       "      <th>Precision</th>\n",
       "      <th>Recall</th>\n",
       "      <th>F1</th>\n",
       "    </tr>\n",
       "  </thead>\n",
       "  <tbody>\n",
       "    <tr>\n",
       "      <th>train</th>\n",
       "      <td>0.833021</td>\n",
       "      <td>0.909774</td>\n",
       "      <td>0.611111</td>\n",
       "      <td>0.731118</td>\n",
       "    </tr>\n",
       "    <tr>\n",
       "      <th>test</th>\n",
       "      <td>0.764045</td>\n",
       "      <td>0.829787</td>\n",
       "      <td>0.534247</td>\n",
       "      <td>0.650000</td>\n",
       "    </tr>\n",
       "  </tbody>\n",
       "</table>\n",
       "</div>"
      ],
      "text/plain": [
       "       Accuracy  Precision    Recall        F1\n",
       "train  0.833021   0.909774  0.611111  0.731118\n",
       "test   0.764045   0.829787  0.534247  0.650000"
      ]
     },
     "metadata": {},
     "output_type": "display_data"
    },
    {
     "data": {
      "image/png": "[encoded data removed]",
      "text/plain": [
       "<Figure size 1080x216 with 2 Axes>"
      ]
     },
     "metadata": {
      "needs_background": "light"
     },
     "output_type": "display_data"
    },
    {
     "data": {
      "image/svg+xml": [
       "<?xml version=\"1.0\" encoding=\"UTF-8\" standalone=\"no\"?>\n",
       "<!DOCTYPE svg PUBLIC \"-//W3C//DTD SVG 1.1//EN\"\n",
       " \"http://www.w3.org/Graphics/SVG/1.1/DTD/svg11.dtd\">\n",
       "<!-- Generated by graphviz version 2.43.0 (0)\n",
       " -->\n",
       "<!-- Title: Tree Pages: 1 -->\n",
       "<svg width=\"797pt\" height=\"414pt\"\n",
       " viewBox=\"0.00 0.00 797.16 414.00\" xmlns=\"http://www.w3.org/2000/svg\" xmlns:xlink=\"http://www.w3.org/1999/xlink\">\n",
       "<g id=\"graph0\" class=\"graph\" transform=\"scale(1 1) rotate(0) translate(4 410)\">\n",
       "<title>Tree</title>\n",
       "<polygon fill=\"white\" stroke=\"transparent\" points=\"-4,4 -4,-410 793.16,-410 793.16,4 -4,4\"/>\n",
       "<!-- 0 -->\n",
       "<g id=\"node1\" class=\"node\">\n",
       "<title>0</title>\n",
       "<path fill=\"#f4caac\" stroke=\"black\" d=\"M352.51,-406C352.51,-406 233.47,-406 233.47,-406 227.47,-406 221.47,-400 221.47,-394 221.47,-394 221.47,-340 221.47,-340 221.47,-334 227.47,-328 233.47,-328 233.47,-328 352.51,-328 352.51,-328 358.51,-328 364.51,-334 364.51,-340 364.51,-340 364.51,-394 364.51,-394 364.51,-400 358.51,-406 352.51,-406\"/>\n",
       "<text text-anchor=\"start\" x=\"229.23\" y=\"-390.8\" font-family=\"Helvetica,sans-Serif\" font-size=\"14.00\">ticket_class ≤ &#45;1.036</text>\n",
       "<text text-anchor=\"start\" x=\"256.6\" y=\"-376.8\" font-family=\"Helvetica,sans-Serif\" font-size=\"14.00\">gini = 0.465</text>\n",
       "<text text-anchor=\"start\" x=\"247.27\" y=\"-362.8\" font-family=\"Helvetica,sans-Serif\" font-size=\"14.00\">samples = 340</text>\n",
       "<text text-anchor=\"start\" x=\"237.14\" y=\"-348.8\" font-family=\"Helvetica,sans-Serif\" font-size=\"14.00\">value = [337, 196]</text>\n",
       "<text text-anchor=\"start\" x=\"255.83\" y=\"-334.8\" font-family=\"Helvetica,sans-Serif\" font-size=\"14.00\">class = died</text>\n",
       "</g>\n",
       "<!-- 1 -->\n",
       "<g id=\"node2\" class=\"node\">\n",
       "<title>1</title>\n",
       "<path fill=\"#a4d2f3\" stroke=\"black\" d=\"M254.97,-292C254.97,-292 163.01,-292 163.01,-292 157.01,-292 151.01,-286 151.01,-280 151.01,-280 151.01,-226 151.01,-226 151.01,-220 157.01,-214 163.01,-214 163.01,-214 254.97,-214 254.97,-214 260.97,-214 266.97,-220 266.97,-226 266.97,-226 266.97,-280 266.97,-280 266.97,-286 260.97,-292 254.97,-292\"/>\n",
       "<text text-anchor=\"start\" x=\"180.64\" y=\"-276.8\" font-family=\"Helvetica,sans-Serif\" font-size=\"14.00\">sex ≤ 0.5</text>\n",
       "<text text-anchor=\"start\" x=\"172.6\" y=\"-262.8\" font-family=\"Helvetica,sans-Serif\" font-size=\"14.00\">gini = 0.455</text>\n",
       "<text text-anchor=\"start\" x=\"167.16\" y=\"-248.8\" font-family=\"Helvetica,sans-Serif\" font-size=\"14.00\">samples = 81</text>\n",
       "<text text-anchor=\"start\" x=\"160.93\" y=\"-234.8\" font-family=\"Helvetica,sans-Serif\" font-size=\"14.00\">value = [47, 87]</text>\n",
       "<text text-anchor=\"start\" x=\"159\" y=\"-220.8\" font-family=\"Helvetica,sans-Serif\" font-size=\"14.00\">class = survived</text>\n",
       "</g>\n",
       "<!-- 0&#45;&gt;1 -->\n",
       "<g id=\"edge1\" class=\"edge\">\n",
       "<title>0&#45;&gt;1</title>\n",
       "<path fill=\"none\" stroke=\"black\" d=\"M264.32,-327.77C257.7,-318.94 250.58,-309.45 243.73,-300.32\"/>\n",
       "<polygon fill=\"black\" stroke=\"black\" points=\"246.34,-297.96 237.54,-292.06 240.74,-302.16 246.34,-297.96\"/>\n",
       "<text text-anchor=\"middle\" x=\"234\" y=\"-312.61\" font-family=\"Helvetica,sans-Serif\" font-size=\"14.00\">True</text>\n",
       "</g>\n",
       "<!-- 6 -->\n",
       "<g id=\"node7\" class=\"node\">\n",
       "<title>6</title>\n",
       "<path fill=\"#efb083\" stroke=\"black\" d=\"M492,-292C492,-292 345.98,-292 345.98,-292 339.98,-292 333.98,-286 333.98,-280 333.98,-280 333.98,-226 333.98,-226 333.98,-220 339.98,-214 345.98,-214 345.98,-214 492,-214 492,-214 498,-214 504,-220 504,-226 504,-226 504,-280 504,-280 504,-286 498,-292 492,-292\"/>\n",
       "<text text-anchor=\"start\" x=\"341.99\" y=\"-276.8\" font-family=\"Helvetica,sans-Serif\" font-size=\"14.00\">parents_children ≤ 0.093</text>\n",
       "<text text-anchor=\"start\" x=\"382.6\" y=\"-262.8\" font-family=\"Helvetica,sans-Serif\" font-size=\"14.00\">gini = 0.397</text>\n",
       "<text text-anchor=\"start\" x=\"373.27\" y=\"-248.8\" font-family=\"Helvetica,sans-Serif\" font-size=\"14.00\">samples = 259</text>\n",
       "<text text-anchor=\"start\" x=\"363.14\" y=\"-234.8\" font-family=\"Helvetica,sans-Serif\" font-size=\"14.00\">value = [290, 109]</text>\n",
       "<text text-anchor=\"start\" x=\"381.83\" y=\"-220.8\" font-family=\"Helvetica,sans-Serif\" font-size=\"14.00\">class = died</text>\n",
       "</g>\n",
       "<!-- 0&#45;&gt;6 -->\n",
       "<g id=\"edge6\" class=\"edge\">\n",
       "<title>0&#45;&gt;6</title>\n",
       "<path fill=\"none\" stroke=\"black\" d=\"M336,-327.77C346.44,-318.49 357.7,-308.48 368.45,-298.92\"/>\n",
       "<polygon fill=\"black\" stroke=\"black\" points=\"371.03,-301.32 376.18,-292.06 366.38,-296.09 371.03,-301.32\"/>\n",
       "<text text-anchor=\"middle\" x=\"374.71\" y=\"-312.82\" font-family=\"Helvetica,sans-Serif\" font-size=\"14.00\">False</text>\n",
       "</g>\n",
       "<!-- 2 -->\n",
       "<g id=\"node3\" class=\"node\">\n",
       "<title>2</title>\n",
       "<path fill=\"#399de5\" stroke=\"black\" d=\"M103.97,-171C103.97,-171 12.01,-171 12.01,-171 6.01,-171 0.01,-165 0.01,-159 0.01,-159 0.01,-119 0.01,-119 0.01,-113 6.01,-107 12.01,-107 12.01,-107 103.97,-107 103.97,-107 109.97,-107 115.97,-113 115.97,-119 115.97,-119 115.97,-159 115.97,-159 115.97,-165 109.97,-171 103.97,-171\"/>\n",
       "<text text-anchor=\"start\" x=\"29.39\" y=\"-155.8\" font-family=\"Helvetica,sans-Serif\" font-size=\"14.00\">gini = 0.0</text>\n",
       "<text text-anchor=\"start\" x=\"16.16\" y=\"-141.8\" font-family=\"Helvetica,sans-Serif\" font-size=\"14.00\">samples = 37</text>\n",
       "<text text-anchor=\"start\" x=\"13.82\" y=\"-127.8\" font-family=\"Helvetica,sans-Serif\" font-size=\"14.00\">value = [0, 54]</text>\n",
       "<text text-anchor=\"start\" x=\"8\" y=\"-113.8\" font-family=\"Helvetica,sans-Serif\" font-size=\"14.00\">class = survived</text>\n",
       "</g>\n",
       "<!-- 1&#45;&gt;2 -->\n",
       "<g id=\"edge2\" class=\"edge\">\n",
       "<title>1&#45;&gt;2</title>\n",
       "<path fill=\"none\" stroke=\"black\" d=\"M157.45,-213.77C141.44,-201.9 123.83,-188.84 107.94,-177.05\"/>\n",
       "<polygon fill=\"black\" stroke=\"black\" points=\"109.92,-174.16 99.8,-171.01 105.75,-179.78 109.92,-174.16\"/>\n",
       "</g>\n",
       "<!-- 3 -->\n",
       "<g id=\"node4\" class=\"node\">\n",
       "<title>3</title>\n",
       "<path fill=\"#f7d9c4\" stroke=\"black\" d=\"M272.03,-178C272.03,-178 145.95,-178 145.95,-178 139.95,-178 133.95,-172 133.95,-166 133.95,-166 133.95,-112 133.95,-112 133.95,-106 139.95,-100 145.95,-100 145.95,-100 272.03,-100 272.03,-100 278.03,-100 284.03,-106 284.03,-112 284.03,-112 284.03,-166 284.03,-166 284.03,-172 278.03,-178 272.03,-178\"/>\n",
       "<text text-anchor=\"start\" x=\"141.72\" y=\"-162.8\" font-family=\"Helvetica,sans-Serif\" font-size=\"14.00\">embarked_at_C ≤ 0.5</text>\n",
       "<text text-anchor=\"start\" x=\"172.6\" y=\"-148.8\" font-family=\"Helvetica,sans-Serif\" font-size=\"14.00\">gini = 0.485</text>\n",
       "<text text-anchor=\"start\" x=\"167.16\" y=\"-134.8\" font-family=\"Helvetica,sans-Serif\" font-size=\"14.00\">samples = 44</text>\n",
       "<text text-anchor=\"start\" x=\"160.93\" y=\"-120.8\" font-family=\"Helvetica,sans-Serif\" font-size=\"14.00\">value = [47, 33]</text>\n",
       "<text text-anchor=\"start\" x=\"171.83\" y=\"-106.8\" font-family=\"Helvetica,sans-Serif\" font-size=\"14.00\">class = died</text>\n",
       "</g>\n",
       "<!-- 1&#45;&gt;3 -->\n",
       "<g id=\"edge3\" class=\"edge\">\n",
       "<title>1&#45;&gt;3</title>\n",
       "<path fill=\"none\" stroke=\"black\" d=\"M208.99,-213.77C208.99,-205.57 208.99,-196.8 208.99,-188.28\"/>\n",
       "<polygon fill=\"black\" stroke=\"black\" points=\"212.49,-188.06 208.99,-178.06 205.49,-188.06 212.49,-188.06\"/>\n",
       "</g>\n",
       "<!-- 4 -->\n",
       "<g id=\"node5\" class=\"node\">\n",
       "<title>4</title>\n",
       "<path fill=\"#f9e2d1\" stroke=\"black\" d=\"M123.12,-64C123.12,-64 34.86,-64 34.86,-64 28.86,-64 22.86,-58 22.86,-52 22.86,-52 22.86,-12 22.86,-12 22.86,-6 28.86,0 34.86,0 34.86,0 123.12,0 123.12,0 129.12,0 135.12,-6 135.12,-12 135.12,-12 135.12,-52 135.12,-52 135.12,-58 129.12,-64 123.12,-64\"/>\n",
       "<text text-anchor=\"start\" x=\"42.6\" y=\"-48.8\" font-family=\"Helvetica,sans-Serif\" font-size=\"14.00\">gini = 0.491</text>\n",
       "<text text-anchor=\"start\" x=\"37.16\" y=\"-34.8\" font-family=\"Helvetica,sans-Serif\" font-size=\"14.00\">samples = 29</text>\n",
       "<text text-anchor=\"start\" x=\"30.93\" y=\"-20.8\" font-family=\"Helvetica,sans-Serif\" font-size=\"14.00\">value = [30, 23]</text>\n",
       "<text text-anchor=\"start\" x=\"41.83\" y=\"-6.8\" font-family=\"Helvetica,sans-Serif\" font-size=\"14.00\">class = died</text>\n",
       "</g>\n",
       "<!-- 3&#45;&gt;4 -->\n",
       "<g id=\"edge4\" class=\"edge\">\n",
       "<title>3&#45;&gt;4</title>\n",
       "<path fill=\"none\" stroke=\"black\" d=\"M161.69,-99.8C149.89,-90.27 137.25,-80.06 125.5,-70.56\"/>\n",
       "<polygon fill=\"black\" stroke=\"black\" points=\"127.5,-67.68 117.52,-64.12 123.1,-73.12 127.5,-67.68\"/>\n",
       "</g>\n",
       "<!-- 5 -->\n",
       "<g id=\"node6\" class=\"node\">\n",
       "<title>5</title>\n",
       "<path fill=\"#f4cbad\" stroke=\"black\" d=\"M253.12,-64C253.12,-64 164.86,-64 164.86,-64 158.86,-64 152.86,-58 152.86,-52 152.86,-52 152.86,-12 152.86,-12 152.86,-6 158.86,0 164.86,0 164.86,0 253.12,0 253.12,0 259.12,0 265.12,-6 265.12,-12 265.12,-12 265.12,-52 265.12,-52 265.12,-58 259.12,-64 253.12,-64\"/>\n",
       "<text text-anchor=\"start\" x=\"172.6\" y=\"-48.8\" font-family=\"Helvetica,sans-Serif\" font-size=\"14.00\">gini = 0.466</text>\n",
       "<text text-anchor=\"start\" x=\"167.16\" y=\"-34.8\" font-family=\"Helvetica,sans-Serif\" font-size=\"14.00\">samples = 15</text>\n",
       "<text text-anchor=\"start\" x=\"160.93\" y=\"-20.8\" font-family=\"Helvetica,sans-Serif\" font-size=\"14.00\">value = [17, 10]</text>\n",
       "<text text-anchor=\"start\" x=\"171.83\" y=\"-6.8\" font-family=\"Helvetica,sans-Serif\" font-size=\"14.00\">class = died</text>\n",
       "</g>\n",
       "<!-- 3&#45;&gt;5 -->\n",
       "<g id=\"edge5\" class=\"edge\">\n",
       "<title>3&#45;&gt;5</title>\n",
       "<path fill=\"none\" stroke=\"black\" d=\"M208.99,-99.8C208.99,-91.46 208.99,-82.6 208.99,-74.15\"/>\n",
       "<polygon fill=\"black\" stroke=\"black\" points=\"212.49,-74.12 208.99,-64.12 205.49,-74.12 212.49,-74.12\"/>\n",
       "</g>\n",
       "<!-- 7 -->\n",
       "<g id=\"node8\" class=\"node\">\n",
       "<title>7</title>\n",
       "<path fill=\"#eda876\" stroke=\"black\" d=\"M482.03,-178C482.03,-178 355.95,-178 355.95,-178 349.95,-178 343.95,-172 343.95,-166 343.95,-166 343.95,-112 343.95,-112 343.95,-106 349.95,-100 355.95,-100 355.95,-100 482.03,-100 482.03,-100 488.03,-100 494.03,-106 494.03,-112 494.03,-112 494.03,-166 494.03,-166 494.03,-172 488.03,-178 482.03,-178\"/>\n",
       "<text text-anchor=\"start\" x=\"351.72\" y=\"-162.8\" font-family=\"Helvetica,sans-Serif\" font-size=\"14.00\">embarked_at_C ≤ 0.5</text>\n",
       "<text text-anchor=\"start\" x=\"386.49\" y=\"-148.8\" font-family=\"Helvetica,sans-Serif\" font-size=\"14.00\">gini = 0.36</text>\n",
       "<text text-anchor=\"start\" x=\"373.27\" y=\"-134.8\" font-family=\"Helvetica,sans-Serif\" font-size=\"14.00\">samples = 195</text>\n",
       "<text text-anchor=\"start\" x=\"367.03\" y=\"-120.8\" font-family=\"Helvetica,sans-Serif\" font-size=\"14.00\">value = [230, 71]</text>\n",
       "<text text-anchor=\"start\" x=\"381.83\" y=\"-106.8\" font-family=\"Helvetica,sans-Serif\" font-size=\"14.00\">class = died</text>\n",
       "</g>\n",
       "<!-- 6&#45;&gt;7 -->\n",
       "<g id=\"edge7\" class=\"edge\">\n",
       "<title>6&#45;&gt;7</title>\n",
       "<path fill=\"none\" stroke=\"black\" d=\"M418.99,-213.77C418.99,-205.57 418.99,-196.8 418.99,-188.28\"/>\n",
       "<polygon fill=\"black\" stroke=\"black\" points=\"422.49,-188.06 418.99,-178.06 415.49,-188.06 422.49,-188.06\"/>\n",
       "</g>\n",
       "<!-- 10 -->\n",
       "<g id=\"node11\" class=\"node\">\n",
       "<title>10</title>\n",
       "<path fill=\"#f5d1b6\" stroke=\"black\" d=\"M653.12,-178C653.12,-178 564.86,-178 564.86,-178 558.86,-178 552.86,-172 552.86,-166 552.86,-166 552.86,-112 552.86,-112 552.86,-106 558.86,-100 564.86,-100 564.86,-100 653.12,-100 653.12,-100 659.12,-100 665.12,-106 665.12,-112 665.12,-112 665.12,-166 665.12,-166 665.12,-172 659.12,-178 653.12,-178\"/>\n",
       "<text text-anchor=\"start\" x=\"569.35\" y=\"-162.8\" font-family=\"Helvetica,sans-Serif\" font-size=\"14.00\">fare ≤ &#45;0.102</text>\n",
       "<text text-anchor=\"start\" x=\"572.6\" y=\"-148.8\" font-family=\"Helvetica,sans-Serif\" font-size=\"14.00\">gini = 0.475</text>\n",
       "<text text-anchor=\"start\" x=\"567.16\" y=\"-134.8\" font-family=\"Helvetica,sans-Serif\" font-size=\"14.00\">samples = 64</text>\n",
       "<text text-anchor=\"start\" x=\"560.93\" y=\"-120.8\" font-family=\"Helvetica,sans-Serif\" font-size=\"14.00\">value = [60, 38]</text>\n",
       "<text text-anchor=\"start\" x=\"571.83\" y=\"-106.8\" font-family=\"Helvetica,sans-Serif\" font-size=\"14.00\">class = died</text>\n",
       "</g>\n",
       "<!-- 6&#45;&gt;10 -->\n",
       "<g id=\"edge10\" class=\"edge\">\n",
       "<title>6&#45;&gt;10</title>\n",
       "<path fill=\"none\" stroke=\"black\" d=\"M483.58,-213.93C503.08,-202.43 524.49,-189.81 544.01,-178.3\"/>\n",
       "<polygon fill=\"black\" stroke=\"black\" points=\"546,-181.2 552.84,-173.1 542.44,-175.17 546,-181.2\"/>\n",
       "</g>\n",
       "<!-- 8 -->\n",
       "<g id=\"node9\" class=\"node\">\n",
       "<title>8</title>\n",
       "<path fill=\"#eca572\" stroke=\"black\" d=\"M390.9,-64C390.9,-64 295.08,-64 295.08,-64 289.08,-64 283.08,-58 283.08,-52 283.08,-52 283.08,-12 283.08,-12 283.08,-6 289.08,0 295.08,0 295.08,0 390.9,0 390.9,0 396.9,0 402.9,-6 402.9,-12 402.9,-12 402.9,-52 402.9,-52 402.9,-58 396.9,-64 390.9,-64\"/>\n",
       "<text text-anchor=\"start\" x=\"306.6\" y=\"-48.8\" font-family=\"Helvetica,sans-Serif\" font-size=\"14.00\">gini = 0.347</text>\n",
       "<text text-anchor=\"start\" x=\"297.27\" y=\"-34.8\" font-family=\"Helvetica,sans-Serif\" font-size=\"14.00\">samples = 170</text>\n",
       "<text text-anchor=\"start\" x=\"291.03\" y=\"-20.8\" font-family=\"Helvetica,sans-Serif\" font-size=\"14.00\">value = [212, 61]</text>\n",
       "<text text-anchor=\"start\" x=\"305.83\" y=\"-6.8\" font-family=\"Helvetica,sans-Serif\" font-size=\"14.00\">class = died</text>\n",
       "</g>\n",
       "<!-- 7&#45;&gt;8 -->\n",
       "<g id=\"edge8\" class=\"edge\">\n",
       "<title>7&#45;&gt;8</title>\n",
       "<path fill=\"none\" stroke=\"black\" d=\"M391.34,-99.8C384.91,-90.91 378.05,-81.43 371.57,-72.49\"/>\n",
       "<polygon fill=\"black\" stroke=\"black\" points=\"374.21,-70.17 365.51,-64.12 368.54,-74.27 374.21,-70.17\"/>\n",
       "</g>\n",
       "<!-- 9 -->\n",
       "<g id=\"node10\" class=\"node\">\n",
       "<title>9</title>\n",
       "<path fill=\"#f3c7a7\" stroke=\"black\" d=\"M521.12,-64C521.12,-64 432.86,-64 432.86,-64 426.86,-64 420.86,-58 420.86,-52 420.86,-52 420.86,-12 420.86,-12 420.86,-6 426.86,0 432.86,0 432.86,0 521.12,0 521.12,0 527.12,0 533.12,-6 533.12,-12 533.12,-12 533.12,-52 533.12,-52 533.12,-58 527.12,-64 521.12,-64\"/>\n",
       "<text text-anchor=\"start\" x=\"440.6\" y=\"-48.8\" font-family=\"Helvetica,sans-Serif\" font-size=\"14.00\">gini = 0.459</text>\n",
       "<text text-anchor=\"start\" x=\"435.16\" y=\"-34.8\" font-family=\"Helvetica,sans-Serif\" font-size=\"14.00\">samples = 25</text>\n",
       "<text text-anchor=\"start\" x=\"428.93\" y=\"-20.8\" font-family=\"Helvetica,sans-Serif\" font-size=\"14.00\">value = [18, 10]</text>\n",
       "<text text-anchor=\"start\" x=\"439.83\" y=\"-6.8\" font-family=\"Helvetica,sans-Serif\" font-size=\"14.00\">class = died</text>\n",
       "</g>\n",
       "<!-- 7&#45;&gt;9 -->\n",
       "<g id=\"edge9\" class=\"edge\">\n",
       "<title>7&#45;&gt;9</title>\n",
       "<path fill=\"none\" stroke=\"black\" d=\"M440.09,-99.8C444.9,-91.09 450.02,-81.82 454.87,-73.04\"/>\n",
       "<polygon fill=\"black\" stroke=\"black\" points=\"458.03,-74.56 459.8,-64.12 451.9,-71.18 458.03,-74.56\"/>\n",
       "</g>\n",
       "<!-- 11 -->\n",
       "<g id=\"node12\" class=\"node\">\n",
       "<title>11</title>\n",
       "<path fill=\"#b5daf5\" stroke=\"black\" d=\"M654.97,-64C654.97,-64 563.01,-64 563.01,-64 557.01,-64 551.01,-58 551.01,-52 551.01,-52 551.01,-12 551.01,-12 551.01,-6 557.01,0 563.01,0 563.01,0 654.97,0 654.97,0 660.97,0 666.97,-6 666.97,-12 666.97,-12 666.97,-52 666.97,-52 666.97,-58 660.97,-64 654.97,-64\"/>\n",
       "<text text-anchor=\"start\" x=\"572.6\" y=\"-48.8\" font-family=\"Helvetica,sans-Serif\" font-size=\"14.00\">gini = 0.473</text>\n",
       "<text text-anchor=\"start\" x=\"567.16\" y=\"-34.8\" font-family=\"Helvetica,sans-Serif\" font-size=\"14.00\">samples = 39</text>\n",
       "<text text-anchor=\"start\" x=\"560.93\" y=\"-20.8\" font-family=\"Helvetica,sans-Serif\" font-size=\"14.00\">value = [20, 32]</text>\n",
       "<text text-anchor=\"start\" x=\"559\" y=\"-6.8\" font-family=\"Helvetica,sans-Serif\" font-size=\"14.00\">class = survived</text>\n",
       "</g>\n",
       "<!-- 10&#45;&gt;11 -->\n",
       "<g id=\"edge11\" class=\"edge\">\n",
       "<title>10&#45;&gt;11</title>\n",
       "<path fill=\"none\" stroke=\"black\" d=\"M608.99,-99.8C608.99,-91.46 608.99,-82.6 608.99,-74.15\"/>\n",
       "<polygon fill=\"black\" stroke=\"black\" points=\"612.49,-74.12 608.99,-64.12 605.49,-74.12 612.49,-74.12\"/>\n",
       "</g>\n",
       "<!-- 12 -->\n",
       "<g id=\"node13\" class=\"node\">\n",
       "<title>12</title>\n",
       "<path fill=\"#e99457\" stroke=\"black\" d=\"M777.33,-64C777.33,-64 696.65,-64 696.65,-64 690.65,-64 684.65,-58 684.65,-52 684.65,-52 684.65,-12 684.65,-12 684.65,-6 690.65,0 696.65,0 696.65,0 777.33,0 777.33,0 783.33,0 789.33,-6 789.33,-12 789.33,-12 789.33,-52 789.33,-52 789.33,-58 783.33,-64 777.33,-64\"/>\n",
       "<text text-anchor=\"start\" x=\"700.6\" y=\"-48.8\" font-family=\"Helvetica,sans-Serif\" font-size=\"14.00\">gini = 0.227</text>\n",
       "<text text-anchor=\"start\" x=\"695.16\" y=\"-34.8\" font-family=\"Helvetica,sans-Serif\" font-size=\"14.00\">samples = 25</text>\n",
       "<text text-anchor=\"start\" x=\"692.82\" y=\"-20.8\" font-family=\"Helvetica,sans-Serif\" font-size=\"14.00\">value = [40, 6]</text>\n",
       "<text text-anchor=\"start\" x=\"699.83\" y=\"-6.8\" font-family=\"Helvetica,sans-Serif\" font-size=\"14.00\">class = died</text>\n",
       "</g>\n",
       "<!-- 10&#45;&gt;12 -->\n",
       "<g id=\"edge12\" class=\"edge\">\n",
       "<title>10&#45;&gt;12</title>\n",
       "<path fill=\"none\" stroke=\"black\" d=\"M655.56,-99.8C667.18,-90.27 679.62,-80.06 691.2,-70.56\"/>\n",
       "<polygon fill=\"black\" stroke=\"black\" points=\"693.55,-73.17 699.06,-64.12 689.11,-67.75 693.55,-73.17\"/>\n",
       "</g>\n",
       "</g>\n",
       "</svg>\n"
      ],
      "text/plain": [
       "<graphviz.files.Source at 0x125d96890>"
      ]
     },
     "execution_count": 33,
     "metadata": {},
     "output_type": "execute_result"
    }
   ],
   "source": [
    "forest_model = RandomForestClassifier(n_estimators=100, max_depth=3, max_features=2, random_state=42)\n",
    "\n",
    "rf_model = Pipeline([\n",
    "    ('mapper', label_binarizer_mapper),\n",
    "    ('imputer', IterativeImputer(random_state=42)),\n",
    "    ('classifier', forest_model),\n",
    "])\n",
    "\n",
    "rf_model.fit(train, train.survived)\n",
    "\n",
    "evaluate_model(rf_model, title='Random Forest')\n",
    "\n",
    "graph_tree(forest_model.estimators_[0], col_names=label_binarizer_mapper.transformed_names_)"
   ]
  },
  {
   "cell_type": "markdown",
   "metadata": {},
   "source": [
    "#### Bonus: Grid Search"
   ]
  },
  {
   "cell_type": "code",
   "execution_count": 34,
   "metadata": {
    "ExecuteTime": {
     "end_time": "2020-05-04T20:44:36.785685Z",
     "start_time": "2020-05-04T20:44:26.372559Z"
    },
    "scrolled": false
   },
   "outputs": [
    {
     "name": "stdout",
     "output_type": "stream",
     "text": [
      "Fitting 5 folds for each of 12 candidates, totalling 60 fits\n"
     ]
    },
    {
     "name": "stderr",
     "output_type": "stream",
     "text": [
      "[Parallel(n_jobs=1)]: Using backend SequentialBackend with 1 concurrent workers.\n",
      "[Parallel(n_jobs=1)]: Done  60 out of  60 | elapsed:   10.2s finished\n"
     ]
    },
    {
     "data": {
      "text/plain": [
       "Pipeline(memory=None,\n",
       "         steps=[('mapper',\n",
       "                 DataFrameMapper(default=False, df_out=False,\n",
       "                                 features=[(['age'],\n",
       "                                            [StandardScaler(copy=True,\n",
       "                                                            with_mean=True,\n",
       "                                                            with_std=True)]),\n",
       "                                           (['siblings_spouses'],\n",
       "                                            [StandardScaler(copy=True,\n",
       "                                                            with_mean=True,\n",
       "                                                            with_std=True)]),\n",
       "                                           (['parents_children'],\n",
       "                                            [StandardScaler(copy=True,\n",
       "                                                            with_mean=True,\n",
       "                                                            with_std=True)]),\n",
       "                                           (['ticket_class'],\n",
       "                                            [StandardScale...\n",
       "                                                               min_samples_leaf=1,\n",
       "                                                               min_samples_split=2,\n",
       "                                                               min_weight_fraction_leaf=0.0,\n",
       "                                                               n_estimators=100,\n",
       "                                                               n_jobs=None,\n",
       "                                                               oob_score=False,\n",
       "                                                               random_state=42,\n",
       "                                                               verbose=0,\n",
       "                                                               warm_start=False),\n",
       "                              iid='deprecated', n_jobs=None,\n",
       "                              param_grid={'max_depth': [3, 5, 8],\n",
       "                                          'max_features': [2, 5],\n",
       "                                          'n_estimators': [100, 200]},\n",
       "                              pre_dispatch='2*n_jobs', refit=True,\n",
       "                              return_train_score=False, scoring=None,\n",
       "                              verbose=1))],\n",
       "         verbose=False)"
      ]
     },
     "execution_count": 34,
     "metadata": {},
     "output_type": "execute_result"
    }
   ],
   "source": [
    "from sklearn.model_selection import GridSearchCV\n",
    "\n",
    "parameters = {'n_estimators': [100, 200], \n",
    "              'max_depth':[3, 5, 8],\n",
    "              'max_features': [2, 5]}\n",
    "\n",
    "\n",
    "clf = GridSearchCV(forest_model, parameters, refit=True, verbose=1)\n",
    "\n",
    "cv_pipe = Pipeline([\n",
    "    ('mapper', label_binarizer_mapper),\n",
    "    ('imputer', IterativeImputer(random_state=42)),\n",
    "    ('classifier', clf),\n",
    "])\n",
    "\n",
    "cv_pipe.fit(train, train.survived)"
   ]
  },
  {
   "cell_type": "code",
   "execution_count": 35,
   "metadata": {
    "ExecuteTime": {
     "end_time": "2020-05-04T20:44:36.790965Z",
     "start_time": "2020-05-04T20:44:36.787547Z"
    }
   },
   "outputs": [
    {
     "data": {
      "text/plain": [
       "(0.8461470640098747, {'max_depth': 5, 'max_features': 5, 'n_estimators': 100})"
      ]
     },
     "execution_count": 35,
     "metadata": {},
     "output_type": "execute_result"
    }
   ],
   "source": [
    "clf.best_score_, clf.best_params_"
   ]
  },
  {
   "cell_type": "code",
   "execution_count": 36,
   "metadata": {
    "ExecuteTime": {
     "end_time": "2020-05-04T20:44:37.220196Z",
     "start_time": "2020-05-04T20:44:36.792440Z"
    }
   },
   "outputs": [
    {
     "data": {
      "text/plain": [
       "'Random Forest'"
      ]
     },
     "metadata": {},
     "output_type": "display_data"
    },
    {
     "data": {
      "text/html": [
       "<div>\n",
       "<style scoped>\n",
       "    .dataframe tbody tr th:only-of-type {\n",
       "        vertical-align: middle;\n",
       "    }\n",
       "\n",
       "    .dataframe tbody tr th {\n",
       "        vertical-align: top;\n",
       "    }\n",
       "\n",
       "    .dataframe thead th {\n",
       "        text-align: right;\n",
       "    }\n",
       "</style>\n",
       "<table border=\"1\" class=\"dataframe\">\n",
       "  <thead>\n",
       "    <tr style=\"text-align: right;\">\n",
       "      <th></th>\n",
       "      <th>Accuracy</th>\n",
       "      <th>Precision</th>\n",
       "      <th>Recall</th>\n",
       "      <th>F1</th>\n",
       "    </tr>\n",
       "  </thead>\n",
       "  <tbody>\n",
       "    <tr>\n",
       "      <th>train</th>\n",
       "      <td>0.833021</td>\n",
       "      <td>0.909774</td>\n",
       "      <td>0.611111</td>\n",
       "      <td>0.731118</td>\n",
       "    </tr>\n",
       "    <tr>\n",
       "      <th>test</th>\n",
       "      <td>0.764045</td>\n",
       "      <td>0.829787</td>\n",
       "      <td>0.534247</td>\n",
       "      <td>0.650000</td>\n",
       "    </tr>\n",
       "  </tbody>\n",
       "</table>\n",
       "</div>"
      ],
      "text/plain": [
       "       Accuracy  Precision    Recall        F1\n",
       "train  0.833021   0.909774  0.611111  0.731118\n",
       "test   0.764045   0.829787  0.534247  0.650000"
      ]
     },
     "metadata": {},
     "output_type": "display_data"
    },
    {
     "data": {
      "image/png": "[encoded data removed]",
      "text/plain": [
       "<Figure size 1080x216 with 2 Axes>"
      ]
     },
     "metadata": {
      "needs_background": "light"
     },
     "output_type": "display_data"
    },
    {
     "data": {
      "text/plain": [
       "'Random Forest after Cross Validation'"
      ]
     },
     "metadata": {},
     "output_type": "display_data"
    },
    {
     "data": {
      "text/html": [
       "<div>\n",
       "<style scoped>\n",
       "    .dataframe tbody tr th:only-of-type {\n",
       "        vertical-align: middle;\n",
       "    }\n",
       "\n",
       "    .dataframe tbody tr th {\n",
       "        vertical-align: top;\n",
       "    }\n",
       "\n",
       "    .dataframe thead th {\n",
       "        text-align: right;\n",
       "    }\n",
       "</style>\n",
       "<table border=\"1\" class=\"dataframe\">\n",
       "  <thead>\n",
       "    <tr style=\"text-align: right;\">\n",
       "      <th></th>\n",
       "      <th>Accuracy</th>\n",
       "      <th>Precision</th>\n",
       "      <th>Recall</th>\n",
       "      <th>F1</th>\n",
       "    </tr>\n",
       "  </thead>\n",
       "  <tbody>\n",
       "    <tr>\n",
       "      <th>train</th>\n",
       "      <td>0.879925</td>\n",
       "      <td>0.929487</td>\n",
       "      <td>0.732323</td>\n",
       "      <td>0.819209</td>\n",
       "    </tr>\n",
       "    <tr>\n",
       "      <th>test</th>\n",
       "      <td>0.792135</td>\n",
       "      <td>0.846154</td>\n",
       "      <td>0.602740</td>\n",
       "      <td>0.704000</td>\n",
       "    </tr>\n",
       "  </tbody>\n",
       "</table>\n",
       "</div>"
      ],
      "text/plain": [
       "       Accuracy  Precision    Recall        F1\n",
       "train  0.879925   0.929487  0.732323  0.819209\n",
       "test   0.792135   0.846154  0.602740  0.704000"
      ]
     },
     "metadata": {},
     "output_type": "display_data"
    },
    {
     "data": {
      "image/png": "[encoded data removed]",
      "text/plain": [
       "<Figure size 1080x216 with 2 Axes>"
      ]
     },
     "metadata": {
      "needs_background": "light"
     },
     "output_type": "display_data"
    }
   ],
   "source": [
    "evaluate_model(rf_model, title='Random Forest')\n",
    "\n",
    "evaluate_model(cv_pipe, title='Random Forest after Cross Validation')"
   ]
  },
  {
   "cell_type": "markdown",
   "metadata": {},
   "source": [
    "# Quinto modelo: Gradient Boosted Trees"
   ]
  },
  {
   "cell_type": "code",
   "execution_count": 37,
   "metadata": {
    "ExecuteTime": {
     "end_time": "2020-05-04T20:44:37.224532Z",
     "start_time": "2020-05-04T20:44:37.222029Z"
    }
   },
   "outputs": [],
   "source": [
    "from sklearn.ensemble import GradientBoostingClassifier"
   ]
  },
  {
   "cell_type": "code",
   "execution_count": 38,
   "metadata": {
    "ExecuteTime": {
     "end_time": "2020-05-04T20:44:37.229246Z",
     "start_time": "2020-05-04T20:44:37.226635Z"
    }
   },
   "outputs": [],
   "source": [
    "boost_model = GradientBoostingClassifier(random_state=42)"
   ]
  },
  {
   "cell_type": "code",
   "execution_count": 39,
   "metadata": {
    "ExecuteTime": {
     "end_time": "2020-05-04T20:44:37.534527Z",
     "start_time": "2020-05-04T20:44:37.231157Z"
    }
   },
   "outputs": [
    {
     "data": {
      "text/plain": [
       "'Gradient Boosting'"
      ]
     },
     "metadata": {},
     "output_type": "display_data"
    },
    {
     "data": {
      "text/html": [
       "<div>\n",
       "<style scoped>\n",
       "    .dataframe tbody tr th:only-of-type {\n",
       "        vertical-align: middle;\n",
       "    }\n",
       "\n",
       "    .dataframe tbody tr th {\n",
       "        vertical-align: top;\n",
       "    }\n",
       "\n",
       "    .dataframe thead th {\n",
       "        text-align: right;\n",
       "    }\n",
       "</style>\n",
       "<table border=\"1\" class=\"dataframe\">\n",
       "  <thead>\n",
       "    <tr style=\"text-align: right;\">\n",
       "      <th></th>\n",
       "      <th>Accuracy</th>\n",
       "      <th>Precision</th>\n",
       "      <th>Recall</th>\n",
       "      <th>F1</th>\n",
       "    </tr>\n",
       "  </thead>\n",
       "  <tbody>\n",
       "    <tr>\n",
       "      <th>train</th>\n",
       "      <td>0.932458</td>\n",
       "      <td>0.976471</td>\n",
       "      <td>0.838384</td>\n",
       "      <td>0.902174</td>\n",
       "    </tr>\n",
       "    <tr>\n",
       "      <th>test</th>\n",
       "      <td>0.792135</td>\n",
       "      <td>0.810345</td>\n",
       "      <td>0.643836</td>\n",
       "      <td>0.717557</td>\n",
       "    </tr>\n",
       "  </tbody>\n",
       "</table>\n",
       "</div>"
      ],
      "text/plain": [
       "       Accuracy  Precision    Recall        F1\n",
       "train  0.932458   0.976471  0.838384  0.902174\n",
       "test   0.792135   0.810345  0.643836  0.717557"
      ]
     },
     "metadata": {},
     "output_type": "display_data"
    },
    {
     "data": {
      "image/png": "[encoded data removed]",
      "text/plain": [
       "<Figure size 1080x216 with 2 Axes>"
      ]
     },
     "metadata": {
      "needs_background": "light"
     },
     "output_type": "display_data"
    }
   ],
   "source": [
    "boo_model = Pipeline([\n",
    "    ('mapper', label_binarizer_mapper),\n",
    "    ('imputer', IterativeImputer(random_state=42)),\n",
    "    ('classifier', boost_model),\n",
    "])\n",
    "\n",
    "boo_model.fit(train, train.survived)\n",
    "\n",
    "evaluate_model(boo_model, title='Gradient Boosting')"
   ]
  },
  {
   "cell_type": "code",
   "execution_count": 40,
   "metadata": {
    "ExecuteTime": {
     "end_time": "2020-05-04T20:44:37.569359Z",
     "start_time": "2020-05-04T20:44:37.536195Z"
    }
   },
   "outputs": [
    {
     "data": {
      "image/svg+xml": [
       "<?xml version=\"1.0\" encoding=\"UTF-8\" standalone=\"no\"?>\n",
       "<!DOCTYPE svg PUBLIC \"-//W3C//DTD SVG 1.1//EN\"\n",
       " \"http://www.w3.org/Graphics/SVG/1.1/DTD/svg11.dtd\">\n",
       "<!-- Generated by graphviz version 2.43.0 (0)\n",
       " -->\n",
       "<!-- Title: Tree Pages: 1 -->\n",
       "<svg width=\"1350pt\" height=\"358pt\"\n",
       " viewBox=\"0.00 0.00 1349.80 358.00\" xmlns=\"http://www.w3.org/2000/svg\" xmlns:xlink=\"http://www.w3.org/1999/xlink\">\n",
       "<g id=\"graph0\" class=\"graph\" transform=\"scale(1 1) rotate(0) translate(4 354)\">\n",
       "<title>Tree</title>\n",
       "<polygon fill=\"white\" stroke=\"transparent\" points=\"-4,4 -4,-354 1345.8,-354 1345.8,4 -4,4\"/>\n",
       "<!-- 0 -->\n",
       "<g id=\"node1\" class=\"node\">\n",
       "<title>0</title>\n",
       "<path fill=\"#f5cdb1\" stroke=\"black\" d=\"M734.65,-350C734.65,-350 603.26,-350 603.26,-350 597.26,-350 591.26,-344 591.26,-338 591.26,-338 591.26,-298 591.26,-298 591.26,-292 597.26,-286 603.26,-286 603.26,-286 734.65,-286 734.65,-286 740.65,-286 746.65,-292 746.65,-298 746.65,-298 746.65,-338 746.65,-338 746.65,-344 740.65,-350 734.65,-350\"/>\n",
       "<text text-anchor=\"start\" x=\"640.6\" y=\"-334.8\" font-family=\"Helvetica,sans-Serif\" font-size=\"14.00\">sex ≤ 0.5</text>\n",
       "<text text-anchor=\"start\" x=\"599.11\" y=\"-320.8\" font-family=\"Helvetica,sans-Serif\" font-size=\"14.00\">friedman_mse = 0.212</text>\n",
       "<text text-anchor=\"start\" x=\"623.23\" y=\"-306.8\" font-family=\"Helvetica,sans-Serif\" font-size=\"14.00\">samples = 533</text>\n",
       "<text text-anchor=\"start\" x=\"624.39\" y=\"-292.8\" font-family=\"Helvetica,sans-Serif\" font-size=\"14.00\">value = &#45;0.001</text>\n",
       "</g>\n",
       "<!-- 1 -->\n",
       "<g id=\"node2\" class=\"node\">\n",
       "<title>1</title>\n",
       "<path fill=\"#f2c29f\" stroke=\"black\" d=\"M563.65,-250C563.65,-250 432.26,-250 432.26,-250 426.26,-250 420.26,-244 420.26,-238 420.26,-238 420.26,-198 420.26,-198 420.26,-192 426.26,-186 432.26,-186 432.26,-186 563.65,-186 563.65,-186 569.65,-186 575.65,-192 575.65,-198 575.65,-198 575.65,-238 575.65,-238 575.65,-244 569.65,-250 563.65,-250\"/>\n",
       "<text text-anchor=\"start\" x=\"436.53\" y=\"-234.8\" font-family=\"Helvetica,sans-Serif\" font-size=\"14.00\">ticket_class ≤ 0.182</text>\n",
       "<text text-anchor=\"start\" x=\"428.11\" y=\"-220.8\" font-family=\"Helvetica,sans-Serif\" font-size=\"14.00\">friedman_mse = 0.176</text>\n",
       "<text text-anchor=\"start\" x=\"452.23\" y=\"-206.8\" font-family=\"Helvetica,sans-Serif\" font-size=\"14.00\">samples = 177</text>\n",
       "<text text-anchor=\"start\" x=\"455.72\" y=\"-192.8\" font-family=\"Helvetica,sans-Serif\" font-size=\"14.00\">value = 0.331</text>\n",
       "</g>\n",
       "<!-- 0&#45;&gt;1 -->\n",
       "<g id=\"edge1\" class=\"edge\">\n",
       "<title>0&#45;&gt;1</title>\n",
       "<path fill=\"none\" stroke=\"black\" d=\"M614.85,-285.99C597.85,-276.25 578.93,-265.41 561.35,-255.33\"/>\n",
       "<polygon fill=\"black\" stroke=\"black\" points=\"562.71,-252.08 552.29,-250.14 559.23,-258.15 562.71,-252.08\"/>\n",
       "<text text-anchor=\"middle\" x=\"558.84\" y=\"-270.07\" font-family=\"Helvetica,sans-Serif\" font-size=\"14.00\">True</text>\n",
       "</g>\n",
       "<!-- 8 -->\n",
       "<g id=\"node9\" class=\"node\">\n",
       "<title>8</title>\n",
       "<path fill=\"#f6d3b9\" stroke=\"black\" d=\"M899.65,-250C899.65,-250 768.26,-250 768.26,-250 762.26,-250 756.26,-244 756.26,-238 756.26,-238 756.26,-198 756.26,-198 756.26,-192 762.26,-186 768.26,-186 768.26,-186 899.65,-186 899.65,-186 905.65,-186 911.65,-192 911.65,-198 911.65,-198 911.65,-238 911.65,-238 911.65,-244 905.65,-250 899.65,-250\"/>\n",
       "<text text-anchor=\"start\" x=\"794.69\" y=\"-234.8\" font-family=\"Helvetica,sans-Serif\" font-size=\"14.00\">age ≤ &#45;1.795</text>\n",
       "<text text-anchor=\"start\" x=\"764.11\" y=\"-220.8\" font-family=\"Helvetica,sans-Serif\" font-size=\"14.00\">friedman_mse = 0.148</text>\n",
       "<text text-anchor=\"start\" x=\"788.23\" y=\"-206.8\" font-family=\"Helvetica,sans-Serif\" font-size=\"14.00\">samples = 356</text>\n",
       "<text text-anchor=\"start\" x=\"789.39\" y=\"-192.8\" font-family=\"Helvetica,sans-Serif\" font-size=\"14.00\">value = &#45;0.165</text>\n",
       "</g>\n",
       "<!-- 0&#45;&gt;8 -->\n",
       "<g id=\"edge8\" class=\"edge\">\n",
       "<title>0&#45;&gt;8</title>\n",
       "<path fill=\"none\" stroke=\"black\" d=\"M721.16,-285.99C737.56,-276.25 755.82,-265.41 772.78,-255.33\"/>\n",
       "<polygon fill=\"black\" stroke=\"black\" points=\"774.71,-258.26 781.52,-250.14 771.13,-252.24 774.71,-258.26\"/>\n",
       "<text text-anchor=\"middle\" x=\"775.35\" y=\"-270.17\" font-family=\"Helvetica,sans-Serif\" font-size=\"14.00\">False</text>\n",
       "</g>\n",
       "<!-- 2 -->\n",
       "<g id=\"node3\" class=\"node\">\n",
       "<title>2</title>\n",
       "<path fill=\"#f1bb95\" stroke=\"black\" d=\"M305.86,-150C305.86,-150 182.05,-150 182.05,-150 176.05,-150 170.05,-144 170.05,-138 170.05,-138 170.05,-98 170.05,-98 170.05,-92 176.05,-86 182.05,-86 182.05,-86 305.86,-86 305.86,-86 311.86,-86 317.86,-92 317.86,-98 317.86,-98 317.86,-138 317.86,-138 317.86,-144 311.86,-150 305.86,-150\"/>\n",
       "<text text-anchor=\"start\" x=\"204.31\" y=\"-134.8\" font-family=\"Helvetica,sans-Serif\" font-size=\"14.00\">fare ≤ &#45;0.401</text>\n",
       "<text text-anchor=\"start\" x=\"178\" y=\"-120.8\" font-family=\"Helvetica,sans-Serif\" font-size=\"14.00\">friedman_mse = 0.03</text>\n",
       "<text text-anchor=\"start\" x=\"202.12\" y=\"-106.8\" font-family=\"Helvetica,sans-Serif\" font-size=\"14.00\">samples = 95</text>\n",
       "<text text-anchor=\"start\" x=\"201.72\" y=\"-92.8\" font-family=\"Helvetica,sans-Serif\" font-size=\"14.00\">value = 0.536</text>\n",
       "</g>\n",
       "<!-- 1&#45;&gt;2 -->\n",
       "<g id=\"edge2\" class=\"edge\">\n",
       "<title>1&#45;&gt;2</title>\n",
       "<path fill=\"none\" stroke=\"black\" d=\"M420.02,-186.93C390.81,-175.66 357.5,-162.81 327.78,-151.34\"/>\n",
       "<polygon fill=\"black\" stroke=\"black\" points=\"328.85,-148 318.26,-147.67 326.33,-154.54 328.85,-148\"/>\n",
       "</g>\n",
       "<!-- 5 -->\n",
       "<g id=\"node6\" class=\"node\">\n",
       "<title>5</title>\n",
       "<path fill=\"#f4caac\" stroke=\"black\" d=\"M563.65,-150C563.65,-150 432.26,-150 432.26,-150 426.26,-150 420.26,-144 420.26,-138 420.26,-138 420.26,-98 420.26,-98 420.26,-92 426.26,-86 432.26,-86 432.26,-86 563.65,-86 563.65,-86 569.65,-86 575.65,-92 575.65,-98 575.65,-98 575.65,-138 575.65,-138 575.65,-144 569.65,-150 563.65,-150\"/>\n",
       "<text text-anchor=\"start\" x=\"458.31\" y=\"-134.8\" font-family=\"Helvetica,sans-Serif\" font-size=\"14.00\">fare ≤ &#45;0.185</text>\n",
       "<text text-anchor=\"start\" x=\"428.11\" y=\"-120.8\" font-family=\"Helvetica,sans-Serif\" font-size=\"14.00\">friedman_mse = 0.241</text>\n",
       "<text text-anchor=\"start\" x=\"456.12\" y=\"-106.8\" font-family=\"Helvetica,sans-Serif\" font-size=\"14.00\">samples = 82</text>\n",
       "<text text-anchor=\"start\" x=\"455.72\" y=\"-92.8\" font-family=\"Helvetica,sans-Serif\" font-size=\"14.00\">value = 0.093</text>\n",
       "</g>\n",
       "<!-- 1&#45;&gt;5 -->\n",
       "<g id=\"edge5\" class=\"edge\">\n",
       "<title>1&#45;&gt;5</title>\n",
       "<path fill=\"none\" stroke=\"black\" d=\"M497.95,-185.99C497.95,-177.86 497.95,-168.96 497.95,-160.38\"/>\n",
       "<polygon fill=\"black\" stroke=\"black\" points=\"501.45,-160.14 497.95,-150.14 494.45,-160.14 501.45,-160.14\"/>\n",
       "</g>\n",
       "<!-- 3 -->\n",
       "<g id=\"node4\" class=\"node\">\n",
       "<title>3</title>\n",
       "<path fill=\"#f1bd97\" stroke=\"black\" d=\"M135.86,-50C135.86,-50 12.05,-50 12.05,-50 6.05,-50 0.05,-44 0.05,-38 0.05,-38 0.05,-12 0.05,-12 0.05,-6 6.05,0 12.05,0 12.05,0 135.86,0 135.86,0 141.86,0 147.86,-6 147.86,-12 147.86,-12 147.86,-38 147.86,-38 147.86,-44 141.86,-50 135.86,-50\"/>\n",
       "<text text-anchor=\"start\" x=\"8\" y=\"-34.8\" font-family=\"Helvetica,sans-Serif\" font-size=\"14.00\">friedman_mse = 0.25</text>\n",
       "<text text-anchor=\"start\" x=\"36.02\" y=\"-20.8\" font-family=\"Helvetica,sans-Serif\" font-size=\"14.00\">samples = 2</text>\n",
       "<text text-anchor=\"start\" x=\"31.72\" y=\"-6.8\" font-family=\"Helvetica,sans-Serif\" font-size=\"14.00\">value = 0.488</text>\n",
       "</g>\n",
       "<!-- 2&#45;&gt;3 -->\n",
       "<g id=\"edge3\" class=\"edge\">\n",
       "<title>2&#45;&gt;3</title>\n",
       "<path fill=\"none\" stroke=\"black\" d=\"M185.92,-85.94C167.08,-75.85 146.26,-64.7 127.73,-54.79\"/>\n",
       "<polygon fill=\"black\" stroke=\"black\" points=\"129.31,-51.66 118.84,-50.03 126.01,-57.84 129.31,-51.66\"/>\n",
       "</g>\n",
       "<!-- 4 -->\n",
       "<g id=\"node5\" class=\"node\">\n",
       "<title>4</title>\n",
       "<path fill=\"#e6843d\" stroke=\"black\" d=\"M309.65,-50C309.65,-50 178.26,-50 178.26,-50 172.26,-50 166.26,-44 166.26,-38 166.26,-38 166.26,-12 166.26,-12 166.26,-6 172.26,0 178.26,0 178.26,0 309.65,0 309.65,0 315.65,0 321.65,-6 321.65,-12 321.65,-12 321.65,-38 321.65,-38 321.65,-44 315.65,-50 309.65,-50\"/>\n",
       "<text text-anchor=\"start\" x=\"174.11\" y=\"-34.8\" font-family=\"Helvetica,sans-Serif\" font-size=\"14.00\">friedman_mse = 0.021</text>\n",
       "<text text-anchor=\"start\" x=\"202.12\" y=\"-20.8\" font-family=\"Helvetica,sans-Serif\" font-size=\"14.00\">samples = 93</text>\n",
       "<text text-anchor=\"start\" x=\"201.72\" y=\"-6.8\" font-family=\"Helvetica,sans-Serif\" font-size=\"14.00\">value = 2.217</text>\n",
       "</g>\n",
       "<!-- 2&#45;&gt;4 -->\n",
       "<g id=\"edge4\" class=\"edge\">\n",
       "<title>2&#45;&gt;4</title>\n",
       "<path fill=\"none\" stroke=\"black\" d=\"M243.95,-85.94C243.95,-77.68 243.95,-68.72 243.95,-60.31\"/>\n",
       "<polygon fill=\"black\" stroke=\"black\" points=\"247.45,-60.03 243.95,-50.03 240.45,-60.03 247.45,-60.03\"/>\n",
       "</g>\n",
       "<!-- 6 -->\n",
       "<g id=\"node7\" class=\"node\">\n",
       "<title>6</title>\n",
       "<path fill=\"#efb287\" stroke=\"black\" d=\"M483.65,-50C483.65,-50 352.26,-50 352.26,-50 346.26,-50 340.26,-44 340.26,-38 340.26,-38 340.26,-12 340.26,-12 340.26,-6 346.26,0 352.26,0 352.26,0 483.65,0 483.65,0 489.65,0 495.65,-6 495.65,-12 495.65,-12 495.65,-38 495.65,-38 495.65,-44 489.65,-50 483.65,-50\"/>\n",
       "<text text-anchor=\"start\" x=\"348.11\" y=\"-34.8\" font-family=\"Helvetica,sans-Serif\" font-size=\"14.00\">friedman_mse = 0.243</text>\n",
       "<text text-anchor=\"start\" x=\"376.12\" y=\"-20.8\" font-family=\"Helvetica,sans-Serif\" font-size=\"14.00\">samples = 65</text>\n",
       "<text text-anchor=\"start\" x=\"375.72\" y=\"-6.8\" font-family=\"Helvetica,sans-Serif\" font-size=\"14.00\">value = 0.803</text>\n",
       "</g>\n",
       "<!-- 5&#45;&gt;6 -->\n",
       "<g id=\"edge6\" class=\"edge\">\n",
       "<title>5&#45;&gt;6</title>\n",
       "<path fill=\"none\" stroke=\"black\" d=\"M470.65,-85.94C462.66,-76.86 453.93,-66.92 445.91,-57.8\"/>\n",
       "<polygon fill=\"black\" stroke=\"black\" points=\"448.31,-55.23 439.08,-50.03 443.05,-59.85 448.31,-55.23\"/>\n",
       "</g>\n",
       "<!-- 7 -->\n",
       "<g id=\"node8\" class=\"node\">\n",
       "<title>7</title>\n",
       "<path fill=\"#fdf7f2\" stroke=\"black\" d=\"M657.65,-50C657.65,-50 526.26,-50 526.26,-50 520.26,-50 514.26,-44 514.26,-38 514.26,-38 514.26,-12 514.26,-12 514.26,-6 520.26,0 526.26,0 526.26,0 657.65,0 657.65,0 663.65,0 669.65,-6 669.65,-12 669.65,-12 669.65,-38 669.65,-38 669.65,-44 663.65,-50 657.65,-50\"/>\n",
       "<text text-anchor=\"start\" x=\"522.11\" y=\"-34.8\" font-family=\"Helvetica,sans-Serif\" font-size=\"14.00\">friedman_mse = 0.055</text>\n",
       "<text text-anchor=\"start\" x=\"550.12\" y=\"-20.8\" font-family=\"Helvetica,sans-Serif\" font-size=\"14.00\">samples = 17</text>\n",
       "<text text-anchor=\"start\" x=\"547.39\" y=\"-6.8\" font-family=\"Helvetica,sans-Serif\" font-size=\"14.00\">value = &#45;1.255</text>\n",
       "</g>\n",
       "<!-- 5&#45;&gt;7 -->\n",
       "<g id=\"edge7\" class=\"edge\">\n",
       "<title>5&#45;&gt;7</title>\n",
       "<path fill=\"none\" stroke=\"black\" d=\"M530.04,-85.94C539.61,-76.67 550.1,-66.52 559.68,-57.25\"/>\n",
       "<polygon fill=\"black\" stroke=\"black\" points=\"562.38,-59.5 567.13,-50.03 557.51,-54.47 562.38,-59.5\"/>\n",
       "</g>\n",
       "<!-- 9 -->\n",
       "<g id=\"node10\" class=\"node\">\n",
       "<title>9</title>\n",
       "<path fill=\"#f3c5a4\" stroke=\"black\" d=\"M908.57,-150C908.57,-150 759.34,-150 759.34,-150 753.34,-150 747.34,-144 747.34,-138 747.34,-138 747.34,-98 747.34,-98 747.34,-92 753.34,-86 759.34,-86 759.34,-86 908.57,-86 908.57,-86 914.57,-86 920.57,-92 920.57,-98 920.57,-98 920.57,-138 920.57,-138 920.57,-144 914.57,-150 908.57,-150\"/>\n",
       "<text text-anchor=\"start\" x=\"755.39\" y=\"-134.8\" font-family=\"Helvetica,sans-Serif\" font-size=\"14.00\">siblings_spouses ≤ 1.789</text>\n",
       "<text text-anchor=\"start\" x=\"764.11\" y=\"-120.8\" font-family=\"Helvetica,sans-Serif\" font-size=\"14.00\">friedman_mse = 0.186</text>\n",
       "<text text-anchor=\"start\" x=\"792.12\" y=\"-106.8\" font-family=\"Helvetica,sans-Serif\" font-size=\"14.00\">samples = 14</text>\n",
       "<text text-anchor=\"start\" x=\"791.72\" y=\"-92.8\" font-family=\"Helvetica,sans-Serif\" font-size=\"14.00\">value = 0.243</text>\n",
       "</g>\n",
       "<!-- 8&#45;&gt;9 -->\n",
       "<g id=\"edge9\" class=\"edge\">\n",
       "<title>8&#45;&gt;9</title>\n",
       "<path fill=\"none\" stroke=\"black\" d=\"M833.95,-185.99C833.95,-177.86 833.95,-168.96 833.95,-160.38\"/>\n",
       "<polygon fill=\"black\" stroke=\"black\" points=\"837.45,-160.14 833.95,-150.14 830.45,-160.14 837.45,-160.14\"/>\n",
       "</g>\n",
       "<!-- 12 -->\n",
       "<g id=\"node13\" class=\"node\">\n",
       "<title>12</title>\n",
       "<path fill=\"#f6d3ba\" stroke=\"black\" d=\"M1156.65,-150C1156.65,-150 1025.26,-150 1025.26,-150 1019.26,-150 1013.26,-144 1013.26,-138 1013.26,-138 1013.26,-98 1013.26,-98 1013.26,-92 1019.26,-86 1025.26,-86 1025.26,-86 1156.65,-86 1156.65,-86 1162.65,-86 1168.65,-92 1168.65,-98 1168.65,-98 1168.65,-138 1168.65,-138 1168.65,-144 1162.65,-150 1156.65,-150\"/>\n",
       "<text text-anchor=\"start\" x=\"1053.64\" y=\"-134.8\" font-family=\"Helvetica,sans-Serif\" font-size=\"14.00\">fare ≤ 0.353</text>\n",
       "<text text-anchor=\"start\" x=\"1021.11\" y=\"-120.8\" font-family=\"Helvetica,sans-Serif\" font-size=\"14.00\">friedman_mse = 0.139</text>\n",
       "<text text-anchor=\"start\" x=\"1045.23\" y=\"-106.8\" font-family=\"Helvetica,sans-Serif\" font-size=\"14.00\">samples = 342</text>\n",
       "<text text-anchor=\"start\" x=\"1046.39\" y=\"-92.8\" font-family=\"Helvetica,sans-Serif\" font-size=\"14.00\">value = &#45;0.182</text>\n",
       "</g>\n",
       "<!-- 8&#45;&gt;12 -->\n",
       "<g id=\"edge12\" class=\"edge\">\n",
       "<title>8&#45;&gt;12</title>\n",
       "<path fill=\"none\" stroke=\"black\" d=\"M911.76,-187.33C940.69,-176.3 973.7,-163.71 1003.44,-152.37\"/>\n",
       "<polygon fill=\"black\" stroke=\"black\" points=\"1004.87,-155.57 1012.97,-148.74 1002.38,-149.03 1004.87,-155.57\"/>\n",
       "</g>\n",
       "<!-- 10 -->\n",
       "<g id=\"node11\" class=\"node\">\n",
       "<title>10</title>\n",
       "<path fill=\"#e58139\" stroke=\"black\" d=\"M820.24,-50C820.24,-50 699.67,-50 699.67,-50 693.67,-50 687.67,-44 687.67,-38 687.67,-38 687.67,-12 687.67,-12 687.67,-6 693.67,0 699.67,0 699.67,0 820.24,0 820.24,0 826.24,0 832.24,-6 832.24,-12 832.24,-12 832.24,-38 832.24,-38 832.24,-44 826.24,-50 820.24,-50\"/>\n",
       "<text text-anchor=\"start\" x=\"695.56\" y=\"-34.8\" font-family=\"Helvetica,sans-Serif\" font-size=\"14.00\">friedman_mse = &#45;0.0</text>\n",
       "<text text-anchor=\"start\" x=\"722.02\" y=\"-20.8\" font-family=\"Helvetica,sans-Serif\" font-size=\"14.00\">samples = 9</text>\n",
       "<text text-anchor=\"start\" x=\"717.72\" y=\"-6.8\" font-family=\"Helvetica,sans-Serif\" font-size=\"14.00\">value = 2.293</text>\n",
       "</g>\n",
       "<!-- 9&#45;&gt;10 -->\n",
       "<g id=\"edge10\" class=\"edge\">\n",
       "<title>9&#45;&gt;10</title>\n",
       "<path fill=\"none\" stroke=\"black\" d=\"M808.69,-85.94C801.31,-76.86 793.23,-66.92 785.81,-57.8\"/>\n",
       "<polygon fill=\"black\" stroke=\"black\" points=\"788.52,-55.58 779.49,-50.03 783.09,-60 788.52,-55.58\"/>\n",
       "</g>\n",
       "<!-- 11 -->\n",
       "<g id=\"node12\" class=\"node\">\n",
       "<title>11</title>\n",
       "<path fill=\"#ffffff\" stroke=\"black\" d=\"M983.24,-50C983.24,-50 862.67,-50 862.67,-50 856.67,-50 850.67,-44 850.67,-38 850.67,-38 850.67,-12 850.67,-12 850.67,-6 856.67,0 862.67,0 862.67,0 983.24,0 983.24,0 989.24,0 995.24,-6 995.24,-12 995.24,-12 995.24,-38 995.24,-38 995.24,-44 989.24,-50 983.24,-50\"/>\n",
       "<text text-anchor=\"start\" x=\"858.56\" y=\"-34.8\" font-family=\"Helvetica,sans-Serif\" font-size=\"14.00\">friedman_mse = &#45;0.0</text>\n",
       "<text text-anchor=\"start\" x=\"885.02\" y=\"-20.8\" font-family=\"Helvetica,sans-Serif\" font-size=\"14.00\">samples = 5</text>\n",
       "<text text-anchor=\"start\" x=\"878.39\" y=\"-6.8\" font-family=\"Helvetica,sans-Serif\" font-size=\"14.00\">value = &#45;1.504</text>\n",
       "</g>\n",
       "<!-- 9&#45;&gt;11 -->\n",
       "<g id=\"edge11\" class=\"edge\">\n",
       "<title>9&#45;&gt;11</title>\n",
       "<path fill=\"none\" stroke=\"black\" d=\"M864.33,-85.94C873.39,-76.67 883.32,-66.52 892.39,-57.25\"/>\n",
       "<polygon fill=\"black\" stroke=\"black\" points=\"894.96,-59.63 899.45,-50.03 889.96,-54.73 894.96,-59.63\"/>\n",
       "</g>\n",
       "<!-- 13 -->\n",
       "<g id=\"node14\" class=\"node\">\n",
       "<title>13</title>\n",
       "<path fill=\"#fbece1\" stroke=\"black\" d=\"M1156.11,-50C1156.11,-50 1025.79,-50 1025.79,-50 1019.79,-50 1013.79,-44 1013.79,-38 1013.79,-38 1013.79,-12 1013.79,-12 1013.79,-6 1019.79,0 1025.79,0 1025.79,0 1156.11,0 1156.11,0 1162.11,0 1168.11,-6 1168.11,-12 1168.11,-12 1168.11,-38 1168.11,-38 1168.11,-44 1162.11,-50 1156.11,-50\"/>\n",
       "<text text-anchor=\"start\" x=\"1021.62\" y=\"-34.8\" font-family=\"Helvetica,sans-Serif\" font-size=\"14.00\">friedman_mse = 0.118</text>\n",
       "<text text-anchor=\"start\" x=\"1045.23\" y=\"-20.8\" font-family=\"Helvetica,sans-Serif\" font-size=\"14.00\">samples = 304</text>\n",
       "<text text-anchor=\"start\" x=\"1050.29\" y=\"-6.8\" font-family=\"Helvetica,sans-Serif\" font-size=\"14.00\">value = &#45;0.93</text>\n",
       "</g>\n",
       "<!-- 12&#45;&gt;13 -->\n",
       "<g id=\"edge13\" class=\"edge\">\n",
       "<title>12&#45;&gt;13</title>\n",
       "<path fill=\"none\" stroke=\"black\" d=\"M1090.95,-85.94C1090.95,-77.68 1090.95,-68.72 1090.95,-60.31\"/>\n",
       "<polygon fill=\"black\" stroke=\"black\" points=\"1094.45,-60.03 1090.95,-50.03 1087.45,-60.03 1094.45,-60.03\"/>\n",
       "</g>\n",
       "<!-- 14 -->\n",
       "<g id=\"node15\" class=\"node\">\n",
       "<title>14</title>\n",
       "<path fill=\"#f3c5a4\" stroke=\"black\" d=\"M1329.65,-50C1329.65,-50 1198.26,-50 1198.26,-50 1192.26,-50 1186.26,-44 1186.26,-38 1186.26,-38 1186.26,-12 1186.26,-12 1186.26,-6 1192.26,0 1198.26,0 1198.26,0 1329.65,0 1329.65,0 1335.65,0 1341.65,-6 1341.65,-12 1341.65,-12 1341.65,-38 1341.65,-38 1341.65,-44 1335.65,-50 1329.65,-50\"/>\n",
       "<text text-anchor=\"start\" x=\"1194.11\" y=\"-34.8\" font-family=\"Helvetica,sans-Serif\" font-size=\"14.00\">friedman_mse = 0.244</text>\n",
       "<text text-anchor=\"start\" x=\"1222.12\" y=\"-20.8\" font-family=\"Helvetica,sans-Serif\" font-size=\"14.00\">samples = 38</text>\n",
       "<text text-anchor=\"start\" x=\"1221.72\" y=\"-6.8\" font-family=\"Helvetica,sans-Serif\" font-size=\"14.00\">value = 0.233</text>\n",
       "</g>\n",
       "<!-- 12&#45;&gt;14 -->\n",
       "<g id=\"edge14\" class=\"edge\">\n",
       "<title>12&#45;&gt;14</title>\n",
       "<path fill=\"none\" stroke=\"black\" d=\"M1150.01,-85.94C1169.19,-75.85 1190.37,-64.7 1209.22,-54.79\"/>\n",
       "<polygon fill=\"black\" stroke=\"black\" points=\"1211.05,-57.78 1218.27,-50.03 1207.79,-51.59 1211.05,-57.78\"/>\n",
       "</g>\n",
       "</g>\n",
       "</svg>\n"
      ],
      "text/plain": [
       "<graphviz.files.Source at 0x12688ed90>"
      ]
     },
     "execution_count": 40,
     "metadata": {},
     "output_type": "execute_result"
    }
   ],
   "source": [
    "graph_tree(boost_model.estimators_[1][0], col_names=label_binarizer_mapper.transformed_names_)"
   ]
  },
  {
   "cell_type": "markdown",
   "metadata": {},
   "source": [
    "#### Bonus: Features polinomicas en LR\n",
    "\n",
    "https://scikit-learn.org/stable/modules/generated/sklearn.preprocessing.PolynomialFeatures.html"
   ]
  },
  {
   "cell_type": "code",
   "execution_count": 41,
   "metadata": {
    "ExecuteTime": {
     "end_time": "2020-05-04T20:44:37.573446Z",
     "start_time": "2020-05-04T20:44:37.570918Z"
    }
   },
   "outputs": [],
   "source": [
    "from sklearn.preprocessing import PolynomialFeatures"
   ]
  },
  {
   "cell_type": "code",
   "execution_count": 42,
   "metadata": {
    "ExecuteTime": {
     "end_time": "2020-05-04T20:44:38.098794Z",
     "start_time": "2020-05-04T20:44:37.574863Z"
    }
   },
   "outputs": [
    {
     "data": {
      "text/plain": [
       "'LR'"
      ]
     },
     "metadata": {},
     "output_type": "display_data"
    },
    {
     "data": {
      "text/html": [
       "<div>\n",
       "<style scoped>\n",
       "    .dataframe tbody tr th:only-of-type {\n",
       "        vertical-align: middle;\n",
       "    }\n",
       "\n",
       "    .dataframe tbody tr th {\n",
       "        vertical-align: top;\n",
       "    }\n",
       "\n",
       "    .dataframe thead th {\n",
       "        text-align: right;\n",
       "    }\n",
       "</style>\n",
       "<table border=\"1\" class=\"dataframe\">\n",
       "  <thead>\n",
       "    <tr style=\"text-align: right;\">\n",
       "      <th></th>\n",
       "      <th>Accuracy</th>\n",
       "      <th>Precision</th>\n",
       "      <th>Recall</th>\n",
       "      <th>F1</th>\n",
       "    </tr>\n",
       "  </thead>\n",
       "  <tbody>\n",
       "    <tr>\n",
       "      <th>train</th>\n",
       "      <td>0.808630</td>\n",
       "      <td>0.769663</td>\n",
       "      <td>0.691919</td>\n",
       "      <td>0.728723</td>\n",
       "    </tr>\n",
       "    <tr>\n",
       "      <th>test</th>\n",
       "      <td>0.797753</td>\n",
       "      <td>0.784615</td>\n",
       "      <td>0.698630</td>\n",
       "      <td>0.739130</td>\n",
       "    </tr>\n",
       "  </tbody>\n",
       "</table>\n",
       "</div>"
      ],
      "text/plain": [
       "       Accuracy  Precision    Recall        F1\n",
       "train  0.808630   0.769663  0.691919  0.728723\n",
       "test   0.797753   0.784615  0.698630  0.739130"
      ]
     },
     "metadata": {},
     "output_type": "display_data"
    },
    {
     "data": {
      "image/png": "[encoded data removed]",
      "text/plain": [
       "<Figure size 1080x216 with 2 Axes>"
      ]
     },
     "metadata": {
      "needs_background": "light"
     },
     "output_type": "display_data"
    },
    {
     "data": {
      "text/plain": [
       "'LR con features polinomicas'"
      ]
     },
     "metadata": {},
     "output_type": "display_data"
    },
    {
     "data": {
      "text/html": [
       "<div>\n",
       "<style scoped>\n",
       "    .dataframe tbody tr th:only-of-type {\n",
       "        vertical-align: middle;\n",
       "    }\n",
       "\n",
       "    .dataframe tbody tr th {\n",
       "        vertical-align: top;\n",
       "    }\n",
       "\n",
       "    .dataframe thead th {\n",
       "        text-align: right;\n",
       "    }\n",
       "</style>\n",
       "<table border=\"1\" class=\"dataframe\">\n",
       "  <thead>\n",
       "    <tr style=\"text-align: right;\">\n",
       "      <th></th>\n",
       "      <th>Accuracy</th>\n",
       "      <th>Precision</th>\n",
       "      <th>Recall</th>\n",
       "      <th>F1</th>\n",
       "    </tr>\n",
       "  </thead>\n",
       "  <tbody>\n",
       "    <tr>\n",
       "      <th>train</th>\n",
       "      <td>0.863039</td>\n",
       "      <td>0.893082</td>\n",
       "      <td>0.717172</td>\n",
       "      <td>0.795518</td>\n",
       "    </tr>\n",
       "    <tr>\n",
       "      <th>test</th>\n",
       "      <td>0.792135</td>\n",
       "      <td>0.821429</td>\n",
       "      <td>0.630137</td>\n",
       "      <td>0.713178</td>\n",
       "    </tr>\n",
       "  </tbody>\n",
       "</table>\n",
       "</div>"
      ],
      "text/plain": [
       "       Accuracy  Precision    Recall        F1\n",
       "train  0.863039   0.893082  0.717172  0.795518\n",
       "test   0.792135   0.821429  0.630137  0.713178"
      ]
     },
     "metadata": {},
     "output_type": "display_data"
    },
    {
     "data": {
      "image/png": "[encoded data removed]",
      "text/plain": [
       "<Figure size 1080x216 with 2 Axes>"
      ]
     },
     "metadata": {
      "needs_background": "light"
     },
     "output_type": "display_data"
    }
   ],
   "source": [
    "lr_model_pf = Pipeline([\n",
    "    ('mapper', complete_mapper),\n",
    "    ('imputer', IterativeImputer(random_state=42)),\n",
    "    ('poli', PolynomialFeatures(degree=2)),\n",
    "    ('classifier', LogisticRegression(max_iter=3000, random_state=42)),\n",
    "])\n",
    "\n",
    "lr_model_pf.fit(train, train.survived)\n",
    "\n",
    "evaluate_model(lr_model_ii, title='LR')\n",
    "evaluate_model(lr_model_pf, title='LR con features polinomicas')"
   ]
  },
  {
   "cell_type": "markdown",
   "metadata": {},
   "source": [
    "## El mejor modelo...\n",
    "\n",
    "* Considerando Accuracy \n",
    "* Accuracy esperado\n",
    "\n",
    "Es accuracy la mejor métrica?\n"
   ]
  },
  {
   "cell_type": "code",
   "execution_count": 43,
   "metadata": {
    "ExecuteTime": {
     "end_time": "2020-05-04T20:44:38.578311Z",
     "start_time": "2020-05-04T20:44:38.100621Z"
    },
    "scrolled": false
   },
   "outputs": [
    {
     "data": {
      "text/plain": [
       "'LR Simple Imputer'"
      ]
     },
     "metadata": {},
     "output_type": "display_data"
    },
    {
     "data": {
      "text/html": [
       "<div>\n",
       "<style scoped>\n",
       "    .dataframe tbody tr th:only-of-type {\n",
       "        vertical-align: middle;\n",
       "    }\n",
       "\n",
       "    .dataframe tbody tr th {\n",
       "        vertical-align: top;\n",
       "    }\n",
       "\n",
       "    .dataframe thead th {\n",
       "        text-align: right;\n",
       "    }\n",
       "</style>\n",
       "<table border=\"1\" class=\"dataframe\">\n",
       "  <thead>\n",
       "    <tr style=\"text-align: right;\">\n",
       "      <th></th>\n",
       "      <th>Accuracy</th>\n",
       "      <th>Precision</th>\n",
       "      <th>Recall</th>\n",
       "      <th>F1</th>\n",
       "    </tr>\n",
       "  </thead>\n",
       "  <tbody>\n",
       "    <tr>\n",
       "      <th>train</th>\n",
       "      <td>0.806754</td>\n",
       "      <td>0.768362</td>\n",
       "      <td>0.686869</td>\n",
       "      <td>0.725333</td>\n",
       "    </tr>\n",
       "    <tr>\n",
       "      <th>test</th>\n",
       "      <td>0.792135</td>\n",
       "      <td>0.772727</td>\n",
       "      <td>0.698630</td>\n",
       "      <td>0.733813</td>\n",
       "    </tr>\n",
       "    <tr>\n",
       "      <th>validation</th>\n",
       "      <td>0.808989</td>\n",
       "      <td>0.739726</td>\n",
       "      <td>0.782609</td>\n",
       "      <td>0.760563</td>\n",
       "    </tr>\n",
       "  </tbody>\n",
       "</table>\n",
       "</div>"
      ],
      "text/plain": [
       "            Accuracy  Precision    Recall        F1\n",
       "train       0.806754   0.768362  0.686869  0.725333\n",
       "test        0.792135   0.772727  0.698630  0.733813\n",
       "validation  0.808989   0.739726  0.782609  0.760563"
      ]
     },
     "metadata": {},
     "output_type": "display_data"
    },
    {
     "data": {
      "text/plain": [
       "'LR Iterative Imputer'"
      ]
     },
     "metadata": {},
     "output_type": "display_data"
    },
    {
     "data": {
      "text/html": [
       "<div>\n",
       "<style scoped>\n",
       "    .dataframe tbody tr th:only-of-type {\n",
       "        vertical-align: middle;\n",
       "    }\n",
       "\n",
       "    .dataframe tbody tr th {\n",
       "        vertical-align: top;\n",
       "    }\n",
       "\n",
       "    .dataframe thead th {\n",
       "        text-align: right;\n",
       "    }\n",
       "</style>\n",
       "<table border=\"1\" class=\"dataframe\">\n",
       "  <thead>\n",
       "    <tr style=\"text-align: right;\">\n",
       "      <th></th>\n",
       "      <th>Accuracy</th>\n",
       "      <th>Precision</th>\n",
       "      <th>Recall</th>\n",
       "      <th>F1</th>\n",
       "    </tr>\n",
       "  </thead>\n",
       "  <tbody>\n",
       "    <tr>\n",
       "      <th>train</th>\n",
       "      <td>0.808630</td>\n",
       "      <td>0.769663</td>\n",
       "      <td>0.691919</td>\n",
       "      <td>0.728723</td>\n",
       "    </tr>\n",
       "    <tr>\n",
       "      <th>test</th>\n",
       "      <td>0.797753</td>\n",
       "      <td>0.784615</td>\n",
       "      <td>0.698630</td>\n",
       "      <td>0.739130</td>\n",
       "    </tr>\n",
       "    <tr>\n",
       "      <th>validation</th>\n",
       "      <td>0.825843</td>\n",
       "      <td>0.771429</td>\n",
       "      <td>0.782609</td>\n",
       "      <td>0.776978</td>\n",
       "    </tr>\n",
       "  </tbody>\n",
       "</table>\n",
       "</div>"
      ],
      "text/plain": [
       "            Accuracy  Precision    Recall        F1\n",
       "train       0.808630   0.769663  0.691919  0.728723\n",
       "test        0.797753   0.784615  0.698630  0.739130\n",
       "validation  0.825843   0.771429  0.782609  0.776978"
      ]
     },
     "metadata": {},
     "output_type": "display_data"
    },
    {
     "data": {
      "text/plain": [
       "'LR con features polinomicas'"
      ]
     },
     "metadata": {},
     "output_type": "display_data"
    },
    {
     "data": {
      "text/html": [
       "<div>\n",
       "<style scoped>\n",
       "    .dataframe tbody tr th:only-of-type {\n",
       "        vertical-align: middle;\n",
       "    }\n",
       "\n",
       "    .dataframe tbody tr th {\n",
       "        vertical-align: top;\n",
       "    }\n",
       "\n",
       "    .dataframe thead th {\n",
       "        text-align: right;\n",
       "    }\n",
       "</style>\n",
       "<table border=\"1\" class=\"dataframe\">\n",
       "  <thead>\n",
       "    <tr style=\"text-align: right;\">\n",
       "      <th></th>\n",
       "      <th>Accuracy</th>\n",
       "      <th>Precision</th>\n",
       "      <th>Recall</th>\n",
       "      <th>F1</th>\n",
       "    </tr>\n",
       "  </thead>\n",
       "  <tbody>\n",
       "    <tr>\n",
       "      <th>train</th>\n",
       "      <td>0.863039</td>\n",
       "      <td>0.893082</td>\n",
       "      <td>0.717172</td>\n",
       "      <td>0.795518</td>\n",
       "    </tr>\n",
       "    <tr>\n",
       "      <th>test</th>\n",
       "      <td>0.792135</td>\n",
       "      <td>0.821429</td>\n",
       "      <td>0.630137</td>\n",
       "      <td>0.713178</td>\n",
       "    </tr>\n",
       "    <tr>\n",
       "      <th>validation</th>\n",
       "      <td>0.831461</td>\n",
       "      <td>0.819672</td>\n",
       "      <td>0.724638</td>\n",
       "      <td>0.769231</td>\n",
       "    </tr>\n",
       "  </tbody>\n",
       "</table>\n",
       "</div>"
      ],
      "text/plain": [
       "            Accuracy  Precision    Recall        F1\n",
       "train       0.863039   0.893082  0.717172  0.795518\n",
       "test        0.792135   0.821429  0.630137  0.713178\n",
       "validation  0.831461   0.819672  0.724638  0.769231"
      ]
     },
     "metadata": {},
     "output_type": "display_data"
    },
    {
     "data": {
      "text/plain": [
       "'Knn'"
      ]
     },
     "metadata": {},
     "output_type": "display_data"
    },
    {
     "data": {
      "text/html": [
       "<div>\n",
       "<style scoped>\n",
       "    .dataframe tbody tr th:only-of-type {\n",
       "        vertical-align: middle;\n",
       "    }\n",
       "\n",
       "    .dataframe tbody tr th {\n",
       "        vertical-align: top;\n",
       "    }\n",
       "\n",
       "    .dataframe thead th {\n",
       "        text-align: right;\n",
       "    }\n",
       "</style>\n",
       "<table border=\"1\" class=\"dataframe\">\n",
       "  <thead>\n",
       "    <tr style=\"text-align: right;\">\n",
       "      <th></th>\n",
       "      <th>Accuracy</th>\n",
       "      <th>Precision</th>\n",
       "      <th>Recall</th>\n",
       "      <th>F1</th>\n",
       "    </tr>\n",
       "  </thead>\n",
       "  <tbody>\n",
       "    <tr>\n",
       "      <th>train</th>\n",
       "      <td>0.838649</td>\n",
       "      <td>0.858974</td>\n",
       "      <td>0.676768</td>\n",
       "      <td>0.757062</td>\n",
       "    </tr>\n",
       "    <tr>\n",
       "      <th>test</th>\n",
       "      <td>0.786517</td>\n",
       "      <td>0.830189</td>\n",
       "      <td>0.602740</td>\n",
       "      <td>0.698413</td>\n",
       "    </tr>\n",
       "    <tr>\n",
       "      <th>validation</th>\n",
       "      <td>0.825843</td>\n",
       "      <td>0.806452</td>\n",
       "      <td>0.724638</td>\n",
       "      <td>0.763359</td>\n",
       "    </tr>\n",
       "  </tbody>\n",
       "</table>\n",
       "</div>"
      ],
      "text/plain": [
       "            Accuracy  Precision    Recall        F1\n",
       "train       0.838649   0.858974  0.676768  0.757062\n",
       "test        0.786517   0.830189  0.602740  0.698413\n",
       "validation  0.825843   0.806452  0.724638  0.763359"
      ]
     },
     "metadata": {},
     "output_type": "display_data"
    },
    {
     "data": {
      "text/plain": [
       "'Decision Tree'"
      ]
     },
     "metadata": {},
     "output_type": "display_data"
    },
    {
     "data": {
      "text/html": [
       "<div>\n",
       "<style scoped>\n",
       "    .dataframe tbody tr th:only-of-type {\n",
       "        vertical-align: middle;\n",
       "    }\n",
       "\n",
       "    .dataframe tbody tr th {\n",
       "        vertical-align: top;\n",
       "    }\n",
       "\n",
       "    .dataframe thead th {\n",
       "        text-align: right;\n",
       "    }\n",
       "</style>\n",
       "<table border=\"1\" class=\"dataframe\">\n",
       "  <thead>\n",
       "    <tr style=\"text-align: right;\">\n",
       "      <th></th>\n",
       "      <th>Accuracy</th>\n",
       "      <th>Precision</th>\n",
       "      <th>Recall</th>\n",
       "      <th>F1</th>\n",
       "    </tr>\n",
       "  </thead>\n",
       "  <tbody>\n",
       "    <tr>\n",
       "      <th>train</th>\n",
       "      <td>0.833021</td>\n",
       "      <td>0.826347</td>\n",
       "      <td>0.696970</td>\n",
       "      <td>0.756164</td>\n",
       "    </tr>\n",
       "    <tr>\n",
       "      <th>test</th>\n",
       "      <td>0.792135</td>\n",
       "      <td>0.821429</td>\n",
       "      <td>0.630137</td>\n",
       "      <td>0.713178</td>\n",
       "    </tr>\n",
       "    <tr>\n",
       "      <th>validation</th>\n",
       "      <td>0.792135</td>\n",
       "      <td>0.742424</td>\n",
       "      <td>0.710145</td>\n",
       "      <td>0.725926</td>\n",
       "    </tr>\n",
       "  </tbody>\n",
       "</table>\n",
       "</div>"
      ],
      "text/plain": [
       "            Accuracy  Precision    Recall        F1\n",
       "train       0.833021   0.826347  0.696970  0.756164\n",
       "test        0.792135   0.821429  0.630137  0.713178\n",
       "validation  0.792135   0.742424  0.710145  0.725926"
      ]
     },
     "metadata": {},
     "output_type": "display_data"
    },
    {
     "data": {
      "text/plain": [
       "'Random Forest'"
      ]
     },
     "metadata": {},
     "output_type": "display_data"
    },
    {
     "data": {
      "text/html": [
       "<div>\n",
       "<style scoped>\n",
       "    .dataframe tbody tr th:only-of-type {\n",
       "        vertical-align: middle;\n",
       "    }\n",
       "\n",
       "    .dataframe tbody tr th {\n",
       "        vertical-align: top;\n",
       "    }\n",
       "\n",
       "    .dataframe thead th {\n",
       "        text-align: right;\n",
       "    }\n",
       "</style>\n",
       "<table border=\"1\" class=\"dataframe\">\n",
       "  <thead>\n",
       "    <tr style=\"text-align: right;\">\n",
       "      <th></th>\n",
       "      <th>Accuracy</th>\n",
       "      <th>Precision</th>\n",
       "      <th>Recall</th>\n",
       "      <th>F1</th>\n",
       "    </tr>\n",
       "  </thead>\n",
       "  <tbody>\n",
       "    <tr>\n",
       "      <th>train</th>\n",
       "      <td>0.833021</td>\n",
       "      <td>0.909774</td>\n",
       "      <td>0.611111</td>\n",
       "      <td>0.731118</td>\n",
       "    </tr>\n",
       "    <tr>\n",
       "      <th>test</th>\n",
       "      <td>0.764045</td>\n",
       "      <td>0.829787</td>\n",
       "      <td>0.534247</td>\n",
       "      <td>0.650000</td>\n",
       "    </tr>\n",
       "    <tr>\n",
       "      <th>validation</th>\n",
       "      <td>0.820225</td>\n",
       "      <td>0.877551</td>\n",
       "      <td>0.623188</td>\n",
       "      <td>0.728814</td>\n",
       "    </tr>\n",
       "  </tbody>\n",
       "</table>\n",
       "</div>"
      ],
      "text/plain": [
       "            Accuracy  Precision    Recall        F1\n",
       "train       0.833021   0.909774  0.611111  0.731118\n",
       "test        0.764045   0.829787  0.534247  0.650000\n",
       "validation  0.820225   0.877551  0.623188  0.728814"
      ]
     },
     "metadata": {},
     "output_type": "display_data"
    },
    {
     "data": {
      "text/plain": [
       "'Random Forest after Cross Validation'"
      ]
     },
     "metadata": {},
     "output_type": "display_data"
    },
    {
     "data": {
      "text/html": [
       "<div>\n",
       "<style scoped>\n",
       "    .dataframe tbody tr th:only-of-type {\n",
       "        vertical-align: middle;\n",
       "    }\n",
       "\n",
       "    .dataframe tbody tr th {\n",
       "        vertical-align: top;\n",
       "    }\n",
       "\n",
       "    .dataframe thead th {\n",
       "        text-align: right;\n",
       "    }\n",
       "</style>\n",
       "<table border=\"1\" class=\"dataframe\">\n",
       "  <thead>\n",
       "    <tr style=\"text-align: right;\">\n",
       "      <th></th>\n",
       "      <th>Accuracy</th>\n",
       "      <th>Precision</th>\n",
       "      <th>Recall</th>\n",
       "      <th>F1</th>\n",
       "    </tr>\n",
       "  </thead>\n",
       "  <tbody>\n",
       "    <tr>\n",
       "      <th>train</th>\n",
       "      <td>0.879925</td>\n",
       "      <td>0.929487</td>\n",
       "      <td>0.732323</td>\n",
       "      <td>0.819209</td>\n",
       "    </tr>\n",
       "    <tr>\n",
       "      <th>test</th>\n",
       "      <td>0.792135</td>\n",
       "      <td>0.846154</td>\n",
       "      <td>0.602740</td>\n",
       "      <td>0.704000</td>\n",
       "    </tr>\n",
       "    <tr>\n",
       "      <th>validation</th>\n",
       "      <td>0.825843</td>\n",
       "      <td>0.816667</td>\n",
       "      <td>0.710145</td>\n",
       "      <td>0.759690</td>\n",
       "    </tr>\n",
       "  </tbody>\n",
       "</table>\n",
       "</div>"
      ],
      "text/plain": [
       "            Accuracy  Precision    Recall        F1\n",
       "train       0.879925   0.929487  0.732323  0.819209\n",
       "test        0.792135   0.846154  0.602740  0.704000\n",
       "validation  0.825843   0.816667  0.710145  0.759690"
      ]
     },
     "metadata": {},
     "output_type": "display_data"
    },
    {
     "data": {
      "text/plain": [
       "'Gradient Boosting'"
      ]
     },
     "metadata": {},
     "output_type": "display_data"
    },
    {
     "data": {
      "text/html": [
       "<div>\n",
       "<style scoped>\n",
       "    .dataframe tbody tr th:only-of-type {\n",
       "        vertical-align: middle;\n",
       "    }\n",
       "\n",
       "    .dataframe tbody tr th {\n",
       "        vertical-align: top;\n",
       "    }\n",
       "\n",
       "    .dataframe thead th {\n",
       "        text-align: right;\n",
       "    }\n",
       "</style>\n",
       "<table border=\"1\" class=\"dataframe\">\n",
       "  <thead>\n",
       "    <tr style=\"text-align: right;\">\n",
       "      <th></th>\n",
       "      <th>Accuracy</th>\n",
       "      <th>Precision</th>\n",
       "      <th>Recall</th>\n",
       "      <th>F1</th>\n",
       "    </tr>\n",
       "  </thead>\n",
       "  <tbody>\n",
       "    <tr>\n",
       "      <th>train</th>\n",
       "      <td>0.932458</td>\n",
       "      <td>0.976471</td>\n",
       "      <td>0.838384</td>\n",
       "      <td>0.902174</td>\n",
       "    </tr>\n",
       "    <tr>\n",
       "      <th>test</th>\n",
       "      <td>0.792135</td>\n",
       "      <td>0.810345</td>\n",
       "      <td>0.643836</td>\n",
       "      <td>0.717557</td>\n",
       "    </tr>\n",
       "    <tr>\n",
       "      <th>validation</th>\n",
       "      <td>0.876404</td>\n",
       "      <td>0.885246</td>\n",
       "      <td>0.782609</td>\n",
       "      <td>0.830769</td>\n",
       "    </tr>\n",
       "  </tbody>\n",
       "</table>\n",
       "</div>"
      ],
      "text/plain": [
       "            Accuracy  Precision    Recall        F1\n",
       "train       0.932458   0.976471  0.838384  0.902174\n",
       "test        0.792135   0.810345  0.643836  0.717557\n",
       "validation  0.876404   0.885246  0.782609  0.830769"
      ]
     },
     "metadata": {},
     "output_type": "display_data"
    }
   ],
   "source": [
    "evaluate_model(lr_model_si, title='LR Simple Imputer', set_names=('train', 'test', 'validation'), show_cm=False)\n",
    "evaluate_model(lr_model_ii, title='LR Iterative Imputer', set_names=('train', 'test', 'validation'), show_cm=False)\n",
    "evaluate_model(lr_model_pf, title='LR con features polinomicas', set_names=('train', 'test', 'validation'), show_cm=False)\n",
    "evaluate_model(knn_model, title='Knn', set_names=('train', 'test', 'validation'), show_cm=False)\n",
    "evaluate_model(dt_model, title='Decision Tree', set_names=('train', 'test', 'validation'), show_cm=False)\n",
    "evaluate_model(rf_model, title='Random Forest', set_names=('train', 'test', 'validation'), show_cm=False)\n",
    "evaluate_model(cv_pipe, title='Random Forest after Cross Validation', set_names=('train', 'test', 'validation'), show_cm=False)\n",
    "evaluate_model(boo_model, title='Gradient Boosting', set_names=('train', 'test', 'validation'), show_cm=False)"
   ]
  }
 ],
 "metadata": {
  "hide_input": false,
  "kernelspec": {
   "display_name": "Python 3",
   "language": "python",
   "name": "python3"
  },
  "language_info": {
   "codemirror_mode": {
    "name": "ipython",
    "version": 3
   },
   "file_extension": ".py",
   "mimetype": "text/x-python",
   "name": "python",
   "nbconvert_exporter": "python",
   "pygments_lexer": "ipython3",
   "version": "3.7.6"
  },
  "toc": {
   "base_numbering": 1,
   "nav_menu": {},
   "number_sections": false,
   "sideBar": true,
   "skip_h1_title": false,
   "title_cell": "Table of Contents",
   "title_sidebar": "Contents",
   "toc_cell": false,
   "toc_position": {
    "height": "calc(100% - 180px)",
    "left": "10px",
    "top": "150px",
    "width": "320px"
   },
   "toc_section_display": true,
   "toc_window_display": false
  }
 },
 "nbformat": 4,
 "nbformat_minor": 2
}
