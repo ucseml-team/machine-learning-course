{
 "cells": [
  {
   "cell_type": "code",
   "execution_count": 1,
   "metadata": {
    "ExecuteTime": {
     "end_time": "2020-05-04T20:44:23.061821Z",
     "start_time": "2020-05-04T20:44:22.758721Z"
    }
   },
   "outputs": [],
   "source": [
    "%matplotlib inline"
   ]
  },
  {
   "cell_type": "code",
   "execution_count": 2,
   "metadata": {
    "ExecuteTime": {
     "end_time": "2020-05-04T20:44:23.627084Z",
     "start_time": "2020-05-04T20:44:23.063790Z"
    }
   },
   "outputs": [],
   "source": [
    "import numpy as np\n",
    "import pandas as pd\n",
    "from collections import defaultdict\n",
    "from matplotlib import pyplot as plt\n",
    "import seaborn as sns\n",
    "\n",
    "from IPython.display import HTML, display\n",
    "from sklearn.metrics import accuracy_score, precision_score, recall_score, confusion_matrix\n",
    "from sklearn.model_selection import train_test_split\n",
    "\n",
    "from sklearn_pandas import DataFrameMapper"
   ]
  },
  {
   "cell_type": "code",
   "execution_count": 3,
   "metadata": {
    "ExecuteTime": {
     "end_time": "2020-05-04T20:44:23.637056Z",
     "start_time": "2020-05-04T20:44:23.629772Z"
    }
   },
   "outputs": [],
   "source": [
    "pd.options.display.max_columns = 0\n",
    "plt.rcParams.update({\n",
    "    \"font.family\": [\"serif\"],\n",
    "    \"font.sans-serif\": [\"Roboto\"],\n",
    "    \"font.size\": 9,\n",
    "    \"axes.labelsize\": 11,\n",
    "    \"axes.titlesize\": 13,\n",
    "    \"xtick.labelsize\": 11,\n",
    "    \"ytick.labelsize\": 11,\n",
    "    \"legend.fontsize\": 11,\n",
    "    'figure.figsize': (15.0, 4.0),\n",
    "    'axes.grid': False,\n",
    "    'axes.spines.left': True,\n",
    "    'axes.spines.right': True,\n",
    "    'axes.spines.top': True,\n",
    "    'axes.spines.bottom': True,\n",
    "})"
   ]
  },
  {
   "cell_type": "markdown",
   "metadata": {},
   "source": [
    "# Scikit Learn:\n",
    "- Lib para hacer Machine Learning\n",
    "- Tanto los modelos en sí, como cosas típicas alrededor (métricas, preprocesado, etc)\n",
    "- Muy modular: nos da bloques que nosotros enganchamos entre sí"
   ]
  },
  {
   "cell_type": "markdown",
   "metadata": {},
   "source": [
    "# Pipeline, transformers & estimators\n",
    "\n",
    "* **estimator**: un **modelo** de Machine Learning. Los métodos más importantes son:\n",
    "    * fit(X, y): **X** es una matriz de la forma *(n_samples, n_features)*; **y** un array *(n_samples,)*. Devuelve una referencia al estimador\n",
    "    * predict(X): **X** es una matriz de la forma *(n_samples, n_features)*. Devuelve un array *(n_samples,)* con las predicciones\n",
    "    \n",
    "* **Transformers** y **pre-processors**: Son objetos para aplicar transformaciones y preprocesamientos (standarización, imputación de nulos, etc..) antes de entrenar un modelo. Los métodos más importantes son:\n",
    "    * fit(X, y): idem al fit de un estimador\n",
    "    * transform(X): Devuelve una matriz de la forma *(n_samples, n_features_new)*, donde n_features_new es la cantidad de features determinadas en el entrenamiento\n",
    "    \n",
    "    https://scikit-learn.org/stable/modules/classes.html#module-sklearn.preprocessing\n",
    "    \n",
    "    \n",
    "* **Pipeline**: Es un objeto que permite encadenar uno o más transformers con un estimador final. Sigue la misma interfaz que el estimador final.\n",
    "\n",
    "* **Feature Union**: En un objeto que permite *concatenar* las salidas de uno o mas transformers.\n",
    "\n",
    "![](../images/pipeline.svg)\n",
    "    "
   ]
  },
  {
   "cell_type": "markdown",
   "metadata": {},
   "source": [
    "# Ejemplos super básicos:"
   ]
  },
  {
   "cell_type": "markdown",
   "metadata": {},
   "source": [
    "### Estimator (modelo)"
   ]
  },
  {
   "cell_type": "code",
   "execution_count": 4,
   "metadata": {},
   "outputs": [],
   "source": [
    "from sklearn.linear_model import LogisticRegression"
   ]
  },
  {
   "cell_type": "code",
   "execution_count": 5,
   "metadata": {},
   "outputs": [],
   "source": [
    "entradas = np.array((\n",
    "    (2, 200),\n",
    "    (9, 90),\n",
    "    (2, 200),\n",
    "    (1, 150),\n",
    "    (1, 70),\n",
    "))\n",
    "\n",
    "salidas = np.array((\n",
    "    0,\n",
    "    1,\n",
    "    0,\n",
    "    0,\n",
    "    1,\n",
    "))"
   ]
  },
  {
   "cell_type": "code",
   "execution_count": 6,
   "metadata": {},
   "outputs": [
    {
     "data": {
      "text/plain": [
       "array([0, 1, 0])"
      ]
     },
     "execution_count": 6,
     "metadata": {},
     "output_type": "execute_result"
    }
   ],
   "source": [
    "modelo = LogisticRegression()\n",
    "modelo.fit(entradas, salidas)\n",
    "\n",
    "modelo.predict((\n",
    "    (1, 150),\n",
    "    (0, 50),\n",
    "    (2, 250),\n",
    "))"
   ]
  },
  {
   "cell_type": "markdown",
   "metadata": {},
   "source": [
    "### Transformer"
   ]
  },
  {
   "cell_type": "markdown",
   "metadata": {},
   "source": [
    "![](../images/transformer.jpg)"
   ]
  },
  {
   "cell_type": "code",
   "execution_count": 7,
   "metadata": {},
   "outputs": [],
   "source": [
    "from sklearn.preprocessing import OneHotEncoder"
   ]
  },
  {
   "cell_type": "code",
   "execution_count": 8,
   "metadata": {},
   "outputs": [],
   "source": [
    "entradas = np.array((\n",
    "    (\"avion\", \"blanco\"),\n",
    "    (\"perro\", \"blanco\"),\n",
    "    (\"perro\", \"amarillo\"),\n",
    "    (\"loro\", \"verde\"),\n",
    "    (\"avion\", \"verde\"),\n",
    "))"
   ]
  },
  {
   "cell_type": "code",
   "execution_count": 9,
   "metadata": {},
   "outputs": [
    {
     "name": "stdout",
     "output_type": "stream",
     "text": [
      "[array(['avion', 'loro', 'perro'], dtype='<U8'), array(['amarillo', 'blanco', 'verde'], dtype='<U8')]\n"
     ]
    }
   ],
   "source": [
    "transformer = OneHotEncoder()\n",
    "transformer.fit(entradas)\n",
    "\n",
    "print(transformer.categories_)"
   ]
  },
  {
   "cell_type": "code",
   "execution_count": 10,
   "metadata": {},
   "outputs": [
    {
     "data": {
      "text/plain": [
       "matrix([[0., 1., 0., 0., 1., 0.],\n",
       "        [1., 0., 0., 1., 0., 0.],\n",
       "        [1., 0., 0., 0., 0., 1.]])"
      ]
     },
     "execution_count": 10,
     "metadata": {},
     "output_type": "execute_result"
    }
   ],
   "source": [
    "transformer.transform((\n",
    "    (\"loro\", \"blanco\"),\n",
    "    (\"avion\", \"amarillo\"),\n",
    "    (\"avion\", \"verde\"),\n",
    ")).todense()"
   ]
  },
  {
   "cell_type": "markdown",
   "metadata": {},
   "source": [
    "### Pipeline"
   ]
  },
  {
   "cell_type": "code",
   "execution_count": 11,
   "metadata": {},
   "outputs": [],
   "source": [
    "from sklearn.pipeline import Pipeline"
   ]
  },
  {
   "cell_type": "code",
   "execution_count": 12,
   "metadata": {},
   "outputs": [],
   "source": [
    "entradas = np.array((\n",
    "    (\"avion\", \"blanco\"),\n",
    "    (\"perro\", \"blanco\"),\n",
    "    (\"perro\", \"amarillo\"),\n",
    "    (\"loro\", \"verde\"),\n",
    "    (\"avion\", \"verde\"),\n",
    "))\n",
    "\n",
    "# es maquina o no\n",
    "salidas = np.array((\n",
    "    1,\n",
    "    0,\n",
    "    0,\n",
    "    0,\n",
    "    1,\n",
    "))"
   ]
  },
  {
   "cell_type": "code",
   "execution_count": 13,
   "metadata": {
    "scrolled": true
   },
   "outputs": [
    {
     "data": {
      "text/plain": [
       "array([0, 1, 1])"
      ]
     },
     "execution_count": 13,
     "metadata": {},
     "output_type": "execute_result"
    }
   ],
   "source": [
    "pipe = Pipeline((\n",
    "    ('encoder', OneHotEncoder()),\n",
    "    ('predictor', LogisticRegression()),\n",
    "))\n",
    "\n",
    "pipe.fit(entradas, salidas)\n",
    "\n",
    "pipe.predict((\n",
    "    (\"loro\", \"blanco\"),\n",
    "    (\"avion\", \"amarillo\"),\n",
    "    (\"avion\", \"verde\"),\n",
    "))"
   ]
  },
  {
   "cell_type": "markdown",
   "metadata": {},
   "source": [
    "# Ahora un ejemplo en serio: Titanic"
   ]
  },
  {
   "cell_type": "markdown",
   "metadata": {},
   "source": [
    "# Leyendo los datos"
   ]
  },
  {
   "cell_type": "code",
   "execution_count": 14,
   "metadata": {
    "ExecuteTime": {
     "end_time": "2020-05-04T20:44:23.759094Z",
     "start_time": "2020-05-04T20:44:23.639436Z"
    }
   },
   "outputs": [
    {
     "name": "stdout",
     "output_type": "stream",
     "text": [
      "PassengerId,Survived,Pclass,Name,Sex,Age,SibSp,Parch,Ticket,Fare,Cabin,Embarked\r",
      "\r\n",
      "1,0,3,\"Braund, Mr. Owen Harris\",male,22,1,0,A/5 21171,7.25,,S\r",
      "\r\n",
      "2,1,1,\"Cumings, Mrs. John Bradley (Florence Briggs Thayer)\",female,38,1,0,PC 17599,71.2833,C85,C\r",
      "\r\n",
      "3,1,3,\"Heikkinen, Miss. Laina\",female,26,0,0,STON/O2. 3101282,7.925,,S\r",
      "\r\n",
      "4,1,1,\"Futrelle, Mrs. Jacques Heath (Lily May Peel)\",female,35,1,0,113803,53.1,C123,S\r",
      "\r\n",
      "5,0,3,\"Allen, Mr. William Henry\",male,35,0,0,373450,8.05,,S\r",
      "\r\n",
      "6,0,3,\"Moran, Mr. James\",male,,0,0,330877,8.4583,,Q\r",
      "\r\n",
      "7,0,1,\"McCarthy, Mr. Timothy J\",male,54,0,0,17463,51.8625,E46,S\r",
      "\r\n",
      "8,0,3,\"Palsson, Master. Gosta Leonard\",male,2,3,1,349909,21.075,,S\r",
      "\r\n",
      "9,1,3,\"Johnson, Mrs. Oscar W (Elisabeth Vilhelmina Berg)\",female,27,0,2,347742,11.1333,,S\r",
      "\r\n"
     ]
    }
   ],
   "source": [
    "!head ./train.csv"
   ]
  },
  {
   "cell_type": "code",
   "execution_count": 15,
   "metadata": {
    "ExecuteTime": {
     "end_time": "2020-05-04T20:44:23.774351Z",
     "start_time": "2020-05-04T20:44:23.760819Z"
    }
   },
   "outputs": [
    {
     "data": {
      "text/html": [
       "<div>\n",
       "<style scoped>\n",
       "    .dataframe tbody tr th:only-of-type {\n",
       "        vertical-align: middle;\n",
       "    }\n",
       "\n",
       "    .dataframe tbody tr th {\n",
       "        vertical-align: top;\n",
       "    }\n",
       "\n",
       "    .dataframe thead th {\n",
       "        text-align: right;\n",
       "    }\n",
       "</style>\n",
       "<table border=\"1\" class=\"dataframe\">\n",
       "  <thead>\n",
       "    <tr style=\"text-align: right;\">\n",
       "      <th></th>\n",
       "      <th>survived</th>\n",
       "      <th>ticket_class</th>\n",
       "      <th>name</th>\n",
       "      <th>sex</th>\n",
       "      <th>age</th>\n",
       "      <th>siblings_spouses</th>\n",
       "      <th>parents_children</th>\n",
       "      <th>ticket</th>\n",
       "      <th>fare</th>\n",
       "      <th>cabin</th>\n",
       "      <th>embarked_at</th>\n",
       "    </tr>\n",
       "    <tr>\n",
       "      <th>passenger_id</th>\n",
       "      <th></th>\n",
       "      <th></th>\n",
       "      <th></th>\n",
       "      <th></th>\n",
       "      <th></th>\n",
       "      <th></th>\n",
       "      <th></th>\n",
       "      <th></th>\n",
       "      <th></th>\n",
       "      <th></th>\n",
       "      <th></th>\n",
       "    </tr>\n",
       "  </thead>\n",
       "  <tbody>\n",
       "    <tr>\n",
       "      <th>1</th>\n",
       "      <td>0</td>\n",
       "      <td>3</td>\n",
       "      <td>Braund, Mr. Owen Harris</td>\n",
       "      <td>male</td>\n",
       "      <td>22.0</td>\n",
       "      <td>1</td>\n",
       "      <td>0</td>\n",
       "      <td>A/5 21171</td>\n",
       "      <td>7.2500</td>\n",
       "      <td>NaN</td>\n",
       "      <td>S</td>\n",
       "    </tr>\n",
       "    <tr>\n",
       "      <th>2</th>\n",
       "      <td>1</td>\n",
       "      <td>1</td>\n",
       "      <td>Cumings, Mrs. John Bradley (Florence Briggs Th...</td>\n",
       "      <td>female</td>\n",
       "      <td>38.0</td>\n",
       "      <td>1</td>\n",
       "      <td>0</td>\n",
       "      <td>PC 17599</td>\n",
       "      <td>71.2833</td>\n",
       "      <td>C85</td>\n",
       "      <td>C</td>\n",
       "    </tr>\n",
       "    <tr>\n",
       "      <th>3</th>\n",
       "      <td>1</td>\n",
       "      <td>3</td>\n",
       "      <td>Heikkinen, Miss. Laina</td>\n",
       "      <td>female</td>\n",
       "      <td>26.0</td>\n",
       "      <td>0</td>\n",
       "      <td>0</td>\n",
       "      <td>STON/O2. 3101282</td>\n",
       "      <td>7.9250</td>\n",
       "      <td>NaN</td>\n",
       "      <td>S</td>\n",
       "    </tr>\n",
       "    <tr>\n",
       "      <th>4</th>\n",
       "      <td>1</td>\n",
       "      <td>1</td>\n",
       "      <td>Futrelle, Mrs. Jacques Heath (Lily May Peel)</td>\n",
       "      <td>female</td>\n",
       "      <td>35.0</td>\n",
       "      <td>1</td>\n",
       "      <td>0</td>\n",
       "      <td>113803</td>\n",
       "      <td>53.1000</td>\n",
       "      <td>C123</td>\n",
       "      <td>S</td>\n",
       "    </tr>\n",
       "    <tr>\n",
       "      <th>5</th>\n",
       "      <td>0</td>\n",
       "      <td>3</td>\n",
       "      <td>Allen, Mr. William Henry</td>\n",
       "      <td>male</td>\n",
       "      <td>35.0</td>\n",
       "      <td>0</td>\n",
       "      <td>0</td>\n",
       "      <td>373450</td>\n",
       "      <td>8.0500</td>\n",
       "      <td>NaN</td>\n",
       "      <td>S</td>\n",
       "    </tr>\n",
       "    <tr>\n",
       "      <th>...</th>\n",
       "      <td>...</td>\n",
       "      <td>...</td>\n",
       "      <td>...</td>\n",
       "      <td>...</td>\n",
       "      <td>...</td>\n",
       "      <td>...</td>\n",
       "      <td>...</td>\n",
       "      <td>...</td>\n",
       "      <td>...</td>\n",
       "      <td>...</td>\n",
       "      <td>...</td>\n",
       "    </tr>\n",
       "    <tr>\n",
       "      <th>887</th>\n",
       "      <td>0</td>\n",
       "      <td>2</td>\n",
       "      <td>Montvila, Rev. Juozas</td>\n",
       "      <td>male</td>\n",
       "      <td>27.0</td>\n",
       "      <td>0</td>\n",
       "      <td>0</td>\n",
       "      <td>211536</td>\n",
       "      <td>13.0000</td>\n",
       "      <td>NaN</td>\n",
       "      <td>S</td>\n",
       "    </tr>\n",
       "    <tr>\n",
       "      <th>888</th>\n",
       "      <td>1</td>\n",
       "      <td>1</td>\n",
       "      <td>Graham, Miss. Margaret Edith</td>\n",
       "      <td>female</td>\n",
       "      <td>19.0</td>\n",
       "      <td>0</td>\n",
       "      <td>0</td>\n",
       "      <td>112053</td>\n",
       "      <td>30.0000</td>\n",
       "      <td>B42</td>\n",
       "      <td>S</td>\n",
       "    </tr>\n",
       "    <tr>\n",
       "      <th>889</th>\n",
       "      <td>0</td>\n",
       "      <td>3</td>\n",
       "      <td>Johnston, Miss. Catherine Helen \"Carrie\"</td>\n",
       "      <td>female</td>\n",
       "      <td>NaN</td>\n",
       "      <td>1</td>\n",
       "      <td>2</td>\n",
       "      <td>W./C. 6607</td>\n",
       "      <td>23.4500</td>\n",
       "      <td>NaN</td>\n",
       "      <td>S</td>\n",
       "    </tr>\n",
       "    <tr>\n",
       "      <th>890</th>\n",
       "      <td>1</td>\n",
       "      <td>1</td>\n",
       "      <td>Behr, Mr. Karl Howell</td>\n",
       "      <td>male</td>\n",
       "      <td>26.0</td>\n",
       "      <td>0</td>\n",
       "      <td>0</td>\n",
       "      <td>111369</td>\n",
       "      <td>30.0000</td>\n",
       "      <td>C148</td>\n",
       "      <td>C</td>\n",
       "    </tr>\n",
       "    <tr>\n",
       "      <th>891</th>\n",
       "      <td>0</td>\n",
       "      <td>3</td>\n",
       "      <td>Dooley, Mr. Patrick</td>\n",
       "      <td>male</td>\n",
       "      <td>32.0</td>\n",
       "      <td>0</td>\n",
       "      <td>0</td>\n",
       "      <td>370376</td>\n",
       "      <td>7.7500</td>\n",
       "      <td>NaN</td>\n",
       "      <td>Q</td>\n",
       "    </tr>\n",
       "  </tbody>\n",
       "</table>\n",
       "<p>891 rows × 11 columns</p>\n",
       "</div>"
      ],
      "text/plain": [
       "              survived  ticket_class                                               name     sex   age  ...  parents_children            ticket     fare  cabin embarked_at\n",
       "passenger_id                                                                                           ...                                                                \n",
       "1                    0             3                            Braund, Mr. Owen Harris    male  22.0  ...                 0         A/5 21171   7.2500    NaN           S\n",
       "2                    1             1  Cumings, Mrs. John Bradley (Florence Briggs Th...  female  38.0  ...                 0          PC 17599  71.2833    C85           C\n",
       "3                    1             3                             Heikkinen, Miss. Laina  female  26.0  ...                 0  STON/O2. 3101282   7.9250    NaN           S\n",
       "4                    1             1       Futrelle, Mrs. Jacques Heath (Lily May Peel)  female  35.0  ...                 0            113803  53.1000   C123           S\n",
       "5                    0             3                           Allen, Mr. William Henry    male  35.0  ...                 0            373450   8.0500    NaN           S\n",
       "...                ...           ...                                                ...     ...   ...  ...               ...               ...      ...    ...         ...\n",
       "887                  0             2                              Montvila, Rev. Juozas    male  27.0  ...                 0            211536  13.0000    NaN           S\n",
       "888                  1             1                       Graham, Miss. Margaret Edith  female  19.0  ...                 0            112053  30.0000    B42           S\n",
       "889                  0             3           Johnston, Miss. Catherine Helen \"Carrie\"  female   NaN  ...                 2        W./C. 6607  23.4500    NaN           S\n",
       "890                  1             1                              Behr, Mr. Karl Howell    male  26.0  ...                 0            111369  30.0000   C148           C\n",
       "891                  0             3                                Dooley, Mr. Patrick    male  32.0  ...                 0            370376   7.7500    NaN           Q\n",
       "\n",
       "[891 rows x 11 columns]"
      ]
     },
     "execution_count": 15,
     "metadata": {},
     "output_type": "execute_result"
    }
   ],
   "source": [
    "all_data = pd.read_csv('./train.csv')\n",
    "\n",
    "BETTER_COLUMN_NAMES = {\n",
    "    'PassengerId': 'passenger_id',\n",
    "    'Survived': 'survived',\n",
    "    'Pclass': 'ticket_class',\n",
    "    'Name': 'name',\n",
    "    'Sex': 'sex',\n",
    "    'Age': 'age',\n",
    "    'SibSp': 'siblings_spouses',\n",
    "    'Parch': 'parents_children',\n",
    "    'Ticket': 'ticket',\n",
    "    'Fare': 'fare',\n",
    "    'Cabin': 'cabin',\n",
    "    'Embarked': 'embarked_at',\n",
    "    'Survived': 'survived',\n",
    "}\n",
    "all_data.rename(columns=BETTER_COLUMN_NAMES, inplace=True)\n",
    "\n",
    "all_data.set_index('passenger_id', inplace=True)\n",
    "\n",
    "all_data"
   ]
  },
  {
   "cell_type": "markdown",
   "metadata": {},
   "source": [
    "#### Distribución de valores nulos"
   ]
  },
  {
   "cell_type": "code",
   "execution_count": 16,
   "metadata": {
    "ExecuteTime": {
     "end_time": "2020-05-04T20:44:23.781664Z",
     "start_time": "2020-05-04T20:44:23.776201Z"
    }
   },
   "outputs": [
    {
     "data": {
      "text/plain": [
       "survived              0\n",
       "ticket_class          0\n",
       "name                  0\n",
       "sex                   0\n",
       "age                 177\n",
       "siblings_spouses      0\n",
       "parents_children      0\n",
       "ticket                0\n",
       "fare                  0\n",
       "cabin               687\n",
       "embarked_at           2\n",
       "dtype: int64"
      ]
     },
     "execution_count": 16,
     "metadata": {},
     "output_type": "execute_result"
    }
   ],
   "source": [
    "all_data.isnull().sum()"
   ]
  },
  {
   "cell_type": "markdown",
   "metadata": {},
   "source": [
    "### La columna a predecir es:\n",
    "\n",
    "- survived\n",
    "\n",
    "### Vamos a usar como entradas:\n",
    "\n",
    "- sex: male/female\n",
    "- age: numbers, many NaNs\n",
    "- siblings_spouses: numbers, no NaNs\n",
    "- parents_children: numbers, no NaNs\n",
    "- ticket_class: 1/2/3\n",
    "- fare: numbers, no NaNs\n",
    "- embarked_at: C/Q/S and very few NaNs\n",
    "\n",
    "### No vamos a utilizar:\n",
    "\n",
    "- passenger_id: this could only lead to overfitting\n",
    "- name: this has a high change of leading to overfitting\n",
    "- cabin: very little data, and maybe able to overfit? are these single family/person rooms?"
   ]
  },
  {
   "cell_type": "markdown",
   "metadata": {},
   "source": [
    "#### Como *embarket_at* tiene muy pocos nulos, directamente vamos a descartar los casos."
   ]
  },
  {
   "cell_type": "code",
   "execution_count": 17,
   "metadata": {},
   "outputs": [
    {
     "data": {
      "text/plain": [
       "(889, 11)"
      ]
     },
     "execution_count": 17,
     "metadata": {},
     "output_type": "execute_result"
    }
   ],
   "source": [
    "all_data = all_data[~all_data.embarked_at.isnull()]\n",
    "all_data.shape"
   ]
  },
  {
   "cell_type": "markdown",
   "metadata": {},
   "source": [
    "## Conjuntos de datos"
   ]
  },
  {
   "cell_type": "code",
   "execution_count": 18,
   "metadata": {
    "ExecuteTime": {
     "end_time": "2020-05-04T20:44:23.802119Z",
     "start_time": "2020-05-04T20:44:23.796532Z"
    }
   },
   "outputs": [
    {
     "data": {
      "text/plain": [
       "((533, 11), (178, 11), (178, 11))"
      ]
     },
     "execution_count": 18,
     "metadata": {},
     "output_type": "execute_result"
    }
   ],
   "source": [
    "# 60% train, 20% test, 20% validation\n",
    "train, not_train = train_test_split(all_data, test_size=0.4, random_state=42)\n",
    "validation, test = train_test_split(not_train, test_size=0.5, random_state=42)\n",
    "\n",
    "train.shape, validation.shape, test.shape"
   ]
  },
  {
   "cell_type": "markdown",
   "metadata": {},
   "source": [
    "Podríamos armar el pipeline con transformers a mano a partir de cada columna de nuestro dataset, feature unions, etc. O..."
   ]
  },
  {
   "cell_type": "markdown",
   "metadata": {},
   "source": [
    "# DataFrame Mapper\n",
    "\n",
    "Nos facilita la integración de Pandas con sklearn.\n",
    "\n",
    "Funciona como un transformer.\n",
    "\n",
    "![](../images/dataframe_mapper.svg)\n",
    "\n"
   ]
  },
  {
   "cell_type": "markdown",
   "metadata": {},
   "source": [
    "## Preparando el mapper"
   ]
  },
  {
   "cell_type": "code",
   "execution_count": 19,
   "metadata": {
    "ExecuteTime": {
     "end_time": "2020-05-04T20:44:23.806076Z",
     "start_time": "2020-05-04T20:44:23.803825Z"
    }
   },
   "outputs": [],
   "source": [
    "from sklearn_pandas import DataFrameMapper\n",
    "from sklearn.preprocessing import StandardScaler, OneHotEncoder"
   ]
  },
  {
   "cell_type": "code",
   "execution_count": 20,
   "metadata": {
    "ExecuteTime": {
     "end_time": "2020-05-04T20:44:23.840002Z",
     "start_time": "2020-05-04T20:44:23.807551Z"
    }
   },
   "outputs": [
    {
     "data": {
      "text/plain": [
       "DataFrameMapper(drop_cols=[],\n",
       "                features=[(['age'], [StandardScaler()]),\n",
       "                          (['sex'], [OneHotEncoder()])])"
      ]
     },
     "execution_count": 20,
     "metadata": {},
     "output_type": "execute_result"
    }
   ],
   "source": [
    "# Una primer version...\n",
    "# Definimos el mapper. Recibe una lista de (columna/s, transformers)\n",
    "mapper = DataFrameMapper([\n",
    "    (['age'], [StandardScaler()]),\n",
    "    (['sex'], [OneHotEncoder()])\n",
    "])\n",
    "\n",
    "# Lo entrenamos con train\n",
    "mapper.fit(train)"
   ]
  },
  {
   "cell_type": "code",
   "execution_count": 21,
   "metadata": {
    "ExecuteTime": {
     "end_time": "2020-05-04T20:44:23.840002Z",
     "start_time": "2020-05-04T20:44:23.807551Z"
    }
   },
   "outputs": [
    {
     "data": {
      "text/html": [
       "<div>\n",
       "<style scoped>\n",
       "    .dataframe tbody tr th:only-of-type {\n",
       "        vertical-align: middle;\n",
       "    }\n",
       "\n",
       "    .dataframe tbody tr th {\n",
       "        vertical-align: top;\n",
       "    }\n",
       "\n",
       "    .dataframe thead th {\n",
       "        text-align: right;\n",
       "    }\n",
       "</style>\n",
       "<table border=\"1\" class=\"dataframe\">\n",
       "  <thead>\n",
       "    <tr style=\"text-align: right;\">\n",
       "      <th></th>\n",
       "      <th>survived</th>\n",
       "      <th>ticket_class</th>\n",
       "      <th>name</th>\n",
       "      <th>sex</th>\n",
       "      <th>age</th>\n",
       "      <th>siblings_spouses</th>\n",
       "      <th>parents_children</th>\n",
       "      <th>ticket</th>\n",
       "      <th>fare</th>\n",
       "      <th>cabin</th>\n",
       "      <th>embarked_at</th>\n",
       "    </tr>\n",
       "    <tr>\n",
       "      <th>passenger_id</th>\n",
       "      <th></th>\n",
       "      <th></th>\n",
       "      <th></th>\n",
       "      <th></th>\n",
       "      <th></th>\n",
       "      <th></th>\n",
       "      <th></th>\n",
       "      <th></th>\n",
       "      <th></th>\n",
       "      <th></th>\n",
       "      <th></th>\n",
       "    </tr>\n",
       "  </thead>\n",
       "  <tbody>\n",
       "    <tr>\n",
       "      <th>106</th>\n",
       "      <td>0</td>\n",
       "      <td>3</td>\n",
       "      <td>Mionoff, Mr. Stoytcho</td>\n",
       "      <td>male</td>\n",
       "      <td>28.0</td>\n",
       "      <td>0</td>\n",
       "      <td>0</td>\n",
       "      <td>349207</td>\n",
       "      <td>7.8958</td>\n",
       "      <td>NaN</td>\n",
       "      <td>S</td>\n",
       "    </tr>\n",
       "    <tr>\n",
       "      <th>784</th>\n",
       "      <td>0</td>\n",
       "      <td>3</td>\n",
       "      <td>Johnston, Mr. Andrew G</td>\n",
       "      <td>male</td>\n",
       "      <td>NaN</td>\n",
       "      <td>1</td>\n",
       "      <td>2</td>\n",
       "      <td>W./C. 6607</td>\n",
       "      <td>23.4500</td>\n",
       "      <td>NaN</td>\n",
       "      <td>S</td>\n",
       "    </tr>\n",
       "    <tr>\n",
       "      <th>280</th>\n",
       "      <td>1</td>\n",
       "      <td>3</td>\n",
       "      <td>Abbott, Mrs. Stanton (Rosa Hunt)</td>\n",
       "      <td>female</td>\n",
       "      <td>35.0</td>\n",
       "      <td>1</td>\n",
       "      <td>1</td>\n",
       "      <td>C.A. 2673</td>\n",
       "      <td>20.2500</td>\n",
       "      <td>NaN</td>\n",
       "      <td>S</td>\n",
       "    </tr>\n",
       "    <tr>\n",
       "      <th>688</th>\n",
       "      <td>0</td>\n",
       "      <td>3</td>\n",
       "      <td>Dakic, Mr. Branko</td>\n",
       "      <td>male</td>\n",
       "      <td>19.0</td>\n",
       "      <td>0</td>\n",
       "      <td>0</td>\n",
       "      <td>349228</td>\n",
       "      <td>10.1708</td>\n",
       "      <td>NaN</td>\n",
       "      <td>S</td>\n",
       "    </tr>\n",
       "    <tr>\n",
       "      <th>704</th>\n",
       "      <td>0</td>\n",
       "      <td>3</td>\n",
       "      <td>Gallagher, Mr. Martin</td>\n",
       "      <td>male</td>\n",
       "      <td>25.0</td>\n",
       "      <td>0</td>\n",
       "      <td>0</td>\n",
       "      <td>36864</td>\n",
       "      <td>7.7417</td>\n",
       "      <td>NaN</td>\n",
       "      <td>Q</td>\n",
       "    </tr>\n",
       "  </tbody>\n",
       "</table>\n",
       "</div>"
      ],
      "text/plain": [
       "              survived  ticket_class                              name     sex   age  siblings_spouses  parents_children      ticket     fare cabin embarked_at\n",
       "passenger_id                                                                                                                                                   \n",
       "106                  0             3             Mionoff, Mr. Stoytcho    male  28.0                 0                 0      349207   7.8958   NaN           S\n",
       "784                  0             3            Johnston, Mr. Andrew G    male   NaN                 1                 2  W./C. 6607  23.4500   NaN           S\n",
       "280                  1             3  Abbott, Mrs. Stanton (Rosa Hunt)  female  35.0                 1                 1   C.A. 2673  20.2500   NaN           S\n",
       "688                  0             3                 Dakic, Mr. Branko    male  19.0                 0                 0      349228  10.1708   NaN           S\n",
       "704                  0             3             Gallagher, Mr. Martin    male  25.0                 0                 0       36864   7.7417   NaN           Q"
      ]
     },
     "execution_count": 21,
     "metadata": {},
     "output_type": "execute_result"
    }
   ],
   "source": [
    "# vemos como transforma un sample:\n",
    "sample = train.sample(5, random_state=42)\n",
    "\n",
    "# Sample original:\n",
    "sample"
   ]
  },
  {
   "cell_type": "code",
   "execution_count": 22,
   "metadata": {
    "ExecuteTime": {
     "end_time": "2020-05-04T20:44:23.840002Z",
     "start_time": "2020-05-04T20:44:23.807551Z"
    }
   },
   "outputs": [
    {
     "data": {
      "text/plain": [
       "array([[-0.11193044,  0.        ,  1.        ],\n",
       "       [        nan,  0.        ,  1.        ],\n",
       "       [ 0.36886349,  1.        ,  0.        ],\n",
       "       [-0.73009407,  0.        ,  1.        ],\n",
       "       [-0.31798499,  0.        ,  1.        ]])"
      ]
     },
     "execution_count": 22,
     "metadata": {},
     "output_type": "execute_result"
    }
   ],
   "source": [
    "# Sample transformado\n",
    "mapper.transform(sample)"
   ]
  },
  {
   "cell_type": "code",
   "execution_count": 23,
   "metadata": {
    "ExecuteTime": {
     "end_time": "2020-05-04T20:44:23.840002Z",
     "start_time": "2020-05-04T20:44:23.807551Z"
    }
   },
   "outputs": [
    {
     "data": {
      "text/plain": [
       "['age', 'sex_x0_female', 'sex_x0_male']"
      ]
     },
     "execution_count": 23,
     "metadata": {},
     "output_type": "execute_result"
    }
   ],
   "source": [
    "# Nombres de los faetures\n",
    "mapper.transformed_names_"
   ]
  },
  {
   "cell_type": "markdown",
   "metadata": {},
   "source": [
    "### Y los nulos???\n",
    "\n",
    "https://scikit-learn.org/stable/modules/classes.html#module-sklearn.impute"
   ]
  },
  {
   "cell_type": "code",
   "execution_count": 24,
   "metadata": {
    "ExecuteTime": {
     "end_time": "2020-05-04T20:44:23.875877Z",
     "start_time": "2020-05-04T20:44:23.841815Z"
    }
   },
   "outputs": [],
   "source": [
    "from sklearn.experimental import enable_iterative_imputer\n",
    "from sklearn.impute import SimpleImputer, IterativeImputer\n",
    "\n",
    "from sklearn.pipeline import Pipeline"
   ]
  },
  {
   "cell_type": "code",
   "execution_count": 25,
   "metadata": {
    "ExecuteTime": {
     "end_time": "2020-05-04T20:44:23.908482Z",
     "start_time": "2020-05-04T20:44:23.877302Z"
    }
   },
   "outputs": [
    {
     "data": {
      "text/plain": [
       "array([[-1.11930444e-01,  0.00000000e+00,  1.00000000e+00],\n",
       "       [-1.39300336e-16,  0.00000000e+00,  1.00000000e+00],\n",
       "       [ 3.68863489e-01,  1.00000000e+00,  0.00000000e+00],\n",
       "       [-7.30094072e-01,  0.00000000e+00,  1.00000000e+00],\n",
       "       [-3.17984987e-01,  0.00000000e+00,  1.00000000e+00]])"
      ]
     },
     "execution_count": 25,
     "metadata": {},
     "output_type": "execute_result"
    }
   ],
   "source": [
    "mapper = DataFrameMapper([\n",
    "    (['age'], [StandardScaler()]),\n",
    "    (['sex'], [OneHotEncoder()])\n",
    "])\n",
    "\n",
    "pipe1 = Pipeline([\n",
    "    ('mapper', mapper),\n",
    "    ('imputer', SimpleImputer(strategy='mean')),\n",
    "])\n",
    "# Lo entrenamos con train\n",
    "pipe1.fit(train)\n",
    "\n",
    "pipe2 = Pipeline([\n",
    "    ('mapper', mapper),\n",
    "    ('imputer', IterativeImputer(random_state=42)),\n",
    "])\n",
    "# Lo entrenamos con train\n",
    "pipe2.fit(train)\n",
    "\n",
    "# Sample transformado con mean\n",
    "pipe1.transform(sample)"
   ]
  },
  {
   "cell_type": "code",
   "execution_count": 26,
   "metadata": {
    "ExecuteTime": {
     "end_time": "2020-05-04T20:44:23.908482Z",
     "start_time": "2020-05-04T20:44:23.877302Z"
    }
   },
   "outputs": [
    {
     "data": {
      "text/plain": [
       "array([[-0.11193044,  0.        ,  1.        ],\n",
       "       [ 0.00654025,  0.        ,  1.        ],\n",
       "       [ 0.36886349,  1.        ,  0.        ],\n",
       "       [-0.73009407,  0.        ,  1.        ],\n",
       "       [-0.31798499,  0.        ,  1.        ]])"
      ]
     },
     "execution_count": 26,
     "metadata": {},
     "output_type": "execute_result"
    }
   ],
   "source": [
    "# Sample transformado con Iterative\n",
    "pipe2.transform(sample)"
   ]
  },
  {
   "cell_type": "markdown",
   "metadata": {},
   "source": [
    "### El mapper completo"
   ]
  },
  {
   "cell_type": "code",
   "execution_count": 27,
   "metadata": {
    "ExecuteTime": {
     "end_time": "2020-05-04T20:44:23.930339Z",
     "start_time": "2020-05-04T20:44:23.910481Z"
    }
   },
   "outputs": [
    {
     "data": {
      "text/plain": [
       "array([[-0.11193044, -0.49121516, -0.49013792,  0.79054795, -0.47297166,\n",
       "         0.        ,  1.        ,  0.        ,  0.        ,  1.        ],\n",
       "       [        nan,  0.42104157,  1.84239343,  0.79054795, -0.18341222,\n",
       "         0.        ,  1.        ,  0.        ,  0.        ,  1.        ],\n",
       "       [ 0.36886349,  0.42104157,  0.67612775,  0.79054795, -0.24298392,\n",
       "         1.        ,  0.        ,  0.        ,  0.        ,  1.        ],\n",
       "       [-0.73009407, -0.49121516, -0.49013792,  0.79054795, -0.4306199 ,\n",
       "         0.        ,  1.        ,  0.        ,  0.        ,  1.        ],\n",
       "       [-0.31798499, -0.49121516, -0.49013792,  0.79054795, -0.4758404 ,\n",
       "         0.        ,  1.        ,  0.        ,  1.        ,  0.        ]])"
      ]
     },
     "execution_count": 27,
     "metadata": {},
     "output_type": "execute_result"
    }
   ],
   "source": [
    "complete_mapper = DataFrameMapper([\n",
    "    (['age'], [StandardScaler()]),\n",
    "    (['siblings_spouses'], [StandardScaler()]),\n",
    "    (['parents_children'], [StandardScaler()]),\n",
    "    (['ticket_class'], [StandardScaler()]),\n",
    "    (['fare'], [StandardScaler()]),\n",
    "    (['sex'], [OneHotEncoder()]),\n",
    "    (['embarked_at'], [OneHotEncoder()]),\n",
    "])\n",
    "\n",
    "complete_mapper.fit(train)\n",
    "\n",
    "# Sample transformado con el mapper completo\n",
    "complete_mapper.transform(sample)"
   ]
  },
  {
   "cell_type": "code",
   "execution_count": 28,
   "metadata": {
    "ExecuteTime": {
     "end_time": "2020-05-04T20:44:23.930339Z",
     "start_time": "2020-05-04T20:44:23.910481Z"
    }
   },
   "outputs": [
    {
     "data": {
      "text/plain": [
       "['age',\n",
       " 'siblings_spouses',\n",
       " 'parents_children',\n",
       " 'ticket_class',\n",
       " 'fare',\n",
       " 'sex_x0_female',\n",
       " 'sex_x0_male',\n",
       " 'embarked_at_x0_C',\n",
       " 'embarked_at_x0_Q',\n",
       " 'embarked_at_x0_S']"
      ]
     },
     "execution_count": 28,
     "metadata": {},
     "output_type": "execute_result"
    }
   ],
   "source": [
    "complete_mapper.transformed_names_"
   ]
  },
  {
   "cell_type": "markdown",
   "metadata": {},
   "source": [
    "# Primer modelo: Regresión logística"
   ]
  },
  {
   "cell_type": "code",
   "execution_count": 29,
   "metadata": {
    "ExecuteTime": {
     "end_time": "2020-05-04T20:44:23.934588Z",
     "start_time": "2020-05-04T20:44:23.932168Z"
    }
   },
   "outputs": [],
   "source": [
    "from sklearn.linear_model import LogisticRegression"
   ]
  },
  {
   "cell_type": "code",
   "execution_count": 30,
   "metadata": {
    "ExecuteTime": {
     "end_time": "2020-05-04T20:44:23.963067Z",
     "start_time": "2020-05-04T20:44:23.936049Z"
    }
   },
   "outputs": [
    {
     "data": {
      "text/plain": [
       "array([0, 1, 1, 0, 0, 1, 0, 1, 0, 0, 1, 1, 0, 0, 1, 0, 1, 0, 1, 0, 0, 0,\n",
       "       1, 1, 0, 0, 0, 1, 1, 1, 1, 1, 0, 0, 1, 0, 1, 0, 0, 0, 0, 0, 1, 0,\n",
       "       0, 0, 1, 1, 0, 1, 0, 0, 1, 1, 1, 0, 1, 0, 0, 1, 0, 1, 0, 0, 0, 0,\n",
       "       0, 1, 1, 0, 1, 1, 0, 0, 0, 1, 1, 0, 1, 1, 0, 0, 1, 0, 0, 0, 1, 1,\n",
       "       1, 1, 0, 0, 0, 1, 1, 1, 1, 1, 1, 0, 1, 0, 0, 0, 1, 0, 0, 0, 0, 0,\n",
       "       0, 0, 1, 0, 0, 1, 1, 0, 0, 0, 0, 0, 0, 1, 1, 0, 0, 0, 1, 1, 0, 0,\n",
       "       0, 0, 0, 0, 1, 1, 1, 1, 0, 0, 0, 1, 1, 1, 0, 0, 0, 1, 0, 0, 0, 0,\n",
       "       1, 0, 0, 0, 0, 0, 1, 0, 1, 1, 1, 0, 0, 0, 0, 1, 0, 0, 0, 1, 1, 0,\n",
       "       0, 1])"
      ]
     },
     "execution_count": 30,
     "metadata": {},
     "output_type": "execute_result"
    }
   ],
   "source": [
    "lr_model_si = Pipeline([\n",
    "    ('mapper', complete_mapper),\n",
    "    ('imputer', SimpleImputer(strategy='mean')),\n",
    "    ('classifier', LogisticRegression(random_state=42)),\n",
    "])\n",
    "\n",
    "lr_model_si.fit(train, train.survived)\n",
    "\n",
    "y_pred = lr_model_si.predict(validation)\n",
    "\n",
    "y_pred"
   ]
  },
  {
   "cell_type": "markdown",
   "metadata": {},
   "source": [
    "#### sklearn.metrics\n",
    "\n",
    "Muchas funciones listas para evaluar modelos:\n",
    "\n",
    "https://scikit-learn.org/stable/modules/classes.html#sklearn-metrics-metrics"
   ]
  },
  {
   "cell_type": "code",
   "execution_count": 31,
   "metadata": {
    "ExecuteTime": {
     "end_time": "2020-05-04T20:44:23.971192Z",
     "start_time": "2020-05-04T20:44:23.965134Z"
    }
   },
   "outputs": [],
   "source": [
    "from sklearn import metrics"
   ]
  },
  {
   "cell_type": "code",
   "execution_count": 32,
   "metadata": {
    "ExecuteTime": {
     "end_time": "2020-05-04T20:44:23.971192Z",
     "start_time": "2020-05-04T20:44:23.965134Z"
    }
   },
   "outputs": [
    {
     "data": {
      "text/plain": [
       "0.8089887640449438"
      ]
     },
     "execution_count": 32,
     "metadata": {},
     "output_type": "execute_result"
    }
   ],
   "source": [
    "metrics.accuracy_score(validation.survived, y_pred)"
   ]
  },
  {
   "cell_type": "code",
   "execution_count": 33,
   "metadata": {
    "ExecuteTime": {
     "end_time": "2020-05-04T20:44:23.971192Z",
     "start_time": "2020-05-04T20:44:23.965134Z"
    }
   },
   "outputs": [
    {
     "name": "stdout",
     "output_type": "stream",
     "text": [
      "              precision    recall  f1-score   support\n",
      "\n",
      "           0       0.86      0.83      0.84       109\n",
      "           1       0.74      0.78      0.76        69\n",
      "\n",
      "    accuracy                           0.81       178\n",
      "   macro avg       0.80      0.80      0.80       178\n",
      "weighted avg       0.81      0.81      0.81       178\n",
      "\n"
     ]
    }
   ],
   "source": [
    "print(metrics.classification_report(validation.survived, y_pred))"
   ]
  },
  {
   "cell_type": "markdown",
   "metadata": {},
   "source": [
    "#### Programemos una función para evaluar un modelo..."
   ]
  },
  {
   "cell_type": "code",
   "execution_count": 34,
   "metadata": {
    "ExecuteTime": {
     "end_time": "2020-05-04T20:44:23.981597Z",
     "start_time": "2020-05-04T20:44:23.972678Z"
    }
   },
   "outputs": [],
   "source": [
    "def evaluate_model(model, set_names=('train', 'validation'), title='', show_cm=True):\n",
    "    if title:\n",
    "        display(title)\n",
    "        \n",
    "    final_metrics = defaultdict(list)\n",
    "    \n",
    "    if show_cm:\n",
    "        fig, axis = plt.subplots(1, len(set_names), sharey=True, figsize=(15, 3))\n",
    "    \n",
    "    for i, set_name in enumerate(set_names):\n",
    "        assert set_name in ['train', 'validation', 'test']\n",
    "        set_data = globals()[set_name]  # <- hack feo...\n",
    "\n",
    "        y = set_data.survived\n",
    "        y_pred = model.predict(set_data)\n",
    "        final_metrics['Accuracy'].append(metrics.accuracy_score(y, y_pred))\n",
    "        final_metrics['Precision'].append(metrics.precision_score(y, y_pred))\n",
    "        final_metrics['Recall'].append(metrics.recall_score(y, y_pred))\n",
    "        final_metrics['F1'].append(metrics.f1_score(y, y_pred))\n",
    "        \n",
    "        if show_cm:\n",
    "            ax = axis[i]\n",
    "            sns.heatmap(metrics.confusion_matrix(y, y_pred), ax=ax, cmap='Blues', annot=True, fmt='.0f', cbar=False)\n",
    "\n",
    "            ax.set_title(set_name)\n",
    "            ax.xaxis.set_ticklabels(['died', 'survived'])\n",
    "            ax.yaxis.set_ticklabels(['died', 'survived'])\n",
    "            ax.set_xlabel('Predicted class')\n",
    "            ax.set_ylabel('True class')\n",
    "\n",
    "        \n",
    "    display(pd.DataFrame(final_metrics, index=set_names))\n",
    "    if show_cm:\n",
    "        plt.tight_layout()\n",
    "        plt.show()"
   ]
  },
  {
   "cell_type": "code",
   "execution_count": 35,
   "metadata": {
    "ExecuteTime": {
     "end_time": "2020-05-04T20:44:24.208772Z",
     "start_time": "2020-05-04T20:44:23.983778Z"
    }
   },
   "outputs": [
    {
     "data": {
      "text/html": [
       "<div>\n",
       "<style scoped>\n",
       "    .dataframe tbody tr th:only-of-type {\n",
       "        vertical-align: middle;\n",
       "    }\n",
       "\n",
       "    .dataframe tbody tr th {\n",
       "        vertical-align: top;\n",
       "    }\n",
       "\n",
       "    .dataframe thead th {\n",
       "        text-align: right;\n",
       "    }\n",
       "</style>\n",
       "<table border=\"1\" class=\"dataframe\">\n",
       "  <thead>\n",
       "    <tr style=\"text-align: right;\">\n",
       "      <th></th>\n",
       "      <th>Accuracy</th>\n",
       "      <th>Precision</th>\n",
       "      <th>Recall</th>\n",
       "      <th>F1</th>\n",
       "    </tr>\n",
       "  </thead>\n",
       "  <tbody>\n",
       "    <tr>\n",
       "      <th>train</th>\n",
       "      <td>0.806754</td>\n",
       "      <td>0.768362</td>\n",
       "      <td>0.686869</td>\n",
       "      <td>0.725333</td>\n",
       "    </tr>\n",
       "    <tr>\n",
       "      <th>validation</th>\n",
       "      <td>0.808989</td>\n",
       "      <td>0.739726</td>\n",
       "      <td>0.782609</td>\n",
       "      <td>0.760563</td>\n",
       "    </tr>\n",
       "  </tbody>\n",
       "</table>\n",
       "</div>"
      ],
      "text/plain": [
       "            Accuracy  Precision    Recall        F1\n",
       "train       0.806754   0.768362  0.686869  0.725333\n",
       "validation  0.808989   0.739726  0.782609  0.760563"
      ]
     },
     "metadata": {},
     "output_type": "display_data"
    },
    {
     "data": {
      "image/png": "[encoded data removed]",
      "text/plain": [
       "<Figure size 1080x216 with 2 Axes>"
      ]
     },
     "metadata": {
      "needs_background": "light"
     },
     "output_type": "display_data"
    }
   ],
   "source": [
    "evaluate_model(lr_model_si)"
   ]
  },
  {
   "cell_type": "code",
   "execution_count": 36,
   "metadata": {
    "ExecuteTime": {
     "end_time": "2020-05-04T20:44:24.220153Z",
     "start_time": "2020-05-04T20:44:24.210805Z"
    }
   },
   "outputs": [
    {
     "data": {
      "text/plain": [
       "[('mapper',\n",
       "  DataFrameMapper(drop_cols=[],\n",
       "                  features=[(['age'], [StandardScaler()]),\n",
       "                            (['siblings_spouses'], [StandardScaler()]),\n",
       "                            (['parents_children'], [StandardScaler()]),\n",
       "                            (['ticket_class'], [StandardScaler()]),\n",
       "                            (['fare'], [StandardScaler()]),\n",
       "                            (['sex'], [OneHotEncoder()]),\n",
       "                            (['embarked_at'], [OneHotEncoder()])])),\n",
       " ('imputer', SimpleImputer()),\n",
       " ('classifier', LogisticRegression(random_state=42))]"
      ]
     },
     "execution_count": 36,
     "metadata": {},
     "output_type": "execute_result"
    }
   ],
   "source": [
    "lr_model_si.steps"
   ]
  },
  {
   "cell_type": "code",
   "execution_count": 37,
   "metadata": {
    "ExecuteTime": {
     "end_time": "2020-05-04T20:44:24.385386Z",
     "start_time": "2020-05-04T20:44:24.221820Z"
    }
   },
   "outputs": [
    {
     "data": {
      "text/plain": [
       "array([[-0.64958493, -0.42053457, -0.03837994, -0.91692711,  0.04865513,\n",
       "         1.34650708, -1.3465123 ,  0.43543752, -0.17852602, -0.25691671]])"
      ]
     },
     "execution_count": 37,
     "metadata": {},
     "output_type": "execute_result"
    }
   ],
   "source": [
    "clf = lr_model_si.named_steps['classifier']\n",
    "clf.coef_  # los pesos que aprendió la regresión logística!"
   ]
  },
  {
   "cell_type": "code",
   "execution_count": 38,
   "metadata": {
    "ExecuteTime": {
     "end_time": "2020-05-04T20:44:24.385386Z",
     "start_time": "2020-05-04T20:44:24.221820Z"
    }
   },
   "outputs": [
    {
     "data": {
      "text/plain": [
       "['age',\n",
       " 'siblings_spouses',\n",
       " 'parents_children',\n",
       " 'ticket_class',\n",
       " 'fare',\n",
       " 'sex_x0_female',\n",
       " 'sex_x0_male',\n",
       " 'embarked_at_x0_C',\n",
       " 'embarked_at_x0_Q',\n",
       " 'embarked_at_x0_S']"
      ]
     },
     "execution_count": 38,
     "metadata": {},
     "output_type": "execute_result"
    }
   ],
   "source": [
    "complete_mapper.transformed_names_"
   ]
  },
  {
   "cell_type": "code",
   "execution_count": 39,
   "metadata": {
    "ExecuteTime": {
     "end_time": "2020-05-04T20:44:24.385386Z",
     "start_time": "2020-05-04T20:44:24.221820Z"
    }
   },
   "outputs": [
    {
     "data": {
      "text/plain": [
       "<AxesSubplot:>"
      ]
     },
     "execution_count": 39,
     "metadata": {},
     "output_type": "execute_result"
    },
    {
     "data": {
      "image/png": "[encoded data removed]",
      "text/plain": [
       "<Figure size 1080x288 with 1 Axes>"
      ]
     },
     "metadata": {
      "needs_background": "light"
     },
     "output_type": "display_data"
    }
   ],
   "source": [
    "sns.barplot(\n",
    "    x=clf.coef_[0],\n",
    "    y=complete_mapper.transformed_names_,\n",
    ")"
   ]
  },
  {
   "cell_type": "markdown",
   "metadata": {},
   "source": [
    "un poco más ordenado, usando un dataframe para ordenar esa data..."
   ]
  },
  {
   "cell_type": "code",
   "execution_count": 40,
   "metadata": {
    "ExecuteTime": {
     "end_time": "2020-05-04T20:44:24.385386Z",
     "start_time": "2020-05-04T20:44:24.221820Z"
    }
   },
   "outputs": [
    {
     "data": {
      "text/plain": [
       "<AxesSubplot:xlabel='coeficiente', ylabel='feature'>"
      ]
     },
     "execution_count": 40,
     "metadata": {},
     "output_type": "execute_result"
    },
    {
     "data": {
      "image/png": "[encoded data removed]",
      "text/plain": [
       "<Figure size 1080x288 with 1 Axes>"
      ]
     },
     "metadata": {
      "needs_background": "light"
     },
     "output_type": "display_data"
    }
   ],
   "source": [
    "df_importance = pd.DataFrame({\n",
    "    'feature': complete_mapper.transformed_names_, \n",
    "    'coeficiente': clf.coef_[0],\n",
    "}).sort_values(by='coeficiente')\n",
    "\n",
    "sns.barplot(data=df_importance, x='coeficiente', y='feature')"
   ]
  },
  {
   "cell_type": "code",
   "execution_count": 41,
   "metadata": {
    "ExecuteTime": {
     "end_time": "2020-05-04T20:44:24.800133Z",
     "start_time": "2020-05-04T20:44:24.387235Z"
    }
   },
   "outputs": [
    {
     "data": {
      "text/plain": [
       "'LR Simple Imputer'"
      ]
     },
     "metadata": {},
     "output_type": "display_data"
    },
    {
     "data": {
      "text/html": [
       "<div>\n",
       "<style scoped>\n",
       "    .dataframe tbody tr th:only-of-type {\n",
       "        vertical-align: middle;\n",
       "    }\n",
       "\n",
       "    .dataframe tbody tr th {\n",
       "        vertical-align: top;\n",
       "    }\n",
       "\n",
       "    .dataframe thead th {\n",
       "        text-align: right;\n",
       "    }\n",
       "</style>\n",
       "<table border=\"1\" class=\"dataframe\">\n",
       "  <thead>\n",
       "    <tr style=\"text-align: right;\">\n",
       "      <th></th>\n",
       "      <th>Accuracy</th>\n",
       "      <th>Precision</th>\n",
       "      <th>Recall</th>\n",
       "      <th>F1</th>\n",
       "    </tr>\n",
       "  </thead>\n",
       "  <tbody>\n",
       "    <tr>\n",
       "      <th>train</th>\n",
       "      <td>0.806754</td>\n",
       "      <td>0.768362</td>\n",
       "      <td>0.686869</td>\n",
       "      <td>0.725333</td>\n",
       "    </tr>\n",
       "    <tr>\n",
       "      <th>validation</th>\n",
       "      <td>0.808989</td>\n",
       "      <td>0.739726</td>\n",
       "      <td>0.782609</td>\n",
       "      <td>0.760563</td>\n",
       "    </tr>\n",
       "  </tbody>\n",
       "</table>\n",
       "</div>"
      ],
      "text/plain": [
       "            Accuracy  Precision    Recall        F1\n",
       "train       0.806754   0.768362  0.686869  0.725333\n",
       "validation  0.808989   0.739726  0.782609  0.760563"
      ]
     },
     "metadata": {},
     "output_type": "display_data"
    },
    {
     "data": {
      "image/png": "[encoded data removed]",
      "text/plain": [
       "<Figure size 1080x216 with 2 Axes>"
      ]
     },
     "metadata": {
      "needs_background": "light"
     },
     "output_type": "display_data"
    },
    {
     "data": {
      "text/plain": [
       "'LR Iterative Imputer'"
      ]
     },
     "metadata": {},
     "output_type": "display_data"
    },
    {
     "data": {
      "text/html": [
       "<div>\n",
       "<style scoped>\n",
       "    .dataframe tbody tr th:only-of-type {\n",
       "        vertical-align: middle;\n",
       "    }\n",
       "\n",
       "    .dataframe tbody tr th {\n",
       "        vertical-align: top;\n",
       "    }\n",
       "\n",
       "    .dataframe thead th {\n",
       "        text-align: right;\n",
       "    }\n",
       "</style>\n",
       "<table border=\"1\" class=\"dataframe\">\n",
       "  <thead>\n",
       "    <tr style=\"text-align: right;\">\n",
       "      <th></th>\n",
       "      <th>Accuracy</th>\n",
       "      <th>Precision</th>\n",
       "      <th>Recall</th>\n",
       "      <th>F1</th>\n",
       "    </tr>\n",
       "  </thead>\n",
       "  <tbody>\n",
       "    <tr>\n",
       "      <th>train</th>\n",
       "      <td>0.808630</td>\n",
       "      <td>0.769663</td>\n",
       "      <td>0.691919</td>\n",
       "      <td>0.728723</td>\n",
       "    </tr>\n",
       "    <tr>\n",
       "      <th>validation</th>\n",
       "      <td>0.825843</td>\n",
       "      <td>0.771429</td>\n",
       "      <td>0.782609</td>\n",
       "      <td>0.776978</td>\n",
       "    </tr>\n",
       "  </tbody>\n",
       "</table>\n",
       "</div>"
      ],
      "text/plain": [
       "            Accuracy  Precision    Recall        F1\n",
       "train       0.808630   0.769663  0.691919  0.728723\n",
       "validation  0.825843   0.771429  0.782609  0.776978"
      ]
     },
     "metadata": {},
     "output_type": "display_data"
    },
    {
     "data": {
      "image/png": "[encoded data removed]",
      "text/plain": [
       "<Figure size 1080x216 with 2 Axes>"
      ]
     },
     "metadata": {
      "needs_background": "light"
     },
     "output_type": "display_data"
    }
   ],
   "source": [
    "lr_model_ii = Pipeline([\n",
    "    ('mapper', complete_mapper),\n",
    "    ('imputer', IterativeImputer(random_state=42)),\n",
    "    ('classifier', LogisticRegression(random_state=42)),\n",
    "])\n",
    "\n",
    "lr_model_ii.fit(train, train.survived)\n",
    "\n",
    "evaluate_model(lr_model_si, title='LR Simple Imputer')\n",
    "evaluate_model(lr_model_ii, title='LR Iterative Imputer')"
   ]
  },
  {
   "cell_type": "markdown",
   "metadata": {},
   "source": [
    "# Segundo modelo: K nearest neighbors"
   ]
  },
  {
   "cell_type": "code",
   "execution_count": 42,
   "metadata": {
    "ExecuteTime": {
     "end_time": "2020-05-04T20:44:24.807938Z",
     "start_time": "2020-05-04T20:44:24.805762Z"
    }
   },
   "outputs": [],
   "source": [
    "from sklearn.neighbors import KNeighborsClassifier"
   ]
  },
  {
   "cell_type": "code",
   "execution_count": 43,
   "metadata": {
    "ExecuteTime": {
     "end_time": "2020-05-04T20:44:25.053756Z",
     "start_time": "2020-05-04T20:44:24.810777Z"
    }
   },
   "outputs": [
    {
     "data": {
      "text/plain": [
       "'Knn'"
      ]
     },
     "metadata": {},
     "output_type": "display_data"
    },
    {
     "data": {
      "text/html": [
       "<div>\n",
       "<style scoped>\n",
       "    .dataframe tbody tr th:only-of-type {\n",
       "        vertical-align: middle;\n",
       "    }\n",
       "\n",
       "    .dataframe tbody tr th {\n",
       "        vertical-align: top;\n",
       "    }\n",
       "\n",
       "    .dataframe thead th {\n",
       "        text-align: right;\n",
       "    }\n",
       "</style>\n",
       "<table border=\"1\" class=\"dataframe\">\n",
       "  <thead>\n",
       "    <tr style=\"text-align: right;\">\n",
       "      <th></th>\n",
       "      <th>Accuracy</th>\n",
       "      <th>Precision</th>\n",
       "      <th>Recall</th>\n",
       "      <th>F1</th>\n",
       "    </tr>\n",
       "  </thead>\n",
       "  <tbody>\n",
       "    <tr>\n",
       "      <th>train</th>\n",
       "      <td>0.838649</td>\n",
       "      <td>0.858974</td>\n",
       "      <td>0.676768</td>\n",
       "      <td>0.757062</td>\n",
       "    </tr>\n",
       "    <tr>\n",
       "      <th>validation</th>\n",
       "      <td>0.825843</td>\n",
       "      <td>0.806452</td>\n",
       "      <td>0.724638</td>\n",
       "      <td>0.763359</td>\n",
       "    </tr>\n",
       "  </tbody>\n",
       "</table>\n",
       "</div>"
      ],
      "text/plain": [
       "            Accuracy  Precision    Recall        F1\n",
       "train       0.838649   0.858974  0.676768  0.757062\n",
       "validation  0.825843   0.806452  0.724638  0.763359"
      ]
     },
     "metadata": {},
     "output_type": "display_data"
    },
    {
     "data": {
      "image/png": "[encoded data removed]",
      "text/plain": [
       "<Figure size 1080x216 with 2 Axes>"
      ]
     },
     "metadata": {
      "needs_background": "light"
     },
     "output_type": "display_data"
    }
   ],
   "source": [
    "K = 10\n",
    "\n",
    "knn_model = Pipeline([\n",
    "    ('mapper', complete_mapper),\n",
    "    ('imputer', IterativeImputer(random_state=42)),\n",
    "    ('classifier', KNeighborsClassifier(n_neighbors=K)),\n",
    "])\n",
    "\n",
    "knn_model.fit(train, train.survived)\n",
    "\n",
    "evaluate_model(knn_model, title='Knn')"
   ]
  },
  {
   "cell_type": "markdown",
   "metadata": {},
   "source": [
    "# Tercer modelo: Arboles de decisión"
   ]
  },
  {
   "cell_type": "code",
   "execution_count": 44,
   "metadata": {
    "ExecuteTime": {
     "end_time": "2020-05-04T20:44:25.104457Z",
     "start_time": "2020-05-04T20:44:25.055410Z"
    }
   },
   "outputs": [],
   "source": [
    "from sklearn.tree import DecisionTreeClassifier\n",
    "from sklearn.preprocessing import LabelBinarizer"
   ]
  },
  {
   "cell_type": "code",
   "execution_count": 45,
   "metadata": {
    "ExecuteTime": {
     "end_time": "2020-05-04T20:44:25.109685Z",
     "start_time": "2020-05-04T20:44:25.106366Z"
    }
   },
   "outputs": [],
   "source": [
    "label_binarizer_mapper = DataFrameMapper([\n",
    "    (['age'], [StandardScaler()]),\n",
    "    (['siblings_spouses'], [StandardScaler()]),\n",
    "    (['parents_children'], [StandardScaler()]),\n",
    "    (['ticket_class'], [StandardScaler()]),\n",
    "    (['fare'], [StandardScaler()]),\n",
    "    (['sex'], [LabelBinarizer()]),\n",
    "    (['embarked_at'], [OneHotEncoder()]),\n",
    "])"
   ]
  },
  {
   "cell_type": "code",
   "execution_count": 46,
   "metadata": {
    "ExecuteTime": {
     "end_time": "2020-05-04T20:44:25.328542Z",
     "start_time": "2020-05-04T20:44:25.111292Z"
    }
   },
   "outputs": [
    {
     "data": {
      "text/plain": [
       "'Decision Tree'"
      ]
     },
     "metadata": {},
     "output_type": "display_data"
    },
    {
     "data": {
      "text/html": [
       "<div>\n",
       "<style scoped>\n",
       "    .dataframe tbody tr th:only-of-type {\n",
       "        vertical-align: middle;\n",
       "    }\n",
       "\n",
       "    .dataframe tbody tr th {\n",
       "        vertical-align: top;\n",
       "    }\n",
       "\n",
       "    .dataframe thead th {\n",
       "        text-align: right;\n",
       "    }\n",
       "</style>\n",
       "<table border=\"1\" class=\"dataframe\">\n",
       "  <thead>\n",
       "    <tr style=\"text-align: right;\">\n",
       "      <th></th>\n",
       "      <th>Accuracy</th>\n",
       "      <th>Precision</th>\n",
       "      <th>Recall</th>\n",
       "      <th>F1</th>\n",
       "    </tr>\n",
       "  </thead>\n",
       "  <tbody>\n",
       "    <tr>\n",
       "      <th>train</th>\n",
       "      <td>0.988743</td>\n",
       "      <td>0.994845</td>\n",
       "      <td>0.974747</td>\n",
       "      <td>0.984694</td>\n",
       "    </tr>\n",
       "    <tr>\n",
       "      <th>validation</th>\n",
       "      <td>0.752809</td>\n",
       "      <td>0.671233</td>\n",
       "      <td>0.710145</td>\n",
       "      <td>0.690141</td>\n",
       "    </tr>\n",
       "  </tbody>\n",
       "</table>\n",
       "</div>"
      ],
      "text/plain": [
       "            Accuracy  Precision    Recall        F1\n",
       "train       0.988743   0.994845  0.974747  0.984694\n",
       "validation  0.752809   0.671233  0.710145  0.690141"
      ]
     },
     "metadata": {},
     "output_type": "display_data"
    },
    {
     "data": {
      "image/png": "[encoded data removed]",
      "text/plain": [
       "<Figure size 1080x216 with 2 Axes>"
      ]
     },
     "metadata": {
      "needs_background": "light"
     },
     "output_type": "display_data"
    }
   ],
   "source": [
    "tree_model = DecisionTreeClassifier(random_state=42)\n",
    "# tree_model = DecisionTreeClassifier(max_depth=3)\n",
    "\n",
    "dt_model = Pipeline([\n",
    "    ('mapper', label_binarizer_mapper),\n",
    "    ('imputer', IterativeImputer(random_state=42)),\n",
    "    ('classifier', tree_model),\n",
    "])\n",
    "\n",
    "dt_model.fit(train, train.survived)\n",
    "\n",
    "evaluate_model(dt_model, title='Decision Tree')"
   ]
  },
  {
   "cell_type": "code",
   "execution_count": 47,
   "metadata": {
    "ExecuteTime": {
     "end_time": "2020-05-04T20:44:25.544366Z",
     "start_time": "2020-05-04T20:44:25.330281Z"
    }
   },
   "outputs": [
    {
     "data": {
      "text/plain": [
       "'Decision Tree'"
      ]
     },
     "metadata": {},
     "output_type": "display_data"
    },
    {
     "data": {
      "text/html": [
       "<div>\n",
       "<style scoped>\n",
       "    .dataframe tbody tr th:only-of-type {\n",
       "        vertical-align: middle;\n",
       "    }\n",
       "\n",
       "    .dataframe tbody tr th {\n",
       "        vertical-align: top;\n",
       "    }\n",
       "\n",
       "    .dataframe thead th {\n",
       "        text-align: right;\n",
       "    }\n",
       "</style>\n",
       "<table border=\"1\" class=\"dataframe\">\n",
       "  <thead>\n",
       "    <tr style=\"text-align: right;\">\n",
       "      <th></th>\n",
       "      <th>Accuracy</th>\n",
       "      <th>Precision</th>\n",
       "      <th>Recall</th>\n",
       "      <th>F1</th>\n",
       "    </tr>\n",
       "  </thead>\n",
       "  <tbody>\n",
       "    <tr>\n",
       "      <th>train</th>\n",
       "      <td>0.833021</td>\n",
       "      <td>0.826347</td>\n",
       "      <td>0.696970</td>\n",
       "      <td>0.756164</td>\n",
       "    </tr>\n",
       "    <tr>\n",
       "      <th>validation</th>\n",
       "      <td>0.792135</td>\n",
       "      <td>0.742424</td>\n",
       "      <td>0.710145</td>\n",
       "      <td>0.725926</td>\n",
       "    </tr>\n",
       "  </tbody>\n",
       "</table>\n",
       "</div>"
      ],
      "text/plain": [
       "            Accuracy  Precision    Recall        F1\n",
       "train       0.833021   0.826347  0.696970  0.756164\n",
       "validation  0.792135   0.742424  0.710145  0.725926"
      ]
     },
     "metadata": {},
     "output_type": "display_data"
    },
    {
     "data": {
      "image/png": "[encoded data removed]",
      "text/plain": [
       "<Figure size 1080x216 with 2 Axes>"
      ]
     },
     "metadata": {
      "needs_background": "light"
     },
     "output_type": "display_data"
    }
   ],
   "source": [
    "tree_model = DecisionTreeClassifier(max_depth=3, random_state=42)\n",
    "\n",
    "dt_model = Pipeline([\n",
    "    ('mapper', label_binarizer_mapper),\n",
    "    ('imputer', IterativeImputer(random_state=42)),\n",
    "    ('classifier', tree_model),\n",
    "])\n",
    "\n",
    "dt_model.fit(train, train.survived)\n",
    "\n",
    "evaluate_model(dt_model, title='Decision Tree')"
   ]
  },
  {
   "cell_type": "code",
   "execution_count": 48,
   "metadata": {
    "ExecuteTime": {
     "end_time": "2020-05-04T20:44:25.554479Z",
     "start_time": "2020-05-04T20:44:25.546002Z"
    },
    "scrolled": true
   },
   "outputs": [],
   "source": [
    "import graphviz  # pip install graphviz\n",
    "from sklearn.tree import export_graphviz\n",
    "\n",
    "def graph_tree(tree, col_names):\n",
    "    graph_data = export_graphviz(\n",
    "        tree, \n",
    "        out_file=None, \n",
    "        feature_names=col_names,  \n",
    "        class_names=['died', 'survived'],  \n",
    "        filled=True, \n",
    "        rounded=True,  \n",
    "        special_characters=True,\n",
    "    )\n",
    "    graph = graphviz.Source(graph_data)  \n",
    "    return graph"
   ]
  },
  {
   "cell_type": "code",
   "execution_count": 49,
   "metadata": {
    "ExecuteTime": {
     "end_time": "2020-05-04T20:44:25.599548Z",
     "start_time": "2020-05-04T20:44:25.556402Z"
    },
    "scrolled": false
   },
   "outputs": [
    {
     "data": {
      "image/svg+xml": [
       "<?xml version=\"1.0\" encoding=\"UTF-8\" standalone=\"no\"?>\n",
       "<!DOCTYPE svg PUBLIC \"-//W3C//DTD SVG 1.1//EN\"\n",
       " \"http://www.w3.org/Graphics/SVG/1.1/DTD/svg11.dtd\">\n",
       "<!-- Generated by graphviz version 2.43.0 (0)\n",
       " -->\n",
       "<!-- Title: Tree Pages: 1 -->\n",
       "<svg width=\"994pt\" height=\"433pt\"\n",
       " viewBox=\"0.00 0.00 993.50 433.00\" xmlns=\"http://www.w3.org/2000/svg\" xmlns:xlink=\"http://www.w3.org/1999/xlink\">\n",
       "<g id=\"graph0\" class=\"graph\" transform=\"scale(1 1) rotate(0) translate(4 429)\">\n",
       "<title>Tree</title>\n",
       "<polygon fill=\"white\" stroke=\"transparent\" points=\"-4,4 -4,-429 989.5,-429 989.5,4 -4,4\"/>\n",
       "<!-- 0 -->\n",
       "<g id=\"node1\" class=\"node\">\n",
       "<title>0</title>\n",
       "<path fill=\"#f4cbae\" stroke=\"black\" d=\"M524,-425C524,-425 423,-425 423,-425 417,-425 411,-419 411,-413 411,-413 411,-354 411,-354 411,-348 417,-342 423,-342 423,-342 524,-342 524,-342 530,-342 536,-348 536,-354 536,-354 536,-413 536,-413 536,-419 530,-425 524,-425\"/>\n",
       "<text text-anchor=\"start\" x=\"446\" y=\"-409.8\" font-family=\"Helvetica,sans-Serif\" font-size=\"14.00\">sex ≤ 0.5</text>\n",
       "<text text-anchor=\"start\" x=\"438\" y=\"-394.8\" font-family=\"Helvetica,sans-Serif\" font-size=\"14.00\">gini = 0.467</text>\n",
       "<text text-anchor=\"start\" x=\"428.5\" y=\"-379.8\" font-family=\"Helvetica,sans-Serif\" font-size=\"14.00\">samples = 533</text>\n",
       "<text text-anchor=\"start\" x=\"419\" y=\"-364.8\" font-family=\"Helvetica,sans-Serif\" font-size=\"14.00\">value = [335, 198]</text>\n",
       "<text text-anchor=\"start\" x=\"437\" y=\"-349.8\" font-family=\"Helvetica,sans-Serif\" font-size=\"14.00\">class = died</text>\n",
       "</g>\n",
       "<!-- 1 -->\n",
       "<g id=\"node2\" class=\"node\">\n",
       "<title>1</title>\n",
       "<path fill=\"#7fbfee\" stroke=\"black\" d=\"M403,-306C403,-306 292,-306 292,-306 286,-306 280,-300 280,-294 280,-294 280,-235 280,-235 280,-229 286,-223 292,-223 292,-223 403,-223 403,-223 409,-223 415,-229 415,-235 415,-235 415,-294 415,-294 415,-300 409,-306 403,-306\"/>\n",
       "<text text-anchor=\"start\" x=\"288\" y=\"-290.8\" font-family=\"Helvetica,sans-Serif\" font-size=\"14.00\">ticket_class ≤ 0.182</text>\n",
       "<text text-anchor=\"start\" x=\"312\" y=\"-275.8\" font-family=\"Helvetica,sans-Serif\" font-size=\"14.00\">gini = 0.385</text>\n",
       "<text text-anchor=\"start\" x=\"302.5\" y=\"-260.8\" font-family=\"Helvetica,sans-Serif\" font-size=\"14.00\">samples = 177</text>\n",
       "<text text-anchor=\"start\" x=\"297\" y=\"-245.8\" font-family=\"Helvetica,sans-Serif\" font-size=\"14.00\">value = [46, 131]</text>\n",
       "<text text-anchor=\"start\" x=\"299\" y=\"-230.8\" font-family=\"Helvetica,sans-Serif\" font-size=\"14.00\">class = survived</text>\n",
       "</g>\n",
       "<!-- 0&#45;&gt;1 -->\n",
       "<g id=\"edge1\" class=\"edge\">\n",
       "<title>0&#45;&gt;1</title>\n",
       "<path fill=\"none\" stroke=\"black\" d=\"M429.78,-341.91C419.72,-332.56 408.93,-322.54 398.58,-312.93\"/>\n",
       "<polygon fill=\"black\" stroke=\"black\" points=\"400.85,-310.26 391.14,-306.02 396.08,-315.39 400.85,-310.26\"/>\n",
       "<text text-anchor=\"middle\" x=\"392.06\" y=\"-327.3\" font-family=\"Helvetica,sans-Serif\" font-size=\"14.00\">True</text>\n",
       "</g>\n",
       "<!-- 8 -->\n",
       "<g id=\"node9\" class=\"node\">\n",
       "<title>8</title>\n",
       "<path fill=\"#eb9e67\" stroke=\"black\" d=\"M641,-306C641,-306 548,-306 548,-306 542,-306 536,-300 536,-294 536,-294 536,-235 536,-235 536,-229 542,-223 548,-223 548,-223 641,-223 641,-223 647,-223 653,-229 653,-235 653,-235 653,-294 653,-294 653,-300 647,-306 641,-306\"/>\n",
       "<text text-anchor=\"start\" x=\"556.5\" y=\"-290.8\" font-family=\"Helvetica,sans-Serif\" font-size=\"14.00\">age ≤ &#45;1.795</text>\n",
       "<text text-anchor=\"start\" x=\"559\" y=\"-275.8\" font-family=\"Helvetica,sans-Serif\" font-size=\"14.00\">gini = 0.306</text>\n",
       "<text text-anchor=\"start\" x=\"549.5\" y=\"-260.8\" font-family=\"Helvetica,sans-Serif\" font-size=\"14.00\">samples = 356</text>\n",
       "<text text-anchor=\"start\" x=\"544\" y=\"-245.8\" font-family=\"Helvetica,sans-Serif\" font-size=\"14.00\">value = [289, 67]</text>\n",
       "<text text-anchor=\"start\" x=\"558\" y=\"-230.8\" font-family=\"Helvetica,sans-Serif\" font-size=\"14.00\">class = died</text>\n",
       "</g>\n",
       "<!-- 0&#45;&gt;8 -->\n",
       "<g id=\"edge8\" class=\"edge\">\n",
       "<title>0&#45;&gt;8</title>\n",
       "<path fill=\"none\" stroke=\"black\" d=\"M515.48,-341.91C525.05,-332.65 535.31,-322.73 545.16,-313.21\"/>\n",
       "<polygon fill=\"black\" stroke=\"black\" points=\"547.84,-315.49 552.59,-306.02 542.97,-310.46 547.84,-315.49\"/>\n",
       "<text text-anchor=\"middle\" x=\"552.17\" y=\"-327.32\" font-family=\"Helvetica,sans-Serif\" font-size=\"14.00\">False</text>\n",
       "</g>\n",
       "<!-- 2 -->\n",
       "<g id=\"node3\" class=\"node\">\n",
       "<title>2</title>\n",
       "<path fill=\"#3fa0e6\" stroke=\"black\" d=\"M214,-187C214,-187 125,-187 125,-187 119,-187 113,-181 113,-175 113,-175 113,-116 113,-116 113,-110 119,-104 125,-104 125,-104 214,-104 214,-104 220,-104 226,-110 226,-116 226,-116 226,-175 226,-175 226,-181 220,-187 214,-187\"/>\n",
       "<text text-anchor=\"start\" x=\"131\" y=\"-171.8\" font-family=\"Helvetica,sans-Serif\" font-size=\"14.00\">fare ≤ &#45;0.401</text>\n",
       "<text text-anchor=\"start\" x=\"134\" y=\"-156.8\" font-family=\"Helvetica,sans-Serif\" font-size=\"14.00\">gini = 0.061</text>\n",
       "<text text-anchor=\"start\" x=\"128.5\" y=\"-141.8\" font-family=\"Helvetica,sans-Serif\" font-size=\"14.00\">samples = 95</text>\n",
       "<text text-anchor=\"start\" x=\"126.5\" y=\"-126.8\" font-family=\"Helvetica,sans-Serif\" font-size=\"14.00\">value = [3, 92]</text>\n",
       "<text text-anchor=\"start\" x=\"121\" y=\"-111.8\" font-family=\"Helvetica,sans-Serif\" font-size=\"14.00\">class = survived</text>\n",
       "</g>\n",
       "<!-- 1&#45;&gt;2 -->\n",
       "<g id=\"edge2\" class=\"edge\">\n",
       "<title>1&#45;&gt;2</title>\n",
       "<path fill=\"none\" stroke=\"black\" d=\"M285.74,-222.91C269.24,-212.06 251.36,-200.3 234.67,-189.34\"/>\n",
       "<polygon fill=\"black\" stroke=\"black\" points=\"236.35,-186.26 226.08,-183.69 232.51,-192.1 236.35,-186.26\"/>\n",
       "</g>\n",
       "<!-- 5 -->\n",
       "<g id=\"node6\" class=\"node\">\n",
       "<title>5</title>\n",
       "<path fill=\"#fdf3ed\" stroke=\"black\" d=\"M390.5,-187C390.5,-187 304.5,-187 304.5,-187 298.5,-187 292.5,-181 292.5,-175 292.5,-175 292.5,-116 292.5,-116 292.5,-110 298.5,-104 304.5,-104 304.5,-104 390.5,-104 390.5,-104 396.5,-104 402.5,-110 402.5,-116 402.5,-116 402.5,-175 402.5,-175 402.5,-181 396.5,-187 390.5,-187\"/>\n",
       "<text text-anchor=\"start\" x=\"309\" y=\"-171.8\" font-family=\"Helvetica,sans-Serif\" font-size=\"14.00\">fare ≤ &#45;0.185</text>\n",
       "<text text-anchor=\"start\" x=\"312\" y=\"-156.8\" font-family=\"Helvetica,sans-Serif\" font-size=\"14.00\">gini = 0.499</text>\n",
       "<text text-anchor=\"start\" x=\"306.5\" y=\"-141.8\" font-family=\"Helvetica,sans-Serif\" font-size=\"14.00\">samples = 82</text>\n",
       "<text text-anchor=\"start\" x=\"300.5\" y=\"-126.8\" font-family=\"Helvetica,sans-Serif\" font-size=\"14.00\">value = [43, 39]</text>\n",
       "<text text-anchor=\"start\" x=\"311\" y=\"-111.8\" font-family=\"Helvetica,sans-Serif\" font-size=\"14.00\">class = died</text>\n",
       "</g>\n",
       "<!-- 1&#45;&gt;5 -->\n",
       "<g id=\"edge5\" class=\"edge\">\n",
       "<title>1&#45;&gt;5</title>\n",
       "<path fill=\"none\" stroke=\"black\" d=\"M347.5,-222.91C347.5,-214.65 347.5,-205.86 347.5,-197.3\"/>\n",
       "<polygon fill=\"black\" stroke=\"black\" points=\"351,-197.02 347.5,-187.02 344,-197.02 351,-197.02\"/>\n",
       "</g>\n",
       "<!-- 3 -->\n",
       "<g id=\"node4\" class=\"node\">\n",
       "<title>3</title>\n",
       "<path fill=\"#ffffff\" stroke=\"black\" d=\"M83,-68C83,-68 12,-68 12,-68 6,-68 0,-62 0,-56 0,-56 0,-12 0,-12 0,-6 6,0 12,0 12,0 83,0 83,0 89,0 95,-6 95,-12 95,-12 95,-56 95,-56 95,-62 89,-68 83,-68\"/>\n",
       "<text text-anchor=\"start\" x=\"19.5\" y=\"-52.8\" font-family=\"Helvetica,sans-Serif\" font-size=\"14.00\">gini = 0.5</text>\n",
       "<text text-anchor=\"start\" x=\"10\" y=\"-37.8\" font-family=\"Helvetica,sans-Serif\" font-size=\"14.00\">samples = 2</text>\n",
       "<text text-anchor=\"start\" x=\"8\" y=\"-22.8\" font-family=\"Helvetica,sans-Serif\" font-size=\"14.00\">value = [1, 1]</text>\n",
       "<text text-anchor=\"start\" x=\"11\" y=\"-7.8\" font-family=\"Helvetica,sans-Serif\" font-size=\"14.00\">class = died</text>\n",
       "</g>\n",
       "<!-- 2&#45;&gt;3 -->\n",
       "<g id=\"edge3\" class=\"edge\">\n",
       "<title>2&#45;&gt;3</title>\n",
       "<path fill=\"none\" stroke=\"black\" d=\"M124.07,-103.73C113.6,-94.33 102.48,-84.35 92.05,-74.99\"/>\n",
       "<polygon fill=\"black\" stroke=\"black\" points=\"94.38,-72.37 84.6,-68.3 89.71,-77.58 94.38,-72.37\"/>\n",
       "</g>\n",
       "<!-- 4 -->\n",
       "<g id=\"node5\" class=\"node\">\n",
       "<title>4</title>\n",
       "<path fill=\"#3d9fe6\" stroke=\"black\" d=\"M214,-68C214,-68 125,-68 125,-68 119,-68 113,-62 113,-56 113,-56 113,-12 113,-12 113,-6 119,0 125,0 125,0 214,0 214,0 220,0 226,-6 226,-12 226,-12 226,-56 226,-56 226,-62 220,-68 214,-68\"/>\n",
       "<text text-anchor=\"start\" x=\"134\" y=\"-52.8\" font-family=\"Helvetica,sans-Serif\" font-size=\"14.00\">gini = 0.042</text>\n",
       "<text text-anchor=\"start\" x=\"128.5\" y=\"-37.8\" font-family=\"Helvetica,sans-Serif\" font-size=\"14.00\">samples = 93</text>\n",
       "<text text-anchor=\"start\" x=\"126.5\" y=\"-22.8\" font-family=\"Helvetica,sans-Serif\" font-size=\"14.00\">value = [2, 91]</text>\n",
       "<text text-anchor=\"start\" x=\"121\" y=\"-7.8\" font-family=\"Helvetica,sans-Serif\" font-size=\"14.00\">class = survived</text>\n",
       "</g>\n",
       "<!-- 2&#45;&gt;4 -->\n",
       "<g id=\"edge4\" class=\"edge\">\n",
       "<title>2&#45;&gt;4</title>\n",
       "<path fill=\"none\" stroke=\"black\" d=\"M169.5,-103.73C169.5,-95.52 169.5,-86.86 169.5,-78.56\"/>\n",
       "<polygon fill=\"black\" stroke=\"black\" points=\"173,-78.3 169.5,-68.3 166,-78.3 173,-78.3\"/>\n",
       "</g>\n",
       "<!-- 6 -->\n",
       "<g id=\"node7\" class=\"node\">\n",
       "<title>6</title>\n",
       "<path fill=\"#c6e3f7\" stroke=\"black\" d=\"M345,-68C345,-68 256,-68 256,-68 250,-68 244,-62 244,-56 244,-56 244,-12 244,-12 244,-6 250,0 256,0 256,0 345,0 345,0 351,0 357,-6 357,-12 357,-12 357,-56 357,-56 357,-62 351,-68 345,-68\"/>\n",
       "<text text-anchor=\"start\" x=\"265\" y=\"-52.8\" font-family=\"Helvetica,sans-Serif\" font-size=\"14.00\">gini = 0.486</text>\n",
       "<text text-anchor=\"start\" x=\"259.5\" y=\"-37.8\" font-family=\"Helvetica,sans-Serif\" font-size=\"14.00\">samples = 65</text>\n",
       "<text text-anchor=\"start\" x=\"253.5\" y=\"-22.8\" font-family=\"Helvetica,sans-Serif\" font-size=\"14.00\">value = [27, 38]</text>\n",
       "<text text-anchor=\"start\" x=\"252\" y=\"-7.8\" font-family=\"Helvetica,sans-Serif\" font-size=\"14.00\">class = survived</text>\n",
       "</g>\n",
       "<!-- 5&#45;&gt;6 -->\n",
       "<g id=\"edge6\" class=\"edge\">\n",
       "<title>5&#45;&gt;6</title>\n",
       "<path fill=\"none\" stroke=\"black\" d=\"M330,-103.73C326.36,-95.24 322.51,-86.28 318.84,-77.73\"/>\n",
       "<polygon fill=\"black\" stroke=\"black\" points=\"321.95,-76.11 314.79,-68.3 315.52,-78.87 321.95,-76.11\"/>\n",
       "</g>\n",
       "<!-- 7 -->\n",
       "<g id=\"node8\" class=\"node\">\n",
       "<title>7</title>\n",
       "<path fill=\"#e78945\" stroke=\"black\" d=\"M465.5,-68C465.5,-68 387.5,-68 387.5,-68 381.5,-68 375.5,-62 375.5,-56 375.5,-56 375.5,-12 375.5,-12 375.5,-6 381.5,0 387.5,0 387.5,0 465.5,0 465.5,0 471.5,0 477.5,-6 477.5,-12 477.5,-12 477.5,-56 477.5,-56 477.5,-62 471.5,-68 465.5,-68\"/>\n",
       "<text text-anchor=\"start\" x=\"391.5\" y=\"-52.8\" font-family=\"Helvetica,sans-Serif\" font-size=\"14.00\">gini = 0.111</text>\n",
       "<text text-anchor=\"start\" x=\"385.5\" y=\"-37.8\" font-family=\"Helvetica,sans-Serif\" font-size=\"14.00\">samples = 17</text>\n",
       "<text text-anchor=\"start\" x=\"383.5\" y=\"-22.8\" font-family=\"Helvetica,sans-Serif\" font-size=\"14.00\">value = [16, 1]</text>\n",
       "<text text-anchor=\"start\" x=\"390\" y=\"-7.8\" font-family=\"Helvetica,sans-Serif\" font-size=\"14.00\">class = died</text>\n",
       "</g>\n",
       "<!-- 5&#45;&gt;7 -->\n",
       "<g id=\"edge7\" class=\"edge\">\n",
       "<title>5&#45;&gt;7</title>\n",
       "<path fill=\"none\" stroke=\"black\" d=\"M376.92,-103.73C383.3,-94.88 390.06,-85.51 396.47,-76.63\"/>\n",
       "<polygon fill=\"black\" stroke=\"black\" points=\"399.46,-78.46 402.48,-68.3 393.79,-74.36 399.46,-78.46\"/>\n",
       "</g>\n",
       "<!-- 9 -->\n",
       "<g id=\"node10\" class=\"node\">\n",
       "<title>9</title>\n",
       "<path fill=\"#a7d3f3\" stroke=\"black\" d=\"M666.5,-187C666.5,-187 522.5,-187 522.5,-187 516.5,-187 510.5,-181 510.5,-175 510.5,-175 510.5,-116 510.5,-116 510.5,-110 516.5,-104 522.5,-104 522.5,-104 666.5,-104 666.5,-104 672.5,-104 678.5,-110 678.5,-116 678.5,-116 678.5,-175 678.5,-175 678.5,-181 672.5,-187 666.5,-187\"/>\n",
       "<text text-anchor=\"start\" x=\"518.5\" y=\"-171.8\" font-family=\"Helvetica,sans-Serif\" font-size=\"14.00\">siblings_spouses ≤ 1.789</text>\n",
       "<text text-anchor=\"start\" x=\"559\" y=\"-156.8\" font-family=\"Helvetica,sans-Serif\" font-size=\"14.00\">gini = 0.459</text>\n",
       "<text text-anchor=\"start\" x=\"553.5\" y=\"-141.8\" font-family=\"Helvetica,sans-Serif\" font-size=\"14.00\">samples = 14</text>\n",
       "<text text-anchor=\"start\" x=\"555\" y=\"-126.8\" font-family=\"Helvetica,sans-Serif\" font-size=\"14.00\">value = [5, 9]</text>\n",
       "<text text-anchor=\"start\" x=\"546\" y=\"-111.8\" font-family=\"Helvetica,sans-Serif\" font-size=\"14.00\">class = survived</text>\n",
       "</g>\n",
       "<!-- 8&#45;&gt;9 -->\n",
       "<g id=\"edge9\" class=\"edge\">\n",
       "<title>8&#45;&gt;9</title>\n",
       "<path fill=\"none\" stroke=\"black\" d=\"M594.5,-222.91C594.5,-214.65 594.5,-205.86 594.5,-197.3\"/>\n",
       "<polygon fill=\"black\" stroke=\"black\" points=\"598,-197.02 594.5,-187.02 591,-197.02 598,-197.02\"/>\n",
       "</g>\n",
       "<!-- 12 -->\n",
       "<g id=\"node13\" class=\"node\">\n",
       "<title>12</title>\n",
       "<path fill=\"#ea9b61\" stroke=\"black\" d=\"M845,-187C845,-187 752,-187 752,-187 746,-187 740,-181 740,-175 740,-175 740,-116 740,-116 740,-110 746,-104 752,-104 752,-104 845,-104 845,-104 851,-104 857,-110 857,-116 857,-116 857,-175 857,-175 857,-181 851,-187 845,-187\"/>\n",
       "<text text-anchor=\"start\" x=\"760\" y=\"-171.8\" font-family=\"Helvetica,sans-Serif\" font-size=\"14.00\">fare ≤ &#45;0.131</text>\n",
       "<text text-anchor=\"start\" x=\"763\" y=\"-156.8\" font-family=\"Helvetica,sans-Serif\" font-size=\"14.00\">gini = 0.282</text>\n",
       "<text text-anchor=\"start\" x=\"753.5\" y=\"-141.8\" font-family=\"Helvetica,sans-Serif\" font-size=\"14.00\">samples = 342</text>\n",
       "<text text-anchor=\"start\" x=\"748\" y=\"-126.8\" font-family=\"Helvetica,sans-Serif\" font-size=\"14.00\">value = [284, 58]</text>\n",
       "<text text-anchor=\"start\" x=\"762\" y=\"-111.8\" font-family=\"Helvetica,sans-Serif\" font-size=\"14.00\">class = died</text>\n",
       "</g>\n",
       "<!-- 8&#45;&gt;12 -->\n",
       "<g id=\"edge12\" class=\"edge\">\n",
       "<title>8&#45;&gt;12</title>\n",
       "<path fill=\"none\" stroke=\"black\" d=\"M653.23,-229.82C677.55,-215.87 705.91,-199.61 731.07,-185.17\"/>\n",
       "<polygon fill=\"black\" stroke=\"black\" points=\"732.9,-188.16 739.83,-180.15 729.41,-182.09 732.9,-188.16\"/>\n",
       "</g>\n",
       "<!-- 10 -->\n",
       "<g id=\"node11\" class=\"node\">\n",
       "<title>10</title>\n",
       "<path fill=\"#399de5\" stroke=\"black\" d=\"M597,-68C597,-68 508,-68 508,-68 502,-68 496,-62 496,-56 496,-56 496,-12 496,-12 496,-6 502,0 508,0 508,0 597,0 597,0 603,0 609,-6 609,-12 609,-12 609,-56 609,-56 609,-62 603,-68 597,-68\"/>\n",
       "<text text-anchor=\"start\" x=\"524.5\" y=\"-52.8\" font-family=\"Helvetica,sans-Serif\" font-size=\"14.00\">gini = 0.0</text>\n",
       "<text text-anchor=\"start\" x=\"515\" y=\"-37.8\" font-family=\"Helvetica,sans-Serif\" font-size=\"14.00\">samples = 9</text>\n",
       "<text text-anchor=\"start\" x=\"513\" y=\"-22.8\" font-family=\"Helvetica,sans-Serif\" font-size=\"14.00\">value = [0, 9]</text>\n",
       "<text text-anchor=\"start\" x=\"504\" y=\"-7.8\" font-family=\"Helvetica,sans-Serif\" font-size=\"14.00\">class = survived</text>\n",
       "</g>\n",
       "<!-- 9&#45;&gt;10 -->\n",
       "<g id=\"edge10\" class=\"edge\">\n",
       "<title>9&#45;&gt;10</title>\n",
       "<path fill=\"none\" stroke=\"black\" d=\"M578.86,-103.73C575.61,-95.24 572.17,-86.28 568.89,-77.73\"/>\n",
       "<polygon fill=\"black\" stroke=\"black\" points=\"572.12,-76.38 565.27,-68.3 565.59,-78.89 572.12,-76.38\"/>\n",
       "</g>\n",
       "<!-- 11 -->\n",
       "<g id=\"node12\" class=\"node\">\n",
       "<title>11</title>\n",
       "<path fill=\"#e58139\" stroke=\"black\" d=\"M710,-68C710,-68 639,-68 639,-68 633,-68 627,-62 627,-56 627,-56 627,-12 627,-12 627,-6 633,0 639,0 639,0 710,0 710,0 716,0 722,-6 722,-12 722,-12 722,-56 722,-56 722,-62 716,-68 710,-68\"/>\n",
       "<text text-anchor=\"start\" x=\"646.5\" y=\"-52.8\" font-family=\"Helvetica,sans-Serif\" font-size=\"14.00\">gini = 0.0</text>\n",
       "<text text-anchor=\"start\" x=\"637\" y=\"-37.8\" font-family=\"Helvetica,sans-Serif\" font-size=\"14.00\">samples = 5</text>\n",
       "<text text-anchor=\"start\" x=\"635\" y=\"-22.8\" font-family=\"Helvetica,sans-Serif\" font-size=\"14.00\">value = [5, 0]</text>\n",
       "<text text-anchor=\"start\" x=\"638\" y=\"-7.8\" font-family=\"Helvetica,sans-Serif\" font-size=\"14.00\">class = died</text>\n",
       "</g>\n",
       "<!-- 9&#45;&gt;11 -->\n",
       "<g id=\"edge11\" class=\"edge\">\n",
       "<title>9&#45;&gt;11</title>\n",
       "<path fill=\"none\" stroke=\"black\" d=\"M624.29,-103.73C630.75,-94.88 637.6,-85.51 644.09,-76.63\"/>\n",
       "<polygon fill=\"black\" stroke=\"black\" points=\"647.1,-78.44 650.17,-68.3 641.45,-74.31 647.1,-78.44\"/>\n",
       "</g>\n",
       "<!-- 13 -->\n",
       "<g id=\"node14\" class=\"node\">\n",
       "<title>13</title>\n",
       "<path fill=\"#e89253\" stroke=\"black\" d=\"M845,-68C845,-68 752,-68 752,-68 746,-68 740,-62 740,-56 740,-56 740,-12 740,-12 740,-6 746,0 752,0 752,0 845,0 845,0 851,0 857,-6 857,-12 857,-12 857,-56 857,-56 857,-62 851,-68 845,-68\"/>\n",
       "<text text-anchor=\"start\" x=\"763\" y=\"-52.8\" font-family=\"Helvetica,sans-Serif\" font-size=\"14.00\">gini = 0.207</text>\n",
       "<text text-anchor=\"start\" x=\"753.5\" y=\"-37.8\" font-family=\"Helvetica,sans-Serif\" font-size=\"14.00\">samples = 256</text>\n",
       "<text text-anchor=\"start\" x=\"748\" y=\"-22.8\" font-family=\"Helvetica,sans-Serif\" font-size=\"14.00\">value = [226, 30]</text>\n",
       "<text text-anchor=\"start\" x=\"762\" y=\"-7.8\" font-family=\"Helvetica,sans-Serif\" font-size=\"14.00\">class = died</text>\n",
       "</g>\n",
       "<!-- 12&#45;&gt;13 -->\n",
       "<g id=\"edge13\" class=\"edge\">\n",
       "<title>12&#45;&gt;13</title>\n",
       "<path fill=\"none\" stroke=\"black\" d=\"M798.5,-103.73C798.5,-95.52 798.5,-86.86 798.5,-78.56\"/>\n",
       "<polygon fill=\"black\" stroke=\"black\" points=\"802,-78.3 798.5,-68.3 795,-78.3 802,-78.3\"/>\n",
       "</g>\n",
       "<!-- 14 -->\n",
       "<g id=\"node15\" class=\"node\">\n",
       "<title>14</title>\n",
       "<path fill=\"#f2be99\" stroke=\"black\" d=\"M973.5,-68C973.5,-68 887.5,-68 887.5,-68 881.5,-68 875.5,-62 875.5,-56 875.5,-56 875.5,-12 875.5,-12 875.5,-6 881.5,0 887.5,0 887.5,0 973.5,0 973.5,0 979.5,0 985.5,-6 985.5,-12 985.5,-12 985.5,-56 985.5,-56 985.5,-62 979.5,-68 973.5,-68\"/>\n",
       "<text text-anchor=\"start\" x=\"895\" y=\"-52.8\" font-family=\"Helvetica,sans-Serif\" font-size=\"14.00\">gini = 0.439</text>\n",
       "<text text-anchor=\"start\" x=\"889.5\" y=\"-37.8\" font-family=\"Helvetica,sans-Serif\" font-size=\"14.00\">samples = 86</text>\n",
       "<text text-anchor=\"start\" x=\"883.5\" y=\"-22.8\" font-family=\"Helvetica,sans-Serif\" font-size=\"14.00\">value = [58, 28]</text>\n",
       "<text text-anchor=\"start\" x=\"894\" y=\"-7.8\" font-family=\"Helvetica,sans-Serif\" font-size=\"14.00\">class = died</text>\n",
       "</g>\n",
       "<!-- 12&#45;&gt;14 -->\n",
       "<g id=\"edge14\" class=\"edge\">\n",
       "<title>12&#45;&gt;14</title>\n",
       "<path fill=\"none\" stroke=\"black\" d=\"M847.65,-103.73C859.09,-94.24 871.24,-84.16 882.62,-74.72\"/>\n",
       "<polygon fill=\"black\" stroke=\"black\" points=\"884.9,-77.38 890.36,-68.3 880.43,-71.99 884.9,-77.38\"/>\n",
       "</g>\n",
       "</g>\n",
       "</svg>\n"
      ],
      "text/plain": [
       "<graphviz.files.Source at 0x7fbc6e94f5e0>"
      ]
     },
     "execution_count": 49,
     "metadata": {},
     "output_type": "execute_result"
    }
   ],
   "source": [
    "graph_tree(tree_model, label_binarizer_mapper.transformed_names_)"
   ]
  },
  {
   "cell_type": "markdown",
   "metadata": {},
   "source": [
    "# Cuarto modelo: Random Forests"
   ]
  },
  {
   "cell_type": "code",
   "execution_count": 50,
   "metadata": {
    "ExecuteTime": {
     "end_time": "2020-05-04T20:44:25.612373Z",
     "start_time": "2020-05-04T20:44:25.601199Z"
    }
   },
   "outputs": [],
   "source": [
    "from sklearn.ensemble import RandomForestClassifier"
   ]
  },
  {
   "cell_type": "code",
   "execution_count": 51,
   "metadata": {
    "ExecuteTime": {
     "end_time": "2020-05-04T20:44:25.989421Z",
     "start_time": "2020-05-04T20:44:25.614430Z"
    }
   },
   "outputs": [
    {
     "data": {
      "text/plain": [
       "'Random Forest'"
      ]
     },
     "metadata": {},
     "output_type": "display_data"
    },
    {
     "data": {
      "text/html": [
       "<div>\n",
       "<style scoped>\n",
       "    .dataframe tbody tr th:only-of-type {\n",
       "        vertical-align: middle;\n",
       "    }\n",
       "\n",
       "    .dataframe tbody tr th {\n",
       "        vertical-align: top;\n",
       "    }\n",
       "\n",
       "    .dataframe thead th {\n",
       "        text-align: right;\n",
       "    }\n",
       "</style>\n",
       "<table border=\"1\" class=\"dataframe\">\n",
       "  <thead>\n",
       "    <tr style=\"text-align: right;\">\n",
       "      <th></th>\n",
       "      <th>Accuracy</th>\n",
       "      <th>Precision</th>\n",
       "      <th>Recall</th>\n",
       "      <th>F1</th>\n",
       "    </tr>\n",
       "  </thead>\n",
       "  <tbody>\n",
       "    <tr>\n",
       "      <th>train</th>\n",
       "      <td>0.988743</td>\n",
       "      <td>0.989796</td>\n",
       "      <td>0.979798</td>\n",
       "      <td>0.984772</td>\n",
       "    </tr>\n",
       "    <tr>\n",
       "      <th>validation</th>\n",
       "      <td>0.792135</td>\n",
       "      <td>0.728571</td>\n",
       "      <td>0.739130</td>\n",
       "      <td>0.733813</td>\n",
       "    </tr>\n",
       "  </tbody>\n",
       "</table>\n",
       "</div>"
      ],
      "text/plain": [
       "            Accuracy  Precision    Recall        F1\n",
       "train       0.988743   0.989796  0.979798  0.984772\n",
       "validation  0.792135   0.728571  0.739130  0.733813"
      ]
     },
     "metadata": {},
     "output_type": "display_data"
    },
    {
     "data": {
      "image/png": "[encoded data removed]",
      "text/plain": [
       "<Figure size 1080x216 with 2 Axes>"
      ]
     },
     "metadata": {
      "needs_background": "light"
     },
     "output_type": "display_data"
    }
   ],
   "source": [
    "forest_model = RandomForestClassifier(random_state=42)\n",
    "# n_estimators? max_depth=3?, max_features=2?\n",
    "\n",
    "rf_model = Pipeline([\n",
    "    ('mapper', label_binarizer_mapper),\n",
    "    ('imputer', IterativeImputer(random_state=42)),\n",
    "    ('classifier', forest_model),\n",
    "])\n",
    "\n",
    "rf_model.fit(train, train.survived)\n",
    "\n",
    "evaluate_model(rf_model, title='Random Forest')"
   ]
  },
  {
   "cell_type": "code",
   "execution_count": 52,
   "metadata": {
    "ExecuteTime": {
     "end_time": "2020-05-04T20:44:26.370904Z",
     "start_time": "2020-05-04T20:44:25.991029Z"
    }
   },
   "outputs": [
    {
     "data": {
      "text/plain": [
       "'Random Forest'"
      ]
     },
     "metadata": {},
     "output_type": "display_data"
    },
    {
     "data": {
      "text/html": [
       "<div>\n",
       "<style scoped>\n",
       "    .dataframe tbody tr th:only-of-type {\n",
       "        vertical-align: middle;\n",
       "    }\n",
       "\n",
       "    .dataframe tbody tr th {\n",
       "        vertical-align: top;\n",
       "    }\n",
       "\n",
       "    .dataframe thead th {\n",
       "        text-align: right;\n",
       "    }\n",
       "</style>\n",
       "<table border=\"1\" class=\"dataframe\">\n",
       "  <thead>\n",
       "    <tr style=\"text-align: right;\">\n",
       "      <th></th>\n",
       "      <th>Accuracy</th>\n",
       "      <th>Precision</th>\n",
       "      <th>Recall</th>\n",
       "      <th>F1</th>\n",
       "    </tr>\n",
       "  </thead>\n",
       "  <tbody>\n",
       "    <tr>\n",
       "      <th>train</th>\n",
       "      <td>0.833021</td>\n",
       "      <td>0.909774</td>\n",
       "      <td>0.611111</td>\n",
       "      <td>0.731118</td>\n",
       "    </tr>\n",
       "    <tr>\n",
       "      <th>validation</th>\n",
       "      <td>0.820225</td>\n",
       "      <td>0.877551</td>\n",
       "      <td>0.623188</td>\n",
       "      <td>0.728814</td>\n",
       "    </tr>\n",
       "  </tbody>\n",
       "</table>\n",
       "</div>"
      ],
      "text/plain": [
       "            Accuracy  Precision    Recall        F1\n",
       "train       0.833021   0.909774  0.611111  0.731118\n",
       "validation  0.820225   0.877551  0.623188  0.728814"
      ]
     },
     "metadata": {},
     "output_type": "display_data"
    },
    {
     "data": {
      "image/png": "[encoded data removed]",
      "text/plain": [
       "<Figure size 1080x216 with 2 Axes>"
      ]
     },
     "metadata": {
      "needs_background": "light"
     },
     "output_type": "display_data"
    },
    {
     "data": {
      "image/svg+xml": [
       "<?xml version=\"1.0\" encoding=\"UTF-8\" standalone=\"no\"?>\n",
       "<!DOCTYPE svg PUBLIC \"-//W3C//DTD SVG 1.1//EN\"\n",
       " \"http://www.w3.org/Graphics/SVG/1.1/DTD/svg11.dtd\">\n",
       "<!-- Generated by graphviz version 2.43.0 (0)\n",
       " -->\n",
       "<!-- Title: Tree Pages: 1 -->\n",
       "<svg width=\"795pt\" height=\"433pt\"\n",
       " viewBox=\"0.00 0.00 794.50 433.00\" xmlns=\"http://www.w3.org/2000/svg\" xmlns:xlink=\"http://www.w3.org/1999/xlink\">\n",
       "<g id=\"graph0\" class=\"graph\" transform=\"scale(1 1) rotate(0) translate(4 429)\">\n",
       "<title>Tree</title>\n",
       "<polygon fill=\"white\" stroke=\"transparent\" points=\"-4,4 -4,-429 790.5,-429 790.5,4 -4,4\"/>\n",
       "<!-- 0 -->\n",
       "<g id=\"node1\" class=\"node\">\n",
       "<title>0</title>\n",
       "<path fill=\"#f4caac\" stroke=\"black\" d=\"M366.5,-425C366.5,-425 250.5,-425 250.5,-425 244.5,-425 238.5,-419 238.5,-413 238.5,-413 238.5,-354 238.5,-354 238.5,-348 244.5,-342 250.5,-342 250.5,-342 366.5,-342 366.5,-342 372.5,-342 378.5,-348 378.5,-354 378.5,-354 378.5,-413 378.5,-413 378.5,-419 372.5,-425 366.5,-425\"/>\n",
       "<text text-anchor=\"start\" x=\"246.5\" y=\"-409.8\" font-family=\"Helvetica,sans-Serif\" font-size=\"14.00\">ticket_class ≤ &#45;1.036</text>\n",
       "<text text-anchor=\"start\" x=\"273\" y=\"-394.8\" font-family=\"Helvetica,sans-Serif\" font-size=\"14.00\">gini = 0.465</text>\n",
       "<text text-anchor=\"start\" x=\"263.5\" y=\"-379.8\" font-family=\"Helvetica,sans-Serif\" font-size=\"14.00\">samples = 340</text>\n",
       "<text text-anchor=\"start\" x=\"254\" y=\"-364.8\" font-family=\"Helvetica,sans-Serif\" font-size=\"14.00\">value = [337, 196]</text>\n",
       "<text text-anchor=\"start\" x=\"272\" y=\"-349.8\" font-family=\"Helvetica,sans-Serif\" font-size=\"14.00\">class = died</text>\n",
       "</g>\n",
       "<!-- 1 -->\n",
       "<g id=\"node2\" class=\"node\">\n",
       "<title>1</title>\n",
       "<path fill=\"#a4d2f3\" stroke=\"black\" d=\"M260,-306C260,-306 171,-306 171,-306 165,-306 159,-300 159,-294 159,-294 159,-235 159,-235 159,-229 165,-223 171,-223 171,-223 260,-223 260,-223 266,-223 272,-229 272,-235 272,-235 272,-294 272,-294 272,-300 266,-306 260,-306\"/>\n",
       "<text text-anchor=\"start\" x=\"188\" y=\"-290.8\" font-family=\"Helvetica,sans-Serif\" font-size=\"14.00\">sex ≤ 0.5</text>\n",
       "<text text-anchor=\"start\" x=\"180\" y=\"-275.8\" font-family=\"Helvetica,sans-Serif\" font-size=\"14.00\">gini = 0.455</text>\n",
       "<text text-anchor=\"start\" x=\"174.5\" y=\"-260.8\" font-family=\"Helvetica,sans-Serif\" font-size=\"14.00\">samples = 81</text>\n",
       "<text text-anchor=\"start\" x=\"168.5\" y=\"-245.8\" font-family=\"Helvetica,sans-Serif\" font-size=\"14.00\">value = [47, 87]</text>\n",
       "<text text-anchor=\"start\" x=\"167\" y=\"-230.8\" font-family=\"Helvetica,sans-Serif\" font-size=\"14.00\">class = survived</text>\n",
       "</g>\n",
       "<!-- 0&#45;&gt;1 -->\n",
       "<g id=\"edge1\" class=\"edge\">\n",
       "<title>0&#45;&gt;1</title>\n",
       "<path fill=\"none\" stroke=\"black\" d=\"M276.23,-341.91C269.09,-332.92 261.46,-323.32 254.09,-314.05\"/>\n",
       "<polygon fill=\"black\" stroke=\"black\" points=\"256.67,-311.67 247.71,-306.02 251.19,-316.03 256.67,-311.67\"/>\n",
       "<text text-anchor=\"middle\" x=\"244.87\" y=\"-327.16\" font-family=\"Helvetica,sans-Serif\" font-size=\"14.00\">True</text>\n",
       "</g>\n",
       "<!-- 6 -->\n",
       "<g id=\"node7\" class=\"node\">\n",
       "<title>6</title>\n",
       "<path fill=\"#efb083\" stroke=\"black\" d=\"M497,-306C497,-306 356,-306 356,-306 350,-306 344,-300 344,-294 344,-294 344,-235 344,-235 344,-229 350,-223 356,-223 356,-223 497,-223 497,-223 503,-223 509,-229 509,-235 509,-235 509,-294 509,-294 509,-300 503,-306 497,-306\"/>\n",
       "<text text-anchor=\"start\" x=\"352\" y=\"-290.8\" font-family=\"Helvetica,sans-Serif\" font-size=\"14.00\">parents_children ≤ 0.093</text>\n",
       "<text text-anchor=\"start\" x=\"391\" y=\"-275.8\" font-family=\"Helvetica,sans-Serif\" font-size=\"14.00\">gini = 0.397</text>\n",
       "<text text-anchor=\"start\" x=\"381.5\" y=\"-260.8\" font-family=\"Helvetica,sans-Serif\" font-size=\"14.00\">samples = 259</text>\n",
       "<text text-anchor=\"start\" x=\"372\" y=\"-245.8\" font-family=\"Helvetica,sans-Serif\" font-size=\"14.00\">value = [290, 109]</text>\n",
       "<text text-anchor=\"start\" x=\"390\" y=\"-230.8\" font-family=\"Helvetica,sans-Serif\" font-size=\"14.00\">class = died</text>\n",
       "</g>\n",
       "<!-- 0&#45;&gt;6 -->\n",
       "<g id=\"edge6\" class=\"edge\">\n",
       "<title>0&#45;&gt;6</title>\n",
       "<path fill=\"none\" stroke=\"black\" d=\"M349.44,-341.91C358.78,-332.65 368.78,-322.73 378.38,-313.21\"/>\n",
       "<polygon fill=\"black\" stroke=\"black\" points=\"381,-315.55 385.63,-306.02 376.07,-310.58 381,-315.55\"/>\n",
       "<text text-anchor=\"middle\" x=\"385.53\" y=\"-327.32\" font-family=\"Helvetica,sans-Serif\" font-size=\"14.00\">False</text>\n",
       "</g>\n",
       "<!-- 2 -->\n",
       "<g id=\"node3\" class=\"node\">\n",
       "<title>2</title>\n",
       "<path fill=\"#399de5\" stroke=\"black\" d=\"M101,-179.5C101,-179.5 12,-179.5 12,-179.5 6,-179.5 0,-173.5 0,-167.5 0,-167.5 0,-123.5 0,-123.5 0,-117.5 6,-111.5 12,-111.5 12,-111.5 101,-111.5 101,-111.5 107,-111.5 113,-117.5 113,-123.5 113,-123.5 113,-167.5 113,-167.5 113,-173.5 107,-179.5 101,-179.5\"/>\n",
       "<text text-anchor=\"start\" x=\"28.5\" y=\"-164.3\" font-family=\"Helvetica,sans-Serif\" font-size=\"14.00\">gini = 0.0</text>\n",
       "<text text-anchor=\"start\" x=\"15.5\" y=\"-149.3\" font-family=\"Helvetica,sans-Serif\" font-size=\"14.00\">samples = 37</text>\n",
       "<text text-anchor=\"start\" x=\"13.5\" y=\"-134.3\" font-family=\"Helvetica,sans-Serif\" font-size=\"14.00\">value = [0, 54]</text>\n",
       "<text text-anchor=\"start\" x=\"8\" y=\"-119.3\" font-family=\"Helvetica,sans-Serif\" font-size=\"14.00\">class = survived</text>\n",
       "</g>\n",
       "<!-- 1&#45;&gt;2 -->\n",
       "<g id=\"edge2\" class=\"edge\">\n",
       "<title>1&#45;&gt;2</title>\n",
       "<path fill=\"none\" stroke=\"black\" d=\"M160.34,-222.91C143.99,-210.88 126.13,-197.73 109.9,-185.79\"/>\n",
       "<polygon fill=\"black\" stroke=\"black\" points=\"111.7,-182.77 101.57,-179.67 107.55,-188.41 111.7,-182.77\"/>\n",
       "</g>\n",
       "<!-- 3 -->\n",
       "<g id=\"node4\" class=\"node\">\n",
       "<title>3</title>\n",
       "<path fill=\"#f7d9c4\" stroke=\"black\" d=\"M288,-187C288,-187 143,-187 143,-187 137,-187 131,-181 131,-175 131,-175 131,-116 131,-116 131,-110 137,-104 143,-104 143,-104 288,-104 288,-104 294,-104 300,-110 300,-116 300,-116 300,-175 300,-175 300,-181 294,-187 288,-187\"/>\n",
       "<text text-anchor=\"start\" x=\"139\" y=\"-171.8\" font-family=\"Helvetica,sans-Serif\" font-size=\"14.00\">embarked_at_x0_C ≤ 0.5</text>\n",
       "<text text-anchor=\"start\" x=\"180\" y=\"-156.8\" font-family=\"Helvetica,sans-Serif\" font-size=\"14.00\">gini = 0.485</text>\n",
       "<text text-anchor=\"start\" x=\"174.5\" y=\"-141.8\" font-family=\"Helvetica,sans-Serif\" font-size=\"14.00\">samples = 44</text>\n",
       "<text text-anchor=\"start\" x=\"168.5\" y=\"-126.8\" font-family=\"Helvetica,sans-Serif\" font-size=\"14.00\">value = [47, 33]</text>\n",
       "<text text-anchor=\"start\" x=\"179\" y=\"-111.8\" font-family=\"Helvetica,sans-Serif\" font-size=\"14.00\">class = died</text>\n",
       "</g>\n",
       "<!-- 1&#45;&gt;3 -->\n",
       "<g id=\"edge3\" class=\"edge\">\n",
       "<title>1&#45;&gt;3</title>\n",
       "<path fill=\"none\" stroke=\"black\" d=\"M215.5,-222.91C215.5,-214.65 215.5,-205.86 215.5,-197.3\"/>\n",
       "<polygon fill=\"black\" stroke=\"black\" points=\"219,-197.02 215.5,-187.02 212,-197.02 219,-197.02\"/>\n",
       "</g>\n",
       "<!-- 4 -->\n",
       "<g id=\"node5\" class=\"node\">\n",
       "<title>4</title>\n",
       "<path fill=\"#f9e2d1\" stroke=\"black\" d=\"M130.5,-68C130.5,-68 44.5,-68 44.5,-68 38.5,-68 32.5,-62 32.5,-56 32.5,-56 32.5,-12 32.5,-12 32.5,-6 38.5,0 44.5,0 44.5,0 130.5,0 130.5,0 136.5,0 142.5,-6 142.5,-12 142.5,-12 142.5,-56 142.5,-56 142.5,-62 136.5,-68 130.5,-68\"/>\n",
       "<text text-anchor=\"start\" x=\"52\" y=\"-52.8\" font-family=\"Helvetica,sans-Serif\" font-size=\"14.00\">gini = 0.491</text>\n",
       "<text text-anchor=\"start\" x=\"46.5\" y=\"-37.8\" font-family=\"Helvetica,sans-Serif\" font-size=\"14.00\">samples = 29</text>\n",
       "<text text-anchor=\"start\" x=\"40.5\" y=\"-22.8\" font-family=\"Helvetica,sans-Serif\" font-size=\"14.00\">value = [30, 23]</text>\n",
       "<text text-anchor=\"start\" x=\"51\" y=\"-7.8\" font-family=\"Helvetica,sans-Serif\" font-size=\"14.00\">class = died</text>\n",
       "</g>\n",
       "<!-- 3&#45;&gt;4 -->\n",
       "<g id=\"edge4\" class=\"edge\">\n",
       "<title>3&#45;&gt;4</title>\n",
       "<path fill=\"none\" stroke=\"black\" d=\"M167.84,-103.73C156.86,-94.33 145.19,-84.35 134.24,-74.99\"/>\n",
       "<polygon fill=\"black\" stroke=\"black\" points=\"136.3,-72.14 126.43,-68.3 131.75,-77.46 136.3,-72.14\"/>\n",
       "</g>\n",
       "<!-- 5 -->\n",
       "<g id=\"node6\" class=\"node\">\n",
       "<title>5</title>\n",
       "<path fill=\"#f4cbad\" stroke=\"black\" d=\"M258.5,-68C258.5,-68 172.5,-68 172.5,-68 166.5,-68 160.5,-62 160.5,-56 160.5,-56 160.5,-12 160.5,-12 160.5,-6 166.5,0 172.5,0 172.5,0 258.5,0 258.5,0 264.5,0 270.5,-6 270.5,-12 270.5,-12 270.5,-56 270.5,-56 270.5,-62 264.5,-68 258.5,-68\"/>\n",
       "<text text-anchor=\"start\" x=\"180\" y=\"-52.8\" font-family=\"Helvetica,sans-Serif\" font-size=\"14.00\">gini = 0.466</text>\n",
       "<text text-anchor=\"start\" x=\"174.5\" y=\"-37.8\" font-family=\"Helvetica,sans-Serif\" font-size=\"14.00\">samples = 15</text>\n",
       "<text text-anchor=\"start\" x=\"168.5\" y=\"-22.8\" font-family=\"Helvetica,sans-Serif\" font-size=\"14.00\">value = [17, 10]</text>\n",
       "<text text-anchor=\"start\" x=\"179\" y=\"-7.8\" font-family=\"Helvetica,sans-Serif\" font-size=\"14.00\">class = died</text>\n",
       "</g>\n",
       "<!-- 3&#45;&gt;5 -->\n",
       "<g id=\"edge5\" class=\"edge\">\n",
       "<title>3&#45;&gt;5</title>\n",
       "<path fill=\"none\" stroke=\"black\" d=\"M215.5,-103.73C215.5,-95.52 215.5,-86.86 215.5,-78.56\"/>\n",
       "<polygon fill=\"black\" stroke=\"black\" points=\"219,-78.3 215.5,-68.3 212,-78.3 219,-78.3\"/>\n",
       "</g>\n",
       "<!-- 7 -->\n",
       "<g id=\"node8\" class=\"node\">\n",
       "<title>7</title>\n",
       "<path fill=\"#eda876\" stroke=\"black\" d=\"M499,-187C499,-187 354,-187 354,-187 348,-187 342,-181 342,-175 342,-175 342,-116 342,-116 342,-110 348,-104 354,-104 354,-104 499,-104 499,-104 505,-104 511,-110 511,-116 511,-116 511,-175 511,-175 511,-181 505,-187 499,-187\"/>\n",
       "<text text-anchor=\"start\" x=\"350\" y=\"-171.8\" font-family=\"Helvetica,sans-Serif\" font-size=\"14.00\">embarked_at_x0_C ≤ 0.5</text>\n",
       "<text text-anchor=\"start\" x=\"394.5\" y=\"-156.8\" font-family=\"Helvetica,sans-Serif\" font-size=\"14.00\">gini = 0.36</text>\n",
       "<text text-anchor=\"start\" x=\"381.5\" y=\"-141.8\" font-family=\"Helvetica,sans-Serif\" font-size=\"14.00\">samples = 195</text>\n",
       "<text text-anchor=\"start\" x=\"376\" y=\"-126.8\" font-family=\"Helvetica,sans-Serif\" font-size=\"14.00\">value = [230, 71]</text>\n",
       "<text text-anchor=\"start\" x=\"390\" y=\"-111.8\" font-family=\"Helvetica,sans-Serif\" font-size=\"14.00\">class = died</text>\n",
       "</g>\n",
       "<!-- 6&#45;&gt;7 -->\n",
       "<g id=\"edge7\" class=\"edge\">\n",
       "<title>6&#45;&gt;7</title>\n",
       "<path fill=\"none\" stroke=\"black\" d=\"M426.5,-222.91C426.5,-214.65 426.5,-205.86 426.5,-197.3\"/>\n",
       "<polygon fill=\"black\" stroke=\"black\" points=\"430,-197.02 426.5,-187.02 423,-197.02 430,-197.02\"/>\n",
       "</g>\n",
       "<!-- 10 -->\n",
       "<g id=\"node11\" class=\"node\">\n",
       "<title>10</title>\n",
       "<path fill=\"#f5d1b6\" stroke=\"black\" d=\"M652.5,-187C652.5,-187 566.5,-187 566.5,-187 560.5,-187 554.5,-181 554.5,-175 554.5,-175 554.5,-116 554.5,-116 554.5,-110 560.5,-104 566.5,-104 566.5,-104 652.5,-104 652.5,-104 658.5,-104 664.5,-110 664.5,-116 664.5,-116 664.5,-175 664.5,-175 664.5,-181 658.5,-187 652.5,-187\"/>\n",
       "<text text-anchor=\"start\" x=\"571\" y=\"-171.8\" font-family=\"Helvetica,sans-Serif\" font-size=\"14.00\">fare ≤ &#45;0.102</text>\n",
       "<text text-anchor=\"start\" x=\"574\" y=\"-156.8\" font-family=\"Helvetica,sans-Serif\" font-size=\"14.00\">gini = 0.475</text>\n",
       "<text text-anchor=\"start\" x=\"568.5\" y=\"-141.8\" font-family=\"Helvetica,sans-Serif\" font-size=\"14.00\">samples = 64</text>\n",
       "<text text-anchor=\"start\" x=\"562.5\" y=\"-126.8\" font-family=\"Helvetica,sans-Serif\" font-size=\"14.00\">value = [60, 38]</text>\n",
       "<text text-anchor=\"start\" x=\"573\" y=\"-111.8\" font-family=\"Helvetica,sans-Serif\" font-size=\"14.00\">class = died</text>\n",
       "</g>\n",
       "<!-- 6&#45;&gt;10 -->\n",
       "<g id=\"edge10\" class=\"edge\">\n",
       "<title>6&#45;&gt;10</title>\n",
       "<path fill=\"none\" stroke=\"black\" d=\"M489.99,-222.91C508,-211.39 527.61,-198.86 545.64,-187.33\"/>\n",
       "<polygon fill=\"black\" stroke=\"black\" points=\"547.81,-190.09 554.35,-181.76 544.04,-184.2 547.81,-190.09\"/>\n",
       "</g>\n",
       "<!-- 8 -->\n",
       "<g id=\"node9\" class=\"node\">\n",
       "<title>8</title>\n",
       "<path fill=\"#eca572\" stroke=\"black\" d=\"M394,-68C394,-68 301,-68 301,-68 295,-68 289,-62 289,-56 289,-56 289,-12 289,-12 289,-6 295,0 301,0 301,0 394,0 394,0 400,0 406,-6 406,-12 406,-12 406,-56 406,-56 406,-62 400,-68 394,-68\"/>\n",
       "<text text-anchor=\"start\" x=\"312\" y=\"-52.8\" font-family=\"Helvetica,sans-Serif\" font-size=\"14.00\">gini = 0.347</text>\n",
       "<text text-anchor=\"start\" x=\"302.5\" y=\"-37.8\" font-family=\"Helvetica,sans-Serif\" font-size=\"14.00\">samples = 170</text>\n",
       "<text text-anchor=\"start\" x=\"297\" y=\"-22.8\" font-family=\"Helvetica,sans-Serif\" font-size=\"14.00\">value = [212, 61]</text>\n",
       "<text text-anchor=\"start\" x=\"311\" y=\"-7.8\" font-family=\"Helvetica,sans-Serif\" font-size=\"14.00\">class = died</text>\n",
       "</g>\n",
       "<!-- 7&#45;&gt;8 -->\n",
       "<g id=\"edge8\" class=\"edge\">\n",
       "<title>7&#45;&gt;8</title>\n",
       "<path fill=\"none\" stroke=\"black\" d=\"M397.08,-103.73C390.7,-94.88 383.94,-85.51 377.53,-76.63\"/>\n",
       "<polygon fill=\"black\" stroke=\"black\" points=\"380.21,-74.36 371.52,-68.3 374.54,-78.46 380.21,-74.36\"/>\n",
       "</g>\n",
       "<!-- 9 -->\n",
       "<g id=\"node10\" class=\"node\">\n",
       "<title>9</title>\n",
       "<path fill=\"#f3c7a7\" stroke=\"black\" d=\"M522.5,-68C522.5,-68 436.5,-68 436.5,-68 430.5,-68 424.5,-62 424.5,-56 424.5,-56 424.5,-12 424.5,-12 424.5,-6 430.5,0 436.5,0 436.5,0 522.5,0 522.5,0 528.5,0 534.5,-6 534.5,-12 534.5,-12 534.5,-56 534.5,-56 534.5,-62 528.5,-68 522.5,-68\"/>\n",
       "<text text-anchor=\"start\" x=\"444\" y=\"-52.8\" font-family=\"Helvetica,sans-Serif\" font-size=\"14.00\">gini = 0.459</text>\n",
       "<text text-anchor=\"start\" x=\"438.5\" y=\"-37.8\" font-family=\"Helvetica,sans-Serif\" font-size=\"14.00\">samples = 25</text>\n",
       "<text text-anchor=\"start\" x=\"432.5\" y=\"-22.8\" font-family=\"Helvetica,sans-Serif\" font-size=\"14.00\">value = [18, 10]</text>\n",
       "<text text-anchor=\"start\" x=\"443\" y=\"-7.8\" font-family=\"Helvetica,sans-Serif\" font-size=\"14.00\">class = died</text>\n",
       "</g>\n",
       "<!-- 7&#45;&gt;9 -->\n",
       "<g id=\"edge9\" class=\"edge\">\n",
       "<title>7&#45;&gt;9</title>\n",
       "<path fill=\"none\" stroke=\"black\" d=\"M446.24,-103.73C450.39,-95.15 454.77,-86.09 458.95,-77.46\"/>\n",
       "<polygon fill=\"black\" stroke=\"black\" points=\"462.18,-78.83 463.38,-68.3 455.88,-75.78 462.18,-78.83\"/>\n",
       "</g>\n",
       "<!-- 11 -->\n",
       "<g id=\"node12\" class=\"node\">\n",
       "<title>11</title>\n",
       "<path fill=\"#b5daf5\" stroke=\"black\" d=\"M654,-68C654,-68 565,-68 565,-68 559,-68 553,-62 553,-56 553,-56 553,-12 553,-12 553,-6 559,0 565,0 565,0 654,0 654,0 660,0 666,-6 666,-12 666,-12 666,-56 666,-56 666,-62 660,-68 654,-68\"/>\n",
       "<text text-anchor=\"start\" x=\"574\" y=\"-52.8\" font-family=\"Helvetica,sans-Serif\" font-size=\"14.00\">gini = 0.473</text>\n",
       "<text text-anchor=\"start\" x=\"568.5\" y=\"-37.8\" font-family=\"Helvetica,sans-Serif\" font-size=\"14.00\">samples = 39</text>\n",
       "<text text-anchor=\"start\" x=\"562.5\" y=\"-22.8\" font-family=\"Helvetica,sans-Serif\" font-size=\"14.00\">value = [20, 32]</text>\n",
       "<text text-anchor=\"start\" x=\"561\" y=\"-7.8\" font-family=\"Helvetica,sans-Serif\" font-size=\"14.00\">class = survived</text>\n",
       "</g>\n",
       "<!-- 10&#45;&gt;11 -->\n",
       "<g id=\"edge11\" class=\"edge\">\n",
       "<title>10&#45;&gt;11</title>\n",
       "<path fill=\"none\" stroke=\"black\" d=\"M609.5,-103.73C609.5,-95.52 609.5,-86.86 609.5,-78.56\"/>\n",
       "<polygon fill=\"black\" stroke=\"black\" points=\"613,-78.3 609.5,-68.3 606,-78.3 613,-78.3\"/>\n",
       "</g>\n",
       "<!-- 12 -->\n",
       "<g id=\"node13\" class=\"node\">\n",
       "<title>12</title>\n",
       "<path fill=\"#e99457\" stroke=\"black\" d=\"M774.5,-68C774.5,-68 696.5,-68 696.5,-68 690.5,-68 684.5,-62 684.5,-56 684.5,-56 684.5,-12 684.5,-12 684.5,-6 690.5,0 696.5,0 696.5,0 774.5,0 774.5,0 780.5,0 786.5,-6 786.5,-12 786.5,-12 786.5,-56 786.5,-56 786.5,-62 780.5,-68 774.5,-68\"/>\n",
       "<text text-anchor=\"start\" x=\"700\" y=\"-52.8\" font-family=\"Helvetica,sans-Serif\" font-size=\"14.00\">gini = 0.227</text>\n",
       "<text text-anchor=\"start\" x=\"694.5\" y=\"-37.8\" font-family=\"Helvetica,sans-Serif\" font-size=\"14.00\">samples = 25</text>\n",
       "<text text-anchor=\"start\" x=\"692.5\" y=\"-22.8\" font-family=\"Helvetica,sans-Serif\" font-size=\"14.00\">value = [40, 6]</text>\n",
       "<text text-anchor=\"start\" x=\"699\" y=\"-7.8\" font-family=\"Helvetica,sans-Serif\" font-size=\"14.00\">class = died</text>\n",
       "</g>\n",
       "<!-- 10&#45;&gt;12 -->\n",
       "<g id=\"edge12\" class=\"edge\">\n",
       "<title>10&#45;&gt;12</title>\n",
       "<path fill=\"none\" stroke=\"black\" d=\"M656.42,-103.73C667.23,-94.33 678.71,-84.35 689.49,-74.99\"/>\n",
       "<polygon fill=\"black\" stroke=\"black\" points=\"691.93,-77.5 697.18,-68.3 687.34,-72.22 691.93,-77.5\"/>\n",
       "</g>\n",
       "</g>\n",
       "</svg>\n"
      ],
      "text/plain": [
       "<graphviz.files.Source at 0x7fbc6e8742e0>"
      ]
     },
     "execution_count": 52,
     "metadata": {},
     "output_type": "execute_result"
    }
   ],
   "source": [
    "forest_model = RandomForestClassifier(n_estimators=100, max_depth=3, max_features=2, random_state=42)\n",
    "\n",
    "rf_model = Pipeline([\n",
    "    ('mapper', label_binarizer_mapper),\n",
    "    ('imputer', IterativeImputer(random_state=42)),\n",
    "    ('classifier', forest_model),\n",
    "])\n",
    "\n",
    "rf_model.fit(train, train.survived)\n",
    "\n",
    "evaluate_model(rf_model, title='Random Forest')\n",
    "\n",
    "graph_tree(forest_model.estimators_[0], col_names=label_binarizer_mapper.transformed_names_)"
   ]
  },
  {
   "cell_type": "markdown",
   "metadata": {},
   "source": [
    "#### Bonus: Grid Search"
   ]
  },
  {
   "cell_type": "code",
   "execution_count": 53,
   "metadata": {
    "ExecuteTime": {
     "end_time": "2020-05-04T20:44:36.785685Z",
     "start_time": "2020-05-04T20:44:26.372559Z"
    },
    "scrolled": false
   },
   "outputs": [
    {
     "name": "stdout",
     "output_type": "stream",
     "text": [
      "Fitting 5 folds for each of 12 candidates, totalling 60 fits\n"
     ]
    },
    {
     "data": {
      "text/plain": [
       "(0.8461470640098747, {'max_depth': 5, 'max_features': 5, 'n_estimators': 100})"
      ]
     },
     "execution_count": 53,
     "metadata": {},
     "output_type": "execute_result"
    }
   ],
   "source": [
    "from sklearn.model_selection import GridSearchCV\n",
    "\n",
    "parameters = {'n_estimators': [100, 200], \n",
    "              'max_depth':[3, 5, 8],\n",
    "              'max_features': [2, 5]}\n",
    "\n",
    "\n",
    "clf = GridSearchCV(forest_model, parameters, refit=True, verbose=1)\n",
    "\n",
    "gs_pipe = Pipeline([\n",
    "    ('mapper', label_binarizer_mapper),\n",
    "    ('imputer', IterativeImputer(random_state=42)),\n",
    "    ('classifier', clf),\n",
    "])\n",
    "\n",
    "gs_pipe.fit(train, train.survived)\n",
    "\n",
    "clf.best_score_, clf.best_params_"
   ]
  },
  {
   "cell_type": "code",
   "execution_count": 54,
   "metadata": {
    "ExecuteTime": {
     "end_time": "2020-05-04T20:44:37.220196Z",
     "start_time": "2020-05-04T20:44:36.792440Z"
    },
    "scrolled": false
   },
   "outputs": [
    {
     "data": {
      "text/plain": [
       "'Random Forest'"
      ]
     },
     "metadata": {},
     "output_type": "display_data"
    },
    {
     "data": {
      "text/html": [
       "<div>\n",
       "<style scoped>\n",
       "    .dataframe tbody tr th:only-of-type {\n",
       "        vertical-align: middle;\n",
       "    }\n",
       "\n",
       "    .dataframe tbody tr th {\n",
       "        vertical-align: top;\n",
       "    }\n",
       "\n",
       "    .dataframe thead th {\n",
       "        text-align: right;\n",
       "    }\n",
       "</style>\n",
       "<table border=\"1\" class=\"dataframe\">\n",
       "  <thead>\n",
       "    <tr style=\"text-align: right;\">\n",
       "      <th></th>\n",
       "      <th>Accuracy</th>\n",
       "      <th>Precision</th>\n",
       "      <th>Recall</th>\n",
       "      <th>F1</th>\n",
       "    </tr>\n",
       "  </thead>\n",
       "  <tbody>\n",
       "    <tr>\n",
       "      <th>train</th>\n",
       "      <td>0.833021</td>\n",
       "      <td>0.909774</td>\n",
       "      <td>0.611111</td>\n",
       "      <td>0.731118</td>\n",
       "    </tr>\n",
       "    <tr>\n",
       "      <th>validation</th>\n",
       "      <td>0.820225</td>\n",
       "      <td>0.877551</td>\n",
       "      <td>0.623188</td>\n",
       "      <td>0.728814</td>\n",
       "    </tr>\n",
       "  </tbody>\n",
       "</table>\n",
       "</div>"
      ],
      "text/plain": [
       "            Accuracy  Precision    Recall        F1\n",
       "train       0.833021   0.909774  0.611111  0.731118\n",
       "validation  0.820225   0.877551  0.623188  0.728814"
      ]
     },
     "metadata": {},
     "output_type": "display_data"
    },
    {
     "data": {
      "image/png": "[encoded data removed]",
      "text/plain": [
       "<Figure size 1080x216 with 2 Axes>"
      ]
     },
     "metadata": {
      "needs_background": "light"
     },
     "output_type": "display_data"
    },
    {
     "data": {
      "text/plain": [
       "'Random Forest after Cross Validation'"
      ]
     },
     "metadata": {},
     "output_type": "display_data"
    },
    {
     "data": {
      "text/html": [
       "<div>\n",
       "<style scoped>\n",
       "    .dataframe tbody tr th:only-of-type {\n",
       "        vertical-align: middle;\n",
       "    }\n",
       "\n",
       "    .dataframe tbody tr th {\n",
       "        vertical-align: top;\n",
       "    }\n",
       "\n",
       "    .dataframe thead th {\n",
       "        text-align: right;\n",
       "    }\n",
       "</style>\n",
       "<table border=\"1\" class=\"dataframe\">\n",
       "  <thead>\n",
       "    <tr style=\"text-align: right;\">\n",
       "      <th></th>\n",
       "      <th>Accuracy</th>\n",
       "      <th>Precision</th>\n",
       "      <th>Recall</th>\n",
       "      <th>F1</th>\n",
       "    </tr>\n",
       "  </thead>\n",
       "  <tbody>\n",
       "    <tr>\n",
       "      <th>train</th>\n",
       "      <td>0.879925</td>\n",
       "      <td>0.929487</td>\n",
       "      <td>0.732323</td>\n",
       "      <td>0.819209</td>\n",
       "    </tr>\n",
       "    <tr>\n",
       "      <th>validation</th>\n",
       "      <td>0.825843</td>\n",
       "      <td>0.816667</td>\n",
       "      <td>0.710145</td>\n",
       "      <td>0.759690</td>\n",
       "    </tr>\n",
       "  </tbody>\n",
       "</table>\n",
       "</div>"
      ],
      "text/plain": [
       "            Accuracy  Precision    Recall        F1\n",
       "train       0.879925   0.929487  0.732323  0.819209\n",
       "validation  0.825843   0.816667  0.710145  0.759690"
      ]
     },
     "metadata": {},
     "output_type": "display_data"
    },
    {
     "data": {
      "image/png": "[encoded data removed]",
      "text/plain": [
       "<Figure size 1080x216 with 2 Axes>"
      ]
     },
     "metadata": {
      "needs_background": "light"
     },
     "output_type": "display_data"
    }
   ],
   "source": [
    "evaluate_model(rf_model, title='Random Forest')\n",
    "\n",
    "evaluate_model(gs_pipe, title='Random Forest after Cross Validation')"
   ]
  },
  {
   "cell_type": "markdown",
   "metadata": {},
   "source": [
    "# Quinto modelo: Gradient Boosted Trees"
   ]
  },
  {
   "cell_type": "code",
   "execution_count": 55,
   "metadata": {
    "ExecuteTime": {
     "end_time": "2020-05-04T20:44:37.224532Z",
     "start_time": "2020-05-04T20:44:37.222029Z"
    }
   },
   "outputs": [],
   "source": [
    "from sklearn.ensemble import GradientBoostingClassifier"
   ]
  },
  {
   "cell_type": "code",
   "execution_count": 56,
   "metadata": {
    "ExecuteTime": {
     "end_time": "2020-05-04T20:44:37.534527Z",
     "start_time": "2020-05-04T20:44:37.231157Z"
    }
   },
   "outputs": [
    {
     "data": {
      "text/plain": [
       "'Gradient Boosting'"
      ]
     },
     "metadata": {},
     "output_type": "display_data"
    },
    {
     "data": {
      "text/html": [
       "<div>\n",
       "<style scoped>\n",
       "    .dataframe tbody tr th:only-of-type {\n",
       "        vertical-align: middle;\n",
       "    }\n",
       "\n",
       "    .dataframe tbody tr th {\n",
       "        vertical-align: top;\n",
       "    }\n",
       "\n",
       "    .dataframe thead th {\n",
       "        text-align: right;\n",
       "    }\n",
       "</style>\n",
       "<table border=\"1\" class=\"dataframe\">\n",
       "  <thead>\n",
       "    <tr style=\"text-align: right;\">\n",
       "      <th></th>\n",
       "      <th>Accuracy</th>\n",
       "      <th>Precision</th>\n",
       "      <th>Recall</th>\n",
       "      <th>F1</th>\n",
       "    </tr>\n",
       "  </thead>\n",
       "  <tbody>\n",
       "    <tr>\n",
       "      <th>train</th>\n",
       "      <td>0.932458</td>\n",
       "      <td>0.976471</td>\n",
       "      <td>0.838384</td>\n",
       "      <td>0.902174</td>\n",
       "    </tr>\n",
       "    <tr>\n",
       "      <th>validation</th>\n",
       "      <td>0.876404</td>\n",
       "      <td>0.885246</td>\n",
       "      <td>0.782609</td>\n",
       "      <td>0.830769</td>\n",
       "    </tr>\n",
       "  </tbody>\n",
       "</table>\n",
       "</div>"
      ],
      "text/plain": [
       "            Accuracy  Precision    Recall        F1\n",
       "train       0.932458   0.976471  0.838384  0.902174\n",
       "validation  0.876404   0.885246  0.782609  0.830769"
      ]
     },
     "metadata": {},
     "output_type": "display_data"
    },
    {
     "data": {
      "image/png": "[encoded data removed]",
      "text/plain": [
       "<Figure size 1080x216 with 2 Axes>"
      ]
     },
     "metadata": {
      "needs_background": "light"
     },
     "output_type": "display_data"
    }
   ],
   "source": [
    "boost_model = GradientBoostingClassifier(random_state=42)\n",
    "\n",
    "boo_model = Pipeline([\n",
    "    ('mapper', label_binarizer_mapper),\n",
    "    ('imputer', IterativeImputer(random_state=42)),\n",
    "    ('classifier', boost_model),\n",
    "])\n",
    "\n",
    "boo_model.fit(train, train.survived)\n",
    "\n",
    "evaluate_model(boo_model, title='Gradient Boosting')"
   ]
  },
  {
   "cell_type": "code",
   "execution_count": 57,
   "metadata": {
    "ExecuteTime": {
     "end_time": "2020-05-04T20:44:37.569359Z",
     "start_time": "2020-05-04T20:44:37.536195Z"
    }
   },
   "outputs": [
    {
     "data": {
      "image/svg+xml": [
       "<?xml version=\"1.0\" encoding=\"UTF-8\" standalone=\"no\"?>\n",
       "<!DOCTYPE svg PUBLIC \"-//W3C//DTD SVG 1.1//EN\"\n",
       " \"http://www.w3.org/Graphics/SVG/1.1/DTD/svg11.dtd\">\n",
       "<!-- Generated by graphviz version 2.43.0 (0)\n",
       " -->\n",
       "<!-- Title: Tree Pages: 1 -->\n",
       "<svg width=\"1332pt\" height=\"373pt\"\n",
       " viewBox=\"0.00 0.00 1331.50 373.00\" xmlns=\"http://www.w3.org/2000/svg\" xmlns:xlink=\"http://www.w3.org/1999/xlink\">\n",
       "<g id=\"graph0\" class=\"graph\" transform=\"scale(1 1) rotate(0) translate(4 369)\">\n",
       "<title>Tree</title>\n",
       "<polygon fill=\"white\" stroke=\"transparent\" points=\"-4,4 -4,-369 1327.5,-369 1327.5,4 -4,4\"/>\n",
       "<!-- 0 -->\n",
       "<g id=\"node1\" class=\"node\">\n",
       "<title>0</title>\n",
       "<path fill=\"#f5cdb1\" stroke=\"black\" d=\"M723.5,-365C723.5,-365 594.5,-365 594.5,-365 588.5,-365 582.5,-359 582.5,-353 582.5,-353 582.5,-309 582.5,-309 582.5,-303 588.5,-297 594.5,-297 594.5,-297 723.5,-297 723.5,-297 729.5,-297 735.5,-303 735.5,-309 735.5,-309 735.5,-353 735.5,-353 735.5,-359 729.5,-365 723.5,-365\"/>\n",
       "<text text-anchor=\"start\" x=\"631.5\" y=\"-349.8\" font-family=\"Helvetica,sans-Serif\" font-size=\"14.00\">sex ≤ 0.5</text>\n",
       "<text text-anchor=\"start\" x=\"590.5\" y=\"-334.8\" font-family=\"Helvetica,sans-Serif\" font-size=\"14.00\">friedman_mse = 0.212</text>\n",
       "<text text-anchor=\"start\" x=\"614\" y=\"-319.8\" font-family=\"Helvetica,sans-Serif\" font-size=\"14.00\">samples = 533</text>\n",
       "<text text-anchor=\"start\" x=\"615.5\" y=\"-304.8\" font-family=\"Helvetica,sans-Serif\" font-size=\"14.00\">value = &#45;0.001</text>\n",
       "</g>\n",
       "<!-- 1 -->\n",
       "<g id=\"node2\" class=\"node\">\n",
       "<title>1</title>\n",
       "<path fill=\"#f2c29f\" stroke=\"black\" d=\"M555.5,-261C555.5,-261 426.5,-261 426.5,-261 420.5,-261 414.5,-255 414.5,-249 414.5,-249 414.5,-205 414.5,-205 414.5,-199 420.5,-193 426.5,-193 426.5,-193 555.5,-193 555.5,-193 561.5,-193 567.5,-199 567.5,-205 567.5,-205 567.5,-249 567.5,-249 567.5,-255 561.5,-261 555.5,-261\"/>\n",
       "<text text-anchor=\"start\" x=\"431.5\" y=\"-245.8\" font-family=\"Helvetica,sans-Serif\" font-size=\"14.00\">ticket_class ≤ 0.182</text>\n",
       "<text text-anchor=\"start\" x=\"422.5\" y=\"-230.8\" font-family=\"Helvetica,sans-Serif\" font-size=\"14.00\">friedman_mse = 0.176</text>\n",
       "<text text-anchor=\"start\" x=\"446\" y=\"-215.8\" font-family=\"Helvetica,sans-Serif\" font-size=\"14.00\">samples = 177</text>\n",
       "<text text-anchor=\"start\" x=\"450\" y=\"-200.8\" font-family=\"Helvetica,sans-Serif\" font-size=\"14.00\">value = 0.331</text>\n",
       "</g>\n",
       "<!-- 0&#45;&gt;1 -->\n",
       "<g id=\"edge1\" class=\"edge\">\n",
       "<title>0&#45;&gt;1</title>\n",
       "<path fill=\"none\" stroke=\"black\" d=\"M604.46,-296.88C588.53,-287.21 570.99,-276.56 554.56,-266.59\"/>\n",
       "<polygon fill=\"black\" stroke=\"black\" points=\"555.92,-263.32 545.56,-261.12 552.29,-269.31 555.92,-263.32\"/>\n",
       "<text text-anchor=\"middle\" x=\"551.49\" y=\"-281.71\" font-family=\"Helvetica,sans-Serif\" font-size=\"14.00\">True</text>\n",
       "</g>\n",
       "<!-- 8 -->\n",
       "<g id=\"node9\" class=\"node\">\n",
       "<title>8</title>\n",
       "<path fill=\"#f6d3b9\" stroke=\"black\" d=\"M887.5,-261C887.5,-261 758.5,-261 758.5,-261 752.5,-261 746.5,-255 746.5,-249 746.5,-249 746.5,-205 746.5,-205 746.5,-199 752.5,-193 758.5,-193 758.5,-193 887.5,-193 887.5,-193 893.5,-193 899.5,-199 899.5,-205 899.5,-205 899.5,-249 899.5,-249 899.5,-255 893.5,-261 887.5,-261\"/>\n",
       "<text text-anchor=\"start\" x=\"785\" y=\"-245.8\" font-family=\"Helvetica,sans-Serif\" font-size=\"14.00\">age ≤ &#45;1.795</text>\n",
       "<text text-anchor=\"start\" x=\"754.5\" y=\"-230.8\" font-family=\"Helvetica,sans-Serif\" font-size=\"14.00\">friedman_mse = 0.148</text>\n",
       "<text text-anchor=\"start\" x=\"778\" y=\"-215.8\" font-family=\"Helvetica,sans-Serif\" font-size=\"14.00\">samples = 356</text>\n",
       "<text text-anchor=\"start\" x=\"779.5\" y=\"-200.8\" font-family=\"Helvetica,sans-Serif\" font-size=\"14.00\">value = &#45;0.165</text>\n",
       "</g>\n",
       "<!-- 0&#45;&gt;8 -->\n",
       "<g id=\"edge8\" class=\"edge\">\n",
       "<title>0&#45;&gt;8</title>\n",
       "<path fill=\"none\" stroke=\"black\" d=\"M712.25,-296.88C727.79,-287.21 744.92,-276.56 760.96,-266.59\"/>\n",
       "<polygon fill=\"black\" stroke=\"black\" points=\"763.1,-269.38 769.74,-261.12 759.4,-263.43 763.1,-269.38\"/>\n",
       "<text text-anchor=\"middle\" x=\"764.07\" y=\"-281.77\" font-family=\"Helvetica,sans-Serif\" font-size=\"14.00\">False</text>\n",
       "</g>\n",
       "<!-- 2 -->\n",
       "<g id=\"node3\" class=\"node\">\n",
       "<title>2</title>\n",
       "<path fill=\"#f1bb95\" stroke=\"black\" d=\"M302,-157C302,-157 180,-157 180,-157 174,-157 168,-151 168,-145 168,-145 168,-101 168,-101 168,-95 174,-89 180,-89 180,-89 302,-89 302,-89 308,-89 314,-95 314,-101 314,-101 314,-145 314,-145 314,-151 308,-157 302,-157\"/>\n",
       "<text text-anchor=\"start\" x=\"202.5\" y=\"-141.8\" font-family=\"Helvetica,sans-Serif\" font-size=\"14.00\">fare ≤ &#45;0.401</text>\n",
       "<text text-anchor=\"start\" x=\"176\" y=\"-126.8\" font-family=\"Helvetica,sans-Serif\" font-size=\"14.00\">friedman_mse = 0.03</text>\n",
       "<text text-anchor=\"start\" x=\"200\" y=\"-111.8\" font-family=\"Helvetica,sans-Serif\" font-size=\"14.00\">samples = 95</text>\n",
       "<text text-anchor=\"start\" x=\"200\" y=\"-96.8\" font-family=\"Helvetica,sans-Serif\" font-size=\"14.00\">value = 0.536</text>\n",
       "</g>\n",
       "<!-- 1&#45;&gt;2 -->\n",
       "<g id=\"edge2\" class=\"edge\">\n",
       "<title>1&#45;&gt;2</title>\n",
       "<path fill=\"none\" stroke=\"black\" d=\"M414.29,-194.7C385.54,-182.97 352.76,-169.6 323.5,-157.66\"/>\n",
       "<polygon fill=\"black\" stroke=\"black\" points=\"324.72,-154.38 314.14,-153.84 322.08,-160.86 324.72,-154.38\"/>\n",
       "</g>\n",
       "<!-- 5 -->\n",
       "<g id=\"node6\" class=\"node\">\n",
       "<title>5</title>\n",
       "<path fill=\"#f4caac\" stroke=\"black\" d=\"M555.5,-157C555.5,-157 426.5,-157 426.5,-157 420.5,-157 414.5,-151 414.5,-145 414.5,-145 414.5,-101 414.5,-101 414.5,-95 420.5,-89 426.5,-89 426.5,-89 555.5,-89 555.5,-89 561.5,-89 567.5,-95 567.5,-101 567.5,-101 567.5,-145 567.5,-145 567.5,-151 561.5,-157 555.5,-157\"/>\n",
       "<text text-anchor=\"start\" x=\"452.5\" y=\"-141.8\" font-family=\"Helvetica,sans-Serif\" font-size=\"14.00\">fare ≤ &#45;0.185</text>\n",
       "<text text-anchor=\"start\" x=\"422.5\" y=\"-126.8\" font-family=\"Helvetica,sans-Serif\" font-size=\"14.00\">friedman_mse = 0.241</text>\n",
       "<text text-anchor=\"start\" x=\"450\" y=\"-111.8\" font-family=\"Helvetica,sans-Serif\" font-size=\"14.00\">samples = 82</text>\n",
       "<text text-anchor=\"start\" x=\"450\" y=\"-96.8\" font-family=\"Helvetica,sans-Serif\" font-size=\"14.00\">value = 0.093</text>\n",
       "</g>\n",
       "<!-- 1&#45;&gt;5 -->\n",
       "<g id=\"edge5\" class=\"edge\">\n",
       "<title>1&#45;&gt;5</title>\n",
       "<path fill=\"none\" stroke=\"black\" d=\"M491,-192.88C491,-184.78 491,-175.98 491,-167.47\"/>\n",
       "<polygon fill=\"black\" stroke=\"black\" points=\"494.5,-167.3 491,-157.3 487.5,-167.3 494.5,-167.3\"/>\n",
       "</g>\n",
       "<!-- 3 -->\n",
       "<g id=\"node4\" class=\"node\">\n",
       "<title>3</title>\n",
       "<path fill=\"#f1bd97\" stroke=\"black\" d=\"M134,-53C134,-53 12,-53 12,-53 6,-53 0,-47 0,-41 0,-41 0,-12 0,-12 0,-6 6,0 12,0 12,0 134,0 134,0 140,0 146,-6 146,-12 146,-12 146,-41 146,-41 146,-47 140,-53 134,-53\"/>\n",
       "<text text-anchor=\"start\" x=\"8\" y=\"-37.8\" font-family=\"Helvetica,sans-Serif\" font-size=\"14.00\">friedman_mse = 0.25</text>\n",
       "<text text-anchor=\"start\" x=\"35.5\" y=\"-22.8\" font-family=\"Helvetica,sans-Serif\" font-size=\"14.00\">samples = 2</text>\n",
       "<text text-anchor=\"start\" x=\"32\" y=\"-7.8\" font-family=\"Helvetica,sans-Serif\" font-size=\"14.00\">value = 0.488</text>\n",
       "</g>\n",
       "<!-- 2&#45;&gt;3 -->\n",
       "<g id=\"edge3\" class=\"edge\">\n",
       "<title>2&#45;&gt;3</title>\n",
       "<path fill=\"none\" stroke=\"black\" d=\"M182.24,-88.95C164.43,-78.93 144.96,-67.98 127.45,-58.13\"/>\n",
       "<polygon fill=\"black\" stroke=\"black\" points=\"128.92,-54.94 118.49,-53.09 125.49,-61.04 128.92,-54.94\"/>\n",
       "</g>\n",
       "<!-- 4 -->\n",
       "<g id=\"node5\" class=\"node\">\n",
       "<title>4</title>\n",
       "<path fill=\"#e6843d\" stroke=\"black\" d=\"M305.5,-53C305.5,-53 176.5,-53 176.5,-53 170.5,-53 164.5,-47 164.5,-41 164.5,-41 164.5,-12 164.5,-12 164.5,-6 170.5,0 176.5,0 176.5,0 305.5,0 305.5,0 311.5,0 317.5,-6 317.5,-12 317.5,-12 317.5,-41 317.5,-41 317.5,-47 311.5,-53 305.5,-53\"/>\n",
       "<text text-anchor=\"start\" x=\"172.5\" y=\"-37.8\" font-family=\"Helvetica,sans-Serif\" font-size=\"14.00\">friedman_mse = 0.021</text>\n",
       "<text text-anchor=\"start\" x=\"200\" y=\"-22.8\" font-family=\"Helvetica,sans-Serif\" font-size=\"14.00\">samples = 93</text>\n",
       "<text text-anchor=\"start\" x=\"200\" y=\"-7.8\" font-family=\"Helvetica,sans-Serif\" font-size=\"14.00\">value = 2.217</text>\n",
       "</g>\n",
       "<!-- 2&#45;&gt;4 -->\n",
       "<g id=\"edge4\" class=\"edge\">\n",
       "<title>2&#45;&gt;4</title>\n",
       "<path fill=\"none\" stroke=\"black\" d=\"M241,-88.95C241,-80.72 241,-71.85 241,-63.48\"/>\n",
       "<polygon fill=\"black\" stroke=\"black\" points=\"244.5,-63.24 241,-53.24 237.5,-63.24 244.5,-63.24\"/>\n",
       "</g>\n",
       "<!-- 6 -->\n",
       "<g id=\"node7\" class=\"node\">\n",
       "<title>6</title>\n",
       "<path fill=\"#efb287\" stroke=\"black\" d=\"M476.5,-53C476.5,-53 347.5,-53 347.5,-53 341.5,-53 335.5,-47 335.5,-41 335.5,-41 335.5,-12 335.5,-12 335.5,-6 341.5,0 347.5,0 347.5,0 476.5,0 476.5,0 482.5,0 488.5,-6 488.5,-12 488.5,-12 488.5,-41 488.5,-41 488.5,-47 482.5,-53 476.5,-53\"/>\n",
       "<text text-anchor=\"start\" x=\"343.5\" y=\"-37.8\" font-family=\"Helvetica,sans-Serif\" font-size=\"14.00\">friedman_mse = 0.243</text>\n",
       "<text text-anchor=\"start\" x=\"371\" y=\"-22.8\" font-family=\"Helvetica,sans-Serif\" font-size=\"14.00\">samples = 65</text>\n",
       "<text text-anchor=\"start\" x=\"371\" y=\"-7.8\" font-family=\"Helvetica,sans-Serif\" font-size=\"14.00\">value = 0.803</text>\n",
       "</g>\n",
       "<!-- 5&#45;&gt;6 -->\n",
       "<g id=\"edge6\" class=\"edge\">\n",
       "<title>5&#45;&gt;6</title>\n",
       "<path fill=\"none\" stroke=\"black\" d=\"M463.37,-88.95C455.8,-79.89 447.59,-70.07 439.99,-60.99\"/>\n",
       "<polygon fill=\"black\" stroke=\"black\" points=\"442.61,-58.66 433.52,-53.24 437.24,-63.15 442.61,-58.66\"/>\n",
       "</g>\n",
       "<!-- 7 -->\n",
       "<g id=\"node8\" class=\"node\">\n",
       "<title>7</title>\n",
       "<path fill=\"#fdf7f2\" stroke=\"black\" d=\"M647.5,-53C647.5,-53 518.5,-53 518.5,-53 512.5,-53 506.5,-47 506.5,-41 506.5,-41 506.5,-12 506.5,-12 506.5,-6 512.5,0 518.5,0 518.5,0 647.5,0 647.5,0 653.5,0 659.5,-6 659.5,-12 659.5,-12 659.5,-41 659.5,-41 659.5,-47 653.5,-53 647.5,-53\"/>\n",
       "<text text-anchor=\"start\" x=\"514.5\" y=\"-37.8\" font-family=\"Helvetica,sans-Serif\" font-size=\"14.00\">friedman_mse = 0.055</text>\n",
       "<text text-anchor=\"start\" x=\"542\" y=\"-22.8\" font-family=\"Helvetica,sans-Serif\" font-size=\"14.00\">samples = 17</text>\n",
       "<text text-anchor=\"start\" x=\"539.5\" y=\"-7.8\" font-family=\"Helvetica,sans-Serif\" font-size=\"14.00\">value = &#45;1.255</text>\n",
       "</g>\n",
       "<!-- 5&#45;&gt;7 -->\n",
       "<g id=\"edge7\" class=\"edge\">\n",
       "<title>5&#45;&gt;7</title>\n",
       "<path fill=\"none\" stroke=\"black\" d=\"M523.18,-88.95C532.17,-79.71 541.94,-69.67 550.93,-60.44\"/>\n",
       "<polygon fill=\"black\" stroke=\"black\" points=\"553.48,-62.84 557.94,-53.24 548.46,-57.96 553.48,-62.84\"/>\n",
       "</g>\n",
       "<!-- 9 -->\n",
       "<g id=\"node10\" class=\"node\">\n",
       "<title>9</title>\n",
       "<path fill=\"#f3c5a4\" stroke=\"black\" d=\"M895,-157C895,-157 751,-157 751,-157 745,-157 739,-151 739,-145 739,-145 739,-101 739,-101 739,-95 745,-89 751,-89 751,-89 895,-89 895,-89 901,-89 907,-95 907,-101 907,-101 907,-145 907,-145 907,-151 901,-157 895,-157\"/>\n",
       "<text text-anchor=\"start\" x=\"747\" y=\"-141.8\" font-family=\"Helvetica,sans-Serif\" font-size=\"14.00\">siblings_spouses ≤ 1.789</text>\n",
       "<text text-anchor=\"start\" x=\"754.5\" y=\"-126.8\" font-family=\"Helvetica,sans-Serif\" font-size=\"14.00\">friedman_mse = 0.186</text>\n",
       "<text text-anchor=\"start\" x=\"782\" y=\"-111.8\" font-family=\"Helvetica,sans-Serif\" font-size=\"14.00\">samples = 14</text>\n",
       "<text text-anchor=\"start\" x=\"782\" y=\"-96.8\" font-family=\"Helvetica,sans-Serif\" font-size=\"14.00\">value = 0.243</text>\n",
       "</g>\n",
       "<!-- 8&#45;&gt;9 -->\n",
       "<g id=\"edge9\" class=\"edge\">\n",
       "<title>8&#45;&gt;9</title>\n",
       "<path fill=\"none\" stroke=\"black\" d=\"M823,-192.88C823,-184.78 823,-175.98 823,-167.47\"/>\n",
       "<polygon fill=\"black\" stroke=\"black\" points=\"826.5,-167.3 823,-157.3 819.5,-167.3 826.5,-167.3\"/>\n",
       "</g>\n",
       "<!-- 12 -->\n",
       "<g id=\"node13\" class=\"node\">\n",
       "<title>12</title>\n",
       "<path fill=\"#f6d3ba\" stroke=\"black\" d=\"M1140.5,-157C1140.5,-157 1011.5,-157 1011.5,-157 1005.5,-157 999.5,-151 999.5,-145 999.5,-145 999.5,-101 999.5,-101 999.5,-95 1005.5,-89 1011.5,-89 1011.5,-89 1140.5,-89 1140.5,-89 1146.5,-89 1152.5,-95 1152.5,-101 1152.5,-101 1152.5,-145 1152.5,-145 1152.5,-151 1146.5,-157 1140.5,-157\"/>\n",
       "<text text-anchor=\"start\" x=\"1039.5\" y=\"-141.8\" font-family=\"Helvetica,sans-Serif\" font-size=\"14.00\">fare ≤ 0.353</text>\n",
       "<text text-anchor=\"start\" x=\"1007.5\" y=\"-126.8\" font-family=\"Helvetica,sans-Serif\" font-size=\"14.00\">friedman_mse = 0.139</text>\n",
       "<text text-anchor=\"start\" x=\"1031\" y=\"-111.8\" font-family=\"Helvetica,sans-Serif\" font-size=\"14.00\">samples = 342</text>\n",
       "<text text-anchor=\"start\" x=\"1032.5\" y=\"-96.8\" font-family=\"Helvetica,sans-Serif\" font-size=\"14.00\">value = &#45;0.182</text>\n",
       "</g>\n",
       "<!-- 8&#45;&gt;12 -->\n",
       "<g id=\"edge12\" class=\"edge\">\n",
       "<title>8&#45;&gt;12</title>\n",
       "<path fill=\"none\" stroke=\"black\" d=\"M899.59,-195.12C928.07,-183.64 960.57,-170.54 989.85,-158.73\"/>\n",
       "<polygon fill=\"black\" stroke=\"black\" points=\"991.26,-161.94 999.23,-154.95 988.65,-155.44 991.26,-161.94\"/>\n",
       "</g>\n",
       "<!-- 10 -->\n",
       "<g id=\"node11\" class=\"node\">\n",
       "<title>10</title>\n",
       "<path fill=\"#e58139\" stroke=\"black\" d=\"M808.5,-53C808.5,-53 689.5,-53 689.5,-53 683.5,-53 677.5,-47 677.5,-41 677.5,-41 677.5,-12 677.5,-12 677.5,-6 683.5,0 689.5,0 689.5,0 808.5,0 808.5,0 814.5,0 820.5,-6 820.5,-12 820.5,-12 820.5,-41 820.5,-41 820.5,-47 814.5,-53 808.5,-53\"/>\n",
       "<text text-anchor=\"start\" x=\"685.5\" y=\"-37.8\" font-family=\"Helvetica,sans-Serif\" font-size=\"14.00\">friedman_mse = &#45;0.0</text>\n",
       "<text text-anchor=\"start\" x=\"711.5\" y=\"-22.8\" font-family=\"Helvetica,sans-Serif\" font-size=\"14.00\">samples = 9</text>\n",
       "<text text-anchor=\"start\" x=\"708\" y=\"-7.8\" font-family=\"Helvetica,sans-Serif\" font-size=\"14.00\">value = 2.293</text>\n",
       "</g>\n",
       "<!-- 9&#45;&gt;10 -->\n",
       "<g id=\"edge10\" class=\"edge\">\n",
       "<title>9&#45;&gt;10</title>\n",
       "<path fill=\"none\" stroke=\"black\" d=\"M797.12,-88.95C790.1,-79.98 782.49,-70.27 775.44,-61.26\"/>\n",
       "<polygon fill=\"black\" stroke=\"black\" points=\"778.07,-58.95 769.15,-53.24 772.56,-63.27 778.07,-58.95\"/>\n",
       "</g>\n",
       "<!-- 11 -->\n",
       "<g id=\"node12\" class=\"node\">\n",
       "<title>11</title>\n",
       "<path fill=\"#ffffff\" stroke=\"black\" d=\"M969.5,-53C969.5,-53 850.5,-53 850.5,-53 844.5,-53 838.5,-47 838.5,-41 838.5,-41 838.5,-12 838.5,-12 838.5,-6 844.5,0 850.5,0 850.5,0 969.5,0 969.5,0 975.5,0 981.5,-6 981.5,-12 981.5,-12 981.5,-41 981.5,-41 981.5,-47 975.5,-53 969.5,-53\"/>\n",
       "<text text-anchor=\"start\" x=\"846.5\" y=\"-37.8\" font-family=\"Helvetica,sans-Serif\" font-size=\"14.00\">friedman_mse = &#45;0.0</text>\n",
       "<text text-anchor=\"start\" x=\"872.5\" y=\"-22.8\" font-family=\"Helvetica,sans-Serif\" font-size=\"14.00\">samples = 5</text>\n",
       "<text text-anchor=\"start\" x=\"866.5\" y=\"-7.8\" font-family=\"Helvetica,sans-Serif\" font-size=\"14.00\">value = &#45;1.504</text>\n",
       "</g>\n",
       "<!-- 9&#45;&gt;11 -->\n",
       "<g id=\"edge11\" class=\"edge\">\n",
       "<title>9&#45;&gt;11</title>\n",
       "<path fill=\"none\" stroke=\"black\" d=\"M853.43,-88.95C861.85,-79.8 870.99,-69.87 879.42,-60.71\"/>\n",
       "<polygon fill=\"black\" stroke=\"black\" points=\"882.11,-62.96 886.31,-53.24 876.96,-58.22 882.11,-62.96\"/>\n",
       "</g>\n",
       "<!-- 13 -->\n",
       "<g id=\"node14\" class=\"node\">\n",
       "<title>13</title>\n",
       "<path fill=\"#fbece1\" stroke=\"black\" d=\"M1140.5,-53C1140.5,-53 1011.5,-53 1011.5,-53 1005.5,-53 999.5,-47 999.5,-41 999.5,-41 999.5,-12 999.5,-12 999.5,-6 1005.5,0 1011.5,0 1011.5,0 1140.5,0 1140.5,0 1146.5,0 1152.5,-6 1152.5,-12 1152.5,-12 1152.5,-41 1152.5,-41 1152.5,-47 1146.5,-53 1140.5,-53\"/>\n",
       "<text text-anchor=\"start\" x=\"1007.5\" y=\"-37.8\" font-family=\"Helvetica,sans-Serif\" font-size=\"14.00\">friedman_mse = 0.118</text>\n",
       "<text text-anchor=\"start\" x=\"1031\" y=\"-22.8\" font-family=\"Helvetica,sans-Serif\" font-size=\"14.00\">samples = 304</text>\n",
       "<text text-anchor=\"start\" x=\"1036.5\" y=\"-7.8\" font-family=\"Helvetica,sans-Serif\" font-size=\"14.00\">value = &#45;0.93</text>\n",
       "</g>\n",
       "<!-- 12&#45;&gt;13 -->\n",
       "<g id=\"edge13\" class=\"edge\">\n",
       "<title>12&#45;&gt;13</title>\n",
       "<path fill=\"none\" stroke=\"black\" d=\"M1076,-88.95C1076,-80.72 1076,-71.85 1076,-63.48\"/>\n",
       "<polygon fill=\"black\" stroke=\"black\" points=\"1079.5,-63.24 1076,-53.24 1072.5,-63.24 1079.5,-63.24\"/>\n",
       "</g>\n",
       "<!-- 14 -->\n",
       "<g id=\"node15\" class=\"node\">\n",
       "<title>14</title>\n",
       "<path fill=\"#f3c5a4\" stroke=\"black\" d=\"M1311.5,-53C1311.5,-53 1182.5,-53 1182.5,-53 1176.5,-53 1170.5,-47 1170.5,-41 1170.5,-41 1170.5,-12 1170.5,-12 1170.5,-6 1176.5,0 1182.5,0 1182.5,0 1311.5,0 1311.5,0 1317.5,0 1323.5,-6 1323.5,-12 1323.5,-12 1323.5,-41 1323.5,-41 1323.5,-47 1317.5,-53 1311.5,-53\"/>\n",
       "<text text-anchor=\"start\" x=\"1178.5\" y=\"-37.8\" font-family=\"Helvetica,sans-Serif\" font-size=\"14.00\">friedman_mse = 0.244</text>\n",
       "<text text-anchor=\"start\" x=\"1206\" y=\"-22.8\" font-family=\"Helvetica,sans-Serif\" font-size=\"14.00\">samples = 38</text>\n",
       "<text text-anchor=\"start\" x=\"1206\" y=\"-7.8\" font-family=\"Helvetica,sans-Serif\" font-size=\"14.00\">value = 0.233</text>\n",
       "</g>\n",
       "<!-- 12&#45;&gt;14 -->\n",
       "<g id=\"edge14\" class=\"edge\">\n",
       "<title>12&#45;&gt;14</title>\n",
       "<path fill=\"none\" stroke=\"black\" d=\"M1135.81,-88.95C1153.93,-78.93 1173.76,-67.98 1191.58,-58.13\"/>\n",
       "<polygon fill=\"black\" stroke=\"black\" points=\"1193.64,-60.99 1200.7,-53.09 1190.25,-54.86 1193.64,-60.99\"/>\n",
       "</g>\n",
       "</g>\n",
       "</svg>\n"
      ],
      "text/plain": [
       "<graphviz.files.Source at 0x7fbcbd905880>"
      ]
     },
     "execution_count": 57,
     "metadata": {},
     "output_type": "execute_result"
    }
   ],
   "source": [
    "graph_tree(boost_model.estimators_[1][0], col_names=label_binarizer_mapper.transformed_names_)"
   ]
  },
  {
   "cell_type": "markdown",
   "metadata": {},
   "source": [
    "#### Bonus: Features polinomicas en LR\n",
    "\n",
    "https://scikit-learn.org/stable/modules/generated/sklearn.preprocessing.PolynomialFeatures.html"
   ]
  },
  {
   "cell_type": "code",
   "execution_count": 58,
   "metadata": {
    "ExecuteTime": {
     "end_time": "2020-05-04T20:44:37.573446Z",
     "start_time": "2020-05-04T20:44:37.570918Z"
    }
   },
   "outputs": [],
   "source": [
    "from sklearn.preprocessing import PolynomialFeatures"
   ]
  },
  {
   "cell_type": "code",
   "execution_count": 59,
   "metadata": {
    "ExecuteTime": {
     "end_time": "2020-05-04T20:44:38.098794Z",
     "start_time": "2020-05-04T20:44:37.574863Z"
    }
   },
   "outputs": [
    {
     "data": {
      "text/plain": [
       "'LR'"
      ]
     },
     "metadata": {},
     "output_type": "display_data"
    },
    {
     "data": {
      "text/html": [
       "<div>\n",
       "<style scoped>\n",
       "    .dataframe tbody tr th:only-of-type {\n",
       "        vertical-align: middle;\n",
       "    }\n",
       "\n",
       "    .dataframe tbody tr th {\n",
       "        vertical-align: top;\n",
       "    }\n",
       "\n",
       "    .dataframe thead th {\n",
       "        text-align: right;\n",
       "    }\n",
       "</style>\n",
       "<table border=\"1\" class=\"dataframe\">\n",
       "  <thead>\n",
       "    <tr style=\"text-align: right;\">\n",
       "      <th></th>\n",
       "      <th>Accuracy</th>\n",
       "      <th>Precision</th>\n",
       "      <th>Recall</th>\n",
       "      <th>F1</th>\n",
       "    </tr>\n",
       "  </thead>\n",
       "  <tbody>\n",
       "    <tr>\n",
       "      <th>train</th>\n",
       "      <td>0.808630</td>\n",
       "      <td>0.769663</td>\n",
       "      <td>0.691919</td>\n",
       "      <td>0.728723</td>\n",
       "    </tr>\n",
       "    <tr>\n",
       "      <th>validation</th>\n",
       "      <td>0.825843</td>\n",
       "      <td>0.771429</td>\n",
       "      <td>0.782609</td>\n",
       "      <td>0.776978</td>\n",
       "    </tr>\n",
       "  </tbody>\n",
       "</table>\n",
       "</div>"
      ],
      "text/plain": [
       "            Accuracy  Precision    Recall        F1\n",
       "train       0.808630   0.769663  0.691919  0.728723\n",
       "validation  0.825843   0.771429  0.782609  0.776978"
      ]
     },
     "metadata": {},
     "output_type": "display_data"
    },
    {
     "data": {
      "image/png": "[encoded data removed]",
      "text/plain": [
       "<Figure size 1080x216 with 2 Axes>"
      ]
     },
     "metadata": {
      "needs_background": "light"
     },
     "output_type": "display_data"
    },
    {
     "data": {
      "text/plain": [
       "'LR con features polinomicas'"
      ]
     },
     "metadata": {},
     "output_type": "display_data"
    },
    {
     "data": {
      "text/html": [
       "<div>\n",
       "<style scoped>\n",
       "    .dataframe tbody tr th:only-of-type {\n",
       "        vertical-align: middle;\n",
       "    }\n",
       "\n",
       "    .dataframe tbody tr th {\n",
       "        vertical-align: top;\n",
       "    }\n",
       "\n",
       "    .dataframe thead th {\n",
       "        text-align: right;\n",
       "    }\n",
       "</style>\n",
       "<table border=\"1\" class=\"dataframe\">\n",
       "  <thead>\n",
       "    <tr style=\"text-align: right;\">\n",
       "      <th></th>\n",
       "      <th>Accuracy</th>\n",
       "      <th>Precision</th>\n",
       "      <th>Recall</th>\n",
       "      <th>F1</th>\n",
       "    </tr>\n",
       "  </thead>\n",
       "  <tbody>\n",
       "    <tr>\n",
       "      <th>train</th>\n",
       "      <td>0.863039</td>\n",
       "      <td>0.893082</td>\n",
       "      <td>0.717172</td>\n",
       "      <td>0.795518</td>\n",
       "    </tr>\n",
       "    <tr>\n",
       "      <th>validation</th>\n",
       "      <td>0.831461</td>\n",
       "      <td>0.819672</td>\n",
       "      <td>0.724638</td>\n",
       "      <td>0.769231</td>\n",
       "    </tr>\n",
       "  </tbody>\n",
       "</table>\n",
       "</div>"
      ],
      "text/plain": [
       "            Accuracy  Precision    Recall        F1\n",
       "train       0.863039   0.893082  0.717172  0.795518\n",
       "validation  0.831461   0.819672  0.724638  0.769231"
      ]
     },
     "metadata": {},
     "output_type": "display_data"
    },
    {
     "data": {
      "image/png": "[encoded data removed]",
      "text/plain": [
       "<Figure size 1080x216 with 2 Axes>"
      ]
     },
     "metadata": {
      "needs_background": "light"
     },
     "output_type": "display_data"
    }
   ],
   "source": [
    "lr_model_pf = Pipeline([\n",
    "    ('mapper', complete_mapper),\n",
    "    ('imputer', IterativeImputer(random_state=42)),\n",
    "    ('poli', PolynomialFeatures(degree=2)),\n",
    "    ('classifier', LogisticRegression(max_iter=3000, random_state=42)),\n",
    "])\n",
    "\n",
    "lr_model_pf.fit(train, train.survived)\n",
    "\n",
    "evaluate_model(lr_model_ii, title='LR')\n",
    "evaluate_model(lr_model_pf, title='LR con features polinomicas')"
   ]
  },
  {
   "cell_type": "markdown",
   "metadata": {},
   "source": [
    "## El mejor modelo...\n",
    "\n",
    "\n",
    "Es accuracy la mejor métrica?\n"
   ]
  },
  {
   "cell_type": "code",
   "execution_count": 60,
   "metadata": {
    "ExecuteTime": {
     "end_time": "2020-05-04T20:44:38.578311Z",
     "start_time": "2020-05-04T20:44:38.100621Z"
    },
    "scrolled": false
   },
   "outputs": [
    {
     "data": {
      "text/plain": [
       "'LR Simple Imputer'"
      ]
     },
     "metadata": {},
     "output_type": "display_data"
    },
    {
     "data": {
      "text/html": [
       "<div>\n",
       "<style scoped>\n",
       "    .dataframe tbody tr th:only-of-type {\n",
       "        vertical-align: middle;\n",
       "    }\n",
       "\n",
       "    .dataframe tbody tr th {\n",
       "        vertical-align: top;\n",
       "    }\n",
       "\n",
       "    .dataframe thead th {\n",
       "        text-align: right;\n",
       "    }\n",
       "</style>\n",
       "<table border=\"1\" class=\"dataframe\">\n",
       "  <thead>\n",
       "    <tr style=\"text-align: right;\">\n",
       "      <th></th>\n",
       "      <th>Accuracy</th>\n",
       "      <th>Precision</th>\n",
       "      <th>Recall</th>\n",
       "      <th>F1</th>\n",
       "    </tr>\n",
       "  </thead>\n",
       "  <tbody>\n",
       "    <tr>\n",
       "      <th>train</th>\n",
       "      <td>0.806754</td>\n",
       "      <td>0.768362</td>\n",
       "      <td>0.686869</td>\n",
       "      <td>0.725333</td>\n",
       "    </tr>\n",
       "    <tr>\n",
       "      <th>test</th>\n",
       "      <td>0.792135</td>\n",
       "      <td>0.772727</td>\n",
       "      <td>0.698630</td>\n",
       "      <td>0.733813</td>\n",
       "    </tr>\n",
       "    <tr>\n",
       "      <th>validation</th>\n",
       "      <td>0.808989</td>\n",
       "      <td>0.739726</td>\n",
       "      <td>0.782609</td>\n",
       "      <td>0.760563</td>\n",
       "    </tr>\n",
       "  </tbody>\n",
       "</table>\n",
       "</div>"
      ],
      "text/plain": [
       "            Accuracy  Precision    Recall        F1\n",
       "train       0.806754   0.768362  0.686869  0.725333\n",
       "test        0.792135   0.772727  0.698630  0.733813\n",
       "validation  0.808989   0.739726  0.782609  0.760563"
      ]
     },
     "metadata": {},
     "output_type": "display_data"
    },
    {
     "data": {
      "text/plain": [
       "'LR Iterative Imputer'"
      ]
     },
     "metadata": {},
     "output_type": "display_data"
    },
    {
     "data": {
      "text/html": [
       "<div>\n",
       "<style scoped>\n",
       "    .dataframe tbody tr th:only-of-type {\n",
       "        vertical-align: middle;\n",
       "    }\n",
       "\n",
       "    .dataframe tbody tr th {\n",
       "        vertical-align: top;\n",
       "    }\n",
       "\n",
       "    .dataframe thead th {\n",
       "        text-align: right;\n",
       "    }\n",
       "</style>\n",
       "<table border=\"1\" class=\"dataframe\">\n",
       "  <thead>\n",
       "    <tr style=\"text-align: right;\">\n",
       "      <th></th>\n",
       "      <th>Accuracy</th>\n",
       "      <th>Precision</th>\n",
       "      <th>Recall</th>\n",
       "      <th>F1</th>\n",
       "    </tr>\n",
       "  </thead>\n",
       "  <tbody>\n",
       "    <tr>\n",
       "      <th>train</th>\n",
       "      <td>0.808630</td>\n",
       "      <td>0.769663</td>\n",
       "      <td>0.691919</td>\n",
       "      <td>0.728723</td>\n",
       "    </tr>\n",
       "    <tr>\n",
       "      <th>test</th>\n",
       "      <td>0.797753</td>\n",
       "      <td>0.784615</td>\n",
       "      <td>0.698630</td>\n",
       "      <td>0.739130</td>\n",
       "    </tr>\n",
       "    <tr>\n",
       "      <th>validation</th>\n",
       "      <td>0.825843</td>\n",
       "      <td>0.771429</td>\n",
       "      <td>0.782609</td>\n",
       "      <td>0.776978</td>\n",
       "    </tr>\n",
       "  </tbody>\n",
       "</table>\n",
       "</div>"
      ],
      "text/plain": [
       "            Accuracy  Precision    Recall        F1\n",
       "train       0.808630   0.769663  0.691919  0.728723\n",
       "test        0.797753   0.784615  0.698630  0.739130\n",
       "validation  0.825843   0.771429  0.782609  0.776978"
      ]
     },
     "metadata": {},
     "output_type": "display_data"
    },
    {
     "data": {
      "text/plain": [
       "'LR con features polinomicas'"
      ]
     },
     "metadata": {},
     "output_type": "display_data"
    },
    {
     "data": {
      "text/html": [
       "<div>\n",
       "<style scoped>\n",
       "    .dataframe tbody tr th:only-of-type {\n",
       "        vertical-align: middle;\n",
       "    }\n",
       "\n",
       "    .dataframe tbody tr th {\n",
       "        vertical-align: top;\n",
       "    }\n",
       "\n",
       "    .dataframe thead th {\n",
       "        text-align: right;\n",
       "    }\n",
       "</style>\n",
       "<table border=\"1\" class=\"dataframe\">\n",
       "  <thead>\n",
       "    <tr style=\"text-align: right;\">\n",
       "      <th></th>\n",
       "      <th>Accuracy</th>\n",
       "      <th>Precision</th>\n",
       "      <th>Recall</th>\n",
       "      <th>F1</th>\n",
       "    </tr>\n",
       "  </thead>\n",
       "  <tbody>\n",
       "    <tr>\n",
       "      <th>train</th>\n",
       "      <td>0.863039</td>\n",
       "      <td>0.893082</td>\n",
       "      <td>0.717172</td>\n",
       "      <td>0.795518</td>\n",
       "    </tr>\n",
       "    <tr>\n",
       "      <th>test</th>\n",
       "      <td>0.792135</td>\n",
       "      <td>0.821429</td>\n",
       "      <td>0.630137</td>\n",
       "      <td>0.713178</td>\n",
       "    </tr>\n",
       "    <tr>\n",
       "      <th>validation</th>\n",
       "      <td>0.831461</td>\n",
       "      <td>0.819672</td>\n",
       "      <td>0.724638</td>\n",
       "      <td>0.769231</td>\n",
       "    </tr>\n",
       "  </tbody>\n",
       "</table>\n",
       "</div>"
      ],
      "text/plain": [
       "            Accuracy  Precision    Recall        F1\n",
       "train       0.863039   0.893082  0.717172  0.795518\n",
       "test        0.792135   0.821429  0.630137  0.713178\n",
       "validation  0.831461   0.819672  0.724638  0.769231"
      ]
     },
     "metadata": {},
     "output_type": "display_data"
    },
    {
     "data": {
      "text/plain": [
       "'Knn'"
      ]
     },
     "metadata": {},
     "output_type": "display_data"
    },
    {
     "data": {
      "text/html": [
       "<div>\n",
       "<style scoped>\n",
       "    .dataframe tbody tr th:only-of-type {\n",
       "        vertical-align: middle;\n",
       "    }\n",
       "\n",
       "    .dataframe tbody tr th {\n",
       "        vertical-align: top;\n",
       "    }\n",
       "\n",
       "    .dataframe thead th {\n",
       "        text-align: right;\n",
       "    }\n",
       "</style>\n",
       "<table border=\"1\" class=\"dataframe\">\n",
       "  <thead>\n",
       "    <tr style=\"text-align: right;\">\n",
       "      <th></th>\n",
       "      <th>Accuracy</th>\n",
       "      <th>Precision</th>\n",
       "      <th>Recall</th>\n",
       "      <th>F1</th>\n",
       "    </tr>\n",
       "  </thead>\n",
       "  <tbody>\n",
       "    <tr>\n",
       "      <th>train</th>\n",
       "      <td>0.838649</td>\n",
       "      <td>0.858974</td>\n",
       "      <td>0.676768</td>\n",
       "      <td>0.757062</td>\n",
       "    </tr>\n",
       "    <tr>\n",
       "      <th>test</th>\n",
       "      <td>0.786517</td>\n",
       "      <td>0.830189</td>\n",
       "      <td>0.602740</td>\n",
       "      <td>0.698413</td>\n",
       "    </tr>\n",
       "    <tr>\n",
       "      <th>validation</th>\n",
       "      <td>0.825843</td>\n",
       "      <td>0.806452</td>\n",
       "      <td>0.724638</td>\n",
       "      <td>0.763359</td>\n",
       "    </tr>\n",
       "  </tbody>\n",
       "</table>\n",
       "</div>"
      ],
      "text/plain": [
       "            Accuracy  Precision    Recall        F1\n",
       "train       0.838649   0.858974  0.676768  0.757062\n",
       "test        0.786517   0.830189  0.602740  0.698413\n",
       "validation  0.825843   0.806452  0.724638  0.763359"
      ]
     },
     "metadata": {},
     "output_type": "display_data"
    },
    {
     "data": {
      "text/plain": [
       "'Decision Tree'"
      ]
     },
     "metadata": {},
     "output_type": "display_data"
    },
    {
     "data": {
      "text/html": [
       "<div>\n",
       "<style scoped>\n",
       "    .dataframe tbody tr th:only-of-type {\n",
       "        vertical-align: middle;\n",
       "    }\n",
       "\n",
       "    .dataframe tbody tr th {\n",
       "        vertical-align: top;\n",
       "    }\n",
       "\n",
       "    .dataframe thead th {\n",
       "        text-align: right;\n",
       "    }\n",
       "</style>\n",
       "<table border=\"1\" class=\"dataframe\">\n",
       "  <thead>\n",
       "    <tr style=\"text-align: right;\">\n",
       "      <th></th>\n",
       "      <th>Accuracy</th>\n",
       "      <th>Precision</th>\n",
       "      <th>Recall</th>\n",
       "      <th>F1</th>\n",
       "    </tr>\n",
       "  </thead>\n",
       "  <tbody>\n",
       "    <tr>\n",
       "      <th>train</th>\n",
       "      <td>0.833021</td>\n",
       "      <td>0.826347</td>\n",
       "      <td>0.696970</td>\n",
       "      <td>0.756164</td>\n",
       "    </tr>\n",
       "    <tr>\n",
       "      <th>test</th>\n",
       "      <td>0.792135</td>\n",
       "      <td>0.821429</td>\n",
       "      <td>0.630137</td>\n",
       "      <td>0.713178</td>\n",
       "    </tr>\n",
       "    <tr>\n",
       "      <th>validation</th>\n",
       "      <td>0.792135</td>\n",
       "      <td>0.742424</td>\n",
       "      <td>0.710145</td>\n",
       "      <td>0.725926</td>\n",
       "    </tr>\n",
       "  </tbody>\n",
       "</table>\n",
       "</div>"
      ],
      "text/plain": [
       "            Accuracy  Precision    Recall        F1\n",
       "train       0.833021   0.826347  0.696970  0.756164\n",
       "test        0.792135   0.821429  0.630137  0.713178\n",
       "validation  0.792135   0.742424  0.710145  0.725926"
      ]
     },
     "metadata": {},
     "output_type": "display_data"
    },
    {
     "data": {
      "text/plain": [
       "'Random Forest'"
      ]
     },
     "metadata": {},
     "output_type": "display_data"
    },
    {
     "data": {
      "text/html": [
       "<div>\n",
       "<style scoped>\n",
       "    .dataframe tbody tr th:only-of-type {\n",
       "        vertical-align: middle;\n",
       "    }\n",
       "\n",
       "    .dataframe tbody tr th {\n",
       "        vertical-align: top;\n",
       "    }\n",
       "\n",
       "    .dataframe thead th {\n",
       "        text-align: right;\n",
       "    }\n",
       "</style>\n",
       "<table border=\"1\" class=\"dataframe\">\n",
       "  <thead>\n",
       "    <tr style=\"text-align: right;\">\n",
       "      <th></th>\n",
       "      <th>Accuracy</th>\n",
       "      <th>Precision</th>\n",
       "      <th>Recall</th>\n",
       "      <th>F1</th>\n",
       "    </tr>\n",
       "  </thead>\n",
       "  <tbody>\n",
       "    <tr>\n",
       "      <th>train</th>\n",
       "      <td>0.833021</td>\n",
       "      <td>0.909774</td>\n",
       "      <td>0.611111</td>\n",
       "      <td>0.731118</td>\n",
       "    </tr>\n",
       "    <tr>\n",
       "      <th>test</th>\n",
       "      <td>0.764045</td>\n",
       "      <td>0.829787</td>\n",
       "      <td>0.534247</td>\n",
       "      <td>0.650000</td>\n",
       "    </tr>\n",
       "    <tr>\n",
       "      <th>validation</th>\n",
       "      <td>0.820225</td>\n",
       "      <td>0.877551</td>\n",
       "      <td>0.623188</td>\n",
       "      <td>0.728814</td>\n",
       "    </tr>\n",
       "  </tbody>\n",
       "</table>\n",
       "</div>"
      ],
      "text/plain": [
       "            Accuracy  Precision    Recall        F1\n",
       "train       0.833021   0.909774  0.611111  0.731118\n",
       "test        0.764045   0.829787  0.534247  0.650000\n",
       "validation  0.820225   0.877551  0.623188  0.728814"
      ]
     },
     "metadata": {},
     "output_type": "display_data"
    },
    {
     "data": {
      "text/plain": [
       "'Random Forest after Cross Validation'"
      ]
     },
     "metadata": {},
     "output_type": "display_data"
    },
    {
     "data": {
      "text/html": [
       "<div>\n",
       "<style scoped>\n",
       "    .dataframe tbody tr th:only-of-type {\n",
       "        vertical-align: middle;\n",
       "    }\n",
       "\n",
       "    .dataframe tbody tr th {\n",
       "        vertical-align: top;\n",
       "    }\n",
       "\n",
       "    .dataframe thead th {\n",
       "        text-align: right;\n",
       "    }\n",
       "</style>\n",
       "<table border=\"1\" class=\"dataframe\">\n",
       "  <thead>\n",
       "    <tr style=\"text-align: right;\">\n",
       "      <th></th>\n",
       "      <th>Accuracy</th>\n",
       "      <th>Precision</th>\n",
       "      <th>Recall</th>\n",
       "      <th>F1</th>\n",
       "    </tr>\n",
       "  </thead>\n",
       "  <tbody>\n",
       "    <tr>\n",
       "      <th>train</th>\n",
       "      <td>0.879925</td>\n",
       "      <td>0.929487</td>\n",
       "      <td>0.732323</td>\n",
       "      <td>0.819209</td>\n",
       "    </tr>\n",
       "    <tr>\n",
       "      <th>test</th>\n",
       "      <td>0.792135</td>\n",
       "      <td>0.846154</td>\n",
       "      <td>0.602740</td>\n",
       "      <td>0.704000</td>\n",
       "    </tr>\n",
       "    <tr>\n",
       "      <th>validation</th>\n",
       "      <td>0.825843</td>\n",
       "      <td>0.816667</td>\n",
       "      <td>0.710145</td>\n",
       "      <td>0.759690</td>\n",
       "    </tr>\n",
       "  </tbody>\n",
       "</table>\n",
       "</div>"
      ],
      "text/plain": [
       "            Accuracy  Precision    Recall        F1\n",
       "train       0.879925   0.929487  0.732323  0.819209\n",
       "test        0.792135   0.846154  0.602740  0.704000\n",
       "validation  0.825843   0.816667  0.710145  0.759690"
      ]
     },
     "metadata": {},
     "output_type": "display_data"
    },
    {
     "data": {
      "text/plain": [
       "'Gradient Boosting'"
      ]
     },
     "metadata": {},
     "output_type": "display_data"
    },
    {
     "data": {
      "text/html": [
       "<div>\n",
       "<style scoped>\n",
       "    .dataframe tbody tr th:only-of-type {\n",
       "        vertical-align: middle;\n",
       "    }\n",
       "\n",
       "    .dataframe tbody tr th {\n",
       "        vertical-align: top;\n",
       "    }\n",
       "\n",
       "    .dataframe thead th {\n",
       "        text-align: right;\n",
       "    }\n",
       "</style>\n",
       "<table border=\"1\" class=\"dataframe\">\n",
       "  <thead>\n",
       "    <tr style=\"text-align: right;\">\n",
       "      <th></th>\n",
       "      <th>Accuracy</th>\n",
       "      <th>Precision</th>\n",
       "      <th>Recall</th>\n",
       "      <th>F1</th>\n",
       "    </tr>\n",
       "  </thead>\n",
       "  <tbody>\n",
       "    <tr>\n",
       "      <th>train</th>\n",
       "      <td>0.932458</td>\n",
       "      <td>0.976471</td>\n",
       "      <td>0.838384</td>\n",
       "      <td>0.902174</td>\n",
       "    </tr>\n",
       "    <tr>\n",
       "      <th>test</th>\n",
       "      <td>0.792135</td>\n",
       "      <td>0.810345</td>\n",
       "      <td>0.643836</td>\n",
       "      <td>0.717557</td>\n",
       "    </tr>\n",
       "    <tr>\n",
       "      <th>validation</th>\n",
       "      <td>0.876404</td>\n",
       "      <td>0.885246</td>\n",
       "      <td>0.782609</td>\n",
       "      <td>0.830769</td>\n",
       "    </tr>\n",
       "  </tbody>\n",
       "</table>\n",
       "</div>"
      ],
      "text/plain": [
       "            Accuracy  Precision    Recall        F1\n",
       "train       0.932458   0.976471  0.838384  0.902174\n",
       "test        0.792135   0.810345  0.643836  0.717557\n",
       "validation  0.876404   0.885246  0.782609  0.830769"
      ]
     },
     "metadata": {},
     "output_type": "display_data"
    }
   ],
   "source": [
    "evaluate_model(lr_model_si, title='LR Simple Imputer', set_names=('train', 'test', 'validation'), show_cm=False)\n",
    "evaluate_model(lr_model_ii, title='LR Iterative Imputer', set_names=('train', 'test', 'validation'), show_cm=False)\n",
    "evaluate_model(lr_model_pf, title='LR con features polinomicas', set_names=('train', 'test', 'validation'), show_cm=False)\n",
    "evaluate_model(knn_model, title='Knn', set_names=('train', 'test', 'validation'), show_cm=False)\n",
    "evaluate_model(dt_model, title='Decision Tree', set_names=('train', 'test', 'validation'), show_cm=False)\n",
    "evaluate_model(rf_model, title='Random Forest', set_names=('train', 'test', 'validation'), show_cm=False)\n",
    "evaluate_model(gs_pipe, title='Random Forest after Cross Validation', set_names=('train', 'test', 'validation'), show_cm=False)\n",
    "evaluate_model(boo_model, title='Gradient Boosting', set_names=('train', 'test', 'validation'), show_cm=False)"
   ]
  },
  {
   "cell_type": "code",
   "execution_count": null,
   "metadata": {},
   "outputs": [],
   "source": []
  }
 ],
 "metadata": {
  "hide_input": false,
  "kernelspec": {
   "display_name": "Python 3",
   "language": "python",
   "name": "python3"
  },
  "language_info": {
   "codemirror_mode": {
    "name": "ipython",
    "version": 3
   },
   "file_extension": ".py",
   "mimetype": "text/x-python",
   "name": "python",
   "nbconvert_exporter": "python",
   "pygments_lexer": "ipython3",
   "version": "3.8.5"
  },
  "toc": {
   "base_numbering": 1,
   "nav_menu": {},
   "number_sections": false,
   "sideBar": true,
   "skip_h1_title": false,
   "title_cell": "Table of Contents",
   "title_sidebar": "Contents",
   "toc_cell": false,
   "toc_position": {
    "height": "calc(100% - 180px)",
    "left": "10px",
    "top": "150px",
    "width": "320px"
   },
   "toc_section_display": true,
   "toc_window_display": false
  }
 },
 "nbformat": 4,
 "nbformat_minor": 2
}
