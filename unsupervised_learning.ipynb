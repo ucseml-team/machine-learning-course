{
 "cells": [
  {
   "cell_type": "markdown",
   "metadata": {
    "slideshow": {
     "slide_type": "subslide"
    }
   },
   "source": [
    "# Aprendizaje no supervisado"
   ]
  },
  {
   "cell_type": "markdown",
   "metadata": {
    "slideshow": {
     "slide_type": "subslide"
    }
   },
   "source": [
    "# Por qué? Cuándo?"
   ]
  },
  {
   "cell_type": "markdown",
   "metadata": {
    "slideshow": {
     "slide_type": "fragment"
    }
   },
   "source": [
    "Cuando necesitamos que un modelo encuentre **estructura** en datos que **no están etiquetados (no tienen columnas \"de salida\")**."
   ]
  },
  {
   "cell_type": "markdown",
   "metadata": {
    "slideshow": {
     "slide_type": "fragment"
    }
   },
   "source": [
    "La estructura a encontrar puede ser:\n",
    "\n",
    "- Agrupamiento de los datos (**clustering**).\n",
    "- Detección de **datos anómalos**.\n",
    "- Asociación de items (**association rules**)"
   ]
  },
  {
   "cell_type": "markdown",
   "metadata": {
    "slideshow": {
     "slide_type": "fragment"
    }
   },
   "source": [
    "Por lo general, hablamos de problemas donde los **humanos no pueden hacerlo** por si mismos, la data es demasiado grande (ej: encontrar agrupaciones de genes).\n",
    "\n",
    "Pero para **interpretar** los resultados, hace falta un humano."
   ]
  },
  {
   "cell_type": "markdown",
   "metadata": {
    "slideshow": {
     "slide_type": "subslide"
    }
   },
   "source": [
    "![](files/images/ml_process.svg)"
   ]
  },
  {
   "cell_type": "markdown",
   "metadata": {
    "slideshow": {
     "slide_type": "subslide"
    }
   },
   "source": [
    "# Función resultante"
   ]
  },
  {
   "cell_type": "markdown",
   "metadata": {
    "slideshow": {
     "slide_type": "fragment"
    }
   },
   "source": [
    "En aprendizaje **supervisado**, era claro que el resultado era una función que sabía predecir o clasificar.\n",
    "\n",
    "En aprendizaje **no supervisado**, no es tan claro. \n",
    "\n",
    "- Para clustering la salida puede ser simplemente la data agrupada. Puede o no dar una función que permita seguir agrupando.\n",
    "- Para detección de anomalías, la salida suele ser simplemente las anomalías detectadas. Puede o no dar una función que permita seguir detectando anomalías en nueva data.\n",
    "- Para reglas de asociación, la salida son las reglas encontradas."
   ]
  },
  {
   "cell_type": "markdown",
   "metadata": {
    "slideshow": {
     "slide_type": "subslide"
    }
   },
   "source": [
    "# Clustering"
   ]
  },
  {
   "cell_type": "markdown",
   "metadata": {
    "slideshow": {
     "slide_type": "fragment"
    }
   },
   "source": [
    "Tenemos un montón de **puntos**.\n",
    "\n",
    "Buscamos una forma de **agrupar esos puntos**."
   ]
  },
  {
   "cell_type": "markdown",
   "metadata": {
    "slideshow": {
     "slide_type": "subslide"
    }
   },
   "source": [
    "![](files/images/unsupervised_learning_1.svg)"
   ]
  },
  {
   "cell_type": "markdown",
   "metadata": {
    "slideshow": {
     "slide_type": "subslide"
    }
   },
   "source": [
    "![](files/images/unsupervised_learning_2.svg)"
   ]
  },
  {
   "cell_type": "markdown",
   "metadata": {
    "slideshow": {
     "slide_type": "subslide"
    }
   },
   "source": [
    "Los algoritmos no nos van a decir **por qué** esas cosas se agrupan, solo nos van a decir \"esto es parecido a esto, y diferente a esto otro\".\n",
    "\n",
    "Un experto del dominio luego puede intentar interpretar los grupos."
   ]
  },
  {
   "cell_type": "markdown",
   "metadata": {
    "slideshow": {
     "slide_type": "subslide"
    }
   },
   "source": [
    "# Clustering: K-means"
   ]
  },
  {
   "cell_type": "markdown",
   "metadata": {
    "slideshow": {
     "slide_type": "fragment"
    }
   },
   "source": [
    "Es un algoritmo muy sencillo de clustering, que permite **agrupar** los datos en **K grupos**, siendo K un valor definido por nosotros.\n",
    "\n",
    "Lo logra buscando **centroides** que minimicen la distancia entre ellos y los ejemplos de entrenamiento."
   ]
  },
  {
   "cell_type": "markdown",
   "metadata": {
    "slideshow": {
     "slide_type": "subslide"
    }
   },
   "source": [
    "![](files/images/kmeans_step1.svg)"
   ]
  },
  {
   "cell_type": "markdown",
   "metadata": {
    "slideshow": {
     "slide_type": "subslide"
    }
   },
   "source": [
    "![](files/images/kmeans_step2.svg)"
   ]
  },
  {
   "cell_type": "markdown",
   "metadata": {
    "slideshow": {
     "slide_type": "fragment"
    }
   },
   "source": [
    "Qué valores elegimos?\n",
    "\n",
    "- random entre rangos de los valores de nuestras features\n",
    "- random sacando K ejemplos de nuestra data\n",
    "- Algún método más inteligente?... (k-means++)"
   ]
  },
  {
   "cell_type": "markdown",
   "metadata": {
    "slideshow": {
     "slide_type": "subslide"
    }
   },
   "source": [
    "![](files/images/kmeans_step3.svg)"
   ]
  },
  {
   "cell_type": "markdown",
   "metadata": {
    "slideshow": {
     "slide_type": "subslide"
    }
   },
   "source": [
    "![](files/images/kmeans_step4.svg)"
   ]
  },
  {
   "cell_type": "markdown",
   "metadata": {
    "slideshow": {
     "slide_type": "subslide"
    }
   },
   "source": [
    "![](files/images/kmeans_step5.svg)"
   ]
  },
  {
   "cell_type": "markdown",
   "metadata": {
    "slideshow": {
     "slide_type": "subslide"
    }
   },
   "source": [
    "![](files/images/kmeans_step6.svg)"
   ]
  },
  {
   "cell_type": "markdown",
   "metadata": {
    "slideshow": {
     "slide_type": "subslide"
    }
   },
   "source": [
    "Resultado:\n",
    "\n",
    "- La data está agrupada!\n",
    "- Y tenemos los centroides para clasificar (determinar grupo) nueva data"
   ]
  },
  {
   "cell_type": "markdown",
   "metadata": {
    "slideshow": {
     "slide_type": "subslide"
    }
   },
   "source": [
    "# Clustering: problemas de K-means"
   ]
  },
  {
   "cell_type": "markdown",
   "metadata": {
    "slideshow": {
     "slide_type": "fragment"
    }
   },
   "source": [
    "Problema 1: Qué valor **K** usamos??"
   ]
  },
  {
   "cell_type": "markdown",
   "metadata": {
    "slideshow": {
     "slide_type": "subslide"
    }
   },
   "source": [
    "![](files/images/kmeans_k_small.svg)"
   ]
  },
  {
   "cell_type": "markdown",
   "metadata": {
    "slideshow": {
     "slide_type": "subslide"
    }
   },
   "source": [
    "![](files/images/kmeans_k_big.svg)"
   ]
  },
  {
   "cell_type": "markdown",
   "metadata": {
    "slideshow": {
     "slide_type": "subslide"
    }
   },
   "source": [
    "Solución: podemos **iterar** y tratar de encontrar el mejor valor!"
   ]
  },
  {
   "cell_type": "markdown",
   "metadata": {
    "slideshow": {
     "slide_type": "fragment"
    }
   },
   "source": [
    "... y cuál es el **\"mejor\"**?"
   ]
  },
  {
   "cell_type": "markdown",
   "metadata": {
    "slideshow": {
     "slide_type": "fragment"
    }
   },
   "source": [
    "El que tenga centroides con **menor distancia promedio** a los puntos de su grupo.  (ver **silhouette_score** en sklearn)"
   ]
  },
  {
   "cell_type": "markdown",
   "metadata": {
    "slideshow": {
     "slide_type": "subslide"
    }
   },
   "source": [
    "También en algunos casos, el **problema mismo** nos puede ayudar a decidir el valor para K. (ej: cuántos tipos de remeras podemos fabricar y seguir siendo rentables)"
   ]
  },
  {
   "cell_type": "markdown",
   "metadata": {
    "slideshow": {
     "slide_type": "subslide"
    }
   },
   "source": [
    "Problema 2: máximos locales"
   ]
  },
  {
   "cell_type": "markdown",
   "metadata": {
    "slideshow": {
     "slide_type": "subslide"
    }
   },
   "source": [
    "![](files/images/kmeans_local_max.svg)"
   ]
  },
  {
   "cell_type": "markdown",
   "metadata": {
    "slideshow": {
     "slide_type": "subslide"
    }
   },
   "source": [
    "Solución: podemos iterar (muchas veces con el mismo K), y quedarnos con la **mejor** solución.\n",
    "\n",
    "**Mejor** = mismo criterio que antes!"
   ]
  },
  {
   "cell_type": "markdown",
   "metadata": {
    "slideshow": {
     "slide_type": "subslide"
    }
   },
   "source": [
    "Problema 3: sets que no pueden clusterizarse con centroides\n",
    "\n",
    "![](files/images/kmeans_bad_set.svg)"
   ]
  },
  {
   "cell_type": "markdown",
   "metadata": {
    "slideshow": {
     "slide_type": "subslide"
    }
   },
   "source": [
    "Solución: no hay :(\n",
    "\n",
    "Tenemos que usar algún **otro algoritmo**."
   ]
  },
  {
   "cell_type": "markdown",
   "metadata": {
    "slideshow": {
     "slide_type": "slide"
    }
   },
   "source": [
    "Problema 4: todos los puntos terminan en un cluster \n",
    "\n",
    "![](files/images/kmeans.png)"
   ]
  },
  {
   "cell_type": "markdown",
   "metadata": {
    "slideshow": {
     "slide_type": "slide"
    }
   },
   "source": [
    "Solución: no hay :(\n",
    "\n",
    "Tenemos que usar algún **otro algoritmo**."
   ]
  },
  {
   "cell_type": "markdown",
   "metadata": {
    "slideshow": {
     "slide_type": "slide"
    }
   },
   "source": [
    "Problema 5: no todas las vacas son esfericas\n",
    "\n",
    "![](files/images/kmeans.png)"
   ]
  },
  {
   "cell_type": "markdown",
   "metadata": {
    "ExecuteTime": {
     "end_time": "2021-04-19T20:27:14.887239Z",
     "start_time": "2021-04-19T20:27:14.881611Z"
    },
    "slideshow": {
     "slide_type": "slide"
    }
   },
   "source": [
    "Solución: no hay :(\n",
    "\n",
    "Tenemos que usar algún **otro algoritmo**."
   ]
  },
  {
   "cell_type": "markdown",
   "metadata": {
    "slideshow": {
     "slide_type": "subslide"
    }
   },
   "source": [
    "Ejemplo con ScikitLearn:\n",
    "\n",
    "```python\n",
    ">>> from sklearn.cluster import KMeans\n",
    ">>> X = np.array([[1, 2], [1, 4], [1, 0],\n",
    "...               [4, 2], [4, 4], [4, 0]])\n",
    ">>> kmeans = KMeans(n_clusters=2, random_state=0).fit(X)\n",
    ">>> kmeans.labels_\n",
    "array([0, 0, 0, 1, 1, 1], dtype=int32)\n",
    ">>> kmeans.predict([[0, 0], [4, 4]])\n",
    "array([0, 1], dtype=int32)\n",
    ">>> kmeans.cluster_centers_\n",
    "array([[ 1.,  2.],\n",
    "       [ 4.,  2.]])\n",
    "```"
   ]
  },
  {
   "cell_type": "markdown",
   "metadata": {
    "slideshow": {
     "slide_type": "subslide"
    }
   },
   "source": [
    "# Clustering: otros algoritmos"
   ]
  },
  {
   "cell_type": "markdown",
   "metadata": {
    "slideshow": {
     "slide_type": "subslide"
    }
   },
   "source": [
    "![](files/images/cluster_comparison.png)"
   ]
  },
  {
   "cell_type": "markdown",
   "metadata": {
    "slideshow": {
     "slide_type": "slide"
    }
   },
   "source": [
    "# Clustering: Hierarchical clustering"
   ]
  },
  {
   "cell_type": "markdown",
   "metadata": {
    "slideshow": {
     "slide_type": "-"
    }
   },
   "source": [
    "Es una técnica bastante simple que va generando clusters agrupando o dividiendo clusters:\n",
    "\n",
    "* Aglomerativo: cada instancia arranca en su cluster y en cada iteración se unen los dos clusters mas cercanos\n",
    "* Divisivos: todas las instancias estan inicialmente en un cluster y luego se van dividiendo\n",
    "\n",
    "La forma más común de ver la salida de un cluster jerárquico es un **dendrograma**\n",
    "\n",
    "\n",
    "![](files/images/dendrogram.png)\n",
    "\n",
    "[más info...](https://towardsdatascience.com/understanding-the-concept-of-hierarchical-clustering-technique-c6e8243758ec)"
   ]
  },
  {
   "cell_type": "markdown",
   "metadata": {
    "slideshow": {
     "slide_type": "slide"
    }
   },
   "source": [
    "# Clustering: DBScan"
   ]
  },
  {
   "cell_type": "markdown",
   "metadata": {
    "slideshow": {
     "slide_type": "fragment"
    }
   },
   "source": [
    "<div><img src=\"./images/dbscan.png\" width=\"40%\" style=\"float: left; margin: 10px;\" align=\"middle\"></div>\n",
    "\n",
    "\n",
    "<div><img src=\"./images/dbscan_working.gif\" width=\"50%\" style=\"float: right; margin: 10px;\" align=\"middle\"></div>\n"
   ]
  },
  {
   "cell_type": "markdown",
   "metadata": {
    "slideshow": {
     "slide_type": "fragment"
    }
   },
   "source": [
    "* Ventajas: Encuentra areas densas y elimina outliers\n",
    "* Desventajas: Elegir los parametros es dificil si hay mas de 2 dimensiones"
   ]
  },
  {
   "cell_type": "markdown",
   "metadata": {
    "slideshow": {
     "slide_type": "slide"
    }
   },
   "source": [
    "<div><img src=\"./images/dbscan_result.png\" width=\"50%\" style=\"float: left; margin: 10px;\" align=\"middle\"></div>\n"
   ]
  }
 ],
 "metadata": {
  "celltoolbar": "Slideshow",
  "hide_input": false,
  "kernelspec": {
   "display_name": "Python 3",
   "language": "python",
   "name": "python3"
  },
  "language_info": {
   "codemirror_mode": {
    "name": "ipython",
    "version": 3
   },
   "file_extension": ".py",
   "mimetype": "text/x-python",
   "name": "python",
   "nbconvert_exporter": "python",
   "pygments_lexer": "ipython3",
   "version": "3.8.5"
  },
  "toc": {
   "base_numbering": 1,
   "nav_menu": {},
   "number_sections": false,
   "sideBar": true,
   "skip_h1_title": false,
   "title_cell": "Table of Contents",
   "title_sidebar": "Contents",
   "toc_cell": false,
   "toc_position": {},
   "toc_section_display": true,
   "toc_window_display": false
  }
 },
 "nbformat": 4,
 "nbformat_minor": 1
}
