{
 "cells": [
  {
   "cell_type": "markdown",
   "metadata": {},
   "source": [
    "# Validación de entorno\n",
    "\n",
    "Este notebook realiza algunas pruebas sencillas para validar que tienen un entorno correctamente configurado, donde ejecutar los TPs de la materia. Si todas las celdas de este notebook imprimen \"OK\" como salida, el entorno está bien seteado.\n",
    "\n",
    "Por varias de las dependencias, van a necesitar trabajar sí o sí en un entorno Linux (recomendamos Ubuntu). Puede ser en una instalación normal, o en una máquina virtual."
   ]
  },
  {
   "cell_type": "markdown",
   "metadata": {},
   "source": [
    "# Versión de python"
   ]
  },
  {
   "cell_type": "code",
   "execution_count": 1,
   "metadata": {},
   "outputs": [
    {
     "name": "stdout",
     "output_type": "stream",
     "text": [
      "OK\n"
     ]
    }
   ],
   "source": [
    "import sys\n",
    "\n",
    "if sys.version_info.major == 3:\n",
    "    print('OK')\n",
    "elif sys.version_info.major == 2:\n",
    "    print('ERROR: están usando python 2, deberían usar 3')\n",
    "else:\n",
    "    print('ERROR: wtf, qué versión de python es esta?')"
   ]
  },
  {
   "cell_type": "markdown",
   "metadata": {},
   "source": [
    "# Dependencias\n",
    "\n",
    "Todas se instalan con pip:\n",
    "\n",
    "```\n",
    "pip install jupyter pandas numpy matplotlib seaborn plotly scikit-learn keras tensorflow h5py pillow sklearn-pandas\n",
    "```\n",
    "\n",
    "Si saben utilizar virtualenvs, es super recomendable utilizar virtualenvs. [Tutorial al respecto](http://blog.fisadev.com/posts/virtualenvs-simplest-tutorial/). Si no saben utilizar virtualenvs, es recomendable agregar el parámetro `--user` al final de ese comando, para no instalar las cosas a nivel sistema."
   ]
  },
  {
   "cell_type": "code",
   "execution_count": 2,
   "metadata": {},
   "outputs": [
    {
     "name": "stderr",
     "output_type": "stream",
     "text": [
      "2024-06-27 15:33:51.185275: I tensorflow/core/util/port.cc:113] oneDNN custom operations are on. You may see slightly different numerical results due to floating-point round-off errors from different computation orders. To turn them off, set the environment variable `TF_ENABLE_ONEDNN_OPTS=0`.\n",
      "2024-06-27 15:33:51.192696: I external/local_tsl/tsl/cuda/cudart_stub.cc:32] Could not find cuda drivers on your machine, GPU will not be used.\n",
      "2024-06-27 15:33:51.195561: I external/local_tsl/tsl/cuda/cudart_stub.cc:32] Could not find cuda drivers on your machine, GPU will not be used.\n",
      "2024-06-27 15:33:51.226011: I tensorflow/core/platform/cpu_feature_guard.cc:210] This TensorFlow binary is optimized to use available CPU instructions in performance-critical operations.\n",
      "To enable the following instructions: AVX2 AVX_VNNI FMA, in other operations, rebuild TensorFlow with the appropriate compiler flags.\n",
      "2024-06-27 15:33:51.920912: W tensorflow/compiler/tf2tensorrt/utils/py_utils.cc:38] TF-TRT Warning: Could not find TensorRT\n"
     ]
    },
    {
     "name": "stdout",
     "output_type": "stream",
     "text": [
      "OK (puede salir algún warning, eso no sería problema)\n"
     ]
    }
   ],
   "source": [
    "import numpy\n",
    "import pandas\n",
    "import matplotlib\n",
    "import keras\n",
    "import h5py\n",
    "import PIL\n",
    "import seaborn\n",
    "import plotly\n",
    "import sklearn_pandas\n",
    "\n",
    "print('OK (puede salir algún warning, eso no sería problema)')"
   ]
  },
  {
   "cell_type": "markdown",
   "metadata": {},
   "source": [
    "Asegurarse de que Keras está usando tensorflow:"
   ]
  },
  {
   "cell_type": "code",
   "execution_count": 3,
   "metadata": {},
   "outputs": [
    {
     "name": "stdout",
     "output_type": "stream",
     "text": [
      "OK\n"
     ]
    }
   ],
   "source": [
    "backend = keras.backend.backend()\n",
    "\n",
    "if backend == 'tensorflow':\n",
    "    print('OK')\n",
    "else:\n",
    "    print('ERROR: el backend de keras no es tensorflow, sino', backend)"
   ]
  },
  {
   "cell_type": "code",
   "execution_count": null,
   "metadata": {},
   "outputs": [],
   "source": []
  }
 ],
 "metadata": {
  "hide_input": false,
  "kernelspec": {
   "display_name": "Python 3 (ipykernel)",
   "language": "python",
   "name": "python3"
  },
  "language_info": {
   "codemirror_mode": {
    "name": "ipython",
    "version": 3
   },
   "file_extension": ".py",
   "mimetype": "text/x-python",
   "name": "python",
   "nbconvert_exporter": "python",
   "pygments_lexer": "ipython3",
   "version": "3.11.6"
  },
  "toc": {
   "base_numbering": 1,
   "nav_menu": {},
   "number_sections": true,
   "sideBar": true,
   "skip_h1_title": false,
   "title_cell": "Table of Contents",
   "title_sidebar": "Contents",
   "toc_cell": false,
   "toc_position": {},
   "toc_section_display": true,
   "toc_window_display": false
  }
 },
 "nbformat": 4,
 "nbformat_minor": 4
}
